{
 "cells": [
  {
   "cell_type": "code",
   "execution_count": 37,
   "id": "a270c707",
   "metadata": {},
   "outputs": [],
   "source": [
    "import pandas as pd\n",
    "import plotly.express as px\n",
    "import plotly.graph_objects as go\n",
    "from wordcloud import WordCloud"
   ]
  },
  {
   "cell_type": "code",
   "execution_count": 7,
   "id": "3f38f69d",
   "metadata": {},
   "outputs": [
    {
     "data": {
      "text/plain": [
       "Impressions        int64\n",
       "From Home          int64\n",
       "From Hashtags      int64\n",
       "From Explore       int64\n",
       "From Other         int64\n",
       "Saves              int64\n",
       "Comments           int64\n",
       "Shares             int64\n",
       "Likes              int64\n",
       "Profile Visits     int64\n",
       "Follows            int64\n",
       "Caption           object\n",
       "Hashtags          object\n",
       "dtype: object"
      ]
     },
     "execution_count": 7,
     "metadata": {},
     "output_type": "execute_result"
    }
   ],
   "source": [
    "df = pd.read_csv('Instagram data.csv', encoding='latin-1')\n",
    "df.dtypes"
   ]
  },
  {
   "cell_type": "code",
   "execution_count": 8,
   "id": "1b23a370",
   "metadata": {},
   "outputs": [
    {
     "data": {
      "text/plain": [
       "Impressions       0\n",
       "From Home         0\n",
       "From Hashtags     0\n",
       "From Explore      0\n",
       "From Other        0\n",
       "Saves             0\n",
       "Comments          0\n",
       "Shares            0\n",
       "Likes             0\n",
       "Profile Visits    0\n",
       "Follows           0\n",
       "Caption           0\n",
       "Hashtags          0\n",
       "dtype: int64"
      ]
     },
     "execution_count": 8,
     "metadata": {},
     "output_type": "execute_result"
    }
   ],
   "source": [
    "df.isnull().sum()"
   ]
  },
  {
   "cell_type": "code",
   "execution_count": 9,
   "id": "4b1ba08d",
   "metadata": {},
   "outputs": [
    {
     "data": {
      "text/html": [
       "<div>\n",
       "<style scoped>\n",
       "    .dataframe tbody tr th:only-of-type {\n",
       "        vertical-align: middle;\n",
       "    }\n",
       "\n",
       "    .dataframe tbody tr th {\n",
       "        vertical-align: top;\n",
       "    }\n",
       "\n",
       "    .dataframe thead th {\n",
       "        text-align: right;\n",
       "    }\n",
       "</style>\n",
       "<table border=\"1\" class=\"dataframe\">\n",
       "  <thead>\n",
       "    <tr style=\"text-align: right;\">\n",
       "      <th></th>\n",
       "      <th>Impressions</th>\n",
       "      <th>From Home</th>\n",
       "      <th>From Hashtags</th>\n",
       "      <th>From Explore</th>\n",
       "      <th>From Other</th>\n",
       "      <th>Saves</th>\n",
       "      <th>Comments</th>\n",
       "      <th>Shares</th>\n",
       "      <th>Likes</th>\n",
       "      <th>Profile Visits</th>\n",
       "      <th>Follows</th>\n",
       "      <th>Caption</th>\n",
       "      <th>Hashtags</th>\n",
       "    </tr>\n",
       "  </thead>\n",
       "  <tbody>\n",
       "    <tr>\n",
       "      <th>0</th>\n",
       "      <td>3920</td>\n",
       "      <td>2586</td>\n",
       "      <td>1028</td>\n",
       "      <td>619</td>\n",
       "      <td>56</td>\n",
       "      <td>98</td>\n",
       "      <td>9</td>\n",
       "      <td>5</td>\n",
       "      <td>162</td>\n",
       "      <td>35</td>\n",
       "      <td>2</td>\n",
       "      <td>Here are some of the most important data visua...</td>\n",
       "      <td>#finance #money #business #investing #investme...</td>\n",
       "    </tr>\n",
       "    <tr>\n",
       "      <th>1</th>\n",
       "      <td>5394</td>\n",
       "      <td>2727</td>\n",
       "      <td>1838</td>\n",
       "      <td>1174</td>\n",
       "      <td>78</td>\n",
       "      <td>194</td>\n",
       "      <td>7</td>\n",
       "      <td>14</td>\n",
       "      <td>224</td>\n",
       "      <td>48</td>\n",
       "      <td>10</td>\n",
       "      <td>Here are some of the best data science project...</td>\n",
       "      <td>#healthcare #health #covid #data #datascience ...</td>\n",
       "    </tr>\n",
       "    <tr>\n",
       "      <th>2</th>\n",
       "      <td>4021</td>\n",
       "      <td>2085</td>\n",
       "      <td>1188</td>\n",
       "      <td>0</td>\n",
       "      <td>533</td>\n",
       "      <td>41</td>\n",
       "      <td>11</td>\n",
       "      <td>1</td>\n",
       "      <td>131</td>\n",
       "      <td>62</td>\n",
       "      <td>12</td>\n",
       "      <td>Learn how to train a machine learning model an...</td>\n",
       "      <td>#data #datascience #dataanalysis #dataanalytic...</td>\n",
       "    </tr>\n",
       "    <tr>\n",
       "      <th>3</th>\n",
       "      <td>4528</td>\n",
       "      <td>2700</td>\n",
       "      <td>621</td>\n",
       "      <td>932</td>\n",
       "      <td>73</td>\n",
       "      <td>172</td>\n",
       "      <td>10</td>\n",
       "      <td>7</td>\n",
       "      <td>213</td>\n",
       "      <td>23</td>\n",
       "      <td>8</td>\n",
       "      <td>Heres how you can write a Python program to d...</td>\n",
       "      <td>#python #pythonprogramming #pythonprojects #py...</td>\n",
       "    </tr>\n",
       "    <tr>\n",
       "      <th>4</th>\n",
       "      <td>2518</td>\n",
       "      <td>1704</td>\n",
       "      <td>255</td>\n",
       "      <td>279</td>\n",
       "      <td>37</td>\n",
       "      <td>96</td>\n",
       "      <td>5</td>\n",
       "      <td>4</td>\n",
       "      <td>123</td>\n",
       "      <td>8</td>\n",
       "      <td>0</td>\n",
       "      <td>Plotting annotations while visualizing your da...</td>\n",
       "      <td>#datavisualization #datascience #data #dataana...</td>\n",
       "    </tr>\n",
       "  </tbody>\n",
       "</table>\n",
       "</div>"
      ],
      "text/plain": [
       "   Impressions  From Home  From Hashtags  From Explore  From Other  Saves  \\\n",
       "0         3920       2586           1028           619          56     98   \n",
       "1         5394       2727           1838          1174          78    194   \n",
       "2         4021       2085           1188             0         533     41   \n",
       "3         4528       2700            621           932          73    172   \n",
       "4         2518       1704            255           279          37     96   \n",
       "\n",
       "   Comments  Shares  Likes  Profile Visits  Follows  \\\n",
       "0         9       5    162              35        2   \n",
       "1         7      14    224              48       10   \n",
       "2        11       1    131              62       12   \n",
       "3        10       7    213              23        8   \n",
       "4         5       4    123               8        0   \n",
       "\n",
       "                                             Caption  \\\n",
       "0  Here are some of the most important data visua...   \n",
       "1  Here are some of the best data science project...   \n",
       "2  Learn how to train a machine learning model an...   \n",
       "3  Heres how you can write a Python program to d...   \n",
       "4  Plotting annotations while visualizing your da...   \n",
       "\n",
       "                                            Hashtags  \n",
       "0  #finance #money #business #investing #investme...  \n",
       "1  #healthcare #health #covid #data #datascience ...  \n",
       "2  #data #datascience #dataanalysis #dataanalytic...  \n",
       "3  #python #pythonprogramming #pythonprojects #py...  \n",
       "4  #datavisualization #datascience #data #dataana...  "
      ]
     },
     "execution_count": 9,
     "metadata": {},
     "output_type": "execute_result"
    }
   ],
   "source": [
    "df.head()"
   ]
  },
  {
   "cell_type": "code",
   "execution_count": 12,
   "id": "81c9f10e",
   "metadata": {},
   "outputs": [
    {
     "name": "stdout",
     "output_type": "stream",
     "text": [
      "Index(['Impressions', 'From Home', 'From Hashtags', 'From Explore',\n",
      "       'From Other', 'Saves', 'Comments', 'Shares', 'Likes', 'Profile Visits',\n",
      "       'Follows', 'Caption', 'Hashtags'],\n",
      "      dtype='object')\n"
     ]
    }
   ],
   "source": [
    "print(df.columns)"
   ]
  },
  {
   "cell_type": "code",
   "execution_count": 13,
   "id": "c762987f",
   "metadata": {},
   "outputs": [
    {
     "name": "stdout",
     "output_type": "stream",
     "text": [
      "<class 'pandas.core.frame.DataFrame'>\n",
      "RangeIndex: 119 entries, 0 to 118\n",
      "Data columns (total 13 columns):\n",
      " #   Column          Non-Null Count  Dtype \n",
      "---  ------          --------------  ----- \n",
      " 0   Impressions     119 non-null    int64 \n",
      " 1   From Home       119 non-null    int64 \n",
      " 2   From Hashtags   119 non-null    int64 \n",
      " 3   From Explore    119 non-null    int64 \n",
      " 4   From Other      119 non-null    int64 \n",
      " 5   Saves           119 non-null    int64 \n",
      " 6   Comments        119 non-null    int64 \n",
      " 7   Shares          119 non-null    int64 \n",
      " 8   Likes           119 non-null    int64 \n",
      " 9   Profile Visits  119 non-null    int64 \n",
      " 10  Follows         119 non-null    int64 \n",
      " 11  Caption         119 non-null    object\n",
      " 12  Hashtags        119 non-null    object\n",
      "dtypes: int64(11), object(2)\n",
      "memory usage: 12.2+ KB\n",
      "None\n"
     ]
    }
   ],
   "source": [
    "print(df.info())"
   ]
  },
  {
   "cell_type": "code",
   "execution_count": 14,
   "id": "2a3b662b",
   "metadata": {},
   "outputs": [
    {
     "data": {
      "text/html": [
       "<div>\n",
       "<style scoped>\n",
       "    .dataframe tbody tr th:only-of-type {\n",
       "        vertical-align: middle;\n",
       "    }\n",
       "\n",
       "    .dataframe tbody tr th {\n",
       "        vertical-align: top;\n",
       "    }\n",
       "\n",
       "    .dataframe thead th {\n",
       "        text-align: right;\n",
       "    }\n",
       "</style>\n",
       "<table border=\"1\" class=\"dataframe\">\n",
       "  <thead>\n",
       "    <tr style=\"text-align: right;\">\n",
       "      <th></th>\n",
       "      <th>Impressions</th>\n",
       "      <th>From Home</th>\n",
       "      <th>From Hashtags</th>\n",
       "      <th>From Explore</th>\n",
       "      <th>From Other</th>\n",
       "      <th>Saves</th>\n",
       "      <th>Comments</th>\n",
       "      <th>Shares</th>\n",
       "      <th>Likes</th>\n",
       "      <th>Profile Visits</th>\n",
       "      <th>Follows</th>\n",
       "    </tr>\n",
       "  </thead>\n",
       "  <tbody>\n",
       "    <tr>\n",
       "      <th>count</th>\n",
       "      <td>119.000000</td>\n",
       "      <td>119.000000</td>\n",
       "      <td>119.000000</td>\n",
       "      <td>119.000000</td>\n",
       "      <td>119.000000</td>\n",
       "      <td>119.000000</td>\n",
       "      <td>119.000000</td>\n",
       "      <td>119.000000</td>\n",
       "      <td>119.000000</td>\n",
       "      <td>119.000000</td>\n",
       "      <td>119.000000</td>\n",
       "    </tr>\n",
       "    <tr>\n",
       "      <th>mean</th>\n",
       "      <td>5703.991597</td>\n",
       "      <td>2475.789916</td>\n",
       "      <td>1887.512605</td>\n",
       "      <td>1078.100840</td>\n",
       "      <td>171.092437</td>\n",
       "      <td>153.310924</td>\n",
       "      <td>6.663866</td>\n",
       "      <td>9.361345</td>\n",
       "      <td>173.781513</td>\n",
       "      <td>50.621849</td>\n",
       "      <td>20.756303</td>\n",
       "    </tr>\n",
       "    <tr>\n",
       "      <th>std</th>\n",
       "      <td>4843.780105</td>\n",
       "      <td>1489.386348</td>\n",
       "      <td>1884.361443</td>\n",
       "      <td>2613.026132</td>\n",
       "      <td>289.431031</td>\n",
       "      <td>156.317731</td>\n",
       "      <td>3.544576</td>\n",
       "      <td>10.089205</td>\n",
       "      <td>82.378947</td>\n",
       "      <td>87.088402</td>\n",
       "      <td>40.921580</td>\n",
       "    </tr>\n",
       "    <tr>\n",
       "      <th>min</th>\n",
       "      <td>1941.000000</td>\n",
       "      <td>1133.000000</td>\n",
       "      <td>116.000000</td>\n",
       "      <td>0.000000</td>\n",
       "      <td>9.000000</td>\n",
       "      <td>22.000000</td>\n",
       "      <td>0.000000</td>\n",
       "      <td>0.000000</td>\n",
       "      <td>72.000000</td>\n",
       "      <td>4.000000</td>\n",
       "      <td>0.000000</td>\n",
       "    </tr>\n",
       "    <tr>\n",
       "      <th>25%</th>\n",
       "      <td>3467.000000</td>\n",
       "      <td>1945.000000</td>\n",
       "      <td>726.000000</td>\n",
       "      <td>157.500000</td>\n",
       "      <td>38.000000</td>\n",
       "      <td>65.000000</td>\n",
       "      <td>4.000000</td>\n",
       "      <td>3.000000</td>\n",
       "      <td>121.500000</td>\n",
       "      <td>15.000000</td>\n",
       "      <td>4.000000</td>\n",
       "    </tr>\n",
       "    <tr>\n",
       "      <th>50%</th>\n",
       "      <td>4289.000000</td>\n",
       "      <td>2207.000000</td>\n",
       "      <td>1278.000000</td>\n",
       "      <td>326.000000</td>\n",
       "      <td>74.000000</td>\n",
       "      <td>109.000000</td>\n",
       "      <td>6.000000</td>\n",
       "      <td>6.000000</td>\n",
       "      <td>151.000000</td>\n",
       "      <td>23.000000</td>\n",
       "      <td>8.000000</td>\n",
       "    </tr>\n",
       "    <tr>\n",
       "      <th>75%</th>\n",
       "      <td>6138.000000</td>\n",
       "      <td>2602.500000</td>\n",
       "      <td>2363.500000</td>\n",
       "      <td>689.500000</td>\n",
       "      <td>196.000000</td>\n",
       "      <td>169.000000</td>\n",
       "      <td>8.000000</td>\n",
       "      <td>13.500000</td>\n",
       "      <td>204.000000</td>\n",
       "      <td>42.000000</td>\n",
       "      <td>18.000000</td>\n",
       "    </tr>\n",
       "    <tr>\n",
       "      <th>max</th>\n",
       "      <td>36919.000000</td>\n",
       "      <td>13473.000000</td>\n",
       "      <td>11817.000000</td>\n",
       "      <td>17414.000000</td>\n",
       "      <td>2547.000000</td>\n",
       "      <td>1095.000000</td>\n",
       "      <td>19.000000</td>\n",
       "      <td>75.000000</td>\n",
       "      <td>549.000000</td>\n",
       "      <td>611.000000</td>\n",
       "      <td>260.000000</td>\n",
       "    </tr>\n",
       "  </tbody>\n",
       "</table>\n",
       "</div>"
      ],
      "text/plain": [
       "        Impressions     From Home  From Hashtags  From Explore   From Other  \\\n",
       "count    119.000000    119.000000     119.000000    119.000000   119.000000   \n",
       "mean    5703.991597   2475.789916    1887.512605   1078.100840   171.092437   \n",
       "std     4843.780105   1489.386348    1884.361443   2613.026132   289.431031   \n",
       "min     1941.000000   1133.000000     116.000000      0.000000     9.000000   \n",
       "25%     3467.000000   1945.000000     726.000000    157.500000    38.000000   \n",
       "50%     4289.000000   2207.000000    1278.000000    326.000000    74.000000   \n",
       "75%     6138.000000   2602.500000    2363.500000    689.500000   196.000000   \n",
       "max    36919.000000  13473.000000   11817.000000  17414.000000  2547.000000   \n",
       "\n",
       "             Saves    Comments      Shares       Likes  Profile Visits  \\\n",
       "count   119.000000  119.000000  119.000000  119.000000      119.000000   \n",
       "mean    153.310924    6.663866    9.361345  173.781513       50.621849   \n",
       "std     156.317731    3.544576   10.089205   82.378947       87.088402   \n",
       "min      22.000000    0.000000    0.000000   72.000000        4.000000   \n",
       "25%      65.000000    4.000000    3.000000  121.500000       15.000000   \n",
       "50%     109.000000    6.000000    6.000000  151.000000       23.000000   \n",
       "75%     169.000000    8.000000   13.500000  204.000000       42.000000   \n",
       "max    1095.000000   19.000000   75.000000  549.000000      611.000000   \n",
       "\n",
       "          Follows  \n",
       "count  119.000000  \n",
       "mean    20.756303  \n",
       "std     40.921580  \n",
       "min      0.000000  \n",
       "25%      4.000000  \n",
       "50%      8.000000  \n",
       "75%     18.000000  \n",
       "max    260.000000  "
      ]
     },
     "execution_count": 14,
     "metadata": {},
     "output_type": "execute_result"
    }
   ],
   "source": [
    "df.describe()"
   ]
  },
  {
   "cell_type": "code",
   "execution_count": 16,
   "id": "b3f97a2e",
   "metadata": {},
   "outputs": [
    {
     "data": {
      "application/vnd.plotly.v1+json": {
       "config": {
        "plotlyServerURL": "https://plot.ly"
       },
       "data": [
        {
         "alignmentgroup": "True",
         "bingroup": "x",
         "hovertemplate": "Impressions=%{x}<br>count=%{y}<extra></extra>",
         "legendgroup": "",
         "marker": {
          "color": "#636efa",
          "pattern": {
           "shape": ""
          }
         },
         "name": "",
         "nbinsx": 10,
         "offsetgroup": "",
         "orientation": "v",
         "showlegend": false,
         "type": "histogram",
         "x": [
          3920,
          5394,
          4021,
          4528,
          2518,
          3884,
          2621,
          3541,
          3749,
          4115,
          2218,
          3234,
          4344,
          3216,
          9453,
          5055,
          4002,
          3169,
          6168,
          2407,
          2064,
          3973,
          7281,
          3052,
          4628,
          4082,
          5394,
          2766,
          3924,
          3015,
          6666,
          3854,
          4355,
          4343,
          6108,
          2523,
          2327,
          3990,
          2191,
          1941,
          16062,
          4998,
          4289,
          3880,
          3786,
          4298,
          3630,
          2826,
          7407,
          10386,
          2998,
          7018,
          2941,
          6432,
          10667,
          3988,
          4978,
          3388,
          4467,
          3246,
          5072,
          6339,
          4239,
          3454,
          7571,
          3333,
          3818,
          10933,
          5058,
          3601,
          3480,
          3525,
          3606,
          5542,
          6559,
          3623,
          10493,
          4446,
          2957,
          5538,
          4681,
          5273,
          5055,
          4002,
          3169,
          6168,
          2407,
          3630,
          2826,
          7407,
          10386,
          2998,
          3052,
          4628,
          4082,
          5394,
          2766,
          3924,
          3015,
          5409,
          5323,
          8001,
          4150,
          4609,
          6348,
          11068,
          7231,
          17396,
          6814,
          17713,
          5563,
          4842,
          11149,
          10206,
          13700,
          5731,
          4139,
          32695,
          36919
         ],
         "xaxis": "x",
         "yaxis": "y"
        }
       ],
       "layout": {
        "barmode": "relative",
        "legend": {
         "tracegroupgap": 0
        },
        "template": {
         "data": {
          "bar": [
           {
            "error_x": {
             "color": "#2a3f5f"
            },
            "error_y": {
             "color": "#2a3f5f"
            },
            "marker": {
             "line": {
              "color": "#E5ECF6",
              "width": 0.5
             },
             "pattern": {
              "fillmode": "overlay",
              "size": 10,
              "solidity": 0.2
             }
            },
            "type": "bar"
           }
          ],
          "barpolar": [
           {
            "marker": {
             "line": {
              "color": "#E5ECF6",
              "width": 0.5
             },
             "pattern": {
              "fillmode": "overlay",
              "size": 10,
              "solidity": 0.2
             }
            },
            "type": "barpolar"
           }
          ],
          "carpet": [
           {
            "aaxis": {
             "endlinecolor": "#2a3f5f",
             "gridcolor": "white",
             "linecolor": "white",
             "minorgridcolor": "white",
             "startlinecolor": "#2a3f5f"
            },
            "baxis": {
             "endlinecolor": "#2a3f5f",
             "gridcolor": "white",
             "linecolor": "white",
             "minorgridcolor": "white",
             "startlinecolor": "#2a3f5f"
            },
            "type": "carpet"
           }
          ],
          "choropleth": [
           {
            "colorbar": {
             "outlinewidth": 0,
             "ticks": ""
            },
            "type": "choropleth"
           }
          ],
          "contour": [
           {
            "colorbar": {
             "outlinewidth": 0,
             "ticks": ""
            },
            "colorscale": [
             [
              0,
              "#0d0887"
             ],
             [
              0.1111111111111111,
              "#46039f"
             ],
             [
              0.2222222222222222,
              "#7201a8"
             ],
             [
              0.3333333333333333,
              "#9c179e"
             ],
             [
              0.4444444444444444,
              "#bd3786"
             ],
             [
              0.5555555555555556,
              "#d8576b"
             ],
             [
              0.6666666666666666,
              "#ed7953"
             ],
             [
              0.7777777777777778,
              "#fb9f3a"
             ],
             [
              0.8888888888888888,
              "#fdca26"
             ],
             [
              1,
              "#f0f921"
             ]
            ],
            "type": "contour"
           }
          ],
          "contourcarpet": [
           {
            "colorbar": {
             "outlinewidth": 0,
             "ticks": ""
            },
            "type": "contourcarpet"
           }
          ],
          "heatmap": [
           {
            "colorbar": {
             "outlinewidth": 0,
             "ticks": ""
            },
            "colorscale": [
             [
              0,
              "#0d0887"
             ],
             [
              0.1111111111111111,
              "#46039f"
             ],
             [
              0.2222222222222222,
              "#7201a8"
             ],
             [
              0.3333333333333333,
              "#9c179e"
             ],
             [
              0.4444444444444444,
              "#bd3786"
             ],
             [
              0.5555555555555556,
              "#d8576b"
             ],
             [
              0.6666666666666666,
              "#ed7953"
             ],
             [
              0.7777777777777778,
              "#fb9f3a"
             ],
             [
              0.8888888888888888,
              "#fdca26"
             ],
             [
              1,
              "#f0f921"
             ]
            ],
            "type": "heatmap"
           }
          ],
          "heatmapgl": [
           {
            "colorbar": {
             "outlinewidth": 0,
             "ticks": ""
            },
            "colorscale": [
             [
              0,
              "#0d0887"
             ],
             [
              0.1111111111111111,
              "#46039f"
             ],
             [
              0.2222222222222222,
              "#7201a8"
             ],
             [
              0.3333333333333333,
              "#9c179e"
             ],
             [
              0.4444444444444444,
              "#bd3786"
             ],
             [
              0.5555555555555556,
              "#d8576b"
             ],
             [
              0.6666666666666666,
              "#ed7953"
             ],
             [
              0.7777777777777778,
              "#fb9f3a"
             ],
             [
              0.8888888888888888,
              "#fdca26"
             ],
             [
              1,
              "#f0f921"
             ]
            ],
            "type": "heatmapgl"
           }
          ],
          "histogram": [
           {
            "marker": {
             "pattern": {
              "fillmode": "overlay",
              "size": 10,
              "solidity": 0.2
             }
            },
            "type": "histogram"
           }
          ],
          "histogram2d": [
           {
            "colorbar": {
             "outlinewidth": 0,
             "ticks": ""
            },
            "colorscale": [
             [
              0,
              "#0d0887"
             ],
             [
              0.1111111111111111,
              "#46039f"
             ],
             [
              0.2222222222222222,
              "#7201a8"
             ],
             [
              0.3333333333333333,
              "#9c179e"
             ],
             [
              0.4444444444444444,
              "#bd3786"
             ],
             [
              0.5555555555555556,
              "#d8576b"
             ],
             [
              0.6666666666666666,
              "#ed7953"
             ],
             [
              0.7777777777777778,
              "#fb9f3a"
             ],
             [
              0.8888888888888888,
              "#fdca26"
             ],
             [
              1,
              "#f0f921"
             ]
            ],
            "type": "histogram2d"
           }
          ],
          "histogram2dcontour": [
           {
            "colorbar": {
             "outlinewidth": 0,
             "ticks": ""
            },
            "colorscale": [
             [
              0,
              "#0d0887"
             ],
             [
              0.1111111111111111,
              "#46039f"
             ],
             [
              0.2222222222222222,
              "#7201a8"
             ],
             [
              0.3333333333333333,
              "#9c179e"
             ],
             [
              0.4444444444444444,
              "#bd3786"
             ],
             [
              0.5555555555555556,
              "#d8576b"
             ],
             [
              0.6666666666666666,
              "#ed7953"
             ],
             [
              0.7777777777777778,
              "#fb9f3a"
             ],
             [
              0.8888888888888888,
              "#fdca26"
             ],
             [
              1,
              "#f0f921"
             ]
            ],
            "type": "histogram2dcontour"
           }
          ],
          "mesh3d": [
           {
            "colorbar": {
             "outlinewidth": 0,
             "ticks": ""
            },
            "type": "mesh3d"
           }
          ],
          "parcoords": [
           {
            "line": {
             "colorbar": {
              "outlinewidth": 0,
              "ticks": ""
             }
            },
            "type": "parcoords"
           }
          ],
          "pie": [
           {
            "automargin": true,
            "type": "pie"
           }
          ],
          "scatter": [
           {
            "fillpattern": {
             "fillmode": "overlay",
             "size": 10,
             "solidity": 0.2
            },
            "type": "scatter"
           }
          ],
          "scatter3d": [
           {
            "line": {
             "colorbar": {
              "outlinewidth": 0,
              "ticks": ""
             }
            },
            "marker": {
             "colorbar": {
              "outlinewidth": 0,
              "ticks": ""
             }
            },
            "type": "scatter3d"
           }
          ],
          "scattercarpet": [
           {
            "marker": {
             "colorbar": {
              "outlinewidth": 0,
              "ticks": ""
             }
            },
            "type": "scattercarpet"
           }
          ],
          "scattergeo": [
           {
            "marker": {
             "colorbar": {
              "outlinewidth": 0,
              "ticks": ""
             }
            },
            "type": "scattergeo"
           }
          ],
          "scattergl": [
           {
            "marker": {
             "colorbar": {
              "outlinewidth": 0,
              "ticks": ""
             }
            },
            "type": "scattergl"
           }
          ],
          "scattermapbox": [
           {
            "marker": {
             "colorbar": {
              "outlinewidth": 0,
              "ticks": ""
             }
            },
            "type": "scattermapbox"
           }
          ],
          "scatterpolar": [
           {
            "marker": {
             "colorbar": {
              "outlinewidth": 0,
              "ticks": ""
             }
            },
            "type": "scatterpolar"
           }
          ],
          "scatterpolargl": [
           {
            "marker": {
             "colorbar": {
              "outlinewidth": 0,
              "ticks": ""
             }
            },
            "type": "scatterpolargl"
           }
          ],
          "scatterternary": [
           {
            "marker": {
             "colorbar": {
              "outlinewidth": 0,
              "ticks": ""
             }
            },
            "type": "scatterternary"
           }
          ],
          "surface": [
           {
            "colorbar": {
             "outlinewidth": 0,
             "ticks": ""
            },
            "colorscale": [
             [
              0,
              "#0d0887"
             ],
             [
              0.1111111111111111,
              "#46039f"
             ],
             [
              0.2222222222222222,
              "#7201a8"
             ],
             [
              0.3333333333333333,
              "#9c179e"
             ],
             [
              0.4444444444444444,
              "#bd3786"
             ],
             [
              0.5555555555555556,
              "#d8576b"
             ],
             [
              0.6666666666666666,
              "#ed7953"
             ],
             [
              0.7777777777777778,
              "#fb9f3a"
             ],
             [
              0.8888888888888888,
              "#fdca26"
             ],
             [
              1,
              "#f0f921"
             ]
            ],
            "type": "surface"
           }
          ],
          "table": [
           {
            "cells": {
             "fill": {
              "color": "#EBF0F8"
             },
             "line": {
              "color": "white"
             }
            },
            "header": {
             "fill": {
              "color": "#C8D4E3"
             },
             "line": {
              "color": "white"
             }
            },
            "type": "table"
           }
          ]
         },
         "layout": {
          "annotationdefaults": {
           "arrowcolor": "#2a3f5f",
           "arrowhead": 0,
           "arrowwidth": 1
          },
          "autotypenumbers": "strict",
          "coloraxis": {
           "colorbar": {
            "outlinewidth": 0,
            "ticks": ""
           }
          },
          "colorscale": {
           "diverging": [
            [
             0,
             "#8e0152"
            ],
            [
             0.1,
             "#c51b7d"
            ],
            [
             0.2,
             "#de77ae"
            ],
            [
             0.3,
             "#f1b6da"
            ],
            [
             0.4,
             "#fde0ef"
            ],
            [
             0.5,
             "#f7f7f7"
            ],
            [
             0.6,
             "#e6f5d0"
            ],
            [
             0.7,
             "#b8e186"
            ],
            [
             0.8,
             "#7fbc41"
            ],
            [
             0.9,
             "#4d9221"
            ],
            [
             1,
             "#276419"
            ]
           ],
           "sequential": [
            [
             0,
             "#0d0887"
            ],
            [
             0.1111111111111111,
             "#46039f"
            ],
            [
             0.2222222222222222,
             "#7201a8"
            ],
            [
             0.3333333333333333,
             "#9c179e"
            ],
            [
             0.4444444444444444,
             "#bd3786"
            ],
            [
             0.5555555555555556,
             "#d8576b"
            ],
            [
             0.6666666666666666,
             "#ed7953"
            ],
            [
             0.7777777777777778,
             "#fb9f3a"
            ],
            [
             0.8888888888888888,
             "#fdca26"
            ],
            [
             1,
             "#f0f921"
            ]
           ],
           "sequentialminus": [
            [
             0,
             "#0d0887"
            ],
            [
             0.1111111111111111,
             "#46039f"
            ],
            [
             0.2222222222222222,
             "#7201a8"
            ],
            [
             0.3333333333333333,
             "#9c179e"
            ],
            [
             0.4444444444444444,
             "#bd3786"
            ],
            [
             0.5555555555555556,
             "#d8576b"
            ],
            [
             0.6666666666666666,
             "#ed7953"
            ],
            [
             0.7777777777777778,
             "#fb9f3a"
            ],
            [
             0.8888888888888888,
             "#fdca26"
            ],
            [
             1,
             "#f0f921"
            ]
           ]
          },
          "colorway": [
           "#636efa",
           "#EF553B",
           "#00cc96",
           "#ab63fa",
           "#FFA15A",
           "#19d3f3",
           "#FF6692",
           "#B6E880",
           "#FF97FF",
           "#FECB52"
          ],
          "font": {
           "color": "#2a3f5f"
          },
          "geo": {
           "bgcolor": "white",
           "lakecolor": "white",
           "landcolor": "#E5ECF6",
           "showlakes": true,
           "showland": true,
           "subunitcolor": "white"
          },
          "hoverlabel": {
           "align": "left"
          },
          "hovermode": "closest",
          "mapbox": {
           "style": "light"
          },
          "paper_bgcolor": "white",
          "plot_bgcolor": "#E5ECF6",
          "polar": {
           "angularaxis": {
            "gridcolor": "white",
            "linecolor": "white",
            "ticks": ""
           },
           "bgcolor": "#E5ECF6",
           "radialaxis": {
            "gridcolor": "white",
            "linecolor": "white",
            "ticks": ""
           }
          },
          "scene": {
           "xaxis": {
            "backgroundcolor": "#E5ECF6",
            "gridcolor": "white",
            "gridwidth": 2,
            "linecolor": "white",
            "showbackground": true,
            "ticks": "",
            "zerolinecolor": "white"
           },
           "yaxis": {
            "backgroundcolor": "#E5ECF6",
            "gridcolor": "white",
            "gridwidth": 2,
            "linecolor": "white",
            "showbackground": true,
            "ticks": "",
            "zerolinecolor": "white"
           },
           "zaxis": {
            "backgroundcolor": "#E5ECF6",
            "gridcolor": "white",
            "gridwidth": 2,
            "linecolor": "white",
            "showbackground": true,
            "ticks": "",
            "zerolinecolor": "white"
           }
          },
          "shapedefaults": {
           "line": {
            "color": "#2a3f5f"
           }
          },
          "ternary": {
           "aaxis": {
            "gridcolor": "white",
            "linecolor": "white",
            "ticks": ""
           },
           "baxis": {
            "gridcolor": "white",
            "linecolor": "white",
            "ticks": ""
           },
           "bgcolor": "#E5ECF6",
           "caxis": {
            "gridcolor": "white",
            "linecolor": "white",
            "ticks": ""
           }
          },
          "title": {
           "x": 0.05
          },
          "xaxis": {
           "automargin": true,
           "gridcolor": "white",
           "linecolor": "white",
           "ticks": "",
           "title": {
            "standoff": 15
           },
           "zerolinecolor": "white",
           "zerolinewidth": 2
          },
          "yaxis": {
           "automargin": true,
           "gridcolor": "white",
           "linecolor": "white",
           "ticks": "",
           "title": {
            "standoff": 15
           },
           "zerolinecolor": "white",
           "zerolinewidth": 2
          }
         }
        },
        "title": {
         "text": "Distribution of impression"
        },
        "xaxis": {
         "anchor": "y",
         "domain": [
          0,
          1
         ],
         "title": {
          "text": "Impressions"
         }
        },
        "yaxis": {
         "anchor": "x",
         "domain": [
          0,
          1
         ],
         "title": {
          "text": "count"
         }
        }
       }
      },
      "text/html": [
       "<div>                            <div id=\"46dc3114-ec36-4dd5-adda-5d58758638b6\" class=\"plotly-graph-div\" style=\"height:525px; width:100%;\"></div>            <script type=\"text/javascript\">                require([\"plotly\"], function(Plotly) {                    window.PLOTLYENV=window.PLOTLYENV || {};                                    if (document.getElementById(\"46dc3114-ec36-4dd5-adda-5d58758638b6\")) {                    Plotly.newPlot(                        \"46dc3114-ec36-4dd5-adda-5d58758638b6\",                        [{\"alignmentgroup\":\"True\",\"bingroup\":\"x\",\"hovertemplate\":\"Impressions=%{x}<br>count=%{y}<extra></extra>\",\"legendgroup\":\"\",\"marker\":{\"color\":\"#636efa\",\"pattern\":{\"shape\":\"\"}},\"name\":\"\",\"nbinsx\":10,\"offsetgroup\":\"\",\"orientation\":\"v\",\"showlegend\":false,\"x\":[3920,5394,4021,4528,2518,3884,2621,3541,3749,4115,2218,3234,4344,3216,9453,5055,4002,3169,6168,2407,2064,3973,7281,3052,4628,4082,5394,2766,3924,3015,6666,3854,4355,4343,6108,2523,2327,3990,2191,1941,16062,4998,4289,3880,3786,4298,3630,2826,7407,10386,2998,7018,2941,6432,10667,3988,4978,3388,4467,3246,5072,6339,4239,3454,7571,3333,3818,10933,5058,3601,3480,3525,3606,5542,6559,3623,10493,4446,2957,5538,4681,5273,5055,4002,3169,6168,2407,3630,2826,7407,10386,2998,3052,4628,4082,5394,2766,3924,3015,5409,5323,8001,4150,4609,6348,11068,7231,17396,6814,17713,5563,4842,11149,10206,13700,5731,4139,32695,36919],\"xaxis\":\"x\",\"yaxis\":\"y\",\"type\":\"histogram\"}],                        {\"template\":{\"data\":{\"histogram2dcontour\":[{\"type\":\"histogram2dcontour\",\"colorbar\":{\"outlinewidth\":0,\"ticks\":\"\"},\"colorscale\":[[0.0,\"#0d0887\"],[0.1111111111111111,\"#46039f\"],[0.2222222222222222,\"#7201a8\"],[0.3333333333333333,\"#9c179e\"],[0.4444444444444444,\"#bd3786\"],[0.5555555555555556,\"#d8576b\"],[0.6666666666666666,\"#ed7953\"],[0.7777777777777778,\"#fb9f3a\"],[0.8888888888888888,\"#fdca26\"],[1.0,\"#f0f921\"]]}],\"choropleth\":[{\"type\":\"choropleth\",\"colorbar\":{\"outlinewidth\":0,\"ticks\":\"\"}}],\"histogram2d\":[{\"type\":\"histogram2d\",\"colorbar\":{\"outlinewidth\":0,\"ticks\":\"\"},\"colorscale\":[[0.0,\"#0d0887\"],[0.1111111111111111,\"#46039f\"],[0.2222222222222222,\"#7201a8\"],[0.3333333333333333,\"#9c179e\"],[0.4444444444444444,\"#bd3786\"],[0.5555555555555556,\"#d8576b\"],[0.6666666666666666,\"#ed7953\"],[0.7777777777777778,\"#fb9f3a\"],[0.8888888888888888,\"#fdca26\"],[1.0,\"#f0f921\"]]}],\"heatmap\":[{\"type\":\"heatmap\",\"colorbar\":{\"outlinewidth\":0,\"ticks\":\"\"},\"colorscale\":[[0.0,\"#0d0887\"],[0.1111111111111111,\"#46039f\"],[0.2222222222222222,\"#7201a8\"],[0.3333333333333333,\"#9c179e\"],[0.4444444444444444,\"#bd3786\"],[0.5555555555555556,\"#d8576b\"],[0.6666666666666666,\"#ed7953\"],[0.7777777777777778,\"#fb9f3a\"],[0.8888888888888888,\"#fdca26\"],[1.0,\"#f0f921\"]]}],\"heatmapgl\":[{\"type\":\"heatmapgl\",\"colorbar\":{\"outlinewidth\":0,\"ticks\":\"\"},\"colorscale\":[[0.0,\"#0d0887\"],[0.1111111111111111,\"#46039f\"],[0.2222222222222222,\"#7201a8\"],[0.3333333333333333,\"#9c179e\"],[0.4444444444444444,\"#bd3786\"],[0.5555555555555556,\"#d8576b\"],[0.6666666666666666,\"#ed7953\"],[0.7777777777777778,\"#fb9f3a\"],[0.8888888888888888,\"#fdca26\"],[1.0,\"#f0f921\"]]}],\"contourcarpet\":[{\"type\":\"contourcarpet\",\"colorbar\":{\"outlinewidth\":0,\"ticks\":\"\"}}],\"contour\":[{\"type\":\"contour\",\"colorbar\":{\"outlinewidth\":0,\"ticks\":\"\"},\"colorscale\":[[0.0,\"#0d0887\"],[0.1111111111111111,\"#46039f\"],[0.2222222222222222,\"#7201a8\"],[0.3333333333333333,\"#9c179e\"],[0.4444444444444444,\"#bd3786\"],[0.5555555555555556,\"#d8576b\"],[0.6666666666666666,\"#ed7953\"],[0.7777777777777778,\"#fb9f3a\"],[0.8888888888888888,\"#fdca26\"],[1.0,\"#f0f921\"]]}],\"surface\":[{\"type\":\"surface\",\"colorbar\":{\"outlinewidth\":0,\"ticks\":\"\"},\"colorscale\":[[0.0,\"#0d0887\"],[0.1111111111111111,\"#46039f\"],[0.2222222222222222,\"#7201a8\"],[0.3333333333333333,\"#9c179e\"],[0.4444444444444444,\"#bd3786\"],[0.5555555555555556,\"#d8576b\"],[0.6666666666666666,\"#ed7953\"],[0.7777777777777778,\"#fb9f3a\"],[0.8888888888888888,\"#fdca26\"],[1.0,\"#f0f921\"]]}],\"mesh3d\":[{\"type\":\"mesh3d\",\"colorbar\":{\"outlinewidth\":0,\"ticks\":\"\"}}],\"scatter\":[{\"fillpattern\":{\"fillmode\":\"overlay\",\"size\":10,\"solidity\":0.2},\"type\":\"scatter\"}],\"parcoords\":[{\"type\":\"parcoords\",\"line\":{\"colorbar\":{\"outlinewidth\":0,\"ticks\":\"\"}}}],\"scatterpolargl\":[{\"type\":\"scatterpolargl\",\"marker\":{\"colorbar\":{\"outlinewidth\":0,\"ticks\":\"\"}}}],\"bar\":[{\"error_x\":{\"color\":\"#2a3f5f\"},\"error_y\":{\"color\":\"#2a3f5f\"},\"marker\":{\"line\":{\"color\":\"#E5ECF6\",\"width\":0.5},\"pattern\":{\"fillmode\":\"overlay\",\"size\":10,\"solidity\":0.2}},\"type\":\"bar\"}],\"scattergeo\":[{\"type\":\"scattergeo\",\"marker\":{\"colorbar\":{\"outlinewidth\":0,\"ticks\":\"\"}}}],\"scatterpolar\":[{\"type\":\"scatterpolar\",\"marker\":{\"colorbar\":{\"outlinewidth\":0,\"ticks\":\"\"}}}],\"histogram\":[{\"marker\":{\"pattern\":{\"fillmode\":\"overlay\",\"size\":10,\"solidity\":0.2}},\"type\":\"histogram\"}],\"scattergl\":[{\"type\":\"scattergl\",\"marker\":{\"colorbar\":{\"outlinewidth\":0,\"ticks\":\"\"}}}],\"scatter3d\":[{\"type\":\"scatter3d\",\"line\":{\"colorbar\":{\"outlinewidth\":0,\"ticks\":\"\"}},\"marker\":{\"colorbar\":{\"outlinewidth\":0,\"ticks\":\"\"}}}],\"scattermapbox\":[{\"type\":\"scattermapbox\",\"marker\":{\"colorbar\":{\"outlinewidth\":0,\"ticks\":\"\"}}}],\"scatterternary\":[{\"type\":\"scatterternary\",\"marker\":{\"colorbar\":{\"outlinewidth\":0,\"ticks\":\"\"}}}],\"scattercarpet\":[{\"type\":\"scattercarpet\",\"marker\":{\"colorbar\":{\"outlinewidth\":0,\"ticks\":\"\"}}}],\"carpet\":[{\"aaxis\":{\"endlinecolor\":\"#2a3f5f\",\"gridcolor\":\"white\",\"linecolor\":\"white\",\"minorgridcolor\":\"white\",\"startlinecolor\":\"#2a3f5f\"},\"baxis\":{\"endlinecolor\":\"#2a3f5f\",\"gridcolor\":\"white\",\"linecolor\":\"white\",\"minorgridcolor\":\"white\",\"startlinecolor\":\"#2a3f5f\"},\"type\":\"carpet\"}],\"table\":[{\"cells\":{\"fill\":{\"color\":\"#EBF0F8\"},\"line\":{\"color\":\"white\"}},\"header\":{\"fill\":{\"color\":\"#C8D4E3\"},\"line\":{\"color\":\"white\"}},\"type\":\"table\"}],\"barpolar\":[{\"marker\":{\"line\":{\"color\":\"#E5ECF6\",\"width\":0.5},\"pattern\":{\"fillmode\":\"overlay\",\"size\":10,\"solidity\":0.2}},\"type\":\"barpolar\"}],\"pie\":[{\"automargin\":true,\"type\":\"pie\"}]},\"layout\":{\"autotypenumbers\":\"strict\",\"colorway\":[\"#636efa\",\"#EF553B\",\"#00cc96\",\"#ab63fa\",\"#FFA15A\",\"#19d3f3\",\"#FF6692\",\"#B6E880\",\"#FF97FF\",\"#FECB52\"],\"font\":{\"color\":\"#2a3f5f\"},\"hovermode\":\"closest\",\"hoverlabel\":{\"align\":\"left\"},\"paper_bgcolor\":\"white\",\"plot_bgcolor\":\"#E5ECF6\",\"polar\":{\"bgcolor\":\"#E5ECF6\",\"angularaxis\":{\"gridcolor\":\"white\",\"linecolor\":\"white\",\"ticks\":\"\"},\"radialaxis\":{\"gridcolor\":\"white\",\"linecolor\":\"white\",\"ticks\":\"\"}},\"ternary\":{\"bgcolor\":\"#E5ECF6\",\"aaxis\":{\"gridcolor\":\"white\",\"linecolor\":\"white\",\"ticks\":\"\"},\"baxis\":{\"gridcolor\":\"white\",\"linecolor\":\"white\",\"ticks\":\"\"},\"caxis\":{\"gridcolor\":\"white\",\"linecolor\":\"white\",\"ticks\":\"\"}},\"coloraxis\":{\"colorbar\":{\"outlinewidth\":0,\"ticks\":\"\"}},\"colorscale\":{\"sequential\":[[0.0,\"#0d0887\"],[0.1111111111111111,\"#46039f\"],[0.2222222222222222,\"#7201a8\"],[0.3333333333333333,\"#9c179e\"],[0.4444444444444444,\"#bd3786\"],[0.5555555555555556,\"#d8576b\"],[0.6666666666666666,\"#ed7953\"],[0.7777777777777778,\"#fb9f3a\"],[0.8888888888888888,\"#fdca26\"],[1.0,\"#f0f921\"]],\"sequentialminus\":[[0.0,\"#0d0887\"],[0.1111111111111111,\"#46039f\"],[0.2222222222222222,\"#7201a8\"],[0.3333333333333333,\"#9c179e\"],[0.4444444444444444,\"#bd3786\"],[0.5555555555555556,\"#d8576b\"],[0.6666666666666666,\"#ed7953\"],[0.7777777777777778,\"#fb9f3a\"],[0.8888888888888888,\"#fdca26\"],[1.0,\"#f0f921\"]],\"diverging\":[[0,\"#8e0152\"],[0.1,\"#c51b7d\"],[0.2,\"#de77ae\"],[0.3,\"#f1b6da\"],[0.4,\"#fde0ef\"],[0.5,\"#f7f7f7\"],[0.6,\"#e6f5d0\"],[0.7,\"#b8e186\"],[0.8,\"#7fbc41\"],[0.9,\"#4d9221\"],[1,\"#276419\"]]},\"xaxis\":{\"gridcolor\":\"white\",\"linecolor\":\"white\",\"ticks\":\"\",\"title\":{\"standoff\":15},\"zerolinecolor\":\"white\",\"automargin\":true,\"zerolinewidth\":2},\"yaxis\":{\"gridcolor\":\"white\",\"linecolor\":\"white\",\"ticks\":\"\",\"title\":{\"standoff\":15},\"zerolinecolor\":\"white\",\"automargin\":true,\"zerolinewidth\":2},\"scene\":{\"xaxis\":{\"backgroundcolor\":\"#E5ECF6\",\"gridcolor\":\"white\",\"linecolor\":\"white\",\"showbackground\":true,\"ticks\":\"\",\"zerolinecolor\":\"white\",\"gridwidth\":2},\"yaxis\":{\"backgroundcolor\":\"#E5ECF6\",\"gridcolor\":\"white\",\"linecolor\":\"white\",\"showbackground\":true,\"ticks\":\"\",\"zerolinecolor\":\"white\",\"gridwidth\":2},\"zaxis\":{\"backgroundcolor\":\"#E5ECF6\",\"gridcolor\":\"white\",\"linecolor\":\"white\",\"showbackground\":true,\"ticks\":\"\",\"zerolinecolor\":\"white\",\"gridwidth\":2}},\"shapedefaults\":{\"line\":{\"color\":\"#2a3f5f\"}},\"annotationdefaults\":{\"arrowcolor\":\"#2a3f5f\",\"arrowhead\":0,\"arrowwidth\":1},\"geo\":{\"bgcolor\":\"white\",\"landcolor\":\"#E5ECF6\",\"subunitcolor\":\"white\",\"showland\":true,\"showlakes\":true,\"lakecolor\":\"white\"},\"title\":{\"x\":0.05},\"mapbox\":{\"style\":\"light\"}}},\"xaxis\":{\"anchor\":\"y\",\"domain\":[0.0,1.0],\"title\":{\"text\":\"Impressions\"}},\"yaxis\":{\"anchor\":\"x\",\"domain\":[0.0,1.0],\"title\":{\"text\":\"count\"}},\"legend\":{\"tracegroupgap\":0},\"title\":{\"text\":\"Distribution of impression\"},\"barmode\":\"relative\"},                        {\"responsive\": true}                    ).then(function(){\n",
       "                            \n",
       "var gd = document.getElementById('46dc3114-ec36-4dd5-adda-5d58758638b6');\n",
       "var x = new MutationObserver(function (mutations, observer) {{\n",
       "        var display = window.getComputedStyle(gd).display;\n",
       "        if (!display || display === 'none') {{\n",
       "            console.log([gd, 'removed!']);\n",
       "            Plotly.purge(gd);\n",
       "            observer.disconnect();\n",
       "        }}\n",
       "}});\n",
       "\n",
       "// Listen for the removal of the full notebook cells\n",
       "var notebookContainer = gd.closest('#notebook-container');\n",
       "if (notebookContainer) {{\n",
       "    x.observe(notebookContainer, {childList: true});\n",
       "}}\n",
       "\n",
       "// Listen for the clearing of the current output cell\n",
       "var outputEl = gd.closest('.output');\n",
       "if (outputEl) {{\n",
       "    x.observe(outputEl, {childList: true});\n",
       "}}\n",
       "\n",
       "                        })                };                });            </script>        </div>"
      ]
     },
     "metadata": {},
     "output_type": "display_data"
    }
   ],
   "source": [
    "fig1 = px.histogram(df, x='Impressions', nbins=10, title = 'Distribution of impression')\n",
    "\n",
    "fig1.show()"
   ]
  },
  {
   "cell_type": "code",
   "execution_count": 18,
   "id": "3c7bf8da",
   "metadata": {},
   "outputs": [
    {
     "data": {
      "application/vnd.plotly.v1+json": {
       "config": {
        "plotlyServerURL": "https://plot.ly"
       },
       "data": [
        {
         "hovertemplate": "index=%{x}<br>Impressions=%{y}<extra></extra>",
         "legendgroup": "",
         "line": {
          "color": "#636efa",
          "dash": "solid"
         },
         "marker": {
          "symbol": "circle"
         },
         "mode": "lines",
         "name": "",
         "orientation": "v",
         "showlegend": false,
         "type": "scatter",
         "x": [
          0,
          1,
          2,
          3,
          4,
          5,
          6,
          7,
          8,
          9,
          10,
          11,
          12,
          13,
          14,
          15,
          16,
          17,
          18,
          19,
          20,
          21,
          22,
          23,
          24,
          25,
          26,
          27,
          28,
          29,
          30,
          31,
          32,
          33,
          34,
          35,
          36,
          37,
          38,
          39,
          40,
          41,
          42,
          43,
          44,
          45,
          46,
          47,
          48,
          49,
          50,
          51,
          52,
          53,
          54,
          55,
          56,
          57,
          58,
          59,
          60,
          61,
          62,
          63,
          64,
          65,
          66,
          67,
          68,
          69,
          70,
          71,
          72,
          73,
          74,
          75,
          76,
          77,
          78,
          79,
          80,
          81,
          82,
          83,
          84,
          85,
          86,
          87,
          88,
          89,
          90,
          91,
          92,
          93,
          94,
          95,
          96,
          97,
          98,
          99,
          100,
          101,
          102,
          103,
          104,
          105,
          106,
          107,
          108,
          109,
          110,
          111,
          112,
          113,
          114,
          115,
          116,
          117,
          118
         ],
         "xaxis": "x",
         "y": [
          3920,
          5394,
          4021,
          4528,
          2518,
          3884,
          2621,
          3541,
          3749,
          4115,
          2218,
          3234,
          4344,
          3216,
          9453,
          5055,
          4002,
          3169,
          6168,
          2407,
          2064,
          3973,
          7281,
          3052,
          4628,
          4082,
          5394,
          2766,
          3924,
          3015,
          6666,
          3854,
          4355,
          4343,
          6108,
          2523,
          2327,
          3990,
          2191,
          1941,
          16062,
          4998,
          4289,
          3880,
          3786,
          4298,
          3630,
          2826,
          7407,
          10386,
          2998,
          7018,
          2941,
          6432,
          10667,
          3988,
          4978,
          3388,
          4467,
          3246,
          5072,
          6339,
          4239,
          3454,
          7571,
          3333,
          3818,
          10933,
          5058,
          3601,
          3480,
          3525,
          3606,
          5542,
          6559,
          3623,
          10493,
          4446,
          2957,
          5538,
          4681,
          5273,
          5055,
          4002,
          3169,
          6168,
          2407,
          3630,
          2826,
          7407,
          10386,
          2998,
          3052,
          4628,
          4082,
          5394,
          2766,
          3924,
          3015,
          5409,
          5323,
          8001,
          4150,
          4609,
          6348,
          11068,
          7231,
          17396,
          6814,
          17713,
          5563,
          4842,
          11149,
          10206,
          13700,
          5731,
          4139,
          32695,
          36919
         ],
         "yaxis": "y"
        }
       ],
       "layout": {
        "legend": {
         "tracegroupgap": 0
        },
        "template": {
         "data": {
          "bar": [
           {
            "error_x": {
             "color": "#2a3f5f"
            },
            "error_y": {
             "color": "#2a3f5f"
            },
            "marker": {
             "line": {
              "color": "#E5ECF6",
              "width": 0.5
             },
             "pattern": {
              "fillmode": "overlay",
              "size": 10,
              "solidity": 0.2
             }
            },
            "type": "bar"
           }
          ],
          "barpolar": [
           {
            "marker": {
             "line": {
              "color": "#E5ECF6",
              "width": 0.5
             },
             "pattern": {
              "fillmode": "overlay",
              "size": 10,
              "solidity": 0.2
             }
            },
            "type": "barpolar"
           }
          ],
          "carpet": [
           {
            "aaxis": {
             "endlinecolor": "#2a3f5f",
             "gridcolor": "white",
             "linecolor": "white",
             "minorgridcolor": "white",
             "startlinecolor": "#2a3f5f"
            },
            "baxis": {
             "endlinecolor": "#2a3f5f",
             "gridcolor": "white",
             "linecolor": "white",
             "minorgridcolor": "white",
             "startlinecolor": "#2a3f5f"
            },
            "type": "carpet"
           }
          ],
          "choropleth": [
           {
            "colorbar": {
             "outlinewidth": 0,
             "ticks": ""
            },
            "type": "choropleth"
           }
          ],
          "contour": [
           {
            "colorbar": {
             "outlinewidth": 0,
             "ticks": ""
            },
            "colorscale": [
             [
              0,
              "#0d0887"
             ],
             [
              0.1111111111111111,
              "#46039f"
             ],
             [
              0.2222222222222222,
              "#7201a8"
             ],
             [
              0.3333333333333333,
              "#9c179e"
             ],
             [
              0.4444444444444444,
              "#bd3786"
             ],
             [
              0.5555555555555556,
              "#d8576b"
             ],
             [
              0.6666666666666666,
              "#ed7953"
             ],
             [
              0.7777777777777778,
              "#fb9f3a"
             ],
             [
              0.8888888888888888,
              "#fdca26"
             ],
             [
              1,
              "#f0f921"
             ]
            ],
            "type": "contour"
           }
          ],
          "contourcarpet": [
           {
            "colorbar": {
             "outlinewidth": 0,
             "ticks": ""
            },
            "type": "contourcarpet"
           }
          ],
          "heatmap": [
           {
            "colorbar": {
             "outlinewidth": 0,
             "ticks": ""
            },
            "colorscale": [
             [
              0,
              "#0d0887"
             ],
             [
              0.1111111111111111,
              "#46039f"
             ],
             [
              0.2222222222222222,
              "#7201a8"
             ],
             [
              0.3333333333333333,
              "#9c179e"
             ],
             [
              0.4444444444444444,
              "#bd3786"
             ],
             [
              0.5555555555555556,
              "#d8576b"
             ],
             [
              0.6666666666666666,
              "#ed7953"
             ],
             [
              0.7777777777777778,
              "#fb9f3a"
             ],
             [
              0.8888888888888888,
              "#fdca26"
             ],
             [
              1,
              "#f0f921"
             ]
            ],
            "type": "heatmap"
           }
          ],
          "heatmapgl": [
           {
            "colorbar": {
             "outlinewidth": 0,
             "ticks": ""
            },
            "colorscale": [
             [
              0,
              "#0d0887"
             ],
             [
              0.1111111111111111,
              "#46039f"
             ],
             [
              0.2222222222222222,
              "#7201a8"
             ],
             [
              0.3333333333333333,
              "#9c179e"
             ],
             [
              0.4444444444444444,
              "#bd3786"
             ],
             [
              0.5555555555555556,
              "#d8576b"
             ],
             [
              0.6666666666666666,
              "#ed7953"
             ],
             [
              0.7777777777777778,
              "#fb9f3a"
             ],
             [
              0.8888888888888888,
              "#fdca26"
             ],
             [
              1,
              "#f0f921"
             ]
            ],
            "type": "heatmapgl"
           }
          ],
          "histogram": [
           {
            "marker": {
             "pattern": {
              "fillmode": "overlay",
              "size": 10,
              "solidity": 0.2
             }
            },
            "type": "histogram"
           }
          ],
          "histogram2d": [
           {
            "colorbar": {
             "outlinewidth": 0,
             "ticks": ""
            },
            "colorscale": [
             [
              0,
              "#0d0887"
             ],
             [
              0.1111111111111111,
              "#46039f"
             ],
             [
              0.2222222222222222,
              "#7201a8"
             ],
             [
              0.3333333333333333,
              "#9c179e"
             ],
             [
              0.4444444444444444,
              "#bd3786"
             ],
             [
              0.5555555555555556,
              "#d8576b"
             ],
             [
              0.6666666666666666,
              "#ed7953"
             ],
             [
              0.7777777777777778,
              "#fb9f3a"
             ],
             [
              0.8888888888888888,
              "#fdca26"
             ],
             [
              1,
              "#f0f921"
             ]
            ],
            "type": "histogram2d"
           }
          ],
          "histogram2dcontour": [
           {
            "colorbar": {
             "outlinewidth": 0,
             "ticks": ""
            },
            "colorscale": [
             [
              0,
              "#0d0887"
             ],
             [
              0.1111111111111111,
              "#46039f"
             ],
             [
              0.2222222222222222,
              "#7201a8"
             ],
             [
              0.3333333333333333,
              "#9c179e"
             ],
             [
              0.4444444444444444,
              "#bd3786"
             ],
             [
              0.5555555555555556,
              "#d8576b"
             ],
             [
              0.6666666666666666,
              "#ed7953"
             ],
             [
              0.7777777777777778,
              "#fb9f3a"
             ],
             [
              0.8888888888888888,
              "#fdca26"
             ],
             [
              1,
              "#f0f921"
             ]
            ],
            "type": "histogram2dcontour"
           }
          ],
          "mesh3d": [
           {
            "colorbar": {
             "outlinewidth": 0,
             "ticks": ""
            },
            "type": "mesh3d"
           }
          ],
          "parcoords": [
           {
            "line": {
             "colorbar": {
              "outlinewidth": 0,
              "ticks": ""
             }
            },
            "type": "parcoords"
           }
          ],
          "pie": [
           {
            "automargin": true,
            "type": "pie"
           }
          ],
          "scatter": [
           {
            "fillpattern": {
             "fillmode": "overlay",
             "size": 10,
             "solidity": 0.2
            },
            "type": "scatter"
           }
          ],
          "scatter3d": [
           {
            "line": {
             "colorbar": {
              "outlinewidth": 0,
              "ticks": ""
             }
            },
            "marker": {
             "colorbar": {
              "outlinewidth": 0,
              "ticks": ""
             }
            },
            "type": "scatter3d"
           }
          ],
          "scattercarpet": [
           {
            "marker": {
             "colorbar": {
              "outlinewidth": 0,
              "ticks": ""
             }
            },
            "type": "scattercarpet"
           }
          ],
          "scattergeo": [
           {
            "marker": {
             "colorbar": {
              "outlinewidth": 0,
              "ticks": ""
             }
            },
            "type": "scattergeo"
           }
          ],
          "scattergl": [
           {
            "marker": {
             "colorbar": {
              "outlinewidth": 0,
              "ticks": ""
             }
            },
            "type": "scattergl"
           }
          ],
          "scattermapbox": [
           {
            "marker": {
             "colorbar": {
              "outlinewidth": 0,
              "ticks": ""
             }
            },
            "type": "scattermapbox"
           }
          ],
          "scatterpolar": [
           {
            "marker": {
             "colorbar": {
              "outlinewidth": 0,
              "ticks": ""
             }
            },
            "type": "scatterpolar"
           }
          ],
          "scatterpolargl": [
           {
            "marker": {
             "colorbar": {
              "outlinewidth": 0,
              "ticks": ""
             }
            },
            "type": "scatterpolargl"
           }
          ],
          "scatterternary": [
           {
            "marker": {
             "colorbar": {
              "outlinewidth": 0,
              "ticks": ""
             }
            },
            "type": "scatterternary"
           }
          ],
          "surface": [
           {
            "colorbar": {
             "outlinewidth": 0,
             "ticks": ""
            },
            "colorscale": [
             [
              0,
              "#0d0887"
             ],
             [
              0.1111111111111111,
              "#46039f"
             ],
             [
              0.2222222222222222,
              "#7201a8"
             ],
             [
              0.3333333333333333,
              "#9c179e"
             ],
             [
              0.4444444444444444,
              "#bd3786"
             ],
             [
              0.5555555555555556,
              "#d8576b"
             ],
             [
              0.6666666666666666,
              "#ed7953"
             ],
             [
              0.7777777777777778,
              "#fb9f3a"
             ],
             [
              0.8888888888888888,
              "#fdca26"
             ],
             [
              1,
              "#f0f921"
             ]
            ],
            "type": "surface"
           }
          ],
          "table": [
           {
            "cells": {
             "fill": {
              "color": "#EBF0F8"
             },
             "line": {
              "color": "white"
             }
            },
            "header": {
             "fill": {
              "color": "#C8D4E3"
             },
             "line": {
              "color": "white"
             }
            },
            "type": "table"
           }
          ]
         },
         "layout": {
          "annotationdefaults": {
           "arrowcolor": "#2a3f5f",
           "arrowhead": 0,
           "arrowwidth": 1
          },
          "autotypenumbers": "strict",
          "coloraxis": {
           "colorbar": {
            "outlinewidth": 0,
            "ticks": ""
           }
          },
          "colorscale": {
           "diverging": [
            [
             0,
             "#8e0152"
            ],
            [
             0.1,
             "#c51b7d"
            ],
            [
             0.2,
             "#de77ae"
            ],
            [
             0.3,
             "#f1b6da"
            ],
            [
             0.4,
             "#fde0ef"
            ],
            [
             0.5,
             "#f7f7f7"
            ],
            [
             0.6,
             "#e6f5d0"
            ],
            [
             0.7,
             "#b8e186"
            ],
            [
             0.8,
             "#7fbc41"
            ],
            [
             0.9,
             "#4d9221"
            ],
            [
             1,
             "#276419"
            ]
           ],
           "sequential": [
            [
             0,
             "#0d0887"
            ],
            [
             0.1111111111111111,
             "#46039f"
            ],
            [
             0.2222222222222222,
             "#7201a8"
            ],
            [
             0.3333333333333333,
             "#9c179e"
            ],
            [
             0.4444444444444444,
             "#bd3786"
            ],
            [
             0.5555555555555556,
             "#d8576b"
            ],
            [
             0.6666666666666666,
             "#ed7953"
            ],
            [
             0.7777777777777778,
             "#fb9f3a"
            ],
            [
             0.8888888888888888,
             "#fdca26"
            ],
            [
             1,
             "#f0f921"
            ]
           ],
           "sequentialminus": [
            [
             0,
             "#0d0887"
            ],
            [
             0.1111111111111111,
             "#46039f"
            ],
            [
             0.2222222222222222,
             "#7201a8"
            ],
            [
             0.3333333333333333,
             "#9c179e"
            ],
            [
             0.4444444444444444,
             "#bd3786"
            ],
            [
             0.5555555555555556,
             "#d8576b"
            ],
            [
             0.6666666666666666,
             "#ed7953"
            ],
            [
             0.7777777777777778,
             "#fb9f3a"
            ],
            [
             0.8888888888888888,
             "#fdca26"
            ],
            [
             1,
             "#f0f921"
            ]
           ]
          },
          "colorway": [
           "#636efa",
           "#EF553B",
           "#00cc96",
           "#ab63fa",
           "#FFA15A",
           "#19d3f3",
           "#FF6692",
           "#B6E880",
           "#FF97FF",
           "#FECB52"
          ],
          "font": {
           "color": "#2a3f5f"
          },
          "geo": {
           "bgcolor": "white",
           "lakecolor": "white",
           "landcolor": "#E5ECF6",
           "showlakes": true,
           "showland": true,
           "subunitcolor": "white"
          },
          "hoverlabel": {
           "align": "left"
          },
          "hovermode": "closest",
          "mapbox": {
           "style": "light"
          },
          "paper_bgcolor": "white",
          "plot_bgcolor": "#E5ECF6",
          "polar": {
           "angularaxis": {
            "gridcolor": "white",
            "linecolor": "white",
            "ticks": ""
           },
           "bgcolor": "#E5ECF6",
           "radialaxis": {
            "gridcolor": "white",
            "linecolor": "white",
            "ticks": ""
           }
          },
          "scene": {
           "xaxis": {
            "backgroundcolor": "#E5ECF6",
            "gridcolor": "white",
            "gridwidth": 2,
            "linecolor": "white",
            "showbackground": true,
            "ticks": "",
            "zerolinecolor": "white"
           },
           "yaxis": {
            "backgroundcolor": "#E5ECF6",
            "gridcolor": "white",
            "gridwidth": 2,
            "linecolor": "white",
            "showbackground": true,
            "ticks": "",
            "zerolinecolor": "white"
           },
           "zaxis": {
            "backgroundcolor": "#E5ECF6",
            "gridcolor": "white",
            "gridwidth": 2,
            "linecolor": "white",
            "showbackground": true,
            "ticks": "",
            "zerolinecolor": "white"
           }
          },
          "shapedefaults": {
           "line": {
            "color": "#2a3f5f"
           }
          },
          "ternary": {
           "aaxis": {
            "gridcolor": "white",
            "linecolor": "white",
            "ticks": ""
           },
           "baxis": {
            "gridcolor": "white",
            "linecolor": "white",
            "ticks": ""
           },
           "bgcolor": "#E5ECF6",
           "caxis": {
            "gridcolor": "white",
            "linecolor": "white",
            "ticks": ""
           }
          },
          "title": {
           "x": 0.05
          },
          "xaxis": {
           "automargin": true,
           "gridcolor": "white",
           "linecolor": "white",
           "ticks": "",
           "title": {
            "standoff": 15
           },
           "zerolinecolor": "white",
           "zerolinewidth": 2
          },
          "yaxis": {
           "automargin": true,
           "gridcolor": "white",
           "linecolor": "white",
           "ticks": "",
           "title": {
            "standoff": 15
           },
           "zerolinecolor": "white",
           "zerolinewidth": 2
          }
         }
        },
        "title": {
         "text": "Impressions over Time"
        },
        "xaxis": {
         "anchor": "y",
         "domain": [
          0,
          1
         ],
         "title": {
          "text": "index"
         }
        },
        "yaxis": {
         "anchor": "x",
         "domain": [
          0,
          1
         ],
         "title": {
          "text": "Impressions"
         }
        }
       }
      },
      "text/html": [
       "<div>                            <div id=\"0dbdd607-eb0c-49d1-821b-2d33cc8f4b09\" class=\"plotly-graph-div\" style=\"height:525px; width:100%;\"></div>            <script type=\"text/javascript\">                require([\"plotly\"], function(Plotly) {                    window.PLOTLYENV=window.PLOTLYENV || {};                                    if (document.getElementById(\"0dbdd607-eb0c-49d1-821b-2d33cc8f4b09\")) {                    Plotly.newPlot(                        \"0dbdd607-eb0c-49d1-821b-2d33cc8f4b09\",                        [{\"hovertemplate\":\"index=%{x}<br>Impressions=%{y}<extra></extra>\",\"legendgroup\":\"\",\"line\":{\"color\":\"#636efa\",\"dash\":\"solid\"},\"marker\":{\"symbol\":\"circle\"},\"mode\":\"lines\",\"name\":\"\",\"orientation\":\"v\",\"showlegend\":false,\"x\":[0,1,2,3,4,5,6,7,8,9,10,11,12,13,14,15,16,17,18,19,20,21,22,23,24,25,26,27,28,29,30,31,32,33,34,35,36,37,38,39,40,41,42,43,44,45,46,47,48,49,50,51,52,53,54,55,56,57,58,59,60,61,62,63,64,65,66,67,68,69,70,71,72,73,74,75,76,77,78,79,80,81,82,83,84,85,86,87,88,89,90,91,92,93,94,95,96,97,98,99,100,101,102,103,104,105,106,107,108,109,110,111,112,113,114,115,116,117,118],\"xaxis\":\"x\",\"y\":[3920,5394,4021,4528,2518,3884,2621,3541,3749,4115,2218,3234,4344,3216,9453,5055,4002,3169,6168,2407,2064,3973,7281,3052,4628,4082,5394,2766,3924,3015,6666,3854,4355,4343,6108,2523,2327,3990,2191,1941,16062,4998,4289,3880,3786,4298,3630,2826,7407,10386,2998,7018,2941,6432,10667,3988,4978,3388,4467,3246,5072,6339,4239,3454,7571,3333,3818,10933,5058,3601,3480,3525,3606,5542,6559,3623,10493,4446,2957,5538,4681,5273,5055,4002,3169,6168,2407,3630,2826,7407,10386,2998,3052,4628,4082,5394,2766,3924,3015,5409,5323,8001,4150,4609,6348,11068,7231,17396,6814,17713,5563,4842,11149,10206,13700,5731,4139,32695,36919],\"yaxis\":\"y\",\"type\":\"scatter\"}],                        {\"template\":{\"data\":{\"histogram2dcontour\":[{\"type\":\"histogram2dcontour\",\"colorbar\":{\"outlinewidth\":0,\"ticks\":\"\"},\"colorscale\":[[0.0,\"#0d0887\"],[0.1111111111111111,\"#46039f\"],[0.2222222222222222,\"#7201a8\"],[0.3333333333333333,\"#9c179e\"],[0.4444444444444444,\"#bd3786\"],[0.5555555555555556,\"#d8576b\"],[0.6666666666666666,\"#ed7953\"],[0.7777777777777778,\"#fb9f3a\"],[0.8888888888888888,\"#fdca26\"],[1.0,\"#f0f921\"]]}],\"choropleth\":[{\"type\":\"choropleth\",\"colorbar\":{\"outlinewidth\":0,\"ticks\":\"\"}}],\"histogram2d\":[{\"type\":\"histogram2d\",\"colorbar\":{\"outlinewidth\":0,\"ticks\":\"\"},\"colorscale\":[[0.0,\"#0d0887\"],[0.1111111111111111,\"#46039f\"],[0.2222222222222222,\"#7201a8\"],[0.3333333333333333,\"#9c179e\"],[0.4444444444444444,\"#bd3786\"],[0.5555555555555556,\"#d8576b\"],[0.6666666666666666,\"#ed7953\"],[0.7777777777777778,\"#fb9f3a\"],[0.8888888888888888,\"#fdca26\"],[1.0,\"#f0f921\"]]}],\"heatmap\":[{\"type\":\"heatmap\",\"colorbar\":{\"outlinewidth\":0,\"ticks\":\"\"},\"colorscale\":[[0.0,\"#0d0887\"],[0.1111111111111111,\"#46039f\"],[0.2222222222222222,\"#7201a8\"],[0.3333333333333333,\"#9c179e\"],[0.4444444444444444,\"#bd3786\"],[0.5555555555555556,\"#d8576b\"],[0.6666666666666666,\"#ed7953\"],[0.7777777777777778,\"#fb9f3a\"],[0.8888888888888888,\"#fdca26\"],[1.0,\"#f0f921\"]]}],\"heatmapgl\":[{\"type\":\"heatmapgl\",\"colorbar\":{\"outlinewidth\":0,\"ticks\":\"\"},\"colorscale\":[[0.0,\"#0d0887\"],[0.1111111111111111,\"#46039f\"],[0.2222222222222222,\"#7201a8\"],[0.3333333333333333,\"#9c179e\"],[0.4444444444444444,\"#bd3786\"],[0.5555555555555556,\"#d8576b\"],[0.6666666666666666,\"#ed7953\"],[0.7777777777777778,\"#fb9f3a\"],[0.8888888888888888,\"#fdca26\"],[1.0,\"#f0f921\"]]}],\"contourcarpet\":[{\"type\":\"contourcarpet\",\"colorbar\":{\"outlinewidth\":0,\"ticks\":\"\"}}],\"contour\":[{\"type\":\"contour\",\"colorbar\":{\"outlinewidth\":0,\"ticks\":\"\"},\"colorscale\":[[0.0,\"#0d0887\"],[0.1111111111111111,\"#46039f\"],[0.2222222222222222,\"#7201a8\"],[0.3333333333333333,\"#9c179e\"],[0.4444444444444444,\"#bd3786\"],[0.5555555555555556,\"#d8576b\"],[0.6666666666666666,\"#ed7953\"],[0.7777777777777778,\"#fb9f3a\"],[0.8888888888888888,\"#fdca26\"],[1.0,\"#f0f921\"]]}],\"surface\":[{\"type\":\"surface\",\"colorbar\":{\"outlinewidth\":0,\"ticks\":\"\"},\"colorscale\":[[0.0,\"#0d0887\"],[0.1111111111111111,\"#46039f\"],[0.2222222222222222,\"#7201a8\"],[0.3333333333333333,\"#9c179e\"],[0.4444444444444444,\"#bd3786\"],[0.5555555555555556,\"#d8576b\"],[0.6666666666666666,\"#ed7953\"],[0.7777777777777778,\"#fb9f3a\"],[0.8888888888888888,\"#fdca26\"],[1.0,\"#f0f921\"]]}],\"mesh3d\":[{\"type\":\"mesh3d\",\"colorbar\":{\"outlinewidth\":0,\"ticks\":\"\"}}],\"scatter\":[{\"fillpattern\":{\"fillmode\":\"overlay\",\"size\":10,\"solidity\":0.2},\"type\":\"scatter\"}],\"parcoords\":[{\"type\":\"parcoords\",\"line\":{\"colorbar\":{\"outlinewidth\":0,\"ticks\":\"\"}}}],\"scatterpolargl\":[{\"type\":\"scatterpolargl\",\"marker\":{\"colorbar\":{\"outlinewidth\":0,\"ticks\":\"\"}}}],\"bar\":[{\"error_x\":{\"color\":\"#2a3f5f\"},\"error_y\":{\"color\":\"#2a3f5f\"},\"marker\":{\"line\":{\"color\":\"#E5ECF6\",\"width\":0.5},\"pattern\":{\"fillmode\":\"overlay\",\"size\":10,\"solidity\":0.2}},\"type\":\"bar\"}],\"scattergeo\":[{\"type\":\"scattergeo\",\"marker\":{\"colorbar\":{\"outlinewidth\":0,\"ticks\":\"\"}}}],\"scatterpolar\":[{\"type\":\"scatterpolar\",\"marker\":{\"colorbar\":{\"outlinewidth\":0,\"ticks\":\"\"}}}],\"histogram\":[{\"marker\":{\"pattern\":{\"fillmode\":\"overlay\",\"size\":10,\"solidity\":0.2}},\"type\":\"histogram\"}],\"scattergl\":[{\"type\":\"scattergl\",\"marker\":{\"colorbar\":{\"outlinewidth\":0,\"ticks\":\"\"}}}],\"scatter3d\":[{\"type\":\"scatter3d\",\"line\":{\"colorbar\":{\"outlinewidth\":0,\"ticks\":\"\"}},\"marker\":{\"colorbar\":{\"outlinewidth\":0,\"ticks\":\"\"}}}],\"scattermapbox\":[{\"type\":\"scattermapbox\",\"marker\":{\"colorbar\":{\"outlinewidth\":0,\"ticks\":\"\"}}}],\"scatterternary\":[{\"type\":\"scatterternary\",\"marker\":{\"colorbar\":{\"outlinewidth\":0,\"ticks\":\"\"}}}],\"scattercarpet\":[{\"type\":\"scattercarpet\",\"marker\":{\"colorbar\":{\"outlinewidth\":0,\"ticks\":\"\"}}}],\"carpet\":[{\"aaxis\":{\"endlinecolor\":\"#2a3f5f\",\"gridcolor\":\"white\",\"linecolor\":\"white\",\"minorgridcolor\":\"white\",\"startlinecolor\":\"#2a3f5f\"},\"baxis\":{\"endlinecolor\":\"#2a3f5f\",\"gridcolor\":\"white\",\"linecolor\":\"white\",\"minorgridcolor\":\"white\",\"startlinecolor\":\"#2a3f5f\"},\"type\":\"carpet\"}],\"table\":[{\"cells\":{\"fill\":{\"color\":\"#EBF0F8\"},\"line\":{\"color\":\"white\"}},\"header\":{\"fill\":{\"color\":\"#C8D4E3\"},\"line\":{\"color\":\"white\"}},\"type\":\"table\"}],\"barpolar\":[{\"marker\":{\"line\":{\"color\":\"#E5ECF6\",\"width\":0.5},\"pattern\":{\"fillmode\":\"overlay\",\"size\":10,\"solidity\":0.2}},\"type\":\"barpolar\"}],\"pie\":[{\"automargin\":true,\"type\":\"pie\"}]},\"layout\":{\"autotypenumbers\":\"strict\",\"colorway\":[\"#636efa\",\"#EF553B\",\"#00cc96\",\"#ab63fa\",\"#FFA15A\",\"#19d3f3\",\"#FF6692\",\"#B6E880\",\"#FF97FF\",\"#FECB52\"],\"font\":{\"color\":\"#2a3f5f\"},\"hovermode\":\"closest\",\"hoverlabel\":{\"align\":\"left\"},\"paper_bgcolor\":\"white\",\"plot_bgcolor\":\"#E5ECF6\",\"polar\":{\"bgcolor\":\"#E5ECF6\",\"angularaxis\":{\"gridcolor\":\"white\",\"linecolor\":\"white\",\"ticks\":\"\"},\"radialaxis\":{\"gridcolor\":\"white\",\"linecolor\":\"white\",\"ticks\":\"\"}},\"ternary\":{\"bgcolor\":\"#E5ECF6\",\"aaxis\":{\"gridcolor\":\"white\",\"linecolor\":\"white\",\"ticks\":\"\"},\"baxis\":{\"gridcolor\":\"white\",\"linecolor\":\"white\",\"ticks\":\"\"},\"caxis\":{\"gridcolor\":\"white\",\"linecolor\":\"white\",\"ticks\":\"\"}},\"coloraxis\":{\"colorbar\":{\"outlinewidth\":0,\"ticks\":\"\"}},\"colorscale\":{\"sequential\":[[0.0,\"#0d0887\"],[0.1111111111111111,\"#46039f\"],[0.2222222222222222,\"#7201a8\"],[0.3333333333333333,\"#9c179e\"],[0.4444444444444444,\"#bd3786\"],[0.5555555555555556,\"#d8576b\"],[0.6666666666666666,\"#ed7953\"],[0.7777777777777778,\"#fb9f3a\"],[0.8888888888888888,\"#fdca26\"],[1.0,\"#f0f921\"]],\"sequentialminus\":[[0.0,\"#0d0887\"],[0.1111111111111111,\"#46039f\"],[0.2222222222222222,\"#7201a8\"],[0.3333333333333333,\"#9c179e\"],[0.4444444444444444,\"#bd3786\"],[0.5555555555555556,\"#d8576b\"],[0.6666666666666666,\"#ed7953\"],[0.7777777777777778,\"#fb9f3a\"],[0.8888888888888888,\"#fdca26\"],[1.0,\"#f0f921\"]],\"diverging\":[[0,\"#8e0152\"],[0.1,\"#c51b7d\"],[0.2,\"#de77ae\"],[0.3,\"#f1b6da\"],[0.4,\"#fde0ef\"],[0.5,\"#f7f7f7\"],[0.6,\"#e6f5d0\"],[0.7,\"#b8e186\"],[0.8,\"#7fbc41\"],[0.9,\"#4d9221\"],[1,\"#276419\"]]},\"xaxis\":{\"gridcolor\":\"white\",\"linecolor\":\"white\",\"ticks\":\"\",\"title\":{\"standoff\":15},\"zerolinecolor\":\"white\",\"automargin\":true,\"zerolinewidth\":2},\"yaxis\":{\"gridcolor\":\"white\",\"linecolor\":\"white\",\"ticks\":\"\",\"title\":{\"standoff\":15},\"zerolinecolor\":\"white\",\"automargin\":true,\"zerolinewidth\":2},\"scene\":{\"xaxis\":{\"backgroundcolor\":\"#E5ECF6\",\"gridcolor\":\"white\",\"linecolor\":\"white\",\"showbackground\":true,\"ticks\":\"\",\"zerolinecolor\":\"white\",\"gridwidth\":2},\"yaxis\":{\"backgroundcolor\":\"#E5ECF6\",\"gridcolor\":\"white\",\"linecolor\":\"white\",\"showbackground\":true,\"ticks\":\"\",\"zerolinecolor\":\"white\",\"gridwidth\":2},\"zaxis\":{\"backgroundcolor\":\"#E5ECF6\",\"gridcolor\":\"white\",\"linecolor\":\"white\",\"showbackground\":true,\"ticks\":\"\",\"zerolinecolor\":\"white\",\"gridwidth\":2}},\"shapedefaults\":{\"line\":{\"color\":\"#2a3f5f\"}},\"annotationdefaults\":{\"arrowcolor\":\"#2a3f5f\",\"arrowhead\":0,\"arrowwidth\":1},\"geo\":{\"bgcolor\":\"white\",\"landcolor\":\"#E5ECF6\",\"subunitcolor\":\"white\",\"showland\":true,\"showlakes\":true,\"lakecolor\":\"white\"},\"title\":{\"x\":0.05},\"mapbox\":{\"style\":\"light\"}}},\"xaxis\":{\"anchor\":\"y\",\"domain\":[0.0,1.0],\"title\":{\"text\":\"index\"}},\"yaxis\":{\"anchor\":\"x\",\"domain\":[0.0,1.0],\"title\":{\"text\":\"Impressions\"}},\"legend\":{\"tracegroupgap\":0},\"title\":{\"text\":\"Impressions over Time\"}},                        {\"responsive\": true}                    ).then(function(){\n",
       "                            \n",
       "var gd = document.getElementById('0dbdd607-eb0c-49d1-821b-2d33cc8f4b09');\n",
       "var x = new MutationObserver(function (mutations, observer) {{\n",
       "        var display = window.getComputedStyle(gd).display;\n",
       "        if (!display || display === 'none') {{\n",
       "            console.log([gd, 'removed!']);\n",
       "            Plotly.purge(gd);\n",
       "            observer.disconnect();\n",
       "        }}\n",
       "}});\n",
       "\n",
       "// Listen for the removal of the full notebook cells\n",
       "var notebookContainer = gd.closest('#notebook-container');\n",
       "if (notebookContainer) {{\n",
       "    x.observe(notebookContainer, {childList: true});\n",
       "}}\n",
       "\n",
       "// Listen for the clearing of the current output cell\n",
       "var outputEl = gd.closest('.output');\n",
       "if (outputEl) {{\n",
       "    x.observe(outputEl, {childList: true});\n",
       "}}\n",
       "\n",
       "                        })                };                });            </script>        </div>"
      ]
     },
     "metadata": {},
     "output_type": "display_data"
    }
   ],
   "source": [
    "fig2 = px.line(df, x=df.index,\n",
    "                   y = 'Impressions',\n",
    "                   title = 'Impressions over Time')\n",
    "\n",
    "fig2.show()"
   ]
  },
  {
   "cell_type": "code",
   "execution_count": 23,
   "id": "971cf79f",
   "metadata": {},
   "outputs": [
    {
     "data": {
      "application/vnd.plotly.v1+json": {
       "config": {
        "plotlyServerURL": "https://plot.ly"
       },
       "data": [
        {
         "name": "Likes",
         "type": "scatter",
         "x": [
          0,
          1,
          2,
          3,
          4,
          5,
          6,
          7,
          8,
          9,
          10,
          11,
          12,
          13,
          14,
          15,
          16,
          17,
          18,
          19,
          20,
          21,
          22,
          23,
          24,
          25,
          26,
          27,
          28,
          29,
          30,
          31,
          32,
          33,
          34,
          35,
          36,
          37,
          38,
          39,
          40,
          41,
          42,
          43,
          44,
          45,
          46,
          47,
          48,
          49,
          50,
          51,
          52,
          53,
          54,
          55,
          56,
          57,
          58,
          59,
          60,
          61,
          62,
          63,
          64,
          65,
          66,
          67,
          68,
          69,
          70,
          71,
          72,
          73,
          74,
          75,
          76,
          77,
          78,
          79,
          80,
          81,
          82,
          83,
          84,
          85,
          86,
          87,
          88,
          89,
          90,
          91,
          92,
          93,
          94,
          95,
          96,
          97,
          98,
          99,
          100,
          101,
          102,
          103,
          104,
          105,
          106,
          107,
          108,
          109,
          110,
          111,
          112,
          113,
          114,
          115,
          116,
          117,
          118
         ],
         "y": [
          162,
          224,
          131,
          213,
          123,
          144,
          76,
          124,
          159,
          191,
          81,
          151,
          162,
          142,
          294,
          159,
          205,
          121,
          151,
          72,
          76,
          91,
          195,
          129,
          160,
          175,
          147,
          114,
          151,
          92,
          214,
          150,
          122,
          152,
          196,
          86,
          85,
          156,
          72,
          82,
          416,
          180,
          150,
          127,
          167,
          225,
          137,
          114,
          263,
          328,
          126,
          236,
          99,
          212,
          297,
          142,
          186,
          112,
          149,
          132,
          115,
          248,
          178,
          107,
          269,
          96,
          134,
          301,
          187,
          94,
          114,
          96,
          138,
          122,
          257,
          95,
          244,
          190,
          118,
          178,
          170,
          250,
          159,
          205,
          121,
          151,
          72,
          137,
          114,
          263,
          328,
          126,
          129,
          160,
          175,
          147,
          114,
          151,
          92,
          275,
          192,
          203,
          145,
          168,
          194,
          250,
          171,
          416,
          249,
          308,
          163,
          86,
          210,
          172,
          373,
          148,
          92,
          549,
          443
         ]
        },
        {
         "name": "Saves",
         "type": "scatter",
         "x": [
          0,
          1,
          2,
          3,
          4,
          5,
          6,
          7,
          8,
          9,
          10,
          11,
          12,
          13,
          14,
          15,
          16,
          17,
          18,
          19,
          20,
          21,
          22,
          23,
          24,
          25,
          26,
          27,
          28,
          29,
          30,
          31,
          32,
          33,
          34,
          35,
          36,
          37,
          38,
          39,
          40,
          41,
          42,
          43,
          44,
          45,
          46,
          47,
          48,
          49,
          50,
          51,
          52,
          53,
          54,
          55,
          56,
          57,
          58,
          59,
          60,
          61,
          62,
          63,
          64,
          65,
          66,
          67,
          68,
          69,
          70,
          71,
          72,
          73,
          74,
          75,
          76,
          77,
          78,
          79,
          80,
          81,
          82,
          83,
          84,
          85,
          86,
          87,
          88,
          89,
          90,
          91,
          92,
          93,
          94,
          95,
          96,
          97,
          98,
          99,
          100,
          101,
          102,
          103,
          104,
          105,
          106,
          107,
          108,
          109,
          110,
          111,
          112,
          113,
          114,
          115,
          116,
          117,
          118
         ],
         "y": [
          98,
          194,
          41,
          172,
          96,
          74,
          22,
          135,
          155,
          122,
          28,
          122,
          119,
          121,
          100,
          101,
          111,
          106,
          82,
          40,
          49,
          72,
          167,
          63,
          144,
          135,
          61,
          40,
          139,
          52,
          84,
          81,
          79,
          105,
          90,
          34,
          45,
          98,
          35,
          49,
          252,
          167,
          111,
          90,
          144,
          263,
          137,
          67,
          288,
          668,
          42,
          342,
          48,
          250,
          219,
          118,
          143,
          99,
          89,
          148,
          42,
          171,
          109,
          38,
          421,
          38,
          116,
          225,
          144,
          51,
          104,
          33,
          174,
          46,
          179,
          34,
          99,
          174,
          70,
          149,
          207,
          318,
          101,
          111,
          106,
          82,
          40,
          137,
          67,
          288,
          668,
          42,
          63,
          144,
          135,
          61,
          40,
          139,
          52,
          393,
          152,
          83,
          74,
          94,
          188,
          214,
          73,
          285,
          469,
          504,
          149,
          55,
          273,
          182,
          573,
          135,
          36,
          1095,
          653
         ]
        },
        {
         "name": "Follows",
         "type": "scatter",
         "x": [
          0,
          1,
          2,
          3,
          4,
          5,
          6,
          7,
          8,
          9,
          10,
          11,
          12,
          13,
          14,
          15,
          16,
          17,
          18,
          19,
          20,
          21,
          22,
          23,
          24,
          25,
          26,
          27,
          28,
          29,
          30,
          31,
          32,
          33,
          34,
          35,
          36,
          37,
          38,
          39,
          40,
          41,
          42,
          43,
          44,
          45,
          46,
          47,
          48,
          49,
          50,
          51,
          52,
          53,
          54,
          55,
          56,
          57,
          58,
          59,
          60,
          61,
          62,
          63,
          64,
          65,
          66,
          67,
          68,
          69,
          70,
          71,
          72,
          73,
          74,
          75,
          76,
          77,
          78,
          79,
          80,
          81,
          82,
          83,
          84,
          85,
          86,
          87,
          88,
          89,
          90,
          91,
          92,
          93,
          94,
          95,
          96,
          97,
          98,
          99,
          100,
          101,
          102,
          103,
          104,
          105,
          106,
          107,
          108,
          109,
          110,
          111,
          112,
          113,
          114,
          115,
          116,
          117,
          118
         ],
         "y": [
          2,
          10,
          12,
          8,
          0,
          2,
          0,
          6,
          4,
          6,
          4,
          0,
          2,
          4,
          42,
          6,
          2,
          2,
          30,
          0,
          0,
          24,
          100,
          2,
          4,
          6,
          6,
          6,
          2,
          2,
          20,
          2,
          4,
          8,
          26,
          2,
          2,
          4,
          0,
          2,
          94,
          8,
          18,
          10,
          4,
          4,
          4,
          4,
          18,
          38,
          10,
          12,
          4,
          4,
          74,
          0,
          6,
          6,
          0,
          6,
          12,
          10,
          8,
          8,
          46,
          12,
          10,
          94,
          6,
          10,
          6,
          4,
          12,
          16,
          12,
          8,
          32,
          8,
          16,
          6,
          10,
          10,
          6,
          2,
          2,
          30,
          0,
          4,
          4,
          18,
          38,
          10,
          2,
          4,
          6,
          6,
          6,
          2,
          2,
          14,
          8,
          14,
          28,
          18,
          12,
          34,
          26,
          260,
          16,
          96,
          20,
          30,
          58,
          100,
          80,
          18,
          10,
          214,
          228
         ]
        }
       ],
       "layout": {
        "template": {
         "data": {
          "bar": [
           {
            "error_x": {
             "color": "#2a3f5f"
            },
            "error_y": {
             "color": "#2a3f5f"
            },
            "marker": {
             "line": {
              "color": "#E5ECF6",
              "width": 0.5
             },
             "pattern": {
              "fillmode": "overlay",
              "size": 10,
              "solidity": 0.2
             }
            },
            "type": "bar"
           }
          ],
          "barpolar": [
           {
            "marker": {
             "line": {
              "color": "#E5ECF6",
              "width": 0.5
             },
             "pattern": {
              "fillmode": "overlay",
              "size": 10,
              "solidity": 0.2
             }
            },
            "type": "barpolar"
           }
          ],
          "carpet": [
           {
            "aaxis": {
             "endlinecolor": "#2a3f5f",
             "gridcolor": "white",
             "linecolor": "white",
             "minorgridcolor": "white",
             "startlinecolor": "#2a3f5f"
            },
            "baxis": {
             "endlinecolor": "#2a3f5f",
             "gridcolor": "white",
             "linecolor": "white",
             "minorgridcolor": "white",
             "startlinecolor": "#2a3f5f"
            },
            "type": "carpet"
           }
          ],
          "choropleth": [
           {
            "colorbar": {
             "outlinewidth": 0,
             "ticks": ""
            },
            "type": "choropleth"
           }
          ],
          "contour": [
           {
            "colorbar": {
             "outlinewidth": 0,
             "ticks": ""
            },
            "colorscale": [
             [
              0,
              "#0d0887"
             ],
             [
              0.1111111111111111,
              "#46039f"
             ],
             [
              0.2222222222222222,
              "#7201a8"
             ],
             [
              0.3333333333333333,
              "#9c179e"
             ],
             [
              0.4444444444444444,
              "#bd3786"
             ],
             [
              0.5555555555555556,
              "#d8576b"
             ],
             [
              0.6666666666666666,
              "#ed7953"
             ],
             [
              0.7777777777777778,
              "#fb9f3a"
             ],
             [
              0.8888888888888888,
              "#fdca26"
             ],
             [
              1,
              "#f0f921"
             ]
            ],
            "type": "contour"
           }
          ],
          "contourcarpet": [
           {
            "colorbar": {
             "outlinewidth": 0,
             "ticks": ""
            },
            "type": "contourcarpet"
           }
          ],
          "heatmap": [
           {
            "colorbar": {
             "outlinewidth": 0,
             "ticks": ""
            },
            "colorscale": [
             [
              0,
              "#0d0887"
             ],
             [
              0.1111111111111111,
              "#46039f"
             ],
             [
              0.2222222222222222,
              "#7201a8"
             ],
             [
              0.3333333333333333,
              "#9c179e"
             ],
             [
              0.4444444444444444,
              "#bd3786"
             ],
             [
              0.5555555555555556,
              "#d8576b"
             ],
             [
              0.6666666666666666,
              "#ed7953"
             ],
             [
              0.7777777777777778,
              "#fb9f3a"
             ],
             [
              0.8888888888888888,
              "#fdca26"
             ],
             [
              1,
              "#f0f921"
             ]
            ],
            "type": "heatmap"
           }
          ],
          "heatmapgl": [
           {
            "colorbar": {
             "outlinewidth": 0,
             "ticks": ""
            },
            "colorscale": [
             [
              0,
              "#0d0887"
             ],
             [
              0.1111111111111111,
              "#46039f"
             ],
             [
              0.2222222222222222,
              "#7201a8"
             ],
             [
              0.3333333333333333,
              "#9c179e"
             ],
             [
              0.4444444444444444,
              "#bd3786"
             ],
             [
              0.5555555555555556,
              "#d8576b"
             ],
             [
              0.6666666666666666,
              "#ed7953"
             ],
             [
              0.7777777777777778,
              "#fb9f3a"
             ],
             [
              0.8888888888888888,
              "#fdca26"
             ],
             [
              1,
              "#f0f921"
             ]
            ],
            "type": "heatmapgl"
           }
          ],
          "histogram": [
           {
            "marker": {
             "pattern": {
              "fillmode": "overlay",
              "size": 10,
              "solidity": 0.2
             }
            },
            "type": "histogram"
           }
          ],
          "histogram2d": [
           {
            "colorbar": {
             "outlinewidth": 0,
             "ticks": ""
            },
            "colorscale": [
             [
              0,
              "#0d0887"
             ],
             [
              0.1111111111111111,
              "#46039f"
             ],
             [
              0.2222222222222222,
              "#7201a8"
             ],
             [
              0.3333333333333333,
              "#9c179e"
             ],
             [
              0.4444444444444444,
              "#bd3786"
             ],
             [
              0.5555555555555556,
              "#d8576b"
             ],
             [
              0.6666666666666666,
              "#ed7953"
             ],
             [
              0.7777777777777778,
              "#fb9f3a"
             ],
             [
              0.8888888888888888,
              "#fdca26"
             ],
             [
              1,
              "#f0f921"
             ]
            ],
            "type": "histogram2d"
           }
          ],
          "histogram2dcontour": [
           {
            "colorbar": {
             "outlinewidth": 0,
             "ticks": ""
            },
            "colorscale": [
             [
              0,
              "#0d0887"
             ],
             [
              0.1111111111111111,
              "#46039f"
             ],
             [
              0.2222222222222222,
              "#7201a8"
             ],
             [
              0.3333333333333333,
              "#9c179e"
             ],
             [
              0.4444444444444444,
              "#bd3786"
             ],
             [
              0.5555555555555556,
              "#d8576b"
             ],
             [
              0.6666666666666666,
              "#ed7953"
             ],
             [
              0.7777777777777778,
              "#fb9f3a"
             ],
             [
              0.8888888888888888,
              "#fdca26"
             ],
             [
              1,
              "#f0f921"
             ]
            ],
            "type": "histogram2dcontour"
           }
          ],
          "mesh3d": [
           {
            "colorbar": {
             "outlinewidth": 0,
             "ticks": ""
            },
            "type": "mesh3d"
           }
          ],
          "parcoords": [
           {
            "line": {
             "colorbar": {
              "outlinewidth": 0,
              "ticks": ""
             }
            },
            "type": "parcoords"
           }
          ],
          "pie": [
           {
            "automargin": true,
            "type": "pie"
           }
          ],
          "scatter": [
           {
            "fillpattern": {
             "fillmode": "overlay",
             "size": 10,
             "solidity": 0.2
            },
            "type": "scatter"
           }
          ],
          "scatter3d": [
           {
            "line": {
             "colorbar": {
              "outlinewidth": 0,
              "ticks": ""
             }
            },
            "marker": {
             "colorbar": {
              "outlinewidth": 0,
              "ticks": ""
             }
            },
            "type": "scatter3d"
           }
          ],
          "scattercarpet": [
           {
            "marker": {
             "colorbar": {
              "outlinewidth": 0,
              "ticks": ""
             }
            },
            "type": "scattercarpet"
           }
          ],
          "scattergeo": [
           {
            "marker": {
             "colorbar": {
              "outlinewidth": 0,
              "ticks": ""
             }
            },
            "type": "scattergeo"
           }
          ],
          "scattergl": [
           {
            "marker": {
             "colorbar": {
              "outlinewidth": 0,
              "ticks": ""
             }
            },
            "type": "scattergl"
           }
          ],
          "scattermapbox": [
           {
            "marker": {
             "colorbar": {
              "outlinewidth": 0,
              "ticks": ""
             }
            },
            "type": "scattermapbox"
           }
          ],
          "scatterpolar": [
           {
            "marker": {
             "colorbar": {
              "outlinewidth": 0,
              "ticks": ""
             }
            },
            "type": "scatterpolar"
           }
          ],
          "scatterpolargl": [
           {
            "marker": {
             "colorbar": {
              "outlinewidth": 0,
              "ticks": ""
             }
            },
            "type": "scatterpolargl"
           }
          ],
          "scatterternary": [
           {
            "marker": {
             "colorbar": {
              "outlinewidth": 0,
              "ticks": ""
             }
            },
            "type": "scatterternary"
           }
          ],
          "surface": [
           {
            "colorbar": {
             "outlinewidth": 0,
             "ticks": ""
            },
            "colorscale": [
             [
              0,
              "#0d0887"
             ],
             [
              0.1111111111111111,
              "#46039f"
             ],
             [
              0.2222222222222222,
              "#7201a8"
             ],
             [
              0.3333333333333333,
              "#9c179e"
             ],
             [
              0.4444444444444444,
              "#bd3786"
             ],
             [
              0.5555555555555556,
              "#d8576b"
             ],
             [
              0.6666666666666666,
              "#ed7953"
             ],
             [
              0.7777777777777778,
              "#fb9f3a"
             ],
             [
              0.8888888888888888,
              "#fdca26"
             ],
             [
              1,
              "#f0f921"
             ]
            ],
            "type": "surface"
           }
          ],
          "table": [
           {
            "cells": {
             "fill": {
              "color": "#EBF0F8"
             },
             "line": {
              "color": "white"
             }
            },
            "header": {
             "fill": {
              "color": "#C8D4E3"
             },
             "line": {
              "color": "white"
             }
            },
            "type": "table"
           }
          ]
         },
         "layout": {
          "annotationdefaults": {
           "arrowcolor": "#2a3f5f",
           "arrowhead": 0,
           "arrowwidth": 1
          },
          "autotypenumbers": "strict",
          "coloraxis": {
           "colorbar": {
            "outlinewidth": 0,
            "ticks": ""
           }
          },
          "colorscale": {
           "diverging": [
            [
             0,
             "#8e0152"
            ],
            [
             0.1,
             "#c51b7d"
            ],
            [
             0.2,
             "#de77ae"
            ],
            [
             0.3,
             "#f1b6da"
            ],
            [
             0.4,
             "#fde0ef"
            ],
            [
             0.5,
             "#f7f7f7"
            ],
            [
             0.6,
             "#e6f5d0"
            ],
            [
             0.7,
             "#b8e186"
            ],
            [
             0.8,
             "#7fbc41"
            ],
            [
             0.9,
             "#4d9221"
            ],
            [
             1,
             "#276419"
            ]
           ],
           "sequential": [
            [
             0,
             "#0d0887"
            ],
            [
             0.1111111111111111,
             "#46039f"
            ],
            [
             0.2222222222222222,
             "#7201a8"
            ],
            [
             0.3333333333333333,
             "#9c179e"
            ],
            [
             0.4444444444444444,
             "#bd3786"
            ],
            [
             0.5555555555555556,
             "#d8576b"
            ],
            [
             0.6666666666666666,
             "#ed7953"
            ],
            [
             0.7777777777777778,
             "#fb9f3a"
            ],
            [
             0.8888888888888888,
             "#fdca26"
            ],
            [
             1,
             "#f0f921"
            ]
           ],
           "sequentialminus": [
            [
             0,
             "#0d0887"
            ],
            [
             0.1111111111111111,
             "#46039f"
            ],
            [
             0.2222222222222222,
             "#7201a8"
            ],
            [
             0.3333333333333333,
             "#9c179e"
            ],
            [
             0.4444444444444444,
             "#bd3786"
            ],
            [
             0.5555555555555556,
             "#d8576b"
            ],
            [
             0.6666666666666666,
             "#ed7953"
            ],
            [
             0.7777777777777778,
             "#fb9f3a"
            ],
            [
             0.8888888888888888,
             "#fdca26"
            ],
            [
             1,
             "#f0f921"
            ]
           ]
          },
          "colorway": [
           "#636efa",
           "#EF553B",
           "#00cc96",
           "#ab63fa",
           "#FFA15A",
           "#19d3f3",
           "#FF6692",
           "#B6E880",
           "#FF97FF",
           "#FECB52"
          ],
          "font": {
           "color": "#2a3f5f"
          },
          "geo": {
           "bgcolor": "white",
           "lakecolor": "white",
           "landcolor": "#E5ECF6",
           "showlakes": true,
           "showland": true,
           "subunitcolor": "white"
          },
          "hoverlabel": {
           "align": "left"
          },
          "hovermode": "closest",
          "mapbox": {
           "style": "light"
          },
          "paper_bgcolor": "white",
          "plot_bgcolor": "#E5ECF6",
          "polar": {
           "angularaxis": {
            "gridcolor": "white",
            "linecolor": "white",
            "ticks": ""
           },
           "bgcolor": "#E5ECF6",
           "radialaxis": {
            "gridcolor": "white",
            "linecolor": "white",
            "ticks": ""
           }
          },
          "scene": {
           "xaxis": {
            "backgroundcolor": "#E5ECF6",
            "gridcolor": "white",
            "gridwidth": 2,
            "linecolor": "white",
            "showbackground": true,
            "ticks": "",
            "zerolinecolor": "white"
           },
           "yaxis": {
            "backgroundcolor": "#E5ECF6",
            "gridcolor": "white",
            "gridwidth": 2,
            "linecolor": "white",
            "showbackground": true,
            "ticks": "",
            "zerolinecolor": "white"
           },
           "zaxis": {
            "backgroundcolor": "#E5ECF6",
            "gridcolor": "white",
            "gridwidth": 2,
            "linecolor": "white",
            "showbackground": true,
            "ticks": "",
            "zerolinecolor": "white"
           }
          },
          "shapedefaults": {
           "line": {
            "color": "#2a3f5f"
           }
          },
          "ternary": {
           "aaxis": {
            "gridcolor": "white",
            "linecolor": "white",
            "ticks": ""
           },
           "baxis": {
            "gridcolor": "white",
            "linecolor": "white",
            "ticks": ""
           },
           "bgcolor": "#E5ECF6",
           "caxis": {
            "gridcolor": "white",
            "linecolor": "white",
            "ticks": ""
           }
          },
          "title": {
           "x": 0.05
          },
          "xaxis": {
           "automargin": true,
           "gridcolor": "white",
           "linecolor": "white",
           "ticks": "",
           "title": {
            "standoff": 15
           },
           "zerolinecolor": "white",
           "zerolinewidth": 2
          },
          "yaxis": {
           "automargin": true,
           "gridcolor": "white",
           "linecolor": "white",
           "ticks": "",
           "title": {
            "standoff": 15
           },
           "zerolinecolor": "white",
           "zerolinewidth": 2
          }
         }
        },
        "title": {
         "text": "Metrics Over Time"
        },
        "xaxis": {
         "title": {
          "text": "Date"
         }
        },
        "yaxis": {
         "title": {
          "text": "Count"
         }
        }
       }
      },
      "text/html": [
       "<div>                            <div id=\"18740c22-0648-4545-b675-db153702c1fb\" class=\"plotly-graph-div\" style=\"height:525px; width:100%;\"></div>            <script type=\"text/javascript\">                require([\"plotly\"], function(Plotly) {                    window.PLOTLYENV=window.PLOTLYENV || {};                                    if (document.getElementById(\"18740c22-0648-4545-b675-db153702c1fb\")) {                    Plotly.newPlot(                        \"18740c22-0648-4545-b675-db153702c1fb\",                        [{\"name\":\"Likes\",\"x\":[0,1,2,3,4,5,6,7,8,9,10,11,12,13,14,15,16,17,18,19,20,21,22,23,24,25,26,27,28,29,30,31,32,33,34,35,36,37,38,39,40,41,42,43,44,45,46,47,48,49,50,51,52,53,54,55,56,57,58,59,60,61,62,63,64,65,66,67,68,69,70,71,72,73,74,75,76,77,78,79,80,81,82,83,84,85,86,87,88,89,90,91,92,93,94,95,96,97,98,99,100,101,102,103,104,105,106,107,108,109,110,111,112,113,114,115,116,117,118],\"y\":[162,224,131,213,123,144,76,124,159,191,81,151,162,142,294,159,205,121,151,72,76,91,195,129,160,175,147,114,151,92,214,150,122,152,196,86,85,156,72,82,416,180,150,127,167,225,137,114,263,328,126,236,99,212,297,142,186,112,149,132,115,248,178,107,269,96,134,301,187,94,114,96,138,122,257,95,244,190,118,178,170,250,159,205,121,151,72,137,114,263,328,126,129,160,175,147,114,151,92,275,192,203,145,168,194,250,171,416,249,308,163,86,210,172,373,148,92,549,443],\"type\":\"scatter\"},{\"name\":\"Saves\",\"x\":[0,1,2,3,4,5,6,7,8,9,10,11,12,13,14,15,16,17,18,19,20,21,22,23,24,25,26,27,28,29,30,31,32,33,34,35,36,37,38,39,40,41,42,43,44,45,46,47,48,49,50,51,52,53,54,55,56,57,58,59,60,61,62,63,64,65,66,67,68,69,70,71,72,73,74,75,76,77,78,79,80,81,82,83,84,85,86,87,88,89,90,91,92,93,94,95,96,97,98,99,100,101,102,103,104,105,106,107,108,109,110,111,112,113,114,115,116,117,118],\"y\":[98,194,41,172,96,74,22,135,155,122,28,122,119,121,100,101,111,106,82,40,49,72,167,63,144,135,61,40,139,52,84,81,79,105,90,34,45,98,35,49,252,167,111,90,144,263,137,67,288,668,42,342,48,250,219,118,143,99,89,148,42,171,109,38,421,38,116,225,144,51,104,33,174,46,179,34,99,174,70,149,207,318,101,111,106,82,40,137,67,288,668,42,63,144,135,61,40,139,52,393,152,83,74,94,188,214,73,285,469,504,149,55,273,182,573,135,36,1095,653],\"type\":\"scatter\"},{\"name\":\"Follows\",\"x\":[0,1,2,3,4,5,6,7,8,9,10,11,12,13,14,15,16,17,18,19,20,21,22,23,24,25,26,27,28,29,30,31,32,33,34,35,36,37,38,39,40,41,42,43,44,45,46,47,48,49,50,51,52,53,54,55,56,57,58,59,60,61,62,63,64,65,66,67,68,69,70,71,72,73,74,75,76,77,78,79,80,81,82,83,84,85,86,87,88,89,90,91,92,93,94,95,96,97,98,99,100,101,102,103,104,105,106,107,108,109,110,111,112,113,114,115,116,117,118],\"y\":[2,10,12,8,0,2,0,6,4,6,4,0,2,4,42,6,2,2,30,0,0,24,100,2,4,6,6,6,2,2,20,2,4,8,26,2,2,4,0,2,94,8,18,10,4,4,4,4,18,38,10,12,4,4,74,0,6,6,0,6,12,10,8,8,46,12,10,94,6,10,6,4,12,16,12,8,32,8,16,6,10,10,6,2,2,30,0,4,4,18,38,10,2,4,6,6,6,2,2,14,8,14,28,18,12,34,26,260,16,96,20,30,58,100,80,18,10,214,228],\"type\":\"scatter\"}],                        {\"template\":{\"data\":{\"histogram2dcontour\":[{\"type\":\"histogram2dcontour\",\"colorbar\":{\"outlinewidth\":0,\"ticks\":\"\"},\"colorscale\":[[0.0,\"#0d0887\"],[0.1111111111111111,\"#46039f\"],[0.2222222222222222,\"#7201a8\"],[0.3333333333333333,\"#9c179e\"],[0.4444444444444444,\"#bd3786\"],[0.5555555555555556,\"#d8576b\"],[0.6666666666666666,\"#ed7953\"],[0.7777777777777778,\"#fb9f3a\"],[0.8888888888888888,\"#fdca26\"],[1.0,\"#f0f921\"]]}],\"choropleth\":[{\"type\":\"choropleth\",\"colorbar\":{\"outlinewidth\":0,\"ticks\":\"\"}}],\"histogram2d\":[{\"type\":\"histogram2d\",\"colorbar\":{\"outlinewidth\":0,\"ticks\":\"\"},\"colorscale\":[[0.0,\"#0d0887\"],[0.1111111111111111,\"#46039f\"],[0.2222222222222222,\"#7201a8\"],[0.3333333333333333,\"#9c179e\"],[0.4444444444444444,\"#bd3786\"],[0.5555555555555556,\"#d8576b\"],[0.6666666666666666,\"#ed7953\"],[0.7777777777777778,\"#fb9f3a\"],[0.8888888888888888,\"#fdca26\"],[1.0,\"#f0f921\"]]}],\"heatmap\":[{\"type\":\"heatmap\",\"colorbar\":{\"outlinewidth\":0,\"ticks\":\"\"},\"colorscale\":[[0.0,\"#0d0887\"],[0.1111111111111111,\"#46039f\"],[0.2222222222222222,\"#7201a8\"],[0.3333333333333333,\"#9c179e\"],[0.4444444444444444,\"#bd3786\"],[0.5555555555555556,\"#d8576b\"],[0.6666666666666666,\"#ed7953\"],[0.7777777777777778,\"#fb9f3a\"],[0.8888888888888888,\"#fdca26\"],[1.0,\"#f0f921\"]]}],\"heatmapgl\":[{\"type\":\"heatmapgl\",\"colorbar\":{\"outlinewidth\":0,\"ticks\":\"\"},\"colorscale\":[[0.0,\"#0d0887\"],[0.1111111111111111,\"#46039f\"],[0.2222222222222222,\"#7201a8\"],[0.3333333333333333,\"#9c179e\"],[0.4444444444444444,\"#bd3786\"],[0.5555555555555556,\"#d8576b\"],[0.6666666666666666,\"#ed7953\"],[0.7777777777777778,\"#fb9f3a\"],[0.8888888888888888,\"#fdca26\"],[1.0,\"#f0f921\"]]}],\"contourcarpet\":[{\"type\":\"contourcarpet\",\"colorbar\":{\"outlinewidth\":0,\"ticks\":\"\"}}],\"contour\":[{\"type\":\"contour\",\"colorbar\":{\"outlinewidth\":0,\"ticks\":\"\"},\"colorscale\":[[0.0,\"#0d0887\"],[0.1111111111111111,\"#46039f\"],[0.2222222222222222,\"#7201a8\"],[0.3333333333333333,\"#9c179e\"],[0.4444444444444444,\"#bd3786\"],[0.5555555555555556,\"#d8576b\"],[0.6666666666666666,\"#ed7953\"],[0.7777777777777778,\"#fb9f3a\"],[0.8888888888888888,\"#fdca26\"],[1.0,\"#f0f921\"]]}],\"surface\":[{\"type\":\"surface\",\"colorbar\":{\"outlinewidth\":0,\"ticks\":\"\"},\"colorscale\":[[0.0,\"#0d0887\"],[0.1111111111111111,\"#46039f\"],[0.2222222222222222,\"#7201a8\"],[0.3333333333333333,\"#9c179e\"],[0.4444444444444444,\"#bd3786\"],[0.5555555555555556,\"#d8576b\"],[0.6666666666666666,\"#ed7953\"],[0.7777777777777778,\"#fb9f3a\"],[0.8888888888888888,\"#fdca26\"],[1.0,\"#f0f921\"]]}],\"mesh3d\":[{\"type\":\"mesh3d\",\"colorbar\":{\"outlinewidth\":0,\"ticks\":\"\"}}],\"scatter\":[{\"fillpattern\":{\"fillmode\":\"overlay\",\"size\":10,\"solidity\":0.2},\"type\":\"scatter\"}],\"parcoords\":[{\"type\":\"parcoords\",\"line\":{\"colorbar\":{\"outlinewidth\":0,\"ticks\":\"\"}}}],\"scatterpolargl\":[{\"type\":\"scatterpolargl\",\"marker\":{\"colorbar\":{\"outlinewidth\":0,\"ticks\":\"\"}}}],\"bar\":[{\"error_x\":{\"color\":\"#2a3f5f\"},\"error_y\":{\"color\":\"#2a3f5f\"},\"marker\":{\"line\":{\"color\":\"#E5ECF6\",\"width\":0.5},\"pattern\":{\"fillmode\":\"overlay\",\"size\":10,\"solidity\":0.2}},\"type\":\"bar\"}],\"scattergeo\":[{\"type\":\"scattergeo\",\"marker\":{\"colorbar\":{\"outlinewidth\":0,\"ticks\":\"\"}}}],\"scatterpolar\":[{\"type\":\"scatterpolar\",\"marker\":{\"colorbar\":{\"outlinewidth\":0,\"ticks\":\"\"}}}],\"histogram\":[{\"marker\":{\"pattern\":{\"fillmode\":\"overlay\",\"size\":10,\"solidity\":0.2}},\"type\":\"histogram\"}],\"scattergl\":[{\"type\":\"scattergl\",\"marker\":{\"colorbar\":{\"outlinewidth\":0,\"ticks\":\"\"}}}],\"scatter3d\":[{\"type\":\"scatter3d\",\"line\":{\"colorbar\":{\"outlinewidth\":0,\"ticks\":\"\"}},\"marker\":{\"colorbar\":{\"outlinewidth\":0,\"ticks\":\"\"}}}],\"scattermapbox\":[{\"type\":\"scattermapbox\",\"marker\":{\"colorbar\":{\"outlinewidth\":0,\"ticks\":\"\"}}}],\"scatterternary\":[{\"type\":\"scatterternary\",\"marker\":{\"colorbar\":{\"outlinewidth\":0,\"ticks\":\"\"}}}],\"scattercarpet\":[{\"type\":\"scattercarpet\",\"marker\":{\"colorbar\":{\"outlinewidth\":0,\"ticks\":\"\"}}}],\"carpet\":[{\"aaxis\":{\"endlinecolor\":\"#2a3f5f\",\"gridcolor\":\"white\",\"linecolor\":\"white\",\"minorgridcolor\":\"white\",\"startlinecolor\":\"#2a3f5f\"},\"baxis\":{\"endlinecolor\":\"#2a3f5f\",\"gridcolor\":\"white\",\"linecolor\":\"white\",\"minorgridcolor\":\"white\",\"startlinecolor\":\"#2a3f5f\"},\"type\":\"carpet\"}],\"table\":[{\"cells\":{\"fill\":{\"color\":\"#EBF0F8\"},\"line\":{\"color\":\"white\"}},\"header\":{\"fill\":{\"color\":\"#C8D4E3\"},\"line\":{\"color\":\"white\"}},\"type\":\"table\"}],\"barpolar\":[{\"marker\":{\"line\":{\"color\":\"#E5ECF6\",\"width\":0.5},\"pattern\":{\"fillmode\":\"overlay\",\"size\":10,\"solidity\":0.2}},\"type\":\"barpolar\"}],\"pie\":[{\"automargin\":true,\"type\":\"pie\"}]},\"layout\":{\"autotypenumbers\":\"strict\",\"colorway\":[\"#636efa\",\"#EF553B\",\"#00cc96\",\"#ab63fa\",\"#FFA15A\",\"#19d3f3\",\"#FF6692\",\"#B6E880\",\"#FF97FF\",\"#FECB52\"],\"font\":{\"color\":\"#2a3f5f\"},\"hovermode\":\"closest\",\"hoverlabel\":{\"align\":\"left\"},\"paper_bgcolor\":\"white\",\"plot_bgcolor\":\"#E5ECF6\",\"polar\":{\"bgcolor\":\"#E5ECF6\",\"angularaxis\":{\"gridcolor\":\"white\",\"linecolor\":\"white\",\"ticks\":\"\"},\"radialaxis\":{\"gridcolor\":\"white\",\"linecolor\":\"white\",\"ticks\":\"\"}},\"ternary\":{\"bgcolor\":\"#E5ECF6\",\"aaxis\":{\"gridcolor\":\"white\",\"linecolor\":\"white\",\"ticks\":\"\"},\"baxis\":{\"gridcolor\":\"white\",\"linecolor\":\"white\",\"ticks\":\"\"},\"caxis\":{\"gridcolor\":\"white\",\"linecolor\":\"white\",\"ticks\":\"\"}},\"coloraxis\":{\"colorbar\":{\"outlinewidth\":0,\"ticks\":\"\"}},\"colorscale\":{\"sequential\":[[0.0,\"#0d0887\"],[0.1111111111111111,\"#46039f\"],[0.2222222222222222,\"#7201a8\"],[0.3333333333333333,\"#9c179e\"],[0.4444444444444444,\"#bd3786\"],[0.5555555555555556,\"#d8576b\"],[0.6666666666666666,\"#ed7953\"],[0.7777777777777778,\"#fb9f3a\"],[0.8888888888888888,\"#fdca26\"],[1.0,\"#f0f921\"]],\"sequentialminus\":[[0.0,\"#0d0887\"],[0.1111111111111111,\"#46039f\"],[0.2222222222222222,\"#7201a8\"],[0.3333333333333333,\"#9c179e\"],[0.4444444444444444,\"#bd3786\"],[0.5555555555555556,\"#d8576b\"],[0.6666666666666666,\"#ed7953\"],[0.7777777777777778,\"#fb9f3a\"],[0.8888888888888888,\"#fdca26\"],[1.0,\"#f0f921\"]],\"diverging\":[[0,\"#8e0152\"],[0.1,\"#c51b7d\"],[0.2,\"#de77ae\"],[0.3,\"#f1b6da\"],[0.4,\"#fde0ef\"],[0.5,\"#f7f7f7\"],[0.6,\"#e6f5d0\"],[0.7,\"#b8e186\"],[0.8,\"#7fbc41\"],[0.9,\"#4d9221\"],[1,\"#276419\"]]},\"xaxis\":{\"gridcolor\":\"white\",\"linecolor\":\"white\",\"ticks\":\"\",\"title\":{\"standoff\":15},\"zerolinecolor\":\"white\",\"automargin\":true,\"zerolinewidth\":2},\"yaxis\":{\"gridcolor\":\"white\",\"linecolor\":\"white\",\"ticks\":\"\",\"title\":{\"standoff\":15},\"zerolinecolor\":\"white\",\"automargin\":true,\"zerolinewidth\":2},\"scene\":{\"xaxis\":{\"backgroundcolor\":\"#E5ECF6\",\"gridcolor\":\"white\",\"linecolor\":\"white\",\"showbackground\":true,\"ticks\":\"\",\"zerolinecolor\":\"white\",\"gridwidth\":2},\"yaxis\":{\"backgroundcolor\":\"#E5ECF6\",\"gridcolor\":\"white\",\"linecolor\":\"white\",\"showbackground\":true,\"ticks\":\"\",\"zerolinecolor\":\"white\",\"gridwidth\":2},\"zaxis\":{\"backgroundcolor\":\"#E5ECF6\",\"gridcolor\":\"white\",\"linecolor\":\"white\",\"showbackground\":true,\"ticks\":\"\",\"zerolinecolor\":\"white\",\"gridwidth\":2}},\"shapedefaults\":{\"line\":{\"color\":\"#2a3f5f\"}},\"annotationdefaults\":{\"arrowcolor\":\"#2a3f5f\",\"arrowhead\":0,\"arrowwidth\":1},\"geo\":{\"bgcolor\":\"white\",\"landcolor\":\"#E5ECF6\",\"subunitcolor\":\"white\",\"showland\":true,\"showlakes\":true,\"lakecolor\":\"white\"},\"title\":{\"x\":0.05},\"mapbox\":{\"style\":\"light\"}}},\"title\":{\"text\":\"Metrics Over Time\"},\"xaxis\":{\"title\":{\"text\":\"Date\"}},\"yaxis\":{\"title\":{\"text\":\"Count\"}}},                        {\"responsive\": true}                    ).then(function(){\n",
       "                            \n",
       "var gd = document.getElementById('18740c22-0648-4545-b675-db153702c1fb');\n",
       "var x = new MutationObserver(function (mutations, observer) {{\n",
       "        var display = window.getComputedStyle(gd).display;\n",
       "        if (!display || display === 'none') {{\n",
       "            console.log([gd, 'removed!']);\n",
       "            Plotly.purge(gd);\n",
       "            observer.disconnect();\n",
       "        }}\n",
       "}});\n",
       "\n",
       "// Listen for the removal of the full notebook cells\n",
       "var notebookContainer = gd.closest('#notebook-container');\n",
       "if (notebookContainer) {{\n",
       "    x.observe(notebookContainer, {childList: true});\n",
       "}}\n",
       "\n",
       "// Listen for the clearing of the current output cell\n",
       "var outputEl = gd.closest('.output');\n",
       "if (outputEl) {{\n",
       "    x.observe(outputEl, {childList: true});\n",
       "}}\n",
       "\n",
       "                        })                };                });            </script>        </div>"
      ]
     },
     "metadata": {},
     "output_type": "display_data"
    }
   ],
   "source": [
    "fig = go.Figure()\n",
    "\n",
    "fig.add_trace(go.Scatter(x=df.index, y=df['Likes'], name='Likes'))\n",
    "fig.add_trace(go.Scatter(x=df.index, y=df['Saves'], name='Saves'))\n",
    "fig.add_trace(go.Scatter(x=df.index, y=df['Follows'], name='Follows'))\n",
    "\n",
    "fig.update_layout(title='Metrics Over Time',\n",
    "                  xaxis_title='Date',\n",
    "                  yaxis_title='Count')\n",
    "\n",
    "fig.show()"
   ]
  },
  {
   "cell_type": "code",
   "execution_count": 26,
   "id": "c95719d0",
   "metadata": {},
   "outputs": [
    {
     "data": {
      "application/vnd.plotly.v1+json": {
       "config": {
        "plotlyServerURL": "https://plot.ly"
       },
       "data": [
        {
         "domain": {
          "x": [
           0,
           1
          ],
          "y": [
           0,
           1
          ]
         },
         "hovertemplate": "label=%{label}<br>value=%{value}<extra></extra>",
         "labels": [
          "From Home",
          "From Hashtags",
          "From Explore",
          "From Other"
         ],
         "legendgroup": "",
         "name": "",
         "showlegend": true,
         "type": "pie",
         "values": [
          294619,
          224614,
          128294,
          20360
         ]
        }
       ],
       "layout": {
        "legend": {
         "tracegroupgap": 0
        },
        "piecolorway": [
         "#FFB6C1",
         "#87CEFA",
         "#90EE90",
         "#FFDAB9"
        ],
        "template": {
         "data": {
          "bar": [
           {
            "error_x": {
             "color": "#2a3f5f"
            },
            "error_y": {
             "color": "#2a3f5f"
            },
            "marker": {
             "line": {
              "color": "#E5ECF6",
              "width": 0.5
             },
             "pattern": {
              "fillmode": "overlay",
              "size": 10,
              "solidity": 0.2
             }
            },
            "type": "bar"
           }
          ],
          "barpolar": [
           {
            "marker": {
             "line": {
              "color": "#E5ECF6",
              "width": 0.5
             },
             "pattern": {
              "fillmode": "overlay",
              "size": 10,
              "solidity": 0.2
             }
            },
            "type": "barpolar"
           }
          ],
          "carpet": [
           {
            "aaxis": {
             "endlinecolor": "#2a3f5f",
             "gridcolor": "white",
             "linecolor": "white",
             "minorgridcolor": "white",
             "startlinecolor": "#2a3f5f"
            },
            "baxis": {
             "endlinecolor": "#2a3f5f",
             "gridcolor": "white",
             "linecolor": "white",
             "minorgridcolor": "white",
             "startlinecolor": "#2a3f5f"
            },
            "type": "carpet"
           }
          ],
          "choropleth": [
           {
            "colorbar": {
             "outlinewidth": 0,
             "ticks": ""
            },
            "type": "choropleth"
           }
          ],
          "contour": [
           {
            "colorbar": {
             "outlinewidth": 0,
             "ticks": ""
            },
            "colorscale": [
             [
              0,
              "#0d0887"
             ],
             [
              0.1111111111111111,
              "#46039f"
             ],
             [
              0.2222222222222222,
              "#7201a8"
             ],
             [
              0.3333333333333333,
              "#9c179e"
             ],
             [
              0.4444444444444444,
              "#bd3786"
             ],
             [
              0.5555555555555556,
              "#d8576b"
             ],
             [
              0.6666666666666666,
              "#ed7953"
             ],
             [
              0.7777777777777778,
              "#fb9f3a"
             ],
             [
              0.8888888888888888,
              "#fdca26"
             ],
             [
              1,
              "#f0f921"
             ]
            ],
            "type": "contour"
           }
          ],
          "contourcarpet": [
           {
            "colorbar": {
             "outlinewidth": 0,
             "ticks": ""
            },
            "type": "contourcarpet"
           }
          ],
          "heatmap": [
           {
            "colorbar": {
             "outlinewidth": 0,
             "ticks": ""
            },
            "colorscale": [
             [
              0,
              "#0d0887"
             ],
             [
              0.1111111111111111,
              "#46039f"
             ],
             [
              0.2222222222222222,
              "#7201a8"
             ],
             [
              0.3333333333333333,
              "#9c179e"
             ],
             [
              0.4444444444444444,
              "#bd3786"
             ],
             [
              0.5555555555555556,
              "#d8576b"
             ],
             [
              0.6666666666666666,
              "#ed7953"
             ],
             [
              0.7777777777777778,
              "#fb9f3a"
             ],
             [
              0.8888888888888888,
              "#fdca26"
             ],
             [
              1,
              "#f0f921"
             ]
            ],
            "type": "heatmap"
           }
          ],
          "heatmapgl": [
           {
            "colorbar": {
             "outlinewidth": 0,
             "ticks": ""
            },
            "colorscale": [
             [
              0,
              "#0d0887"
             ],
             [
              0.1111111111111111,
              "#46039f"
             ],
             [
              0.2222222222222222,
              "#7201a8"
             ],
             [
              0.3333333333333333,
              "#9c179e"
             ],
             [
              0.4444444444444444,
              "#bd3786"
             ],
             [
              0.5555555555555556,
              "#d8576b"
             ],
             [
              0.6666666666666666,
              "#ed7953"
             ],
             [
              0.7777777777777778,
              "#fb9f3a"
             ],
             [
              0.8888888888888888,
              "#fdca26"
             ],
             [
              1,
              "#f0f921"
             ]
            ],
            "type": "heatmapgl"
           }
          ],
          "histogram": [
           {
            "marker": {
             "pattern": {
              "fillmode": "overlay",
              "size": 10,
              "solidity": 0.2
             }
            },
            "type": "histogram"
           }
          ],
          "histogram2d": [
           {
            "colorbar": {
             "outlinewidth": 0,
             "ticks": ""
            },
            "colorscale": [
             [
              0,
              "#0d0887"
             ],
             [
              0.1111111111111111,
              "#46039f"
             ],
             [
              0.2222222222222222,
              "#7201a8"
             ],
             [
              0.3333333333333333,
              "#9c179e"
             ],
             [
              0.4444444444444444,
              "#bd3786"
             ],
             [
              0.5555555555555556,
              "#d8576b"
             ],
             [
              0.6666666666666666,
              "#ed7953"
             ],
             [
              0.7777777777777778,
              "#fb9f3a"
             ],
             [
              0.8888888888888888,
              "#fdca26"
             ],
             [
              1,
              "#f0f921"
             ]
            ],
            "type": "histogram2d"
           }
          ],
          "histogram2dcontour": [
           {
            "colorbar": {
             "outlinewidth": 0,
             "ticks": ""
            },
            "colorscale": [
             [
              0,
              "#0d0887"
             ],
             [
              0.1111111111111111,
              "#46039f"
             ],
             [
              0.2222222222222222,
              "#7201a8"
             ],
             [
              0.3333333333333333,
              "#9c179e"
             ],
             [
              0.4444444444444444,
              "#bd3786"
             ],
             [
              0.5555555555555556,
              "#d8576b"
             ],
             [
              0.6666666666666666,
              "#ed7953"
             ],
             [
              0.7777777777777778,
              "#fb9f3a"
             ],
             [
              0.8888888888888888,
              "#fdca26"
             ],
             [
              1,
              "#f0f921"
             ]
            ],
            "type": "histogram2dcontour"
           }
          ],
          "mesh3d": [
           {
            "colorbar": {
             "outlinewidth": 0,
             "ticks": ""
            },
            "type": "mesh3d"
           }
          ],
          "parcoords": [
           {
            "line": {
             "colorbar": {
              "outlinewidth": 0,
              "ticks": ""
             }
            },
            "type": "parcoords"
           }
          ],
          "pie": [
           {
            "automargin": true,
            "type": "pie"
           }
          ],
          "scatter": [
           {
            "fillpattern": {
             "fillmode": "overlay",
             "size": 10,
             "solidity": 0.2
            },
            "type": "scatter"
           }
          ],
          "scatter3d": [
           {
            "line": {
             "colorbar": {
              "outlinewidth": 0,
              "ticks": ""
             }
            },
            "marker": {
             "colorbar": {
              "outlinewidth": 0,
              "ticks": ""
             }
            },
            "type": "scatter3d"
           }
          ],
          "scattercarpet": [
           {
            "marker": {
             "colorbar": {
              "outlinewidth": 0,
              "ticks": ""
             }
            },
            "type": "scattercarpet"
           }
          ],
          "scattergeo": [
           {
            "marker": {
             "colorbar": {
              "outlinewidth": 0,
              "ticks": ""
             }
            },
            "type": "scattergeo"
           }
          ],
          "scattergl": [
           {
            "marker": {
             "colorbar": {
              "outlinewidth": 0,
              "ticks": ""
             }
            },
            "type": "scattergl"
           }
          ],
          "scattermapbox": [
           {
            "marker": {
             "colorbar": {
              "outlinewidth": 0,
              "ticks": ""
             }
            },
            "type": "scattermapbox"
           }
          ],
          "scatterpolar": [
           {
            "marker": {
             "colorbar": {
              "outlinewidth": 0,
              "ticks": ""
             }
            },
            "type": "scatterpolar"
           }
          ],
          "scatterpolargl": [
           {
            "marker": {
             "colorbar": {
              "outlinewidth": 0,
              "ticks": ""
             }
            },
            "type": "scatterpolargl"
           }
          ],
          "scatterternary": [
           {
            "marker": {
             "colorbar": {
              "outlinewidth": 0,
              "ticks": ""
             }
            },
            "type": "scatterternary"
           }
          ],
          "surface": [
           {
            "colorbar": {
             "outlinewidth": 0,
             "ticks": ""
            },
            "colorscale": [
             [
              0,
              "#0d0887"
             ],
             [
              0.1111111111111111,
              "#46039f"
             ],
             [
              0.2222222222222222,
              "#7201a8"
             ],
             [
              0.3333333333333333,
              "#9c179e"
             ],
             [
              0.4444444444444444,
              "#bd3786"
             ],
             [
              0.5555555555555556,
              "#d8576b"
             ],
             [
              0.6666666666666666,
              "#ed7953"
             ],
             [
              0.7777777777777778,
              "#fb9f3a"
             ],
             [
              0.8888888888888888,
              "#fdca26"
             ],
             [
              1,
              "#f0f921"
             ]
            ],
            "type": "surface"
           }
          ],
          "table": [
           {
            "cells": {
             "fill": {
              "color": "#EBF0F8"
             },
             "line": {
              "color": "white"
             }
            },
            "header": {
             "fill": {
              "color": "#C8D4E3"
             },
             "line": {
              "color": "white"
             }
            },
            "type": "table"
           }
          ]
         },
         "layout": {
          "annotationdefaults": {
           "arrowcolor": "#2a3f5f",
           "arrowhead": 0,
           "arrowwidth": 1
          },
          "autotypenumbers": "strict",
          "coloraxis": {
           "colorbar": {
            "outlinewidth": 0,
            "ticks": ""
           }
          },
          "colorscale": {
           "diverging": [
            [
             0,
             "#8e0152"
            ],
            [
             0.1,
             "#c51b7d"
            ],
            [
             0.2,
             "#de77ae"
            ],
            [
             0.3,
             "#f1b6da"
            ],
            [
             0.4,
             "#fde0ef"
            ],
            [
             0.5,
             "#f7f7f7"
            ],
            [
             0.6,
             "#e6f5d0"
            ],
            [
             0.7,
             "#b8e186"
            ],
            [
             0.8,
             "#7fbc41"
            ],
            [
             0.9,
             "#4d9221"
            ],
            [
             1,
             "#276419"
            ]
           ],
           "sequential": [
            [
             0,
             "#0d0887"
            ],
            [
             0.1111111111111111,
             "#46039f"
            ],
            [
             0.2222222222222222,
             "#7201a8"
            ],
            [
             0.3333333333333333,
             "#9c179e"
            ],
            [
             0.4444444444444444,
             "#bd3786"
            ],
            [
             0.5555555555555556,
             "#d8576b"
            ],
            [
             0.6666666666666666,
             "#ed7953"
            ],
            [
             0.7777777777777778,
             "#fb9f3a"
            ],
            [
             0.8888888888888888,
             "#fdca26"
            ],
            [
             1,
             "#f0f921"
            ]
           ],
           "sequentialminus": [
            [
             0,
             "#0d0887"
            ],
            [
             0.1111111111111111,
             "#46039f"
            ],
            [
             0.2222222222222222,
             "#7201a8"
            ],
            [
             0.3333333333333333,
             "#9c179e"
            ],
            [
             0.4444444444444444,
             "#bd3786"
            ],
            [
             0.5555555555555556,
             "#d8576b"
            ],
            [
             0.6666666666666666,
             "#ed7953"
            ],
            [
             0.7777777777777778,
             "#fb9f3a"
            ],
            [
             0.8888888888888888,
             "#fdca26"
            ],
            [
             1,
             "#f0f921"
            ]
           ]
          },
          "colorway": [
           "#636efa",
           "#EF553B",
           "#00cc96",
           "#ab63fa",
           "#FFA15A",
           "#19d3f3",
           "#FF6692",
           "#B6E880",
           "#FF97FF",
           "#FECB52"
          ],
          "font": {
           "color": "#2a3f5f"
          },
          "geo": {
           "bgcolor": "white",
           "lakecolor": "white",
           "landcolor": "#E5ECF6",
           "showlakes": true,
           "showland": true,
           "subunitcolor": "white"
          },
          "hoverlabel": {
           "align": "left"
          },
          "hovermode": "closest",
          "mapbox": {
           "style": "light"
          },
          "paper_bgcolor": "white",
          "plot_bgcolor": "#E5ECF6",
          "polar": {
           "angularaxis": {
            "gridcolor": "white",
            "linecolor": "white",
            "ticks": ""
           },
           "bgcolor": "#E5ECF6",
           "radialaxis": {
            "gridcolor": "white",
            "linecolor": "white",
            "ticks": ""
           }
          },
          "scene": {
           "xaxis": {
            "backgroundcolor": "#E5ECF6",
            "gridcolor": "white",
            "gridwidth": 2,
            "linecolor": "white",
            "showbackground": true,
            "ticks": "",
            "zerolinecolor": "white"
           },
           "yaxis": {
            "backgroundcolor": "#E5ECF6",
            "gridcolor": "white",
            "gridwidth": 2,
            "linecolor": "white",
            "showbackground": true,
            "ticks": "",
            "zerolinecolor": "white"
           },
           "zaxis": {
            "backgroundcolor": "#E5ECF6",
            "gridcolor": "white",
            "gridwidth": 2,
            "linecolor": "white",
            "showbackground": true,
            "ticks": "",
            "zerolinecolor": "white"
           }
          },
          "shapedefaults": {
           "line": {
            "color": "#2a3f5f"
           }
          },
          "ternary": {
           "aaxis": {
            "gridcolor": "white",
            "linecolor": "white",
            "ticks": ""
           },
           "baxis": {
            "gridcolor": "white",
            "linecolor": "white",
            "ticks": ""
           },
           "bgcolor": "#E5ECF6",
           "caxis": {
            "gridcolor": "white",
            "linecolor": "white",
            "ticks": ""
           }
          },
          "title": {
           "x": 0.05
          },
          "xaxis": {
           "automargin": true,
           "gridcolor": "white",
           "linecolor": "white",
           "ticks": "",
           "title": {
            "standoff": 15
           },
           "zerolinecolor": "white",
           "zerolinewidth": 2
          },
          "yaxis": {
           "automargin": true,
           "gridcolor": "white",
           "linecolor": "white",
           "ticks": "",
           "title": {
            "standoff": 15
           },
           "zerolinecolor": "white",
           "zerolinewidth": 2
          }
         }
        },
        "title": {
         "text": "Reach from Different Sources"
        }
       }
      },
      "text/html": [
       "<div>                            <div id=\"959f401b-dff9-4f33-9c18-97d26c0db5b8\" class=\"plotly-graph-div\" style=\"height:525px; width:100%;\"></div>            <script type=\"text/javascript\">                require([\"plotly\"], function(Plotly) {                    window.PLOTLYENV=window.PLOTLYENV || {};                                    if (document.getElementById(\"959f401b-dff9-4f33-9c18-97d26c0db5b8\")) {                    Plotly.newPlot(                        \"959f401b-dff9-4f33-9c18-97d26c0db5b8\",                        [{\"domain\":{\"x\":[0.0,1.0],\"y\":[0.0,1.0]},\"hovertemplate\":\"label=%{label}<br>value=%{value}<extra></extra>\",\"labels\":[\"From Home\",\"From Hashtags\",\"From Explore\",\"From Other\"],\"legendgroup\":\"\",\"name\":\"\",\"showlegend\":true,\"values\":[294619,224614,128294,20360],\"type\":\"pie\"}],                        {\"template\":{\"data\":{\"histogram2dcontour\":[{\"type\":\"histogram2dcontour\",\"colorbar\":{\"outlinewidth\":0,\"ticks\":\"\"},\"colorscale\":[[0.0,\"#0d0887\"],[0.1111111111111111,\"#46039f\"],[0.2222222222222222,\"#7201a8\"],[0.3333333333333333,\"#9c179e\"],[0.4444444444444444,\"#bd3786\"],[0.5555555555555556,\"#d8576b\"],[0.6666666666666666,\"#ed7953\"],[0.7777777777777778,\"#fb9f3a\"],[0.8888888888888888,\"#fdca26\"],[1.0,\"#f0f921\"]]}],\"choropleth\":[{\"type\":\"choropleth\",\"colorbar\":{\"outlinewidth\":0,\"ticks\":\"\"}}],\"histogram2d\":[{\"type\":\"histogram2d\",\"colorbar\":{\"outlinewidth\":0,\"ticks\":\"\"},\"colorscale\":[[0.0,\"#0d0887\"],[0.1111111111111111,\"#46039f\"],[0.2222222222222222,\"#7201a8\"],[0.3333333333333333,\"#9c179e\"],[0.4444444444444444,\"#bd3786\"],[0.5555555555555556,\"#d8576b\"],[0.6666666666666666,\"#ed7953\"],[0.7777777777777778,\"#fb9f3a\"],[0.8888888888888888,\"#fdca26\"],[1.0,\"#f0f921\"]]}],\"heatmap\":[{\"type\":\"heatmap\",\"colorbar\":{\"outlinewidth\":0,\"ticks\":\"\"},\"colorscale\":[[0.0,\"#0d0887\"],[0.1111111111111111,\"#46039f\"],[0.2222222222222222,\"#7201a8\"],[0.3333333333333333,\"#9c179e\"],[0.4444444444444444,\"#bd3786\"],[0.5555555555555556,\"#d8576b\"],[0.6666666666666666,\"#ed7953\"],[0.7777777777777778,\"#fb9f3a\"],[0.8888888888888888,\"#fdca26\"],[1.0,\"#f0f921\"]]}],\"heatmapgl\":[{\"type\":\"heatmapgl\",\"colorbar\":{\"outlinewidth\":0,\"ticks\":\"\"},\"colorscale\":[[0.0,\"#0d0887\"],[0.1111111111111111,\"#46039f\"],[0.2222222222222222,\"#7201a8\"],[0.3333333333333333,\"#9c179e\"],[0.4444444444444444,\"#bd3786\"],[0.5555555555555556,\"#d8576b\"],[0.6666666666666666,\"#ed7953\"],[0.7777777777777778,\"#fb9f3a\"],[0.8888888888888888,\"#fdca26\"],[1.0,\"#f0f921\"]]}],\"contourcarpet\":[{\"type\":\"contourcarpet\",\"colorbar\":{\"outlinewidth\":0,\"ticks\":\"\"}}],\"contour\":[{\"type\":\"contour\",\"colorbar\":{\"outlinewidth\":0,\"ticks\":\"\"},\"colorscale\":[[0.0,\"#0d0887\"],[0.1111111111111111,\"#46039f\"],[0.2222222222222222,\"#7201a8\"],[0.3333333333333333,\"#9c179e\"],[0.4444444444444444,\"#bd3786\"],[0.5555555555555556,\"#d8576b\"],[0.6666666666666666,\"#ed7953\"],[0.7777777777777778,\"#fb9f3a\"],[0.8888888888888888,\"#fdca26\"],[1.0,\"#f0f921\"]]}],\"surface\":[{\"type\":\"surface\",\"colorbar\":{\"outlinewidth\":0,\"ticks\":\"\"},\"colorscale\":[[0.0,\"#0d0887\"],[0.1111111111111111,\"#46039f\"],[0.2222222222222222,\"#7201a8\"],[0.3333333333333333,\"#9c179e\"],[0.4444444444444444,\"#bd3786\"],[0.5555555555555556,\"#d8576b\"],[0.6666666666666666,\"#ed7953\"],[0.7777777777777778,\"#fb9f3a\"],[0.8888888888888888,\"#fdca26\"],[1.0,\"#f0f921\"]]}],\"mesh3d\":[{\"type\":\"mesh3d\",\"colorbar\":{\"outlinewidth\":0,\"ticks\":\"\"}}],\"scatter\":[{\"fillpattern\":{\"fillmode\":\"overlay\",\"size\":10,\"solidity\":0.2},\"type\":\"scatter\"}],\"parcoords\":[{\"type\":\"parcoords\",\"line\":{\"colorbar\":{\"outlinewidth\":0,\"ticks\":\"\"}}}],\"scatterpolargl\":[{\"type\":\"scatterpolargl\",\"marker\":{\"colorbar\":{\"outlinewidth\":0,\"ticks\":\"\"}}}],\"bar\":[{\"error_x\":{\"color\":\"#2a3f5f\"},\"error_y\":{\"color\":\"#2a3f5f\"},\"marker\":{\"line\":{\"color\":\"#E5ECF6\",\"width\":0.5},\"pattern\":{\"fillmode\":\"overlay\",\"size\":10,\"solidity\":0.2}},\"type\":\"bar\"}],\"scattergeo\":[{\"type\":\"scattergeo\",\"marker\":{\"colorbar\":{\"outlinewidth\":0,\"ticks\":\"\"}}}],\"scatterpolar\":[{\"type\":\"scatterpolar\",\"marker\":{\"colorbar\":{\"outlinewidth\":0,\"ticks\":\"\"}}}],\"histogram\":[{\"marker\":{\"pattern\":{\"fillmode\":\"overlay\",\"size\":10,\"solidity\":0.2}},\"type\":\"histogram\"}],\"scattergl\":[{\"type\":\"scattergl\",\"marker\":{\"colorbar\":{\"outlinewidth\":0,\"ticks\":\"\"}}}],\"scatter3d\":[{\"type\":\"scatter3d\",\"line\":{\"colorbar\":{\"outlinewidth\":0,\"ticks\":\"\"}},\"marker\":{\"colorbar\":{\"outlinewidth\":0,\"ticks\":\"\"}}}],\"scattermapbox\":[{\"type\":\"scattermapbox\",\"marker\":{\"colorbar\":{\"outlinewidth\":0,\"ticks\":\"\"}}}],\"scatterternary\":[{\"type\":\"scatterternary\",\"marker\":{\"colorbar\":{\"outlinewidth\":0,\"ticks\":\"\"}}}],\"scattercarpet\":[{\"type\":\"scattercarpet\",\"marker\":{\"colorbar\":{\"outlinewidth\":0,\"ticks\":\"\"}}}],\"carpet\":[{\"aaxis\":{\"endlinecolor\":\"#2a3f5f\",\"gridcolor\":\"white\",\"linecolor\":\"white\",\"minorgridcolor\":\"white\",\"startlinecolor\":\"#2a3f5f\"},\"baxis\":{\"endlinecolor\":\"#2a3f5f\",\"gridcolor\":\"white\",\"linecolor\":\"white\",\"minorgridcolor\":\"white\",\"startlinecolor\":\"#2a3f5f\"},\"type\":\"carpet\"}],\"table\":[{\"cells\":{\"fill\":{\"color\":\"#EBF0F8\"},\"line\":{\"color\":\"white\"}},\"header\":{\"fill\":{\"color\":\"#C8D4E3\"},\"line\":{\"color\":\"white\"}},\"type\":\"table\"}],\"barpolar\":[{\"marker\":{\"line\":{\"color\":\"#E5ECF6\",\"width\":0.5},\"pattern\":{\"fillmode\":\"overlay\",\"size\":10,\"solidity\":0.2}},\"type\":\"barpolar\"}],\"pie\":[{\"automargin\":true,\"type\":\"pie\"}]},\"layout\":{\"autotypenumbers\":\"strict\",\"colorway\":[\"#636efa\",\"#EF553B\",\"#00cc96\",\"#ab63fa\",\"#FFA15A\",\"#19d3f3\",\"#FF6692\",\"#B6E880\",\"#FF97FF\",\"#FECB52\"],\"font\":{\"color\":\"#2a3f5f\"},\"hovermode\":\"closest\",\"hoverlabel\":{\"align\":\"left\"},\"paper_bgcolor\":\"white\",\"plot_bgcolor\":\"#E5ECF6\",\"polar\":{\"bgcolor\":\"#E5ECF6\",\"angularaxis\":{\"gridcolor\":\"white\",\"linecolor\":\"white\",\"ticks\":\"\"},\"radialaxis\":{\"gridcolor\":\"white\",\"linecolor\":\"white\",\"ticks\":\"\"}},\"ternary\":{\"bgcolor\":\"#E5ECF6\",\"aaxis\":{\"gridcolor\":\"white\",\"linecolor\":\"white\",\"ticks\":\"\"},\"baxis\":{\"gridcolor\":\"white\",\"linecolor\":\"white\",\"ticks\":\"\"},\"caxis\":{\"gridcolor\":\"white\",\"linecolor\":\"white\",\"ticks\":\"\"}},\"coloraxis\":{\"colorbar\":{\"outlinewidth\":0,\"ticks\":\"\"}},\"colorscale\":{\"sequential\":[[0.0,\"#0d0887\"],[0.1111111111111111,\"#46039f\"],[0.2222222222222222,\"#7201a8\"],[0.3333333333333333,\"#9c179e\"],[0.4444444444444444,\"#bd3786\"],[0.5555555555555556,\"#d8576b\"],[0.6666666666666666,\"#ed7953\"],[0.7777777777777778,\"#fb9f3a\"],[0.8888888888888888,\"#fdca26\"],[1.0,\"#f0f921\"]],\"sequentialminus\":[[0.0,\"#0d0887\"],[0.1111111111111111,\"#46039f\"],[0.2222222222222222,\"#7201a8\"],[0.3333333333333333,\"#9c179e\"],[0.4444444444444444,\"#bd3786\"],[0.5555555555555556,\"#d8576b\"],[0.6666666666666666,\"#ed7953\"],[0.7777777777777778,\"#fb9f3a\"],[0.8888888888888888,\"#fdca26\"],[1.0,\"#f0f921\"]],\"diverging\":[[0,\"#8e0152\"],[0.1,\"#c51b7d\"],[0.2,\"#de77ae\"],[0.3,\"#f1b6da\"],[0.4,\"#fde0ef\"],[0.5,\"#f7f7f7\"],[0.6,\"#e6f5d0\"],[0.7,\"#b8e186\"],[0.8,\"#7fbc41\"],[0.9,\"#4d9221\"],[1,\"#276419\"]]},\"xaxis\":{\"gridcolor\":\"white\",\"linecolor\":\"white\",\"ticks\":\"\",\"title\":{\"standoff\":15},\"zerolinecolor\":\"white\",\"automargin\":true,\"zerolinewidth\":2},\"yaxis\":{\"gridcolor\":\"white\",\"linecolor\":\"white\",\"ticks\":\"\",\"title\":{\"standoff\":15},\"zerolinecolor\":\"white\",\"automargin\":true,\"zerolinewidth\":2},\"scene\":{\"xaxis\":{\"backgroundcolor\":\"#E5ECF6\",\"gridcolor\":\"white\",\"linecolor\":\"white\",\"showbackground\":true,\"ticks\":\"\",\"zerolinecolor\":\"white\",\"gridwidth\":2},\"yaxis\":{\"backgroundcolor\":\"#E5ECF6\",\"gridcolor\":\"white\",\"linecolor\":\"white\",\"showbackground\":true,\"ticks\":\"\",\"zerolinecolor\":\"white\",\"gridwidth\":2},\"zaxis\":{\"backgroundcolor\":\"#E5ECF6\",\"gridcolor\":\"white\",\"linecolor\":\"white\",\"showbackground\":true,\"ticks\":\"\",\"zerolinecolor\":\"white\",\"gridwidth\":2}},\"shapedefaults\":{\"line\":{\"color\":\"#2a3f5f\"}},\"annotationdefaults\":{\"arrowcolor\":\"#2a3f5f\",\"arrowhead\":0,\"arrowwidth\":1},\"geo\":{\"bgcolor\":\"white\",\"landcolor\":\"#E5ECF6\",\"subunitcolor\":\"white\",\"showland\":true,\"showlakes\":true,\"lakecolor\":\"white\"},\"title\":{\"x\":0.05},\"mapbox\":{\"style\":\"light\"}}},\"legend\":{\"tracegroupgap\":0},\"title\":{\"text\":\"Reach from Different Sources\"},\"piecolorway\":[\"#FFB6C1\",\"#87CEFA\",\"#90EE90\",\"#FFDAB9\"]},                        {\"responsive\": true}                    ).then(function(){\n",
       "                            \n",
       "var gd = document.getElementById('959f401b-dff9-4f33-9c18-97d26c0db5b8');\n",
       "var x = new MutationObserver(function (mutations, observer) {{\n",
       "        var display = window.getComputedStyle(gd).display;\n",
       "        if (!display || display === 'none') {{\n",
       "            console.log([gd, 'removed!']);\n",
       "            Plotly.purge(gd);\n",
       "            observer.disconnect();\n",
       "        }}\n",
       "}});\n",
       "\n",
       "// Listen for the removal of the full notebook cells\n",
       "var notebookContainer = gd.closest('#notebook-container');\n",
       "if (notebookContainer) {{\n",
       "    x.observe(notebookContainer, {childList: true});\n",
       "}}\n",
       "\n",
       "// Listen for the clearing of the current output cell\n",
       "var outputEl = gd.closest('.output');\n",
       "if (outputEl) {{\n",
       "    x.observe(outputEl, {childList: true});\n",
       "}}\n",
       "\n",
       "                        })                };                });            </script>        </div>"
      ]
     },
     "metadata": {},
     "output_type": "display_data"
    }
   ],
   "source": [
    "reach_sources = ['From Home', 'From Hashtags', 'From Explore', 'From Other']\n",
    "reach_counts = [df[source].sum() for source in reach_sources]\n",
    "\n",
    "colors = ['#FFB6C1', '#87CEFA', '#90EE90', '#FFDAB9']\n",
    "\n",
    "fig = px.pie(data_frame=df, names=reach_sources, \n",
    "             values=reach_counts, \n",
    "             title='Reach from Different Sources',\n",
    "             color_discrete_sequence=colors)\n",
    "fig.show()"
   ]
  },
  {
   "cell_type": "code",
   "execution_count": 29,
   "id": "9fe3b511",
   "metadata": {},
   "outputs": [
    {
     "name": "stdout",
     "output_type": "stream",
     "text": [
      "[294619, 224614, 128294, 20360]\n"
     ]
    }
   ],
   "source": [
    "print(reach_counts)"
   ]
  },
  {
   "cell_type": "code",
   "execution_count": 30,
   "id": "c34baa2d",
   "metadata": {},
   "outputs": [
    {
     "data": {
      "application/vnd.plotly.v1+json": {
       "config": {
        "plotlyServerURL": "https://plot.ly"
       },
       "data": [
        {
         "domain": {
          "x": [
           0,
           1
          ],
          "y": [
           0,
           1
          ]
         },
         "hovertemplate": "label=%{label}<br>value=%{value}<extra></extra>",
         "labels": [
          "Saves",
          "Comments",
          "Shares",
          "Likes"
         ],
         "legendgroup": "",
         "name": "",
         "showlegend": true,
         "type": "pie",
         "values": [
          18244,
          793,
          1114,
          20680
         ]
        }
       ],
       "layout": {
        "legend": {
         "tracegroupgap": 0
        },
        "piecolorway": [
         "#FFB6C1",
         "#87CEFA",
         "#90EE90",
         "#FFDAB9"
        ],
        "template": {
         "data": {
          "bar": [
           {
            "error_x": {
             "color": "#2a3f5f"
            },
            "error_y": {
             "color": "#2a3f5f"
            },
            "marker": {
             "line": {
              "color": "#E5ECF6",
              "width": 0.5
             },
             "pattern": {
              "fillmode": "overlay",
              "size": 10,
              "solidity": 0.2
             }
            },
            "type": "bar"
           }
          ],
          "barpolar": [
           {
            "marker": {
             "line": {
              "color": "#E5ECF6",
              "width": 0.5
             },
             "pattern": {
              "fillmode": "overlay",
              "size": 10,
              "solidity": 0.2
             }
            },
            "type": "barpolar"
           }
          ],
          "carpet": [
           {
            "aaxis": {
             "endlinecolor": "#2a3f5f",
             "gridcolor": "white",
             "linecolor": "white",
             "minorgridcolor": "white",
             "startlinecolor": "#2a3f5f"
            },
            "baxis": {
             "endlinecolor": "#2a3f5f",
             "gridcolor": "white",
             "linecolor": "white",
             "minorgridcolor": "white",
             "startlinecolor": "#2a3f5f"
            },
            "type": "carpet"
           }
          ],
          "choropleth": [
           {
            "colorbar": {
             "outlinewidth": 0,
             "ticks": ""
            },
            "type": "choropleth"
           }
          ],
          "contour": [
           {
            "colorbar": {
             "outlinewidth": 0,
             "ticks": ""
            },
            "colorscale": [
             [
              0,
              "#0d0887"
             ],
             [
              0.1111111111111111,
              "#46039f"
             ],
             [
              0.2222222222222222,
              "#7201a8"
             ],
             [
              0.3333333333333333,
              "#9c179e"
             ],
             [
              0.4444444444444444,
              "#bd3786"
             ],
             [
              0.5555555555555556,
              "#d8576b"
             ],
             [
              0.6666666666666666,
              "#ed7953"
             ],
             [
              0.7777777777777778,
              "#fb9f3a"
             ],
             [
              0.8888888888888888,
              "#fdca26"
             ],
             [
              1,
              "#f0f921"
             ]
            ],
            "type": "contour"
           }
          ],
          "contourcarpet": [
           {
            "colorbar": {
             "outlinewidth": 0,
             "ticks": ""
            },
            "type": "contourcarpet"
           }
          ],
          "heatmap": [
           {
            "colorbar": {
             "outlinewidth": 0,
             "ticks": ""
            },
            "colorscale": [
             [
              0,
              "#0d0887"
             ],
             [
              0.1111111111111111,
              "#46039f"
             ],
             [
              0.2222222222222222,
              "#7201a8"
             ],
             [
              0.3333333333333333,
              "#9c179e"
             ],
             [
              0.4444444444444444,
              "#bd3786"
             ],
             [
              0.5555555555555556,
              "#d8576b"
             ],
             [
              0.6666666666666666,
              "#ed7953"
             ],
             [
              0.7777777777777778,
              "#fb9f3a"
             ],
             [
              0.8888888888888888,
              "#fdca26"
             ],
             [
              1,
              "#f0f921"
             ]
            ],
            "type": "heatmap"
           }
          ],
          "heatmapgl": [
           {
            "colorbar": {
             "outlinewidth": 0,
             "ticks": ""
            },
            "colorscale": [
             [
              0,
              "#0d0887"
             ],
             [
              0.1111111111111111,
              "#46039f"
             ],
             [
              0.2222222222222222,
              "#7201a8"
             ],
             [
              0.3333333333333333,
              "#9c179e"
             ],
             [
              0.4444444444444444,
              "#bd3786"
             ],
             [
              0.5555555555555556,
              "#d8576b"
             ],
             [
              0.6666666666666666,
              "#ed7953"
             ],
             [
              0.7777777777777778,
              "#fb9f3a"
             ],
             [
              0.8888888888888888,
              "#fdca26"
             ],
             [
              1,
              "#f0f921"
             ]
            ],
            "type": "heatmapgl"
           }
          ],
          "histogram": [
           {
            "marker": {
             "pattern": {
              "fillmode": "overlay",
              "size": 10,
              "solidity": 0.2
             }
            },
            "type": "histogram"
           }
          ],
          "histogram2d": [
           {
            "colorbar": {
             "outlinewidth": 0,
             "ticks": ""
            },
            "colorscale": [
             [
              0,
              "#0d0887"
             ],
             [
              0.1111111111111111,
              "#46039f"
             ],
             [
              0.2222222222222222,
              "#7201a8"
             ],
             [
              0.3333333333333333,
              "#9c179e"
             ],
             [
              0.4444444444444444,
              "#bd3786"
             ],
             [
              0.5555555555555556,
              "#d8576b"
             ],
             [
              0.6666666666666666,
              "#ed7953"
             ],
             [
              0.7777777777777778,
              "#fb9f3a"
             ],
             [
              0.8888888888888888,
              "#fdca26"
             ],
             [
              1,
              "#f0f921"
             ]
            ],
            "type": "histogram2d"
           }
          ],
          "histogram2dcontour": [
           {
            "colorbar": {
             "outlinewidth": 0,
             "ticks": ""
            },
            "colorscale": [
             [
              0,
              "#0d0887"
             ],
             [
              0.1111111111111111,
              "#46039f"
             ],
             [
              0.2222222222222222,
              "#7201a8"
             ],
             [
              0.3333333333333333,
              "#9c179e"
             ],
             [
              0.4444444444444444,
              "#bd3786"
             ],
             [
              0.5555555555555556,
              "#d8576b"
             ],
             [
              0.6666666666666666,
              "#ed7953"
             ],
             [
              0.7777777777777778,
              "#fb9f3a"
             ],
             [
              0.8888888888888888,
              "#fdca26"
             ],
             [
              1,
              "#f0f921"
             ]
            ],
            "type": "histogram2dcontour"
           }
          ],
          "mesh3d": [
           {
            "colorbar": {
             "outlinewidth": 0,
             "ticks": ""
            },
            "type": "mesh3d"
           }
          ],
          "parcoords": [
           {
            "line": {
             "colorbar": {
              "outlinewidth": 0,
              "ticks": ""
             }
            },
            "type": "parcoords"
           }
          ],
          "pie": [
           {
            "automargin": true,
            "type": "pie"
           }
          ],
          "scatter": [
           {
            "fillpattern": {
             "fillmode": "overlay",
             "size": 10,
             "solidity": 0.2
            },
            "type": "scatter"
           }
          ],
          "scatter3d": [
           {
            "line": {
             "colorbar": {
              "outlinewidth": 0,
              "ticks": ""
             }
            },
            "marker": {
             "colorbar": {
              "outlinewidth": 0,
              "ticks": ""
             }
            },
            "type": "scatter3d"
           }
          ],
          "scattercarpet": [
           {
            "marker": {
             "colorbar": {
              "outlinewidth": 0,
              "ticks": ""
             }
            },
            "type": "scattercarpet"
           }
          ],
          "scattergeo": [
           {
            "marker": {
             "colorbar": {
              "outlinewidth": 0,
              "ticks": ""
             }
            },
            "type": "scattergeo"
           }
          ],
          "scattergl": [
           {
            "marker": {
             "colorbar": {
              "outlinewidth": 0,
              "ticks": ""
             }
            },
            "type": "scattergl"
           }
          ],
          "scattermapbox": [
           {
            "marker": {
             "colorbar": {
              "outlinewidth": 0,
              "ticks": ""
             }
            },
            "type": "scattermapbox"
           }
          ],
          "scatterpolar": [
           {
            "marker": {
             "colorbar": {
              "outlinewidth": 0,
              "ticks": ""
             }
            },
            "type": "scatterpolar"
           }
          ],
          "scatterpolargl": [
           {
            "marker": {
             "colorbar": {
              "outlinewidth": 0,
              "ticks": ""
             }
            },
            "type": "scatterpolargl"
           }
          ],
          "scatterternary": [
           {
            "marker": {
             "colorbar": {
              "outlinewidth": 0,
              "ticks": ""
             }
            },
            "type": "scatterternary"
           }
          ],
          "surface": [
           {
            "colorbar": {
             "outlinewidth": 0,
             "ticks": ""
            },
            "colorscale": [
             [
              0,
              "#0d0887"
             ],
             [
              0.1111111111111111,
              "#46039f"
             ],
             [
              0.2222222222222222,
              "#7201a8"
             ],
             [
              0.3333333333333333,
              "#9c179e"
             ],
             [
              0.4444444444444444,
              "#bd3786"
             ],
             [
              0.5555555555555556,
              "#d8576b"
             ],
             [
              0.6666666666666666,
              "#ed7953"
             ],
             [
              0.7777777777777778,
              "#fb9f3a"
             ],
             [
              0.8888888888888888,
              "#fdca26"
             ],
             [
              1,
              "#f0f921"
             ]
            ],
            "type": "surface"
           }
          ],
          "table": [
           {
            "cells": {
             "fill": {
              "color": "#EBF0F8"
             },
             "line": {
              "color": "white"
             }
            },
            "header": {
             "fill": {
              "color": "#C8D4E3"
             },
             "line": {
              "color": "white"
             }
            },
            "type": "table"
           }
          ]
         },
         "layout": {
          "annotationdefaults": {
           "arrowcolor": "#2a3f5f",
           "arrowhead": 0,
           "arrowwidth": 1
          },
          "autotypenumbers": "strict",
          "coloraxis": {
           "colorbar": {
            "outlinewidth": 0,
            "ticks": ""
           }
          },
          "colorscale": {
           "diverging": [
            [
             0,
             "#8e0152"
            ],
            [
             0.1,
             "#c51b7d"
            ],
            [
             0.2,
             "#de77ae"
            ],
            [
             0.3,
             "#f1b6da"
            ],
            [
             0.4,
             "#fde0ef"
            ],
            [
             0.5,
             "#f7f7f7"
            ],
            [
             0.6,
             "#e6f5d0"
            ],
            [
             0.7,
             "#b8e186"
            ],
            [
             0.8,
             "#7fbc41"
            ],
            [
             0.9,
             "#4d9221"
            ],
            [
             1,
             "#276419"
            ]
           ],
           "sequential": [
            [
             0,
             "#0d0887"
            ],
            [
             0.1111111111111111,
             "#46039f"
            ],
            [
             0.2222222222222222,
             "#7201a8"
            ],
            [
             0.3333333333333333,
             "#9c179e"
            ],
            [
             0.4444444444444444,
             "#bd3786"
            ],
            [
             0.5555555555555556,
             "#d8576b"
            ],
            [
             0.6666666666666666,
             "#ed7953"
            ],
            [
             0.7777777777777778,
             "#fb9f3a"
            ],
            [
             0.8888888888888888,
             "#fdca26"
            ],
            [
             1,
             "#f0f921"
            ]
           ],
           "sequentialminus": [
            [
             0,
             "#0d0887"
            ],
            [
             0.1111111111111111,
             "#46039f"
            ],
            [
             0.2222222222222222,
             "#7201a8"
            ],
            [
             0.3333333333333333,
             "#9c179e"
            ],
            [
             0.4444444444444444,
             "#bd3786"
            ],
            [
             0.5555555555555556,
             "#d8576b"
            ],
            [
             0.6666666666666666,
             "#ed7953"
            ],
            [
             0.7777777777777778,
             "#fb9f3a"
            ],
            [
             0.8888888888888888,
             "#fdca26"
            ],
            [
             1,
             "#f0f921"
            ]
           ]
          },
          "colorway": [
           "#636efa",
           "#EF553B",
           "#00cc96",
           "#ab63fa",
           "#FFA15A",
           "#19d3f3",
           "#FF6692",
           "#B6E880",
           "#FF97FF",
           "#FECB52"
          ],
          "font": {
           "color": "#2a3f5f"
          },
          "geo": {
           "bgcolor": "white",
           "lakecolor": "white",
           "landcolor": "#E5ECF6",
           "showlakes": true,
           "showland": true,
           "subunitcolor": "white"
          },
          "hoverlabel": {
           "align": "left"
          },
          "hovermode": "closest",
          "mapbox": {
           "style": "light"
          },
          "paper_bgcolor": "white",
          "plot_bgcolor": "#E5ECF6",
          "polar": {
           "angularaxis": {
            "gridcolor": "white",
            "linecolor": "white",
            "ticks": ""
           },
           "bgcolor": "#E5ECF6",
           "radialaxis": {
            "gridcolor": "white",
            "linecolor": "white",
            "ticks": ""
           }
          },
          "scene": {
           "xaxis": {
            "backgroundcolor": "#E5ECF6",
            "gridcolor": "white",
            "gridwidth": 2,
            "linecolor": "white",
            "showbackground": true,
            "ticks": "",
            "zerolinecolor": "white"
           },
           "yaxis": {
            "backgroundcolor": "#E5ECF6",
            "gridcolor": "white",
            "gridwidth": 2,
            "linecolor": "white",
            "showbackground": true,
            "ticks": "",
            "zerolinecolor": "white"
           },
           "zaxis": {
            "backgroundcolor": "#E5ECF6",
            "gridcolor": "white",
            "gridwidth": 2,
            "linecolor": "white",
            "showbackground": true,
            "ticks": "",
            "zerolinecolor": "white"
           }
          },
          "shapedefaults": {
           "line": {
            "color": "#2a3f5f"
           }
          },
          "ternary": {
           "aaxis": {
            "gridcolor": "white",
            "linecolor": "white",
            "ticks": ""
           },
           "baxis": {
            "gridcolor": "white",
            "linecolor": "white",
            "ticks": ""
           },
           "bgcolor": "#E5ECF6",
           "caxis": {
            "gridcolor": "white",
            "linecolor": "white",
            "ticks": ""
           }
          },
          "title": {
           "x": 0.05
          },
          "xaxis": {
           "automargin": true,
           "gridcolor": "white",
           "linecolor": "white",
           "ticks": "",
           "title": {
            "standoff": 15
           },
           "zerolinecolor": "white",
           "zerolinewidth": 2
          },
          "yaxis": {
           "automargin": true,
           "gridcolor": "white",
           "linecolor": "white",
           "ticks": "",
           "title": {
            "standoff": 15
           },
           "zerolinecolor": "white",
           "zerolinewidth": 2
          }
         }
        },
        "title": {
         "text": "Engagement Sources"
        }
       }
      },
      "text/html": [
       "<div>                            <div id=\"a713cc22-9104-481b-acca-aa96f12762dc\" class=\"plotly-graph-div\" style=\"height:525px; width:100%;\"></div>            <script type=\"text/javascript\">                require([\"plotly\"], function(Plotly) {                    window.PLOTLYENV=window.PLOTLYENV || {};                                    if (document.getElementById(\"a713cc22-9104-481b-acca-aa96f12762dc\")) {                    Plotly.newPlot(                        \"a713cc22-9104-481b-acca-aa96f12762dc\",                        [{\"domain\":{\"x\":[0.0,1.0],\"y\":[0.0,1.0]},\"hovertemplate\":\"label=%{label}<br>value=%{value}<extra></extra>\",\"labels\":[\"Saves\",\"Comments\",\"Shares\",\"Likes\"],\"legendgroup\":\"\",\"name\":\"\",\"showlegend\":true,\"values\":[18244,793,1114,20680],\"type\":\"pie\"}],                        {\"template\":{\"data\":{\"histogram2dcontour\":[{\"type\":\"histogram2dcontour\",\"colorbar\":{\"outlinewidth\":0,\"ticks\":\"\"},\"colorscale\":[[0.0,\"#0d0887\"],[0.1111111111111111,\"#46039f\"],[0.2222222222222222,\"#7201a8\"],[0.3333333333333333,\"#9c179e\"],[0.4444444444444444,\"#bd3786\"],[0.5555555555555556,\"#d8576b\"],[0.6666666666666666,\"#ed7953\"],[0.7777777777777778,\"#fb9f3a\"],[0.8888888888888888,\"#fdca26\"],[1.0,\"#f0f921\"]]}],\"choropleth\":[{\"type\":\"choropleth\",\"colorbar\":{\"outlinewidth\":0,\"ticks\":\"\"}}],\"histogram2d\":[{\"type\":\"histogram2d\",\"colorbar\":{\"outlinewidth\":0,\"ticks\":\"\"},\"colorscale\":[[0.0,\"#0d0887\"],[0.1111111111111111,\"#46039f\"],[0.2222222222222222,\"#7201a8\"],[0.3333333333333333,\"#9c179e\"],[0.4444444444444444,\"#bd3786\"],[0.5555555555555556,\"#d8576b\"],[0.6666666666666666,\"#ed7953\"],[0.7777777777777778,\"#fb9f3a\"],[0.8888888888888888,\"#fdca26\"],[1.0,\"#f0f921\"]]}],\"heatmap\":[{\"type\":\"heatmap\",\"colorbar\":{\"outlinewidth\":0,\"ticks\":\"\"},\"colorscale\":[[0.0,\"#0d0887\"],[0.1111111111111111,\"#46039f\"],[0.2222222222222222,\"#7201a8\"],[0.3333333333333333,\"#9c179e\"],[0.4444444444444444,\"#bd3786\"],[0.5555555555555556,\"#d8576b\"],[0.6666666666666666,\"#ed7953\"],[0.7777777777777778,\"#fb9f3a\"],[0.8888888888888888,\"#fdca26\"],[1.0,\"#f0f921\"]]}],\"heatmapgl\":[{\"type\":\"heatmapgl\",\"colorbar\":{\"outlinewidth\":0,\"ticks\":\"\"},\"colorscale\":[[0.0,\"#0d0887\"],[0.1111111111111111,\"#46039f\"],[0.2222222222222222,\"#7201a8\"],[0.3333333333333333,\"#9c179e\"],[0.4444444444444444,\"#bd3786\"],[0.5555555555555556,\"#d8576b\"],[0.6666666666666666,\"#ed7953\"],[0.7777777777777778,\"#fb9f3a\"],[0.8888888888888888,\"#fdca26\"],[1.0,\"#f0f921\"]]}],\"contourcarpet\":[{\"type\":\"contourcarpet\",\"colorbar\":{\"outlinewidth\":0,\"ticks\":\"\"}}],\"contour\":[{\"type\":\"contour\",\"colorbar\":{\"outlinewidth\":0,\"ticks\":\"\"},\"colorscale\":[[0.0,\"#0d0887\"],[0.1111111111111111,\"#46039f\"],[0.2222222222222222,\"#7201a8\"],[0.3333333333333333,\"#9c179e\"],[0.4444444444444444,\"#bd3786\"],[0.5555555555555556,\"#d8576b\"],[0.6666666666666666,\"#ed7953\"],[0.7777777777777778,\"#fb9f3a\"],[0.8888888888888888,\"#fdca26\"],[1.0,\"#f0f921\"]]}],\"surface\":[{\"type\":\"surface\",\"colorbar\":{\"outlinewidth\":0,\"ticks\":\"\"},\"colorscale\":[[0.0,\"#0d0887\"],[0.1111111111111111,\"#46039f\"],[0.2222222222222222,\"#7201a8\"],[0.3333333333333333,\"#9c179e\"],[0.4444444444444444,\"#bd3786\"],[0.5555555555555556,\"#d8576b\"],[0.6666666666666666,\"#ed7953\"],[0.7777777777777778,\"#fb9f3a\"],[0.8888888888888888,\"#fdca26\"],[1.0,\"#f0f921\"]]}],\"mesh3d\":[{\"type\":\"mesh3d\",\"colorbar\":{\"outlinewidth\":0,\"ticks\":\"\"}}],\"scatter\":[{\"fillpattern\":{\"fillmode\":\"overlay\",\"size\":10,\"solidity\":0.2},\"type\":\"scatter\"}],\"parcoords\":[{\"type\":\"parcoords\",\"line\":{\"colorbar\":{\"outlinewidth\":0,\"ticks\":\"\"}}}],\"scatterpolargl\":[{\"type\":\"scatterpolargl\",\"marker\":{\"colorbar\":{\"outlinewidth\":0,\"ticks\":\"\"}}}],\"bar\":[{\"error_x\":{\"color\":\"#2a3f5f\"},\"error_y\":{\"color\":\"#2a3f5f\"},\"marker\":{\"line\":{\"color\":\"#E5ECF6\",\"width\":0.5},\"pattern\":{\"fillmode\":\"overlay\",\"size\":10,\"solidity\":0.2}},\"type\":\"bar\"}],\"scattergeo\":[{\"type\":\"scattergeo\",\"marker\":{\"colorbar\":{\"outlinewidth\":0,\"ticks\":\"\"}}}],\"scatterpolar\":[{\"type\":\"scatterpolar\",\"marker\":{\"colorbar\":{\"outlinewidth\":0,\"ticks\":\"\"}}}],\"histogram\":[{\"marker\":{\"pattern\":{\"fillmode\":\"overlay\",\"size\":10,\"solidity\":0.2}},\"type\":\"histogram\"}],\"scattergl\":[{\"type\":\"scattergl\",\"marker\":{\"colorbar\":{\"outlinewidth\":0,\"ticks\":\"\"}}}],\"scatter3d\":[{\"type\":\"scatter3d\",\"line\":{\"colorbar\":{\"outlinewidth\":0,\"ticks\":\"\"}},\"marker\":{\"colorbar\":{\"outlinewidth\":0,\"ticks\":\"\"}}}],\"scattermapbox\":[{\"type\":\"scattermapbox\",\"marker\":{\"colorbar\":{\"outlinewidth\":0,\"ticks\":\"\"}}}],\"scatterternary\":[{\"type\":\"scatterternary\",\"marker\":{\"colorbar\":{\"outlinewidth\":0,\"ticks\":\"\"}}}],\"scattercarpet\":[{\"type\":\"scattercarpet\",\"marker\":{\"colorbar\":{\"outlinewidth\":0,\"ticks\":\"\"}}}],\"carpet\":[{\"aaxis\":{\"endlinecolor\":\"#2a3f5f\",\"gridcolor\":\"white\",\"linecolor\":\"white\",\"minorgridcolor\":\"white\",\"startlinecolor\":\"#2a3f5f\"},\"baxis\":{\"endlinecolor\":\"#2a3f5f\",\"gridcolor\":\"white\",\"linecolor\":\"white\",\"minorgridcolor\":\"white\",\"startlinecolor\":\"#2a3f5f\"},\"type\":\"carpet\"}],\"table\":[{\"cells\":{\"fill\":{\"color\":\"#EBF0F8\"},\"line\":{\"color\":\"white\"}},\"header\":{\"fill\":{\"color\":\"#C8D4E3\"},\"line\":{\"color\":\"white\"}},\"type\":\"table\"}],\"barpolar\":[{\"marker\":{\"line\":{\"color\":\"#E5ECF6\",\"width\":0.5},\"pattern\":{\"fillmode\":\"overlay\",\"size\":10,\"solidity\":0.2}},\"type\":\"barpolar\"}],\"pie\":[{\"automargin\":true,\"type\":\"pie\"}]},\"layout\":{\"autotypenumbers\":\"strict\",\"colorway\":[\"#636efa\",\"#EF553B\",\"#00cc96\",\"#ab63fa\",\"#FFA15A\",\"#19d3f3\",\"#FF6692\",\"#B6E880\",\"#FF97FF\",\"#FECB52\"],\"font\":{\"color\":\"#2a3f5f\"},\"hovermode\":\"closest\",\"hoverlabel\":{\"align\":\"left\"},\"paper_bgcolor\":\"white\",\"plot_bgcolor\":\"#E5ECF6\",\"polar\":{\"bgcolor\":\"#E5ECF6\",\"angularaxis\":{\"gridcolor\":\"white\",\"linecolor\":\"white\",\"ticks\":\"\"},\"radialaxis\":{\"gridcolor\":\"white\",\"linecolor\":\"white\",\"ticks\":\"\"}},\"ternary\":{\"bgcolor\":\"#E5ECF6\",\"aaxis\":{\"gridcolor\":\"white\",\"linecolor\":\"white\",\"ticks\":\"\"},\"baxis\":{\"gridcolor\":\"white\",\"linecolor\":\"white\",\"ticks\":\"\"},\"caxis\":{\"gridcolor\":\"white\",\"linecolor\":\"white\",\"ticks\":\"\"}},\"coloraxis\":{\"colorbar\":{\"outlinewidth\":0,\"ticks\":\"\"}},\"colorscale\":{\"sequential\":[[0.0,\"#0d0887\"],[0.1111111111111111,\"#46039f\"],[0.2222222222222222,\"#7201a8\"],[0.3333333333333333,\"#9c179e\"],[0.4444444444444444,\"#bd3786\"],[0.5555555555555556,\"#d8576b\"],[0.6666666666666666,\"#ed7953\"],[0.7777777777777778,\"#fb9f3a\"],[0.8888888888888888,\"#fdca26\"],[1.0,\"#f0f921\"]],\"sequentialminus\":[[0.0,\"#0d0887\"],[0.1111111111111111,\"#46039f\"],[0.2222222222222222,\"#7201a8\"],[0.3333333333333333,\"#9c179e\"],[0.4444444444444444,\"#bd3786\"],[0.5555555555555556,\"#d8576b\"],[0.6666666666666666,\"#ed7953\"],[0.7777777777777778,\"#fb9f3a\"],[0.8888888888888888,\"#fdca26\"],[1.0,\"#f0f921\"]],\"diverging\":[[0,\"#8e0152\"],[0.1,\"#c51b7d\"],[0.2,\"#de77ae\"],[0.3,\"#f1b6da\"],[0.4,\"#fde0ef\"],[0.5,\"#f7f7f7\"],[0.6,\"#e6f5d0\"],[0.7,\"#b8e186\"],[0.8,\"#7fbc41\"],[0.9,\"#4d9221\"],[1,\"#276419\"]]},\"xaxis\":{\"gridcolor\":\"white\",\"linecolor\":\"white\",\"ticks\":\"\",\"title\":{\"standoff\":15},\"zerolinecolor\":\"white\",\"automargin\":true,\"zerolinewidth\":2},\"yaxis\":{\"gridcolor\":\"white\",\"linecolor\":\"white\",\"ticks\":\"\",\"title\":{\"standoff\":15},\"zerolinecolor\":\"white\",\"automargin\":true,\"zerolinewidth\":2},\"scene\":{\"xaxis\":{\"backgroundcolor\":\"#E5ECF6\",\"gridcolor\":\"white\",\"linecolor\":\"white\",\"showbackground\":true,\"ticks\":\"\",\"zerolinecolor\":\"white\",\"gridwidth\":2},\"yaxis\":{\"backgroundcolor\":\"#E5ECF6\",\"gridcolor\":\"white\",\"linecolor\":\"white\",\"showbackground\":true,\"ticks\":\"\",\"zerolinecolor\":\"white\",\"gridwidth\":2},\"zaxis\":{\"backgroundcolor\":\"#E5ECF6\",\"gridcolor\":\"white\",\"linecolor\":\"white\",\"showbackground\":true,\"ticks\":\"\",\"zerolinecolor\":\"white\",\"gridwidth\":2}},\"shapedefaults\":{\"line\":{\"color\":\"#2a3f5f\"}},\"annotationdefaults\":{\"arrowcolor\":\"#2a3f5f\",\"arrowhead\":0,\"arrowwidth\":1},\"geo\":{\"bgcolor\":\"white\",\"landcolor\":\"#E5ECF6\",\"subunitcolor\":\"white\",\"showland\":true,\"showlakes\":true,\"lakecolor\":\"white\"},\"title\":{\"x\":0.05},\"mapbox\":{\"style\":\"light\"}}},\"legend\":{\"tracegroupgap\":0},\"title\":{\"text\":\"Engagement Sources\"},\"piecolorway\":[\"#FFB6C1\",\"#87CEFA\",\"#90EE90\",\"#FFDAB9\"]},                        {\"responsive\": true}                    ).then(function(){\n",
       "                            \n",
       "var gd = document.getElementById('a713cc22-9104-481b-acca-aa96f12762dc');\n",
       "var x = new MutationObserver(function (mutations, observer) {{\n",
       "        var display = window.getComputedStyle(gd).display;\n",
       "        if (!display || display === 'none') {{\n",
       "            console.log([gd, 'removed!']);\n",
       "            Plotly.purge(gd);\n",
       "            observer.disconnect();\n",
       "        }}\n",
       "}});\n",
       "\n",
       "// Listen for the removal of the full notebook cells\n",
       "var notebookContainer = gd.closest('#notebook-container');\n",
       "if (notebookContainer) {{\n",
       "    x.observe(notebookContainer, {childList: true});\n",
       "}}\n",
       "\n",
       "// Listen for the clearing of the current output cell\n",
       "var outputEl = gd.closest('.output');\n",
       "if (outputEl) {{\n",
       "    x.observe(outputEl, {childList: true});\n",
       "}}\n",
       "\n",
       "                        })                };                });            </script>        </div>"
      ]
     },
     "metadata": {},
     "output_type": "display_data"
    }
   ],
   "source": [
    "engagement_metrics = ['Saves', 'Comments', 'Shares', 'Likes']\n",
    "engagement_counts = [df[metric].sum() for metric in engagement_metrics]\n",
    "\n",
    "colors = ['#FFB6C1', '#87CEFA', '#90EE90', '#FFDAB9']\n",
    "\n",
    "fig = px.pie(data_frame=df, names=engagement_metrics, \n",
    "             values=engagement_counts, \n",
    "             title='Engagement Sources',\n",
    "             color_discrete_sequence=colors)\n",
    "fig.show()"
   ]
  },
  {
   "cell_type": "code",
   "execution_count": 31,
   "id": "e72a0e92",
   "metadata": {},
   "outputs": [
    {
     "data": {
      "application/vnd.plotly.v1+json": {
       "config": {
        "plotlyServerURL": "https://plot.ly"
       },
       "data": [
        {
         "hovertemplate": "Profile Visits=%{x}<br>Follows=%{y}<extra></extra>",
         "legendgroup": "",
         "marker": {
          "color": "#636efa",
          "symbol": "circle"
         },
         "mode": "markers",
         "name": "",
         "orientation": "v",
         "showlegend": false,
         "type": "scatter",
         "x": [
          35,
          48,
          62,
          23,
          8,
          9,
          26,
          12,
          36,
          31,
          29,
          15,
          8,
          20,
          181,
          17,
          16,
          21,
          77,
          10,
          9,
          11,
          144,
          14,
          10,
          19,
          69,
          11,
          19,
          9,
          57,
          13,
          11,
          24,
          81,
          4,
          7,
          14,
          18,
          8,
          330,
          21,
          19,
          32,
          19,
          21,
          14,
          30,
          39,
          42,
          31,
          20,
          12,
          22,
          306,
          13,
          26,
          16,
          15,
          15,
          39,
          21,
          8,
          45,
          50,
          37,
          25,
          347,
          26,
          48,
          16,
          26,
          17,
          52,
          22,
          41,
          155,
          12,
          22,
          20,
          23,
          25,
          17,
          16,
          21,
          77,
          10,
          14,
          30,
          39,
          42,
          31,
          14,
          10,
          19,
          69,
          11,
          19,
          9,
          38,
          42,
          92,
          75,
          21,
          26,
          39,
          74,
          467,
          24,
          70,
          22,
          46,
          61,
          237,
          73,
          20,
          34,
          148,
          611
         ],
         "xaxis": "x",
         "y": [
          2,
          10,
          12,
          8,
          0,
          2,
          0,
          6,
          4,
          6,
          4,
          0,
          2,
          4,
          42,
          6,
          2,
          2,
          30,
          0,
          0,
          24,
          100,
          2,
          4,
          6,
          6,
          6,
          2,
          2,
          20,
          2,
          4,
          8,
          26,
          2,
          2,
          4,
          0,
          2,
          94,
          8,
          18,
          10,
          4,
          4,
          4,
          4,
          18,
          38,
          10,
          12,
          4,
          4,
          74,
          0,
          6,
          6,
          0,
          6,
          12,
          10,
          8,
          8,
          46,
          12,
          10,
          94,
          6,
          10,
          6,
          4,
          12,
          16,
          12,
          8,
          32,
          8,
          16,
          6,
          10,
          10,
          6,
          2,
          2,
          30,
          0,
          4,
          4,
          18,
          38,
          10,
          2,
          4,
          6,
          6,
          6,
          2,
          2,
          14,
          8,
          14,
          28,
          18,
          12,
          34,
          26,
          260,
          16,
          96,
          20,
          30,
          58,
          100,
          80,
          18,
          10,
          214,
          228
         ],
         "yaxis": "y"
        }
       ],
       "layout": {
        "legend": {
         "tracegroupgap": 0
        },
        "template": {
         "data": {
          "bar": [
           {
            "error_x": {
             "color": "#2a3f5f"
            },
            "error_y": {
             "color": "#2a3f5f"
            },
            "marker": {
             "line": {
              "color": "#E5ECF6",
              "width": 0.5
             },
             "pattern": {
              "fillmode": "overlay",
              "size": 10,
              "solidity": 0.2
             }
            },
            "type": "bar"
           }
          ],
          "barpolar": [
           {
            "marker": {
             "line": {
              "color": "#E5ECF6",
              "width": 0.5
             },
             "pattern": {
              "fillmode": "overlay",
              "size": 10,
              "solidity": 0.2
             }
            },
            "type": "barpolar"
           }
          ],
          "carpet": [
           {
            "aaxis": {
             "endlinecolor": "#2a3f5f",
             "gridcolor": "white",
             "linecolor": "white",
             "minorgridcolor": "white",
             "startlinecolor": "#2a3f5f"
            },
            "baxis": {
             "endlinecolor": "#2a3f5f",
             "gridcolor": "white",
             "linecolor": "white",
             "minorgridcolor": "white",
             "startlinecolor": "#2a3f5f"
            },
            "type": "carpet"
           }
          ],
          "choropleth": [
           {
            "colorbar": {
             "outlinewidth": 0,
             "ticks": ""
            },
            "type": "choropleth"
           }
          ],
          "contour": [
           {
            "colorbar": {
             "outlinewidth": 0,
             "ticks": ""
            },
            "colorscale": [
             [
              0,
              "#0d0887"
             ],
             [
              0.1111111111111111,
              "#46039f"
             ],
             [
              0.2222222222222222,
              "#7201a8"
             ],
             [
              0.3333333333333333,
              "#9c179e"
             ],
             [
              0.4444444444444444,
              "#bd3786"
             ],
             [
              0.5555555555555556,
              "#d8576b"
             ],
             [
              0.6666666666666666,
              "#ed7953"
             ],
             [
              0.7777777777777778,
              "#fb9f3a"
             ],
             [
              0.8888888888888888,
              "#fdca26"
             ],
             [
              1,
              "#f0f921"
             ]
            ],
            "type": "contour"
           }
          ],
          "contourcarpet": [
           {
            "colorbar": {
             "outlinewidth": 0,
             "ticks": ""
            },
            "type": "contourcarpet"
           }
          ],
          "heatmap": [
           {
            "colorbar": {
             "outlinewidth": 0,
             "ticks": ""
            },
            "colorscale": [
             [
              0,
              "#0d0887"
             ],
             [
              0.1111111111111111,
              "#46039f"
             ],
             [
              0.2222222222222222,
              "#7201a8"
             ],
             [
              0.3333333333333333,
              "#9c179e"
             ],
             [
              0.4444444444444444,
              "#bd3786"
             ],
             [
              0.5555555555555556,
              "#d8576b"
             ],
             [
              0.6666666666666666,
              "#ed7953"
             ],
             [
              0.7777777777777778,
              "#fb9f3a"
             ],
             [
              0.8888888888888888,
              "#fdca26"
             ],
             [
              1,
              "#f0f921"
             ]
            ],
            "type": "heatmap"
           }
          ],
          "heatmapgl": [
           {
            "colorbar": {
             "outlinewidth": 0,
             "ticks": ""
            },
            "colorscale": [
             [
              0,
              "#0d0887"
             ],
             [
              0.1111111111111111,
              "#46039f"
             ],
             [
              0.2222222222222222,
              "#7201a8"
             ],
             [
              0.3333333333333333,
              "#9c179e"
             ],
             [
              0.4444444444444444,
              "#bd3786"
             ],
             [
              0.5555555555555556,
              "#d8576b"
             ],
             [
              0.6666666666666666,
              "#ed7953"
             ],
             [
              0.7777777777777778,
              "#fb9f3a"
             ],
             [
              0.8888888888888888,
              "#fdca26"
             ],
             [
              1,
              "#f0f921"
             ]
            ],
            "type": "heatmapgl"
           }
          ],
          "histogram": [
           {
            "marker": {
             "pattern": {
              "fillmode": "overlay",
              "size": 10,
              "solidity": 0.2
             }
            },
            "type": "histogram"
           }
          ],
          "histogram2d": [
           {
            "colorbar": {
             "outlinewidth": 0,
             "ticks": ""
            },
            "colorscale": [
             [
              0,
              "#0d0887"
             ],
             [
              0.1111111111111111,
              "#46039f"
             ],
             [
              0.2222222222222222,
              "#7201a8"
             ],
             [
              0.3333333333333333,
              "#9c179e"
             ],
             [
              0.4444444444444444,
              "#bd3786"
             ],
             [
              0.5555555555555556,
              "#d8576b"
             ],
             [
              0.6666666666666666,
              "#ed7953"
             ],
             [
              0.7777777777777778,
              "#fb9f3a"
             ],
             [
              0.8888888888888888,
              "#fdca26"
             ],
             [
              1,
              "#f0f921"
             ]
            ],
            "type": "histogram2d"
           }
          ],
          "histogram2dcontour": [
           {
            "colorbar": {
             "outlinewidth": 0,
             "ticks": ""
            },
            "colorscale": [
             [
              0,
              "#0d0887"
             ],
             [
              0.1111111111111111,
              "#46039f"
             ],
             [
              0.2222222222222222,
              "#7201a8"
             ],
             [
              0.3333333333333333,
              "#9c179e"
             ],
             [
              0.4444444444444444,
              "#bd3786"
             ],
             [
              0.5555555555555556,
              "#d8576b"
             ],
             [
              0.6666666666666666,
              "#ed7953"
             ],
             [
              0.7777777777777778,
              "#fb9f3a"
             ],
             [
              0.8888888888888888,
              "#fdca26"
             ],
             [
              1,
              "#f0f921"
             ]
            ],
            "type": "histogram2dcontour"
           }
          ],
          "mesh3d": [
           {
            "colorbar": {
             "outlinewidth": 0,
             "ticks": ""
            },
            "type": "mesh3d"
           }
          ],
          "parcoords": [
           {
            "line": {
             "colorbar": {
              "outlinewidth": 0,
              "ticks": ""
             }
            },
            "type": "parcoords"
           }
          ],
          "pie": [
           {
            "automargin": true,
            "type": "pie"
           }
          ],
          "scatter": [
           {
            "fillpattern": {
             "fillmode": "overlay",
             "size": 10,
             "solidity": 0.2
            },
            "type": "scatter"
           }
          ],
          "scatter3d": [
           {
            "line": {
             "colorbar": {
              "outlinewidth": 0,
              "ticks": ""
             }
            },
            "marker": {
             "colorbar": {
              "outlinewidth": 0,
              "ticks": ""
             }
            },
            "type": "scatter3d"
           }
          ],
          "scattercarpet": [
           {
            "marker": {
             "colorbar": {
              "outlinewidth": 0,
              "ticks": ""
             }
            },
            "type": "scattercarpet"
           }
          ],
          "scattergeo": [
           {
            "marker": {
             "colorbar": {
              "outlinewidth": 0,
              "ticks": ""
             }
            },
            "type": "scattergeo"
           }
          ],
          "scattergl": [
           {
            "marker": {
             "colorbar": {
              "outlinewidth": 0,
              "ticks": ""
             }
            },
            "type": "scattergl"
           }
          ],
          "scattermapbox": [
           {
            "marker": {
             "colorbar": {
              "outlinewidth": 0,
              "ticks": ""
             }
            },
            "type": "scattermapbox"
           }
          ],
          "scatterpolar": [
           {
            "marker": {
             "colorbar": {
              "outlinewidth": 0,
              "ticks": ""
             }
            },
            "type": "scatterpolar"
           }
          ],
          "scatterpolargl": [
           {
            "marker": {
             "colorbar": {
              "outlinewidth": 0,
              "ticks": ""
             }
            },
            "type": "scatterpolargl"
           }
          ],
          "scatterternary": [
           {
            "marker": {
             "colorbar": {
              "outlinewidth": 0,
              "ticks": ""
             }
            },
            "type": "scatterternary"
           }
          ],
          "surface": [
           {
            "colorbar": {
             "outlinewidth": 0,
             "ticks": ""
            },
            "colorscale": [
             [
              0,
              "#0d0887"
             ],
             [
              0.1111111111111111,
              "#46039f"
             ],
             [
              0.2222222222222222,
              "#7201a8"
             ],
             [
              0.3333333333333333,
              "#9c179e"
             ],
             [
              0.4444444444444444,
              "#bd3786"
             ],
             [
              0.5555555555555556,
              "#d8576b"
             ],
             [
              0.6666666666666666,
              "#ed7953"
             ],
             [
              0.7777777777777778,
              "#fb9f3a"
             ],
             [
              0.8888888888888888,
              "#fdca26"
             ],
             [
              1,
              "#f0f921"
             ]
            ],
            "type": "surface"
           }
          ],
          "table": [
           {
            "cells": {
             "fill": {
              "color": "#EBF0F8"
             },
             "line": {
              "color": "white"
             }
            },
            "header": {
             "fill": {
              "color": "#C8D4E3"
             },
             "line": {
              "color": "white"
             }
            },
            "type": "table"
           }
          ]
         },
         "layout": {
          "annotationdefaults": {
           "arrowcolor": "#2a3f5f",
           "arrowhead": 0,
           "arrowwidth": 1
          },
          "autotypenumbers": "strict",
          "coloraxis": {
           "colorbar": {
            "outlinewidth": 0,
            "ticks": ""
           }
          },
          "colorscale": {
           "diverging": [
            [
             0,
             "#8e0152"
            ],
            [
             0.1,
             "#c51b7d"
            ],
            [
             0.2,
             "#de77ae"
            ],
            [
             0.3,
             "#f1b6da"
            ],
            [
             0.4,
             "#fde0ef"
            ],
            [
             0.5,
             "#f7f7f7"
            ],
            [
             0.6,
             "#e6f5d0"
            ],
            [
             0.7,
             "#b8e186"
            ],
            [
             0.8,
             "#7fbc41"
            ],
            [
             0.9,
             "#4d9221"
            ],
            [
             1,
             "#276419"
            ]
           ],
           "sequential": [
            [
             0,
             "#0d0887"
            ],
            [
             0.1111111111111111,
             "#46039f"
            ],
            [
             0.2222222222222222,
             "#7201a8"
            ],
            [
             0.3333333333333333,
             "#9c179e"
            ],
            [
             0.4444444444444444,
             "#bd3786"
            ],
            [
             0.5555555555555556,
             "#d8576b"
            ],
            [
             0.6666666666666666,
             "#ed7953"
            ],
            [
             0.7777777777777778,
             "#fb9f3a"
            ],
            [
             0.8888888888888888,
             "#fdca26"
            ],
            [
             1,
             "#f0f921"
            ]
           ],
           "sequentialminus": [
            [
             0,
             "#0d0887"
            ],
            [
             0.1111111111111111,
             "#46039f"
            ],
            [
             0.2222222222222222,
             "#7201a8"
            ],
            [
             0.3333333333333333,
             "#9c179e"
            ],
            [
             0.4444444444444444,
             "#bd3786"
            ],
            [
             0.5555555555555556,
             "#d8576b"
            ],
            [
             0.6666666666666666,
             "#ed7953"
            ],
            [
             0.7777777777777778,
             "#fb9f3a"
            ],
            [
             0.8888888888888888,
             "#fdca26"
            ],
            [
             1,
             "#f0f921"
            ]
           ]
          },
          "colorway": [
           "#636efa",
           "#EF553B",
           "#00cc96",
           "#ab63fa",
           "#FFA15A",
           "#19d3f3",
           "#FF6692",
           "#B6E880",
           "#FF97FF",
           "#FECB52"
          ],
          "font": {
           "color": "#2a3f5f"
          },
          "geo": {
           "bgcolor": "white",
           "lakecolor": "white",
           "landcolor": "#E5ECF6",
           "showlakes": true,
           "showland": true,
           "subunitcolor": "white"
          },
          "hoverlabel": {
           "align": "left"
          },
          "hovermode": "closest",
          "mapbox": {
           "style": "light"
          },
          "paper_bgcolor": "white",
          "plot_bgcolor": "#E5ECF6",
          "polar": {
           "angularaxis": {
            "gridcolor": "white",
            "linecolor": "white",
            "ticks": ""
           },
           "bgcolor": "#E5ECF6",
           "radialaxis": {
            "gridcolor": "white",
            "linecolor": "white",
            "ticks": ""
           }
          },
          "scene": {
           "xaxis": {
            "backgroundcolor": "#E5ECF6",
            "gridcolor": "white",
            "gridwidth": 2,
            "linecolor": "white",
            "showbackground": true,
            "ticks": "",
            "zerolinecolor": "white"
           },
           "yaxis": {
            "backgroundcolor": "#E5ECF6",
            "gridcolor": "white",
            "gridwidth": 2,
            "linecolor": "white",
            "showbackground": true,
            "ticks": "",
            "zerolinecolor": "white"
           },
           "zaxis": {
            "backgroundcolor": "#E5ECF6",
            "gridcolor": "white",
            "gridwidth": 2,
            "linecolor": "white",
            "showbackground": true,
            "ticks": "",
            "zerolinecolor": "white"
           }
          },
          "shapedefaults": {
           "line": {
            "color": "#2a3f5f"
           }
          },
          "ternary": {
           "aaxis": {
            "gridcolor": "white",
            "linecolor": "white",
            "ticks": ""
           },
           "baxis": {
            "gridcolor": "white",
            "linecolor": "white",
            "ticks": ""
           },
           "bgcolor": "#E5ECF6",
           "caxis": {
            "gridcolor": "white",
            "linecolor": "white",
            "ticks": ""
           }
          },
          "title": {
           "x": 0.05
          },
          "xaxis": {
           "automargin": true,
           "gridcolor": "white",
           "linecolor": "white",
           "ticks": "",
           "title": {
            "standoff": 15
           },
           "zerolinecolor": "white",
           "zerolinewidth": 2
          },
          "yaxis": {
           "automargin": true,
           "gridcolor": "white",
           "linecolor": "white",
           "ticks": "",
           "title": {
            "standoff": 15
           },
           "zerolinecolor": "white",
           "zerolinewidth": 2
          }
         }
        },
        "title": {
         "text": "Profile visits vs Follows"
        },
        "xaxis": {
         "anchor": "y",
         "domain": [
          0,
          1
         ],
         "title": {
          "text": "Profile Visits"
         }
        },
        "yaxis": {
         "anchor": "x",
         "domain": [
          0,
          1
         ],
         "title": {
          "text": "Follows"
         }
        }
       }
      },
      "text/html": [
       "<div>                            <div id=\"ab89caf1-7531-41b5-954f-e40208c4bd05\" class=\"plotly-graph-div\" style=\"height:525px; width:100%;\"></div>            <script type=\"text/javascript\">                require([\"plotly\"], function(Plotly) {                    window.PLOTLYENV=window.PLOTLYENV || {};                                    if (document.getElementById(\"ab89caf1-7531-41b5-954f-e40208c4bd05\")) {                    Plotly.newPlot(                        \"ab89caf1-7531-41b5-954f-e40208c4bd05\",                        [{\"hovertemplate\":\"Profile Visits=%{x}<br>Follows=%{y}<extra></extra>\",\"legendgroup\":\"\",\"marker\":{\"color\":\"#636efa\",\"symbol\":\"circle\"},\"mode\":\"markers\",\"name\":\"\",\"orientation\":\"v\",\"showlegend\":false,\"x\":[35,48,62,23,8,9,26,12,36,31,29,15,8,20,181,17,16,21,77,10,9,11,144,14,10,19,69,11,19,9,57,13,11,24,81,4,7,14,18,8,330,21,19,32,19,21,14,30,39,42,31,20,12,22,306,13,26,16,15,15,39,21,8,45,50,37,25,347,26,48,16,26,17,52,22,41,155,12,22,20,23,25,17,16,21,77,10,14,30,39,42,31,14,10,19,69,11,19,9,38,42,92,75,21,26,39,74,467,24,70,22,46,61,237,73,20,34,148,611],\"xaxis\":\"x\",\"y\":[2,10,12,8,0,2,0,6,4,6,4,0,2,4,42,6,2,2,30,0,0,24,100,2,4,6,6,6,2,2,20,2,4,8,26,2,2,4,0,2,94,8,18,10,4,4,4,4,18,38,10,12,4,4,74,0,6,6,0,6,12,10,8,8,46,12,10,94,6,10,6,4,12,16,12,8,32,8,16,6,10,10,6,2,2,30,0,4,4,18,38,10,2,4,6,6,6,2,2,14,8,14,28,18,12,34,26,260,16,96,20,30,58,100,80,18,10,214,228],\"yaxis\":\"y\",\"type\":\"scatter\"}],                        {\"template\":{\"data\":{\"histogram2dcontour\":[{\"type\":\"histogram2dcontour\",\"colorbar\":{\"outlinewidth\":0,\"ticks\":\"\"},\"colorscale\":[[0.0,\"#0d0887\"],[0.1111111111111111,\"#46039f\"],[0.2222222222222222,\"#7201a8\"],[0.3333333333333333,\"#9c179e\"],[0.4444444444444444,\"#bd3786\"],[0.5555555555555556,\"#d8576b\"],[0.6666666666666666,\"#ed7953\"],[0.7777777777777778,\"#fb9f3a\"],[0.8888888888888888,\"#fdca26\"],[1.0,\"#f0f921\"]]}],\"choropleth\":[{\"type\":\"choropleth\",\"colorbar\":{\"outlinewidth\":0,\"ticks\":\"\"}}],\"histogram2d\":[{\"type\":\"histogram2d\",\"colorbar\":{\"outlinewidth\":0,\"ticks\":\"\"},\"colorscale\":[[0.0,\"#0d0887\"],[0.1111111111111111,\"#46039f\"],[0.2222222222222222,\"#7201a8\"],[0.3333333333333333,\"#9c179e\"],[0.4444444444444444,\"#bd3786\"],[0.5555555555555556,\"#d8576b\"],[0.6666666666666666,\"#ed7953\"],[0.7777777777777778,\"#fb9f3a\"],[0.8888888888888888,\"#fdca26\"],[1.0,\"#f0f921\"]]}],\"heatmap\":[{\"type\":\"heatmap\",\"colorbar\":{\"outlinewidth\":0,\"ticks\":\"\"},\"colorscale\":[[0.0,\"#0d0887\"],[0.1111111111111111,\"#46039f\"],[0.2222222222222222,\"#7201a8\"],[0.3333333333333333,\"#9c179e\"],[0.4444444444444444,\"#bd3786\"],[0.5555555555555556,\"#d8576b\"],[0.6666666666666666,\"#ed7953\"],[0.7777777777777778,\"#fb9f3a\"],[0.8888888888888888,\"#fdca26\"],[1.0,\"#f0f921\"]]}],\"heatmapgl\":[{\"type\":\"heatmapgl\",\"colorbar\":{\"outlinewidth\":0,\"ticks\":\"\"},\"colorscale\":[[0.0,\"#0d0887\"],[0.1111111111111111,\"#46039f\"],[0.2222222222222222,\"#7201a8\"],[0.3333333333333333,\"#9c179e\"],[0.4444444444444444,\"#bd3786\"],[0.5555555555555556,\"#d8576b\"],[0.6666666666666666,\"#ed7953\"],[0.7777777777777778,\"#fb9f3a\"],[0.8888888888888888,\"#fdca26\"],[1.0,\"#f0f921\"]]}],\"contourcarpet\":[{\"type\":\"contourcarpet\",\"colorbar\":{\"outlinewidth\":0,\"ticks\":\"\"}}],\"contour\":[{\"type\":\"contour\",\"colorbar\":{\"outlinewidth\":0,\"ticks\":\"\"},\"colorscale\":[[0.0,\"#0d0887\"],[0.1111111111111111,\"#46039f\"],[0.2222222222222222,\"#7201a8\"],[0.3333333333333333,\"#9c179e\"],[0.4444444444444444,\"#bd3786\"],[0.5555555555555556,\"#d8576b\"],[0.6666666666666666,\"#ed7953\"],[0.7777777777777778,\"#fb9f3a\"],[0.8888888888888888,\"#fdca26\"],[1.0,\"#f0f921\"]]}],\"surface\":[{\"type\":\"surface\",\"colorbar\":{\"outlinewidth\":0,\"ticks\":\"\"},\"colorscale\":[[0.0,\"#0d0887\"],[0.1111111111111111,\"#46039f\"],[0.2222222222222222,\"#7201a8\"],[0.3333333333333333,\"#9c179e\"],[0.4444444444444444,\"#bd3786\"],[0.5555555555555556,\"#d8576b\"],[0.6666666666666666,\"#ed7953\"],[0.7777777777777778,\"#fb9f3a\"],[0.8888888888888888,\"#fdca26\"],[1.0,\"#f0f921\"]]}],\"mesh3d\":[{\"type\":\"mesh3d\",\"colorbar\":{\"outlinewidth\":0,\"ticks\":\"\"}}],\"scatter\":[{\"fillpattern\":{\"fillmode\":\"overlay\",\"size\":10,\"solidity\":0.2},\"type\":\"scatter\"}],\"parcoords\":[{\"type\":\"parcoords\",\"line\":{\"colorbar\":{\"outlinewidth\":0,\"ticks\":\"\"}}}],\"scatterpolargl\":[{\"type\":\"scatterpolargl\",\"marker\":{\"colorbar\":{\"outlinewidth\":0,\"ticks\":\"\"}}}],\"bar\":[{\"error_x\":{\"color\":\"#2a3f5f\"},\"error_y\":{\"color\":\"#2a3f5f\"},\"marker\":{\"line\":{\"color\":\"#E5ECF6\",\"width\":0.5},\"pattern\":{\"fillmode\":\"overlay\",\"size\":10,\"solidity\":0.2}},\"type\":\"bar\"}],\"scattergeo\":[{\"type\":\"scattergeo\",\"marker\":{\"colorbar\":{\"outlinewidth\":0,\"ticks\":\"\"}}}],\"scatterpolar\":[{\"type\":\"scatterpolar\",\"marker\":{\"colorbar\":{\"outlinewidth\":0,\"ticks\":\"\"}}}],\"histogram\":[{\"marker\":{\"pattern\":{\"fillmode\":\"overlay\",\"size\":10,\"solidity\":0.2}},\"type\":\"histogram\"}],\"scattergl\":[{\"type\":\"scattergl\",\"marker\":{\"colorbar\":{\"outlinewidth\":0,\"ticks\":\"\"}}}],\"scatter3d\":[{\"type\":\"scatter3d\",\"line\":{\"colorbar\":{\"outlinewidth\":0,\"ticks\":\"\"}},\"marker\":{\"colorbar\":{\"outlinewidth\":0,\"ticks\":\"\"}}}],\"scattermapbox\":[{\"type\":\"scattermapbox\",\"marker\":{\"colorbar\":{\"outlinewidth\":0,\"ticks\":\"\"}}}],\"scatterternary\":[{\"type\":\"scatterternary\",\"marker\":{\"colorbar\":{\"outlinewidth\":0,\"ticks\":\"\"}}}],\"scattercarpet\":[{\"type\":\"scattercarpet\",\"marker\":{\"colorbar\":{\"outlinewidth\":0,\"ticks\":\"\"}}}],\"carpet\":[{\"aaxis\":{\"endlinecolor\":\"#2a3f5f\",\"gridcolor\":\"white\",\"linecolor\":\"white\",\"minorgridcolor\":\"white\",\"startlinecolor\":\"#2a3f5f\"},\"baxis\":{\"endlinecolor\":\"#2a3f5f\",\"gridcolor\":\"white\",\"linecolor\":\"white\",\"minorgridcolor\":\"white\",\"startlinecolor\":\"#2a3f5f\"},\"type\":\"carpet\"}],\"table\":[{\"cells\":{\"fill\":{\"color\":\"#EBF0F8\"},\"line\":{\"color\":\"white\"}},\"header\":{\"fill\":{\"color\":\"#C8D4E3\"},\"line\":{\"color\":\"white\"}},\"type\":\"table\"}],\"barpolar\":[{\"marker\":{\"line\":{\"color\":\"#E5ECF6\",\"width\":0.5},\"pattern\":{\"fillmode\":\"overlay\",\"size\":10,\"solidity\":0.2}},\"type\":\"barpolar\"}],\"pie\":[{\"automargin\":true,\"type\":\"pie\"}]},\"layout\":{\"autotypenumbers\":\"strict\",\"colorway\":[\"#636efa\",\"#EF553B\",\"#00cc96\",\"#ab63fa\",\"#FFA15A\",\"#19d3f3\",\"#FF6692\",\"#B6E880\",\"#FF97FF\",\"#FECB52\"],\"font\":{\"color\":\"#2a3f5f\"},\"hovermode\":\"closest\",\"hoverlabel\":{\"align\":\"left\"},\"paper_bgcolor\":\"white\",\"plot_bgcolor\":\"#E5ECF6\",\"polar\":{\"bgcolor\":\"#E5ECF6\",\"angularaxis\":{\"gridcolor\":\"white\",\"linecolor\":\"white\",\"ticks\":\"\"},\"radialaxis\":{\"gridcolor\":\"white\",\"linecolor\":\"white\",\"ticks\":\"\"}},\"ternary\":{\"bgcolor\":\"#E5ECF6\",\"aaxis\":{\"gridcolor\":\"white\",\"linecolor\":\"white\",\"ticks\":\"\"},\"baxis\":{\"gridcolor\":\"white\",\"linecolor\":\"white\",\"ticks\":\"\"},\"caxis\":{\"gridcolor\":\"white\",\"linecolor\":\"white\",\"ticks\":\"\"}},\"coloraxis\":{\"colorbar\":{\"outlinewidth\":0,\"ticks\":\"\"}},\"colorscale\":{\"sequential\":[[0.0,\"#0d0887\"],[0.1111111111111111,\"#46039f\"],[0.2222222222222222,\"#7201a8\"],[0.3333333333333333,\"#9c179e\"],[0.4444444444444444,\"#bd3786\"],[0.5555555555555556,\"#d8576b\"],[0.6666666666666666,\"#ed7953\"],[0.7777777777777778,\"#fb9f3a\"],[0.8888888888888888,\"#fdca26\"],[1.0,\"#f0f921\"]],\"sequentialminus\":[[0.0,\"#0d0887\"],[0.1111111111111111,\"#46039f\"],[0.2222222222222222,\"#7201a8\"],[0.3333333333333333,\"#9c179e\"],[0.4444444444444444,\"#bd3786\"],[0.5555555555555556,\"#d8576b\"],[0.6666666666666666,\"#ed7953\"],[0.7777777777777778,\"#fb9f3a\"],[0.8888888888888888,\"#fdca26\"],[1.0,\"#f0f921\"]],\"diverging\":[[0,\"#8e0152\"],[0.1,\"#c51b7d\"],[0.2,\"#de77ae\"],[0.3,\"#f1b6da\"],[0.4,\"#fde0ef\"],[0.5,\"#f7f7f7\"],[0.6,\"#e6f5d0\"],[0.7,\"#b8e186\"],[0.8,\"#7fbc41\"],[0.9,\"#4d9221\"],[1,\"#276419\"]]},\"xaxis\":{\"gridcolor\":\"white\",\"linecolor\":\"white\",\"ticks\":\"\",\"title\":{\"standoff\":15},\"zerolinecolor\":\"white\",\"automargin\":true,\"zerolinewidth\":2},\"yaxis\":{\"gridcolor\":\"white\",\"linecolor\":\"white\",\"ticks\":\"\",\"title\":{\"standoff\":15},\"zerolinecolor\":\"white\",\"automargin\":true,\"zerolinewidth\":2},\"scene\":{\"xaxis\":{\"backgroundcolor\":\"#E5ECF6\",\"gridcolor\":\"white\",\"linecolor\":\"white\",\"showbackground\":true,\"ticks\":\"\",\"zerolinecolor\":\"white\",\"gridwidth\":2},\"yaxis\":{\"backgroundcolor\":\"#E5ECF6\",\"gridcolor\":\"white\",\"linecolor\":\"white\",\"showbackground\":true,\"ticks\":\"\",\"zerolinecolor\":\"white\",\"gridwidth\":2},\"zaxis\":{\"backgroundcolor\":\"#E5ECF6\",\"gridcolor\":\"white\",\"linecolor\":\"white\",\"showbackground\":true,\"ticks\":\"\",\"zerolinecolor\":\"white\",\"gridwidth\":2}},\"shapedefaults\":{\"line\":{\"color\":\"#2a3f5f\"}},\"annotationdefaults\":{\"arrowcolor\":\"#2a3f5f\",\"arrowhead\":0,\"arrowwidth\":1},\"geo\":{\"bgcolor\":\"white\",\"landcolor\":\"#E5ECF6\",\"subunitcolor\":\"white\",\"showland\":true,\"showlakes\":true,\"lakecolor\":\"white\"},\"title\":{\"x\":0.05},\"mapbox\":{\"style\":\"light\"}}},\"xaxis\":{\"anchor\":\"y\",\"domain\":[0.0,1.0],\"title\":{\"text\":\"Profile Visits\"}},\"yaxis\":{\"anchor\":\"x\",\"domain\":[0.0,1.0],\"title\":{\"text\":\"Follows\"}},\"legend\":{\"tracegroupgap\":0},\"title\":{\"text\":\"Profile visits vs Follows\"}},                        {\"responsive\": true}                    ).then(function(){\n",
       "                            \n",
       "var gd = document.getElementById('ab89caf1-7531-41b5-954f-e40208c4bd05');\n",
       "var x = new MutationObserver(function (mutations, observer) {{\n",
       "        var display = window.getComputedStyle(gd).display;\n",
       "        if (!display || display === 'none') {{\n",
       "            console.log([gd, 'removed!']);\n",
       "            Plotly.purge(gd);\n",
       "            observer.disconnect();\n",
       "        }}\n",
       "}});\n",
       "\n",
       "// Listen for the removal of the full notebook cells\n",
       "var notebookContainer = gd.closest('#notebook-container');\n",
       "if (notebookContainer) {{\n",
       "    x.observe(notebookContainer, {childList: true});\n",
       "}}\n",
       "\n",
       "// Listen for the clearing of the current output cell\n",
       "var outputEl = gd.closest('.output');\n",
       "if (outputEl) {{\n",
       "    x.observe(outputEl, {childList: true});\n",
       "}}\n",
       "\n",
       "                        })                };                });            </script>        </div>"
      ]
     },
     "metadata": {},
     "output_type": "display_data"
    }
   ],
   "source": [
    "fig = px.scatter(df, x='Profile Visits', y='Follows', title = 'Profile visits vs Follows')\n",
    "\n",
    "fig.show()"
   ]
  },
  {
   "cell_type": "code",
   "execution_count": 43,
   "id": "291a4d8c",
   "metadata": {},
   "outputs": [
    {
     "data": {
      "application/vnd.plotly.v1+json": {
       "config": {
        "plotlyServerURL": "https://plot.ly"
       },
       "data": [
        {
         "hovertemplate": "x: %{x}<br>y: %{y}<br>color: [%{z[0]}, %{z[1]}, %{z[2]}]<extra></extra>",
         "name": "0",
         "source": "data:image/png;base64,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",
         "type": "image",
         "xaxis": "x",
         "yaxis": "y"
        }
       ],
       "layout": {
        "template": {
         "data": {
          "bar": [
           {
            "error_x": {
             "color": "#2a3f5f"
            },
            "error_y": {
             "color": "#2a3f5f"
            },
            "marker": {
             "line": {
              "color": "#E5ECF6",
              "width": 0.5
             },
             "pattern": {
              "fillmode": "overlay",
              "size": 10,
              "solidity": 0.2
             }
            },
            "type": "bar"
           }
          ],
          "barpolar": [
           {
            "marker": {
             "line": {
              "color": "#E5ECF6",
              "width": 0.5
             },
             "pattern": {
              "fillmode": "overlay",
              "size": 10,
              "solidity": 0.2
             }
            },
            "type": "barpolar"
           }
          ],
          "carpet": [
           {
            "aaxis": {
             "endlinecolor": "#2a3f5f",
             "gridcolor": "white",
             "linecolor": "white",
             "minorgridcolor": "white",
             "startlinecolor": "#2a3f5f"
            },
            "baxis": {
             "endlinecolor": "#2a3f5f",
             "gridcolor": "white",
             "linecolor": "white",
             "minorgridcolor": "white",
             "startlinecolor": "#2a3f5f"
            },
            "type": "carpet"
           }
          ],
          "choropleth": [
           {
            "colorbar": {
             "outlinewidth": 0,
             "ticks": ""
            },
            "type": "choropleth"
           }
          ],
          "contour": [
           {
            "colorbar": {
             "outlinewidth": 0,
             "ticks": ""
            },
            "colorscale": [
             [
              0,
              "#0d0887"
             ],
             [
              0.1111111111111111,
              "#46039f"
             ],
             [
              0.2222222222222222,
              "#7201a8"
             ],
             [
              0.3333333333333333,
              "#9c179e"
             ],
             [
              0.4444444444444444,
              "#bd3786"
             ],
             [
              0.5555555555555556,
              "#d8576b"
             ],
             [
              0.6666666666666666,
              "#ed7953"
             ],
             [
              0.7777777777777778,
              "#fb9f3a"
             ],
             [
              0.8888888888888888,
              "#fdca26"
             ],
             [
              1,
              "#f0f921"
             ]
            ],
            "type": "contour"
           }
          ],
          "contourcarpet": [
           {
            "colorbar": {
             "outlinewidth": 0,
             "ticks": ""
            },
            "type": "contourcarpet"
           }
          ],
          "heatmap": [
           {
            "colorbar": {
             "outlinewidth": 0,
             "ticks": ""
            },
            "colorscale": [
             [
              0,
              "#0d0887"
             ],
             [
              0.1111111111111111,
              "#46039f"
             ],
             [
              0.2222222222222222,
              "#7201a8"
             ],
             [
              0.3333333333333333,
              "#9c179e"
             ],
             [
              0.4444444444444444,
              "#bd3786"
             ],
             [
              0.5555555555555556,
              "#d8576b"
             ],
             [
              0.6666666666666666,
              "#ed7953"
             ],
             [
              0.7777777777777778,
              "#fb9f3a"
             ],
             [
              0.8888888888888888,
              "#fdca26"
             ],
             [
              1,
              "#f0f921"
             ]
            ],
            "type": "heatmap"
           }
          ],
          "heatmapgl": [
           {
            "colorbar": {
             "outlinewidth": 0,
             "ticks": ""
            },
            "colorscale": [
             [
              0,
              "#0d0887"
             ],
             [
              0.1111111111111111,
              "#46039f"
             ],
             [
              0.2222222222222222,
              "#7201a8"
             ],
             [
              0.3333333333333333,
              "#9c179e"
             ],
             [
              0.4444444444444444,
              "#bd3786"
             ],
             [
              0.5555555555555556,
              "#d8576b"
             ],
             [
              0.6666666666666666,
              "#ed7953"
             ],
             [
              0.7777777777777778,
              "#fb9f3a"
             ],
             [
              0.8888888888888888,
              "#fdca26"
             ],
             [
              1,
              "#f0f921"
             ]
            ],
            "type": "heatmapgl"
           }
          ],
          "histogram": [
           {
            "marker": {
             "pattern": {
              "fillmode": "overlay",
              "size": 10,
              "solidity": 0.2
             }
            },
            "type": "histogram"
           }
          ],
          "histogram2d": [
           {
            "colorbar": {
             "outlinewidth": 0,
             "ticks": ""
            },
            "colorscale": [
             [
              0,
              "#0d0887"
             ],
             [
              0.1111111111111111,
              "#46039f"
             ],
             [
              0.2222222222222222,
              "#7201a8"
             ],
             [
              0.3333333333333333,
              "#9c179e"
             ],
             [
              0.4444444444444444,
              "#bd3786"
             ],
             [
              0.5555555555555556,
              "#d8576b"
             ],
             [
              0.6666666666666666,
              "#ed7953"
             ],
             [
              0.7777777777777778,
              "#fb9f3a"
             ],
             [
              0.8888888888888888,
              "#fdca26"
             ],
             [
              1,
              "#f0f921"
             ]
            ],
            "type": "histogram2d"
           }
          ],
          "histogram2dcontour": [
           {
            "colorbar": {
             "outlinewidth": 0,
             "ticks": ""
            },
            "colorscale": [
             [
              0,
              "#0d0887"
             ],
             [
              0.1111111111111111,
              "#46039f"
             ],
             [
              0.2222222222222222,
              "#7201a8"
             ],
             [
              0.3333333333333333,
              "#9c179e"
             ],
             [
              0.4444444444444444,
              "#bd3786"
             ],
             [
              0.5555555555555556,
              "#d8576b"
             ],
             [
              0.6666666666666666,
              "#ed7953"
             ],
             [
              0.7777777777777778,
              "#fb9f3a"
             ],
             [
              0.8888888888888888,
              "#fdca26"
             ],
             [
              1,
              "#f0f921"
             ]
            ],
            "type": "histogram2dcontour"
           }
          ],
          "mesh3d": [
           {
            "colorbar": {
             "outlinewidth": 0,
             "ticks": ""
            },
            "type": "mesh3d"
           }
          ],
          "parcoords": [
           {
            "line": {
             "colorbar": {
              "outlinewidth": 0,
              "ticks": ""
             }
            },
            "type": "parcoords"
           }
          ],
          "pie": [
           {
            "automargin": true,
            "type": "pie"
           }
          ],
          "scatter": [
           {
            "fillpattern": {
             "fillmode": "overlay",
             "size": 10,
             "solidity": 0.2
            },
            "type": "scatter"
           }
          ],
          "scatter3d": [
           {
            "line": {
             "colorbar": {
              "outlinewidth": 0,
              "ticks": ""
             }
            },
            "marker": {
             "colorbar": {
              "outlinewidth": 0,
              "ticks": ""
             }
            },
            "type": "scatter3d"
           }
          ],
          "scattercarpet": [
           {
            "marker": {
             "colorbar": {
              "outlinewidth": 0,
              "ticks": ""
             }
            },
            "type": "scattercarpet"
           }
          ],
          "scattergeo": [
           {
            "marker": {
             "colorbar": {
              "outlinewidth": 0,
              "ticks": ""
             }
            },
            "type": "scattergeo"
           }
          ],
          "scattergl": [
           {
            "marker": {
             "colorbar": {
              "outlinewidth": 0,
              "ticks": ""
             }
            },
            "type": "scattergl"
           }
          ],
          "scattermapbox": [
           {
            "marker": {
             "colorbar": {
              "outlinewidth": 0,
              "ticks": ""
             }
            },
            "type": "scattermapbox"
           }
          ],
          "scatterpolar": [
           {
            "marker": {
             "colorbar": {
              "outlinewidth": 0,
              "ticks": ""
             }
            },
            "type": "scatterpolar"
           }
          ],
          "scatterpolargl": [
           {
            "marker": {
             "colorbar": {
              "outlinewidth": 0,
              "ticks": ""
             }
            },
            "type": "scatterpolargl"
           }
          ],
          "scatterternary": [
           {
            "marker": {
             "colorbar": {
              "outlinewidth": 0,
              "ticks": ""
             }
            },
            "type": "scatterternary"
           }
          ],
          "surface": [
           {
            "colorbar": {
             "outlinewidth": 0,
             "ticks": ""
            },
            "colorscale": [
             [
              0,
              "#0d0887"
             ],
             [
              0.1111111111111111,
              "#46039f"
             ],
             [
              0.2222222222222222,
              "#7201a8"
             ],
             [
              0.3333333333333333,
              "#9c179e"
             ],
             [
              0.4444444444444444,
              "#bd3786"
             ],
             [
              0.5555555555555556,
              "#d8576b"
             ],
             [
              0.6666666666666666,
              "#ed7953"
             ],
             [
              0.7777777777777778,
              "#fb9f3a"
             ],
             [
              0.8888888888888888,
              "#fdca26"
             ],
             [
              1,
              "#f0f921"
             ]
            ],
            "type": "surface"
           }
          ],
          "table": [
           {
            "cells": {
             "fill": {
              "color": "#EBF0F8"
             },
             "line": {
              "color": "white"
             }
            },
            "header": {
             "fill": {
              "color": "#C8D4E3"
             },
             "line": {
              "color": "white"
             }
            },
            "type": "table"
           }
          ]
         },
         "layout": {
          "annotationdefaults": {
           "arrowcolor": "#2a3f5f",
           "arrowhead": 0,
           "arrowwidth": 1
          },
          "autotypenumbers": "strict",
          "coloraxis": {
           "colorbar": {
            "outlinewidth": 0,
            "ticks": ""
           }
          },
          "colorscale": {
           "diverging": [
            [
             0,
             "#8e0152"
            ],
            [
             0.1,
             "#c51b7d"
            ],
            [
             0.2,
             "#de77ae"
            ],
            [
             0.3,
             "#f1b6da"
            ],
            [
             0.4,
             "#fde0ef"
            ],
            [
             0.5,
             "#f7f7f7"
            ],
            [
             0.6,
             "#e6f5d0"
            ],
            [
             0.7,
             "#b8e186"
            ],
            [
             0.8,
             "#7fbc41"
            ],
            [
             0.9,
             "#4d9221"
            ],
            [
             1,
             "#276419"
            ]
           ],
           "sequential": [
            [
             0,
             "#0d0887"
            ],
            [
             0.1111111111111111,
             "#46039f"
            ],
            [
             0.2222222222222222,
             "#7201a8"
            ],
            [
             0.3333333333333333,
             "#9c179e"
            ],
            [
             0.4444444444444444,
             "#bd3786"
            ],
            [
             0.5555555555555556,
             "#d8576b"
            ],
            [
             0.6666666666666666,
             "#ed7953"
            ],
            [
             0.7777777777777778,
             "#fb9f3a"
            ],
            [
             0.8888888888888888,
             "#fdca26"
            ],
            [
             1,
             "#f0f921"
            ]
           ],
           "sequentialminus": [
            [
             0,
             "#0d0887"
            ],
            [
             0.1111111111111111,
             "#46039f"
            ],
            [
             0.2222222222222222,
             "#7201a8"
            ],
            [
             0.3333333333333333,
             "#9c179e"
            ],
            [
             0.4444444444444444,
             "#bd3786"
            ],
            [
             0.5555555555555556,
             "#d8576b"
            ],
            [
             0.6666666666666666,
             "#ed7953"
            ],
            [
             0.7777777777777778,
             "#fb9f3a"
            ],
            [
             0.8888888888888888,
             "#fdca26"
            ],
            [
             1,
             "#f0f921"
            ]
           ]
          },
          "colorway": [
           "#636efa",
           "#EF553B",
           "#00cc96",
           "#ab63fa",
           "#FFA15A",
           "#19d3f3",
           "#FF6692",
           "#B6E880",
           "#FF97FF",
           "#FECB52"
          ],
          "font": {
           "color": "#2a3f5f"
          },
          "geo": {
           "bgcolor": "white",
           "lakecolor": "white",
           "landcolor": "#E5ECF6",
           "showlakes": true,
           "showland": true,
           "subunitcolor": "white"
          },
          "hoverlabel": {
           "align": "left"
          },
          "hovermode": "closest",
          "mapbox": {
           "style": "light"
          },
          "paper_bgcolor": "white",
          "plot_bgcolor": "#E5ECF6",
          "polar": {
           "angularaxis": {
            "gridcolor": "white",
            "linecolor": "white",
            "ticks": ""
           },
           "bgcolor": "#E5ECF6",
           "radialaxis": {
            "gridcolor": "white",
            "linecolor": "white",
            "ticks": ""
           }
          },
          "scene": {
           "xaxis": {
            "backgroundcolor": "#E5ECF6",
            "gridcolor": "white",
            "gridwidth": 2,
            "linecolor": "white",
            "showbackground": true,
            "ticks": "",
            "zerolinecolor": "white"
           },
           "yaxis": {
            "backgroundcolor": "#E5ECF6",
            "gridcolor": "white",
            "gridwidth": 2,
            "linecolor": "white",
            "showbackground": true,
            "ticks": "",
            "zerolinecolor": "white"
           },
           "zaxis": {
            "backgroundcolor": "#E5ECF6",
            "gridcolor": "white",
            "gridwidth": 2,
            "linecolor": "white",
            "showbackground": true,
            "ticks": "",
            "zerolinecolor": "white"
           }
          },
          "shapedefaults": {
           "line": {
            "color": "#2a3f5f"
           }
          },
          "ternary": {
           "aaxis": {
            "gridcolor": "white",
            "linecolor": "white",
            "ticks": ""
           },
           "baxis": {
            "gridcolor": "white",
            "linecolor": "white",
            "ticks": ""
           },
           "bgcolor": "#E5ECF6",
           "caxis": {
            "gridcolor": "white",
            "linecolor": "white",
            "ticks": ""
           }
          },
          "title": {
           "x": 0.05
          },
          "xaxis": {
           "automargin": true,
           "gridcolor": "white",
           "linecolor": "white",
           "ticks": "",
           "title": {
            "standoff": 15
           },
           "zerolinecolor": "white",
           "zerolinewidth": 2
          },
          "yaxis": {
           "automargin": true,
           "gridcolor": "white",
           "linecolor": "white",
           "ticks": "",
           "title": {
            "standoff": 15
           },
           "zerolinecolor": "white",
           "zerolinewidth": 2
          }
         }
        },
        "title": {
         "text": "Hashtags word Cloud"
        },
        "xaxis": {
         "anchor": "y",
         "domain": [
          0,
          1
         ]
        },
        "yaxis": {
         "anchor": "x",
         "domain": [
          0,
          1
         ]
        }
       }
      },
      "text/html": [
       "<div>                            <div id=\"65966793-dbd0-44bb-872b-85542643aad8\" class=\"plotly-graph-div\" style=\"height:525px; width:100%;\"></div>            <script type=\"text/javascript\">                require([\"plotly\"], function(Plotly) {                    window.PLOTLYENV=window.PLOTLYENV || {};                                    if (document.getElementById(\"65966793-dbd0-44bb-872b-85542643aad8\")) {                    Plotly.newPlot(                        \"65966793-dbd0-44bb-872b-85542643aad8\",                        [{\"name\":\"0\",\"source\":\"data:image/png;base64,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\",\"type\":\"image\",\"xaxis\":\"x\",\"yaxis\":\"y\",\"hovertemplate\":\"x: %{x}<br>y: %{y}<br>color: [%{z[0]}, %{z[1]}, %{z[2]}]<extra></extra>\"}],                        {\"template\":{\"data\":{\"histogram2dcontour\":[{\"type\":\"histogram2dcontour\",\"colorbar\":{\"outlinewidth\":0,\"ticks\":\"\"},\"colorscale\":[[0.0,\"#0d0887\"],[0.1111111111111111,\"#46039f\"],[0.2222222222222222,\"#7201a8\"],[0.3333333333333333,\"#9c179e\"],[0.4444444444444444,\"#bd3786\"],[0.5555555555555556,\"#d8576b\"],[0.6666666666666666,\"#ed7953\"],[0.7777777777777778,\"#fb9f3a\"],[0.8888888888888888,\"#fdca26\"],[1.0,\"#f0f921\"]]}],\"choropleth\":[{\"type\":\"choropleth\",\"colorbar\":{\"outlinewidth\":0,\"ticks\":\"\"}}],\"histogram2d\":[{\"type\":\"histogram2d\",\"colorbar\":{\"outlinewidth\":0,\"ticks\":\"\"},\"colorscale\":[[0.0,\"#0d0887\"],[0.1111111111111111,\"#46039f\"],[0.2222222222222222,\"#7201a8\"],[0.3333333333333333,\"#9c179e\"],[0.4444444444444444,\"#bd3786\"],[0.5555555555555556,\"#d8576b\"],[0.6666666666666666,\"#ed7953\"],[0.7777777777777778,\"#fb9f3a\"],[0.8888888888888888,\"#fdca26\"],[1.0,\"#f0f921\"]]}],\"heatmap\":[{\"type\":\"heatmap\",\"colorbar\":{\"outlinewidth\":0,\"ticks\":\"\"},\"colorscale\":[[0.0,\"#0d0887\"],[0.1111111111111111,\"#46039f\"],[0.2222222222222222,\"#7201a8\"],[0.3333333333333333,\"#9c179e\"],[0.4444444444444444,\"#bd3786\"],[0.5555555555555556,\"#d8576b\"],[0.6666666666666666,\"#ed7953\"],[0.7777777777777778,\"#fb9f3a\"],[0.8888888888888888,\"#fdca26\"],[1.0,\"#f0f921\"]]}],\"heatmapgl\":[{\"type\":\"heatmapgl\",\"colorbar\":{\"outlinewidth\":0,\"ticks\":\"\"},\"colorscale\":[[0.0,\"#0d0887\"],[0.1111111111111111,\"#46039f\"],[0.2222222222222222,\"#7201a8\"],[0.3333333333333333,\"#9c179e\"],[0.4444444444444444,\"#bd3786\"],[0.5555555555555556,\"#d8576b\"],[0.6666666666666666,\"#ed7953\"],[0.7777777777777778,\"#fb9f3a\"],[0.8888888888888888,\"#fdca26\"],[1.0,\"#f0f921\"]]}],\"contourcarpet\":[{\"type\":\"contourcarpet\",\"colorbar\":{\"outlinewidth\":0,\"ticks\":\"\"}}],\"contour\":[{\"type\":\"contour\",\"colorbar\":{\"outlinewidth\":0,\"ticks\":\"\"},\"colorscale\":[[0.0,\"#0d0887\"],[0.1111111111111111,\"#46039f\"],[0.2222222222222222,\"#7201a8\"],[0.3333333333333333,\"#9c179e\"],[0.4444444444444444,\"#bd3786\"],[0.5555555555555556,\"#d8576b\"],[0.6666666666666666,\"#ed7953\"],[0.7777777777777778,\"#fb9f3a\"],[0.8888888888888888,\"#fdca26\"],[1.0,\"#f0f921\"]]}],\"surface\":[{\"type\":\"surface\",\"colorbar\":{\"outlinewidth\":0,\"ticks\":\"\"},\"colorscale\":[[0.0,\"#0d0887\"],[0.1111111111111111,\"#46039f\"],[0.2222222222222222,\"#7201a8\"],[0.3333333333333333,\"#9c179e\"],[0.4444444444444444,\"#bd3786\"],[0.5555555555555556,\"#d8576b\"],[0.6666666666666666,\"#ed7953\"],[0.7777777777777778,\"#fb9f3a\"],[0.8888888888888888,\"#fdca26\"],[1.0,\"#f0f921\"]]}],\"mesh3d\":[{\"type\":\"mesh3d\",\"colorbar\":{\"outlinewidth\":0,\"ticks\":\"\"}}],\"scatter\":[{\"fillpattern\":{\"fillmode\":\"overlay\",\"size\":10,\"solidity\":0.2},\"type\":\"scatter\"}],\"parcoords\":[{\"type\":\"parcoords\",\"line\":{\"colorbar\":{\"outlinewidth\":0,\"ticks\":\"\"}}}],\"scatterpolargl\":[{\"type\":\"scatterpolargl\",\"marker\":{\"colorbar\":{\"outlinewidth\":0,\"ticks\":\"\"}}}],\"bar\":[{\"error_x\":{\"color\":\"#2a3f5f\"},\"error_y\":{\"color\":\"#2a3f5f\"},\"marker\":{\"line\":{\"color\":\"#E5ECF6\",\"width\":0.5},\"pattern\":{\"fillmode\":\"overlay\",\"size\":10,\"solidity\":0.2}},\"type\":\"bar\"}],\"scattergeo\":[{\"type\":\"scattergeo\",\"marker\":{\"colorbar\":{\"outlinewidth\":0,\"ticks\":\"\"}}}],\"scatterpolar\":[{\"type\":\"scatterpolar\",\"marker\":{\"colorbar\":{\"outlinewidth\":0,\"ticks\":\"\"}}}],\"histogram\":[{\"marker\":{\"pattern\":{\"fillmode\":\"overlay\",\"size\":10,\"solidity\":0.2}},\"type\":\"histogram\"}],\"scattergl\":[{\"type\":\"scattergl\",\"marker\":{\"colorbar\":{\"outlinewidth\":0,\"ticks\":\"\"}}}],\"scatter3d\":[{\"type\":\"scatter3d\",\"line\":{\"colorbar\":{\"outlinewidth\":0,\"ticks\":\"\"}},\"marker\":{\"colorbar\":{\"outlinewidth\":0,\"ticks\":\"\"}}}],\"scattermapbox\":[{\"type\":\"scattermapbox\",\"marker\":{\"colorbar\":{\"outlinewidth\":0,\"ticks\":\"\"}}}],\"scatterternary\":[{\"type\":\"scatterternary\",\"marker\":{\"colorbar\":{\"outlinewidth\":0,\"ticks\":\"\"}}}],\"scattercarpet\":[{\"type\":\"scattercarpet\",\"marker\":{\"colorbar\":{\"outlinewidth\":0,\"ticks\":\"\"}}}],\"carpet\":[{\"aaxis\":{\"endlinecolor\":\"#2a3f5f\",\"gridcolor\":\"white\",\"linecolor\":\"white\",\"minorgridcolor\":\"white\",\"startlinecolor\":\"#2a3f5f\"},\"baxis\":{\"endlinecolor\":\"#2a3f5f\",\"gridcolor\":\"white\",\"linecolor\":\"white\",\"minorgridcolor\":\"white\",\"startlinecolor\":\"#2a3f5f\"},\"type\":\"carpet\"}],\"table\":[{\"cells\":{\"fill\":{\"color\":\"#EBF0F8\"},\"line\":{\"color\":\"white\"}},\"header\":{\"fill\":{\"color\":\"#C8D4E3\"},\"line\":{\"color\":\"white\"}},\"type\":\"table\"}],\"barpolar\":[{\"marker\":{\"line\":{\"color\":\"#E5ECF6\",\"width\":0.5},\"pattern\":{\"fillmode\":\"overlay\",\"size\":10,\"solidity\":0.2}},\"type\":\"barpolar\"}],\"pie\":[{\"automargin\":true,\"type\":\"pie\"}]},\"layout\":{\"autotypenumbers\":\"strict\",\"colorway\":[\"#636efa\",\"#EF553B\",\"#00cc96\",\"#ab63fa\",\"#FFA15A\",\"#19d3f3\",\"#FF6692\",\"#B6E880\",\"#FF97FF\",\"#FECB52\"],\"font\":{\"color\":\"#2a3f5f\"},\"hovermode\":\"closest\",\"hoverlabel\":{\"align\":\"left\"},\"paper_bgcolor\":\"white\",\"plot_bgcolor\":\"#E5ECF6\",\"polar\":{\"bgcolor\":\"#E5ECF6\",\"angularaxis\":{\"gridcolor\":\"white\",\"linecolor\":\"white\",\"ticks\":\"\"},\"radialaxis\":{\"gridcolor\":\"white\",\"linecolor\":\"white\",\"ticks\":\"\"}},\"ternary\":{\"bgcolor\":\"#E5ECF6\",\"aaxis\":{\"gridcolor\":\"white\",\"linecolor\":\"white\",\"ticks\":\"\"},\"baxis\":{\"gridcolor\":\"white\",\"linecolor\":\"white\",\"ticks\":\"\"},\"caxis\":{\"gridcolor\":\"white\",\"linecolor\":\"white\",\"ticks\":\"\"}},\"coloraxis\":{\"colorbar\":{\"outlinewidth\":0,\"ticks\":\"\"}},\"colorscale\":{\"sequential\":[[0.0,\"#0d0887\"],[0.1111111111111111,\"#46039f\"],[0.2222222222222222,\"#7201a8\"],[0.3333333333333333,\"#9c179e\"],[0.4444444444444444,\"#bd3786\"],[0.5555555555555556,\"#d8576b\"],[0.6666666666666666,\"#ed7953\"],[0.7777777777777778,\"#fb9f3a\"],[0.8888888888888888,\"#fdca26\"],[1.0,\"#f0f921\"]],\"sequentialminus\":[[0.0,\"#0d0887\"],[0.1111111111111111,\"#46039f\"],[0.2222222222222222,\"#7201a8\"],[0.3333333333333333,\"#9c179e\"],[0.4444444444444444,\"#bd3786\"],[0.5555555555555556,\"#d8576b\"],[0.6666666666666666,\"#ed7953\"],[0.7777777777777778,\"#fb9f3a\"],[0.8888888888888888,\"#fdca26\"],[1.0,\"#f0f921\"]],\"diverging\":[[0,\"#8e0152\"],[0.1,\"#c51b7d\"],[0.2,\"#de77ae\"],[0.3,\"#f1b6da\"],[0.4,\"#fde0ef\"],[0.5,\"#f7f7f7\"],[0.6,\"#e6f5d0\"],[0.7,\"#b8e186\"],[0.8,\"#7fbc41\"],[0.9,\"#4d9221\"],[1,\"#276419\"]]},\"xaxis\":{\"gridcolor\":\"white\",\"linecolor\":\"white\",\"ticks\":\"\",\"title\":{\"standoff\":15},\"zerolinecolor\":\"white\",\"automargin\":true,\"zerolinewidth\":2},\"yaxis\":{\"gridcolor\":\"white\",\"linecolor\":\"white\",\"ticks\":\"\",\"title\":{\"standoff\":15},\"zerolinecolor\":\"white\",\"automargin\":true,\"zerolinewidth\":2},\"scene\":{\"xaxis\":{\"backgroundcolor\":\"#E5ECF6\",\"gridcolor\":\"white\",\"linecolor\":\"white\",\"showbackground\":true,\"ticks\":\"\",\"zerolinecolor\":\"white\",\"gridwidth\":2},\"yaxis\":{\"backgroundcolor\":\"#E5ECF6\",\"gridcolor\":\"white\",\"linecolor\":\"white\",\"showbackground\":true,\"ticks\":\"\",\"zerolinecolor\":\"white\",\"gridwidth\":2},\"zaxis\":{\"backgroundcolor\":\"#E5ECF6\",\"gridcolor\":\"white\",\"linecolor\":\"white\",\"showbackground\":true,\"ticks\":\"\",\"zerolinecolor\":\"white\",\"gridwidth\":2}},\"shapedefaults\":{\"line\":{\"color\":\"#2a3f5f\"}},\"annotationdefaults\":{\"arrowcolor\":\"#2a3f5f\",\"arrowhead\":0,\"arrowwidth\":1},\"geo\":{\"bgcolor\":\"white\",\"landcolor\":\"#E5ECF6\",\"subunitcolor\":\"white\",\"showland\":true,\"showlakes\":true,\"lakecolor\":\"white\"},\"title\":{\"x\":0.05},\"mapbox\":{\"style\":\"light\"}}},\"xaxis\":{\"anchor\":\"y\",\"domain\":[0.0,1.0]},\"yaxis\":{\"anchor\":\"x\",\"domain\":[0.0,1.0]},\"title\":{\"text\":\"Hashtags word Cloud\"}},                        {\"responsive\": true}                    ).then(function(){\n",
       "                            \n",
       "var gd = document.getElementById('65966793-dbd0-44bb-872b-85542643aad8');\n",
       "var x = new MutationObserver(function (mutations, observer) {{\n",
       "        var display = window.getComputedStyle(gd).display;\n",
       "        if (!display || display === 'none') {{\n",
       "            console.log([gd, 'removed!']);\n",
       "            Plotly.purge(gd);\n",
       "            observer.disconnect();\n",
       "        }}\n",
       "}});\n",
       "\n",
       "// Listen for the removal of the full notebook cells\n",
       "var notebookContainer = gd.closest('#notebook-container');\n",
       "if (notebookContainer) {{\n",
       "    x.observe(notebookContainer, {childList: true});\n",
       "}}\n",
       "\n",
       "// Listen for the clearing of the current output cell\n",
       "var outputEl = gd.closest('.output');\n",
       "if (outputEl) {{\n",
       "    x.observe(outputEl, {childList: true});\n",
       "}}\n",
       "\n",
       "                        })                };                });            </script>        </div>"
      ]
     },
     "metadata": {},
     "output_type": "display_data"
    }
   ],
   "source": [
    "#hashtags = ' '.join(data['Hashtags'].astype(str))\n",
    "hashtags = ' '.join(df['Hashtags'].astype(str))\n",
    "wordcloud = WordCloud().generate(hashtags)\n",
    "\n",
    "fig = px.imshow(wordcloud, title='Hashtags word Cloud')\n",
    "fig.show()"
   ]
  },
  {
   "cell_type": "code",
   "execution_count": 46,
   "id": "cf239876",
   "metadata": {},
   "outputs": [
    {
     "name": "stderr",
     "output_type": "stream",
     "text": [
      "/var/folders/kk/l7qpv_zs0q1b1zqj_4frh_dh0000gn/T/ipykernel_28130/675867233.py:1: FutureWarning:\n",
      "\n",
      "The default value of numeric_only in DataFrame.corr is deprecated. In a future version, it will default to False. Select only valid columns or specify the value of numeric_only to silence this warning.\n",
      "\n"
     ]
    },
    {
     "data": {
      "application/vnd.plotly.v1+json": {
       "config": {
        "plotlyServerURL": "https://plot.ly"
       },
       "data": [
        {
         "colorscale": [
          [
           0,
           "rgb(103,0,31)"
          ],
          [
           0.1,
           "rgb(178,24,43)"
          ],
          [
           0.2,
           "rgb(214,96,77)"
          ],
          [
           0.3,
           "rgb(244,165,130)"
          ],
          [
           0.4,
           "rgb(253,219,199)"
          ],
          [
           0.5,
           "rgb(247,247,247)"
          ],
          [
           0.6,
           "rgb(209,229,240)"
          ],
          [
           0.7,
           "rgb(146,197,222)"
          ],
          [
           0.8,
           "rgb(67,147,195)"
          ],
          [
           0.9,
           "rgb(33,102,172)"
          ],
          [
           1,
           "rgb(5,48,97)"
          ]
         ],
         "type": "heatmap",
         "x": [
          "Impressions",
          "From Home",
          "From Hashtags",
          "From Explore",
          "From Other",
          "Saves",
          "Comments",
          "Shares",
          "Likes",
          "Profile Visits",
          "Follows"
         ],
         "y": [
          "Impressions",
          "From Home",
          "From Hashtags",
          "From Explore",
          "From Other",
          "Saves",
          "Comments",
          "Shares",
          "Likes",
          "Profile Visits",
          "Follows"
         ],
         "z": [
          [
           1,
           0.8446984764644079,
           0.5607600444158378,
           0.8936074202433567,
           0.5929604758091378,
           0.7792314114268593,
           -0.028523933548663824,
           0.6346751252181763,
           0.8498353377178177,
           0.7609809286546657,
           0.8893634430344086
          ],
          [
           0.8446984764644079,
           1,
           0.1775156543309878,
           0.800573110578866,
           0.5556659551465412,
           0.768817005684724,
           0.012716248342545502,
           0.6749850448685393,
           0.698329637893805,
           0.531076205366268,
           0.6726750588858736
          ],
          [
           0.5607600444158378,
           0.1775156543309878,
           1,
           0.1904532189703739,
           0.2296233181732429,
           0.30592870314657494,
           0.1614388259073108,
           0.21951145515685286,
           0.6621242000877943,
           0.6913449048454711,
           0.5554854735531087
          ],
          [
           0.8936074202433567,
           0.800573110578866,
           0.1904532189703739,
           1,
           0.49568473618614567,
           0.7478028035868068,
           -0.15856537914498336,
           0.6157309658741993,
           0.653699336224973,
           0.5318502558055156,
           0.7960189422044351
          ],
          [
           0.5929604758091378,
           0.5556659551465412,
           0.2296233181732429,
           0.49568473618614567,
           1,
           0.3319068864386735,
           -0.1087029734222875,
           0.15683375635736396,
           0.3935104122090607,
           0.6330799446255249,
           0.5467370225356449
          ],
          [
           0.7792314114268593,
           0.768817005684724,
           0.30592870314657494,
           0.7478028035868068,
           0.3319068864386735,
           1,
           -0.026912263707560984,
           0.860324185158795,
           0.8456432932068351,
           0.36062821319868793,
           0.6284608823148304
          ],
          [
           -0.028523933548663824,
           0.012716248342545502,
           0.1614388259073108,
           -0.15856537914498336,
           -0.1087029734222875,
           -0.026912263707560984,
           1,
           0.016932532855360494,
           0.1235861027264814,
           0.09671424134518669,
           -0.060630774375331827
          ],
          [
           0.6346751252181763,
           0.6749850448685393,
           0.21951145515685286,
           0.6157309658741993,
           0.15683375635736396,
           0.860324185158795,
           0.016932532855360494,
           1,
           0.707794002688105,
           0.24536082330737743,
           0.4930698051158401
          ],
          [
           0.8498353377178177,
           0.698329637893805,
           0.6621242000877943,
           0.653699336224973,
           0.3935104122090607,
           0.8456432932068351,
           0.1235861027264814,
           0.707794002688105,
           1,
           0.6261070345218044,
           0.746333165592919
          ],
          [
           0.7609809286546657,
           0.531076205366268,
           0.6913449048454711,
           0.5318502558055156,
           0.6330799446255249,
           0.36062821319868793,
           0.09671424134518669,
           0.24536082330737743,
           0.6261070345218044,
           1,
           0.8531517459145104
          ],
          [
           0.8893634430344086,
           0.6726750588858736,
           0.5554854735531087,
           0.7960189422044351,
           0.5467370225356449,
           0.6284608823148304,
           -0.060630774375331827,
           0.4930698051158401,
           0.746333165592919,
           0.8531517459145104,
           1
          ]
         ],
         "zmax": 1,
         "zmin": -1
        }
       ],
       "layout": {
        "template": {
         "data": {
          "bar": [
           {
            "error_x": {
             "color": "#2a3f5f"
            },
            "error_y": {
             "color": "#2a3f5f"
            },
            "marker": {
             "line": {
              "color": "#E5ECF6",
              "width": 0.5
             },
             "pattern": {
              "fillmode": "overlay",
              "size": 10,
              "solidity": 0.2
             }
            },
            "type": "bar"
           }
          ],
          "barpolar": [
           {
            "marker": {
             "line": {
              "color": "#E5ECF6",
              "width": 0.5
             },
             "pattern": {
              "fillmode": "overlay",
              "size": 10,
              "solidity": 0.2
             }
            },
            "type": "barpolar"
           }
          ],
          "carpet": [
           {
            "aaxis": {
             "endlinecolor": "#2a3f5f",
             "gridcolor": "white",
             "linecolor": "white",
             "minorgridcolor": "white",
             "startlinecolor": "#2a3f5f"
            },
            "baxis": {
             "endlinecolor": "#2a3f5f",
             "gridcolor": "white",
             "linecolor": "white",
             "minorgridcolor": "white",
             "startlinecolor": "#2a3f5f"
            },
            "type": "carpet"
           }
          ],
          "choropleth": [
           {
            "colorbar": {
             "outlinewidth": 0,
             "ticks": ""
            },
            "type": "choropleth"
           }
          ],
          "contour": [
           {
            "colorbar": {
             "outlinewidth": 0,
             "ticks": ""
            },
            "colorscale": [
             [
              0,
              "#0d0887"
             ],
             [
              0.1111111111111111,
              "#46039f"
             ],
             [
              0.2222222222222222,
              "#7201a8"
             ],
             [
              0.3333333333333333,
              "#9c179e"
             ],
             [
              0.4444444444444444,
              "#bd3786"
             ],
             [
              0.5555555555555556,
              "#d8576b"
             ],
             [
              0.6666666666666666,
              "#ed7953"
             ],
             [
              0.7777777777777778,
              "#fb9f3a"
             ],
             [
              0.8888888888888888,
              "#fdca26"
             ],
             [
              1,
              "#f0f921"
             ]
            ],
            "type": "contour"
           }
          ],
          "contourcarpet": [
           {
            "colorbar": {
             "outlinewidth": 0,
             "ticks": ""
            },
            "type": "contourcarpet"
           }
          ],
          "heatmap": [
           {
            "colorbar": {
             "outlinewidth": 0,
             "ticks": ""
            },
            "colorscale": [
             [
              0,
              "#0d0887"
             ],
             [
              0.1111111111111111,
              "#46039f"
             ],
             [
              0.2222222222222222,
              "#7201a8"
             ],
             [
              0.3333333333333333,
              "#9c179e"
             ],
             [
              0.4444444444444444,
              "#bd3786"
             ],
             [
              0.5555555555555556,
              "#d8576b"
             ],
             [
              0.6666666666666666,
              "#ed7953"
             ],
             [
              0.7777777777777778,
              "#fb9f3a"
             ],
             [
              0.8888888888888888,
              "#fdca26"
             ],
             [
              1,
              "#f0f921"
             ]
            ],
            "type": "heatmap"
           }
          ],
          "heatmapgl": [
           {
            "colorbar": {
             "outlinewidth": 0,
             "ticks": ""
            },
            "colorscale": [
             [
              0,
              "#0d0887"
             ],
             [
              0.1111111111111111,
              "#46039f"
             ],
             [
              0.2222222222222222,
              "#7201a8"
             ],
             [
              0.3333333333333333,
              "#9c179e"
             ],
             [
              0.4444444444444444,
              "#bd3786"
             ],
             [
              0.5555555555555556,
              "#d8576b"
             ],
             [
              0.6666666666666666,
              "#ed7953"
             ],
             [
              0.7777777777777778,
              "#fb9f3a"
             ],
             [
              0.8888888888888888,
              "#fdca26"
             ],
             [
              1,
              "#f0f921"
             ]
            ],
            "type": "heatmapgl"
           }
          ],
          "histogram": [
           {
            "marker": {
             "pattern": {
              "fillmode": "overlay",
              "size": 10,
              "solidity": 0.2
             }
            },
            "type": "histogram"
           }
          ],
          "histogram2d": [
           {
            "colorbar": {
             "outlinewidth": 0,
             "ticks": ""
            },
            "colorscale": [
             [
              0,
              "#0d0887"
             ],
             [
              0.1111111111111111,
              "#46039f"
             ],
             [
              0.2222222222222222,
              "#7201a8"
             ],
             [
              0.3333333333333333,
              "#9c179e"
             ],
             [
              0.4444444444444444,
              "#bd3786"
             ],
             [
              0.5555555555555556,
              "#d8576b"
             ],
             [
              0.6666666666666666,
              "#ed7953"
             ],
             [
              0.7777777777777778,
              "#fb9f3a"
             ],
             [
              0.8888888888888888,
              "#fdca26"
             ],
             [
              1,
              "#f0f921"
             ]
            ],
            "type": "histogram2d"
           }
          ],
          "histogram2dcontour": [
           {
            "colorbar": {
             "outlinewidth": 0,
             "ticks": ""
            },
            "colorscale": [
             [
              0,
              "#0d0887"
             ],
             [
              0.1111111111111111,
              "#46039f"
             ],
             [
              0.2222222222222222,
              "#7201a8"
             ],
             [
              0.3333333333333333,
              "#9c179e"
             ],
             [
              0.4444444444444444,
              "#bd3786"
             ],
             [
              0.5555555555555556,
              "#d8576b"
             ],
             [
              0.6666666666666666,
              "#ed7953"
             ],
             [
              0.7777777777777778,
              "#fb9f3a"
             ],
             [
              0.8888888888888888,
              "#fdca26"
             ],
             [
              1,
              "#f0f921"
             ]
            ],
            "type": "histogram2dcontour"
           }
          ],
          "mesh3d": [
           {
            "colorbar": {
             "outlinewidth": 0,
             "ticks": ""
            },
            "type": "mesh3d"
           }
          ],
          "parcoords": [
           {
            "line": {
             "colorbar": {
              "outlinewidth": 0,
              "ticks": ""
             }
            },
            "type": "parcoords"
           }
          ],
          "pie": [
           {
            "automargin": true,
            "type": "pie"
           }
          ],
          "scatter": [
           {
            "fillpattern": {
             "fillmode": "overlay",
             "size": 10,
             "solidity": 0.2
            },
            "type": "scatter"
           }
          ],
          "scatter3d": [
           {
            "line": {
             "colorbar": {
              "outlinewidth": 0,
              "ticks": ""
             }
            },
            "marker": {
             "colorbar": {
              "outlinewidth": 0,
              "ticks": ""
             }
            },
            "type": "scatter3d"
           }
          ],
          "scattercarpet": [
           {
            "marker": {
             "colorbar": {
              "outlinewidth": 0,
              "ticks": ""
             }
            },
            "type": "scattercarpet"
           }
          ],
          "scattergeo": [
           {
            "marker": {
             "colorbar": {
              "outlinewidth": 0,
              "ticks": ""
             }
            },
            "type": "scattergeo"
           }
          ],
          "scattergl": [
           {
            "marker": {
             "colorbar": {
              "outlinewidth": 0,
              "ticks": ""
             }
            },
            "type": "scattergl"
           }
          ],
          "scattermapbox": [
           {
            "marker": {
             "colorbar": {
              "outlinewidth": 0,
              "ticks": ""
             }
            },
            "type": "scattermapbox"
           }
          ],
          "scatterpolar": [
           {
            "marker": {
             "colorbar": {
              "outlinewidth": 0,
              "ticks": ""
             }
            },
            "type": "scatterpolar"
           }
          ],
          "scatterpolargl": [
           {
            "marker": {
             "colorbar": {
              "outlinewidth": 0,
              "ticks": ""
             }
            },
            "type": "scatterpolargl"
           }
          ],
          "scatterternary": [
           {
            "marker": {
             "colorbar": {
              "outlinewidth": 0,
              "ticks": ""
             }
            },
            "type": "scatterternary"
           }
          ],
          "surface": [
           {
            "colorbar": {
             "outlinewidth": 0,
             "ticks": ""
            },
            "colorscale": [
             [
              0,
              "#0d0887"
             ],
             [
              0.1111111111111111,
              "#46039f"
             ],
             [
              0.2222222222222222,
              "#7201a8"
             ],
             [
              0.3333333333333333,
              "#9c179e"
             ],
             [
              0.4444444444444444,
              "#bd3786"
             ],
             [
              0.5555555555555556,
              "#d8576b"
             ],
             [
              0.6666666666666666,
              "#ed7953"
             ],
             [
              0.7777777777777778,
              "#fb9f3a"
             ],
             [
              0.8888888888888888,
              "#fdca26"
             ],
             [
              1,
              "#f0f921"
             ]
            ],
            "type": "surface"
           }
          ],
          "table": [
           {
            "cells": {
             "fill": {
              "color": "#EBF0F8"
             },
             "line": {
              "color": "white"
             }
            },
            "header": {
             "fill": {
              "color": "#C8D4E3"
             },
             "line": {
              "color": "white"
             }
            },
            "type": "table"
           }
          ]
         },
         "layout": {
          "annotationdefaults": {
           "arrowcolor": "#2a3f5f",
           "arrowhead": 0,
           "arrowwidth": 1
          },
          "autotypenumbers": "strict",
          "coloraxis": {
           "colorbar": {
            "outlinewidth": 0,
            "ticks": ""
           }
          },
          "colorscale": {
           "diverging": [
            [
             0,
             "#8e0152"
            ],
            [
             0.1,
             "#c51b7d"
            ],
            [
             0.2,
             "#de77ae"
            ],
            [
             0.3,
             "#f1b6da"
            ],
            [
             0.4,
             "#fde0ef"
            ],
            [
             0.5,
             "#f7f7f7"
            ],
            [
             0.6,
             "#e6f5d0"
            ],
            [
             0.7,
             "#b8e186"
            ],
            [
             0.8,
             "#7fbc41"
            ],
            [
             0.9,
             "#4d9221"
            ],
            [
             1,
             "#276419"
            ]
           ],
           "sequential": [
            [
             0,
             "#0d0887"
            ],
            [
             0.1111111111111111,
             "#46039f"
            ],
            [
             0.2222222222222222,
             "#7201a8"
            ],
            [
             0.3333333333333333,
             "#9c179e"
            ],
            [
             0.4444444444444444,
             "#bd3786"
            ],
            [
             0.5555555555555556,
             "#d8576b"
            ],
            [
             0.6666666666666666,
             "#ed7953"
            ],
            [
             0.7777777777777778,
             "#fb9f3a"
            ],
            [
             0.8888888888888888,
             "#fdca26"
            ],
            [
             1,
             "#f0f921"
            ]
           ],
           "sequentialminus": [
            [
             0,
             "#0d0887"
            ],
            [
             0.1111111111111111,
             "#46039f"
            ],
            [
             0.2222222222222222,
             "#7201a8"
            ],
            [
             0.3333333333333333,
             "#9c179e"
            ],
            [
             0.4444444444444444,
             "#bd3786"
            ],
            [
             0.5555555555555556,
             "#d8576b"
            ],
            [
             0.6666666666666666,
             "#ed7953"
            ],
            [
             0.7777777777777778,
             "#fb9f3a"
            ],
            [
             0.8888888888888888,
             "#fdca26"
            ],
            [
             1,
             "#f0f921"
            ]
           ]
          },
          "colorway": [
           "#636efa",
           "#EF553B",
           "#00cc96",
           "#ab63fa",
           "#FFA15A",
           "#19d3f3",
           "#FF6692",
           "#B6E880",
           "#FF97FF",
           "#FECB52"
          ],
          "font": {
           "color": "#2a3f5f"
          },
          "geo": {
           "bgcolor": "white",
           "lakecolor": "white",
           "landcolor": "#E5ECF6",
           "showlakes": true,
           "showland": true,
           "subunitcolor": "white"
          },
          "hoverlabel": {
           "align": "left"
          },
          "hovermode": "closest",
          "mapbox": {
           "style": "light"
          },
          "paper_bgcolor": "white",
          "plot_bgcolor": "#E5ECF6",
          "polar": {
           "angularaxis": {
            "gridcolor": "white",
            "linecolor": "white",
            "ticks": ""
           },
           "bgcolor": "#E5ECF6",
           "radialaxis": {
            "gridcolor": "white",
            "linecolor": "white",
            "ticks": ""
           }
          },
          "scene": {
           "xaxis": {
            "backgroundcolor": "#E5ECF6",
            "gridcolor": "white",
            "gridwidth": 2,
            "linecolor": "white",
            "showbackground": true,
            "ticks": "",
            "zerolinecolor": "white"
           },
           "yaxis": {
            "backgroundcolor": "#E5ECF6",
            "gridcolor": "white",
            "gridwidth": 2,
            "linecolor": "white",
            "showbackground": true,
            "ticks": "",
            "zerolinecolor": "white"
           },
           "zaxis": {
            "backgroundcolor": "#E5ECF6",
            "gridcolor": "white",
            "gridwidth": 2,
            "linecolor": "white",
            "showbackground": true,
            "ticks": "",
            "zerolinecolor": "white"
           }
          },
          "shapedefaults": {
           "line": {
            "color": "#2a3f5f"
           }
          },
          "ternary": {
           "aaxis": {
            "gridcolor": "white",
            "linecolor": "white",
            "ticks": ""
           },
           "baxis": {
            "gridcolor": "white",
            "linecolor": "white",
            "ticks": ""
           },
           "bgcolor": "#E5ECF6",
           "caxis": {
            "gridcolor": "white",
            "linecolor": "white",
            "ticks": ""
           }
          },
          "title": {
           "x": 0.05
          },
          "xaxis": {
           "automargin": true,
           "gridcolor": "white",
           "linecolor": "white",
           "ticks": "",
           "title": {
            "standoff": 15
           },
           "zerolinecolor": "white",
           "zerolinewidth": 2
          },
          "yaxis": {
           "automargin": true,
           "gridcolor": "white",
           "linecolor": "white",
           "ticks": "",
           "title": {
            "standoff": 15
           },
           "zerolinecolor": "white",
           "zerolinewidth": 2
          }
         }
        },
        "title": {
         "text": "Correlation Matrix"
        },
        "xaxis": {
         "title": {
          "text": "Features"
         }
        },
        "yaxis": {
         "title": {
          "text": "Features"
         }
        }
       }
      },
      "text/html": [
       "<div>                            <div id=\"8dd7c4ea-bde9-4841-86c4-cafe3e9bf5e4\" class=\"plotly-graph-div\" style=\"height:525px; width:100%;\"></div>            <script type=\"text/javascript\">                require([\"plotly\"], function(Plotly) {                    window.PLOTLYENV=window.PLOTLYENV || {};                                    if (document.getElementById(\"8dd7c4ea-bde9-4841-86c4-cafe3e9bf5e4\")) {                    Plotly.newPlot(                        \"8dd7c4ea-bde9-4841-86c4-cafe3e9bf5e4\",                        [{\"colorscale\":[[0.0,\"rgb(103,0,31)\"],[0.1,\"rgb(178,24,43)\"],[0.2,\"rgb(214,96,77)\"],[0.3,\"rgb(244,165,130)\"],[0.4,\"rgb(253,219,199)\"],[0.5,\"rgb(247,247,247)\"],[0.6,\"rgb(209,229,240)\"],[0.7,\"rgb(146,197,222)\"],[0.8,\"rgb(67,147,195)\"],[0.9,\"rgb(33,102,172)\"],[1.0,\"rgb(5,48,97)\"]],\"x\":[\"Impressions\",\"From Home\",\"From Hashtags\",\"From Explore\",\"From Other\",\"Saves\",\"Comments\",\"Shares\",\"Likes\",\"Profile Visits\",\"Follows\"],\"y\":[\"Impressions\",\"From Home\",\"From Hashtags\",\"From Explore\",\"From Other\",\"Saves\",\"Comments\",\"Shares\",\"Likes\",\"Profile Visits\",\"Follows\"],\"z\":[[1.0,0.8446984764644079,0.5607600444158378,0.8936074202433567,0.5929604758091378,0.7792314114268593,-0.028523933548663824,0.6346751252181763,0.8498353377178177,0.7609809286546657,0.8893634430344086],[0.8446984764644079,1.0,0.1775156543309878,0.800573110578866,0.5556659551465412,0.768817005684724,0.012716248342545502,0.6749850448685393,0.698329637893805,0.531076205366268,0.6726750588858736],[0.5607600444158378,0.1775156543309878,1.0,0.1904532189703739,0.2296233181732429,0.30592870314657494,0.1614388259073108,0.21951145515685286,0.6621242000877943,0.6913449048454711,0.5554854735531087],[0.8936074202433567,0.800573110578866,0.1904532189703739,1.0,0.49568473618614567,0.7478028035868068,-0.15856537914498336,0.6157309658741993,0.653699336224973,0.5318502558055156,0.7960189422044351],[0.5929604758091378,0.5556659551465412,0.2296233181732429,0.49568473618614567,1.0,0.3319068864386735,-0.1087029734222875,0.15683375635736396,0.3935104122090607,0.6330799446255249,0.5467370225356449],[0.7792314114268593,0.768817005684724,0.30592870314657494,0.7478028035868068,0.3319068864386735,1.0,-0.026912263707560984,0.860324185158795,0.8456432932068351,0.36062821319868793,0.6284608823148304],[-0.028523933548663824,0.012716248342545502,0.1614388259073108,-0.15856537914498336,-0.1087029734222875,-0.026912263707560984,1.0,0.016932532855360494,0.1235861027264814,0.09671424134518669,-0.060630774375331827],[0.6346751252181763,0.6749850448685393,0.21951145515685286,0.6157309658741993,0.15683375635736396,0.860324185158795,0.016932532855360494,1.0,0.707794002688105,0.24536082330737743,0.4930698051158401],[0.8498353377178177,0.698329637893805,0.6621242000877943,0.653699336224973,0.3935104122090607,0.8456432932068351,0.1235861027264814,0.707794002688105,1.0,0.6261070345218044,0.746333165592919],[0.7609809286546657,0.531076205366268,0.6913449048454711,0.5318502558055156,0.6330799446255249,0.36062821319868793,0.09671424134518669,0.24536082330737743,0.6261070345218044,1.0,0.8531517459145104],[0.8893634430344086,0.6726750588858736,0.5554854735531087,0.7960189422044351,0.5467370225356449,0.6284608823148304,-0.060630774375331827,0.4930698051158401,0.746333165592919,0.8531517459145104,1.0]],\"zmax\":1,\"zmin\":-1,\"type\":\"heatmap\"}],                        {\"template\":{\"data\":{\"histogram2dcontour\":[{\"type\":\"histogram2dcontour\",\"colorbar\":{\"outlinewidth\":0,\"ticks\":\"\"},\"colorscale\":[[0.0,\"#0d0887\"],[0.1111111111111111,\"#46039f\"],[0.2222222222222222,\"#7201a8\"],[0.3333333333333333,\"#9c179e\"],[0.4444444444444444,\"#bd3786\"],[0.5555555555555556,\"#d8576b\"],[0.6666666666666666,\"#ed7953\"],[0.7777777777777778,\"#fb9f3a\"],[0.8888888888888888,\"#fdca26\"],[1.0,\"#f0f921\"]]}],\"choropleth\":[{\"type\":\"choropleth\",\"colorbar\":{\"outlinewidth\":0,\"ticks\":\"\"}}],\"histogram2d\":[{\"type\":\"histogram2d\",\"colorbar\":{\"outlinewidth\":0,\"ticks\":\"\"},\"colorscale\":[[0.0,\"#0d0887\"],[0.1111111111111111,\"#46039f\"],[0.2222222222222222,\"#7201a8\"],[0.3333333333333333,\"#9c179e\"],[0.4444444444444444,\"#bd3786\"],[0.5555555555555556,\"#d8576b\"],[0.6666666666666666,\"#ed7953\"],[0.7777777777777778,\"#fb9f3a\"],[0.8888888888888888,\"#fdca26\"],[1.0,\"#f0f921\"]]}],\"heatmap\":[{\"type\":\"heatmap\",\"colorbar\":{\"outlinewidth\":0,\"ticks\":\"\"},\"colorscale\":[[0.0,\"#0d0887\"],[0.1111111111111111,\"#46039f\"],[0.2222222222222222,\"#7201a8\"],[0.3333333333333333,\"#9c179e\"],[0.4444444444444444,\"#bd3786\"],[0.5555555555555556,\"#d8576b\"],[0.6666666666666666,\"#ed7953\"],[0.7777777777777778,\"#fb9f3a\"],[0.8888888888888888,\"#fdca26\"],[1.0,\"#f0f921\"]]}],\"heatmapgl\":[{\"type\":\"heatmapgl\",\"colorbar\":{\"outlinewidth\":0,\"ticks\":\"\"},\"colorscale\":[[0.0,\"#0d0887\"],[0.1111111111111111,\"#46039f\"],[0.2222222222222222,\"#7201a8\"],[0.3333333333333333,\"#9c179e\"],[0.4444444444444444,\"#bd3786\"],[0.5555555555555556,\"#d8576b\"],[0.6666666666666666,\"#ed7953\"],[0.7777777777777778,\"#fb9f3a\"],[0.8888888888888888,\"#fdca26\"],[1.0,\"#f0f921\"]]}],\"contourcarpet\":[{\"type\":\"contourcarpet\",\"colorbar\":{\"outlinewidth\":0,\"ticks\":\"\"}}],\"contour\":[{\"type\":\"contour\",\"colorbar\":{\"outlinewidth\":0,\"ticks\":\"\"},\"colorscale\":[[0.0,\"#0d0887\"],[0.1111111111111111,\"#46039f\"],[0.2222222222222222,\"#7201a8\"],[0.3333333333333333,\"#9c179e\"],[0.4444444444444444,\"#bd3786\"],[0.5555555555555556,\"#d8576b\"],[0.6666666666666666,\"#ed7953\"],[0.7777777777777778,\"#fb9f3a\"],[0.8888888888888888,\"#fdca26\"],[1.0,\"#f0f921\"]]}],\"surface\":[{\"type\":\"surface\",\"colorbar\":{\"outlinewidth\":0,\"ticks\":\"\"},\"colorscale\":[[0.0,\"#0d0887\"],[0.1111111111111111,\"#46039f\"],[0.2222222222222222,\"#7201a8\"],[0.3333333333333333,\"#9c179e\"],[0.4444444444444444,\"#bd3786\"],[0.5555555555555556,\"#d8576b\"],[0.6666666666666666,\"#ed7953\"],[0.7777777777777778,\"#fb9f3a\"],[0.8888888888888888,\"#fdca26\"],[1.0,\"#f0f921\"]]}],\"mesh3d\":[{\"type\":\"mesh3d\",\"colorbar\":{\"outlinewidth\":0,\"ticks\":\"\"}}],\"scatter\":[{\"fillpattern\":{\"fillmode\":\"overlay\",\"size\":10,\"solidity\":0.2},\"type\":\"scatter\"}],\"parcoords\":[{\"type\":\"parcoords\",\"line\":{\"colorbar\":{\"outlinewidth\":0,\"ticks\":\"\"}}}],\"scatterpolargl\":[{\"type\":\"scatterpolargl\",\"marker\":{\"colorbar\":{\"outlinewidth\":0,\"ticks\":\"\"}}}],\"bar\":[{\"error_x\":{\"color\":\"#2a3f5f\"},\"error_y\":{\"color\":\"#2a3f5f\"},\"marker\":{\"line\":{\"color\":\"#E5ECF6\",\"width\":0.5},\"pattern\":{\"fillmode\":\"overlay\",\"size\":10,\"solidity\":0.2}},\"type\":\"bar\"}],\"scattergeo\":[{\"type\":\"scattergeo\",\"marker\":{\"colorbar\":{\"outlinewidth\":0,\"ticks\":\"\"}}}],\"scatterpolar\":[{\"type\":\"scatterpolar\",\"marker\":{\"colorbar\":{\"outlinewidth\":0,\"ticks\":\"\"}}}],\"histogram\":[{\"marker\":{\"pattern\":{\"fillmode\":\"overlay\",\"size\":10,\"solidity\":0.2}},\"type\":\"histogram\"}],\"scattergl\":[{\"type\":\"scattergl\",\"marker\":{\"colorbar\":{\"outlinewidth\":0,\"ticks\":\"\"}}}],\"scatter3d\":[{\"type\":\"scatter3d\",\"line\":{\"colorbar\":{\"outlinewidth\":0,\"ticks\":\"\"}},\"marker\":{\"colorbar\":{\"outlinewidth\":0,\"ticks\":\"\"}}}],\"scattermapbox\":[{\"type\":\"scattermapbox\",\"marker\":{\"colorbar\":{\"outlinewidth\":0,\"ticks\":\"\"}}}],\"scatterternary\":[{\"type\":\"scatterternary\",\"marker\":{\"colorbar\":{\"outlinewidth\":0,\"ticks\":\"\"}}}],\"scattercarpet\":[{\"type\":\"scattercarpet\",\"marker\":{\"colorbar\":{\"outlinewidth\":0,\"ticks\":\"\"}}}],\"carpet\":[{\"aaxis\":{\"endlinecolor\":\"#2a3f5f\",\"gridcolor\":\"white\",\"linecolor\":\"white\",\"minorgridcolor\":\"white\",\"startlinecolor\":\"#2a3f5f\"},\"baxis\":{\"endlinecolor\":\"#2a3f5f\",\"gridcolor\":\"white\",\"linecolor\":\"white\",\"minorgridcolor\":\"white\",\"startlinecolor\":\"#2a3f5f\"},\"type\":\"carpet\"}],\"table\":[{\"cells\":{\"fill\":{\"color\":\"#EBF0F8\"},\"line\":{\"color\":\"white\"}},\"header\":{\"fill\":{\"color\":\"#C8D4E3\"},\"line\":{\"color\":\"white\"}},\"type\":\"table\"}],\"barpolar\":[{\"marker\":{\"line\":{\"color\":\"#E5ECF6\",\"width\":0.5},\"pattern\":{\"fillmode\":\"overlay\",\"size\":10,\"solidity\":0.2}},\"type\":\"barpolar\"}],\"pie\":[{\"automargin\":true,\"type\":\"pie\"}]},\"layout\":{\"autotypenumbers\":\"strict\",\"colorway\":[\"#636efa\",\"#EF553B\",\"#00cc96\",\"#ab63fa\",\"#FFA15A\",\"#19d3f3\",\"#FF6692\",\"#B6E880\",\"#FF97FF\",\"#FECB52\"],\"font\":{\"color\":\"#2a3f5f\"},\"hovermode\":\"closest\",\"hoverlabel\":{\"align\":\"left\"},\"paper_bgcolor\":\"white\",\"plot_bgcolor\":\"#E5ECF6\",\"polar\":{\"bgcolor\":\"#E5ECF6\",\"angularaxis\":{\"gridcolor\":\"white\",\"linecolor\":\"white\",\"ticks\":\"\"},\"radialaxis\":{\"gridcolor\":\"white\",\"linecolor\":\"white\",\"ticks\":\"\"}},\"ternary\":{\"bgcolor\":\"#E5ECF6\",\"aaxis\":{\"gridcolor\":\"white\",\"linecolor\":\"white\",\"ticks\":\"\"},\"baxis\":{\"gridcolor\":\"white\",\"linecolor\":\"white\",\"ticks\":\"\"},\"caxis\":{\"gridcolor\":\"white\",\"linecolor\":\"white\",\"ticks\":\"\"}},\"coloraxis\":{\"colorbar\":{\"outlinewidth\":0,\"ticks\":\"\"}},\"colorscale\":{\"sequential\":[[0.0,\"#0d0887\"],[0.1111111111111111,\"#46039f\"],[0.2222222222222222,\"#7201a8\"],[0.3333333333333333,\"#9c179e\"],[0.4444444444444444,\"#bd3786\"],[0.5555555555555556,\"#d8576b\"],[0.6666666666666666,\"#ed7953\"],[0.7777777777777778,\"#fb9f3a\"],[0.8888888888888888,\"#fdca26\"],[1.0,\"#f0f921\"]],\"sequentialminus\":[[0.0,\"#0d0887\"],[0.1111111111111111,\"#46039f\"],[0.2222222222222222,\"#7201a8\"],[0.3333333333333333,\"#9c179e\"],[0.4444444444444444,\"#bd3786\"],[0.5555555555555556,\"#d8576b\"],[0.6666666666666666,\"#ed7953\"],[0.7777777777777778,\"#fb9f3a\"],[0.8888888888888888,\"#fdca26\"],[1.0,\"#f0f921\"]],\"diverging\":[[0,\"#8e0152\"],[0.1,\"#c51b7d\"],[0.2,\"#de77ae\"],[0.3,\"#f1b6da\"],[0.4,\"#fde0ef\"],[0.5,\"#f7f7f7\"],[0.6,\"#e6f5d0\"],[0.7,\"#b8e186\"],[0.8,\"#7fbc41\"],[0.9,\"#4d9221\"],[1,\"#276419\"]]},\"xaxis\":{\"gridcolor\":\"white\",\"linecolor\":\"white\",\"ticks\":\"\",\"title\":{\"standoff\":15},\"zerolinecolor\":\"white\",\"automargin\":true,\"zerolinewidth\":2},\"yaxis\":{\"gridcolor\":\"white\",\"linecolor\":\"white\",\"ticks\":\"\",\"title\":{\"standoff\":15},\"zerolinecolor\":\"white\",\"automargin\":true,\"zerolinewidth\":2},\"scene\":{\"xaxis\":{\"backgroundcolor\":\"#E5ECF6\",\"gridcolor\":\"white\",\"linecolor\":\"white\",\"showbackground\":true,\"ticks\":\"\",\"zerolinecolor\":\"white\",\"gridwidth\":2},\"yaxis\":{\"backgroundcolor\":\"#E5ECF6\",\"gridcolor\":\"white\",\"linecolor\":\"white\",\"showbackground\":true,\"ticks\":\"\",\"zerolinecolor\":\"white\",\"gridwidth\":2},\"zaxis\":{\"backgroundcolor\":\"#E5ECF6\",\"gridcolor\":\"white\",\"linecolor\":\"white\",\"showbackground\":true,\"ticks\":\"\",\"zerolinecolor\":\"white\",\"gridwidth\":2}},\"shapedefaults\":{\"line\":{\"color\":\"#2a3f5f\"}},\"annotationdefaults\":{\"arrowcolor\":\"#2a3f5f\",\"arrowhead\":0,\"arrowwidth\":1},\"geo\":{\"bgcolor\":\"white\",\"landcolor\":\"#E5ECF6\",\"subunitcolor\":\"white\",\"showland\":true,\"showlakes\":true,\"lakecolor\":\"white\"},\"title\":{\"x\":0.05},\"mapbox\":{\"style\":\"light\"}}},\"title\":{\"text\":\"Correlation Matrix\"},\"xaxis\":{\"title\":{\"text\":\"Features\"}},\"yaxis\":{\"title\":{\"text\":\"Features\"}}},                        {\"responsive\": true}                    ).then(function(){\n",
       "                            \n",
       "var gd = document.getElementById('8dd7c4ea-bde9-4841-86c4-cafe3e9bf5e4');\n",
       "var x = new MutationObserver(function (mutations, observer) {{\n",
       "        var display = window.getComputedStyle(gd).display;\n",
       "        if (!display || display === 'none') {{\n",
       "            console.log([gd, 'removed!']);\n",
       "            Plotly.purge(gd);\n",
       "            observer.disconnect();\n",
       "        }}\n",
       "}});\n",
       "\n",
       "// Listen for the removal of the full notebook cells\n",
       "var notebookContainer = gd.closest('#notebook-container');\n",
       "if (notebookContainer) {{\n",
       "    x.observe(notebookContainer, {childList: true});\n",
       "}}\n",
       "\n",
       "// Listen for the clearing of the current output cell\n",
       "var outputEl = gd.closest('.output');\n",
       "if (outputEl) {{\n",
       "    x.observe(outputEl, {childList: true});\n",
       "}}\n",
       "\n",
       "                        })                };                });            </script>        </div>"
      ]
     },
     "metadata": {},
     "output_type": "display_data"
    }
   ],
   "source": [
    "corr_matrix = df.corr()\n",
    "\n",
    "fig = go.Figure(data=go.Heatmap(z=corr_matrix.values,\n",
    "                               x=corr_matrix.columns,\n",
    "                               y=corr_matrix.index,\n",
    "                               colorscale='RdBu',\n",
    "                               zmin=-1,\n",
    "                               zmax=1))\n",
    "\n",
    "fig.update_layout(title='Correlation Matrix',\n",
    "                  xaxis_title='Features',\n",
    "                  yaxis_title='Features')\n",
    "\n",
    "fig.show()"
   ]
  },
  {
   "cell_type": "code",
   "execution_count": 53,
   "id": "91bdad50",
   "metadata": {},
   "outputs": [
    {
     "data": {
      "application/vnd.plotly.v1+json": {
       "config": {
        "plotlyServerURL": "https://plot.ly"
       },
       "data": [
        {
         "alignmentgroup": "True",
         "hovertemplate": "Hashtag=%{x}<br>Count=%{y}<extra></extra>",
         "legendgroup": "",
         "marker": {
          "color": "#636efa",
          "pattern": {
           "shape": ""
          }
         },
         "name": "",
         "offsetgroup": "",
         "orientation": "v",
         "showlegend": false,
         "textposition": "auto",
         "type": "bar",
         "x": [
          "#thecleverprogrammer",
          "#amankharwal",
          "#python",
          "#machinelearning",
          "#pythonprogramming",
          "#datascience",
          "#ai",
          "#pythonprojects",
          "#artificialintelligence",
          "#data",
          "#dataanalytics",
          "#datascientist",
          "#pythoncode",
          "#dataanalysis",
          "#deeplearning",
          "#datascienceprojects",
          "#machinelearningprojects",
          "#programming",
          "#technology",
          "#coding",
          "#tech",
          "#computerscience",
          "#bigdata",
          "#pythonlearning",
          "#pythoncoding",
          "#pythondeveloper",
          "#datavisualization",
          "#pythonprogrammer",
          "#analytics",
          "#business",
          "#statistics",
          "#machinelearningalgorithms",
          "#dataanalyst",
          "#webdevelopment",
          "#algorithm",
          "#software",
          "#naturallanguageprocessing",
          "#algorithms",
          "#nlp",
          "#neuralnetwork",
          "#ml",
          "#database",
          "#javascript",
          "#code",
          "#coder",
          "#programmer",
          "#java",
          "#softwaredeveloper",
          "#codinglife",
          "#sentimentanalysis",
          "#sentiment",
          "#webdeveloper",
          "#css",
          "#html",
          "#machinelearningmodels",
          "#developer",
          "#timeseriesanalysis",
          "#iot",
          "#analysis",
          "#timeseriesmalaysia",
          "#businessintelligence",
          "#datasciencejobs",
          "#datasciencetraining",
          "#datascienceeducation",
          "#datasciencecourse",
          "#datamining",
          "#time",
          "#timeseries",
          "#php",
          "#programminglife",
          "#hacking",
          "#programmingmemes",
          "#programmers",
          "#neuralnetworks",
          "#webdesign",
          "#dataviz",
          "#linux",
          "#casestudy",
          "#businessmodel",
          "#zomato",
          "#money",
          "#interview",
          "#finance",
          "#powerbi",
          "#tensorflow",
          "#job",
          "#artificialintelligenceai",
          "#investing",
          "#trading",
          "#stockmarket",
          "#healthcare",
          "#health",
          "#covid",
          "#investment",
          "#cryptocurrency",
          "#bitcoin",
          "#dataanalysisprojects",
          "#businessanalytics",
          "#python3",
          "#roadmap",
          "#codinginterview",
          "#pythonprogramminglanguage",
          "#otp",
          "#innovation",
          "#recommendationsystem",
          "#recommendations",
          "#recommended",
          "#otpverification",
          "#projects",
          "#casestudies",
          "#amazonfinds",
          "#security",
          "#cybersecurity",
          "#network",
          "#internet",
          "#cloud",
          "#recommendation",
          "#careergoals",
          "#jobsearch",
          "#work",
          "#tableau",
          "#stocks",
          "#forex",
          "#candlestick",
          "#candlestickcharts",
          "#career",
          "#jobs",
          "#stressdetection",
          "#education",
          "#success",
          "#motivation",
          "#clustering",
          "#careerdevelopment",
          "#careeradvice",
          "#digitalmarketing",
          "#media",
          "#socialmedia",
          "#IT",
          "#marketing",
          "#students",
          "#resume",
          "#goals",
          "#careers",
          "#stress",
          "#sql",
          "#pythonbooks",
          "#mysql",
          "#softskills",
          "#instagramreach",
          "#instagram",
          "#ukraine",
          "#pythonprogram",
          "#whatsapp",
          "@codergallery",
          "#google",
          "#news",
          "#flipkart",
          "#bookstagram",
          "#alexnet",
          "#bigdataanalytics",
          "#qrcodes",
          "#datascienceinterview",
          "#facebook",
          "#boxplots"
         ],
         "xaxis": "x",
         "y": [
          117,
          117,
          109,
          97,
          95,
          94,
          91,
          90,
          89,
          88,
          87,
          83,
          78,
          77,
          75,
          43,
          43,
          26,
          25,
          24,
          23,
          21,
          20,
          19,
          19,
          19,
          19,
          19,
          16,
          16,
          14,
          13,
          12,
          10,
          9,
          9,
          9,
          9,
          9,
          8,
          8,
          7,
          7,
          7,
          7,
          7,
          7,
          7,
          7,
          7,
          7,
          7,
          7,
          7,
          7,
          7,
          6,
          6,
          6,
          6,
          6,
          6,
          6,
          6,
          6,
          6,
          6,
          6,
          5,
          5,
          5,
          5,
          5,
          5,
          5,
          5,
          5,
          4,
          4,
          4,
          4,
          4,
          4,
          4,
          4,
          4,
          4,
          4,
          3,
          3,
          3,
          3,
          3,
          3,
          3,
          3,
          3,
          3,
          2,
          2,
          2,
          2,
          2,
          2,
          2,
          2,
          2,
          2,
          2,
          2,
          2,
          2,
          2,
          2,
          2,
          2,
          2,
          2,
          2,
          2,
          2,
          2,
          2,
          2,
          2,
          2,
          2,
          2,
          2,
          2,
          2,
          2,
          2,
          2,
          2,
          2,
          2,
          2,
          2,
          2,
          2,
          2,
          2,
          2,
          1,
          1,
          1,
          1,
          1,
          1,
          1,
          1,
          1,
          1,
          1,
          1,
          1,
          1,
          1,
          1,
          1,
          1,
          1,
          1
         ],
         "yaxis": "y"
        }
       ],
       "layout": {
        "barmode": "relative",
        "legend": {
         "tracegroupgap": 0
        },
        "template": {
         "data": {
          "bar": [
           {
            "error_x": {
             "color": "#2a3f5f"
            },
            "error_y": {
             "color": "#2a3f5f"
            },
            "marker": {
             "line": {
              "color": "#E5ECF6",
              "width": 0.5
             },
             "pattern": {
              "fillmode": "overlay",
              "size": 10,
              "solidity": 0.2
             }
            },
            "type": "bar"
           }
          ],
          "barpolar": [
           {
            "marker": {
             "line": {
              "color": "#E5ECF6",
              "width": 0.5
             },
             "pattern": {
              "fillmode": "overlay",
              "size": 10,
              "solidity": 0.2
             }
            },
            "type": "barpolar"
           }
          ],
          "carpet": [
           {
            "aaxis": {
             "endlinecolor": "#2a3f5f",
             "gridcolor": "white",
             "linecolor": "white",
             "minorgridcolor": "white",
             "startlinecolor": "#2a3f5f"
            },
            "baxis": {
             "endlinecolor": "#2a3f5f",
             "gridcolor": "white",
             "linecolor": "white",
             "minorgridcolor": "white",
             "startlinecolor": "#2a3f5f"
            },
            "type": "carpet"
           }
          ],
          "choropleth": [
           {
            "colorbar": {
             "outlinewidth": 0,
             "ticks": ""
            },
            "type": "choropleth"
           }
          ],
          "contour": [
           {
            "colorbar": {
             "outlinewidth": 0,
             "ticks": ""
            },
            "colorscale": [
             [
              0,
              "#0d0887"
             ],
             [
              0.1111111111111111,
              "#46039f"
             ],
             [
              0.2222222222222222,
              "#7201a8"
             ],
             [
              0.3333333333333333,
              "#9c179e"
             ],
             [
              0.4444444444444444,
              "#bd3786"
             ],
             [
              0.5555555555555556,
              "#d8576b"
             ],
             [
              0.6666666666666666,
              "#ed7953"
             ],
             [
              0.7777777777777778,
              "#fb9f3a"
             ],
             [
              0.8888888888888888,
              "#fdca26"
             ],
             [
              1,
              "#f0f921"
             ]
            ],
            "type": "contour"
           }
          ],
          "contourcarpet": [
           {
            "colorbar": {
             "outlinewidth": 0,
             "ticks": ""
            },
            "type": "contourcarpet"
           }
          ],
          "heatmap": [
           {
            "colorbar": {
             "outlinewidth": 0,
             "ticks": ""
            },
            "colorscale": [
             [
              0,
              "#0d0887"
             ],
             [
              0.1111111111111111,
              "#46039f"
             ],
             [
              0.2222222222222222,
              "#7201a8"
             ],
             [
              0.3333333333333333,
              "#9c179e"
             ],
             [
              0.4444444444444444,
              "#bd3786"
             ],
             [
              0.5555555555555556,
              "#d8576b"
             ],
             [
              0.6666666666666666,
              "#ed7953"
             ],
             [
              0.7777777777777778,
              "#fb9f3a"
             ],
             [
              0.8888888888888888,
              "#fdca26"
             ],
             [
              1,
              "#f0f921"
             ]
            ],
            "type": "heatmap"
           }
          ],
          "heatmapgl": [
           {
            "colorbar": {
             "outlinewidth": 0,
             "ticks": ""
            },
            "colorscale": [
             [
              0,
              "#0d0887"
             ],
             [
              0.1111111111111111,
              "#46039f"
             ],
             [
              0.2222222222222222,
              "#7201a8"
             ],
             [
              0.3333333333333333,
              "#9c179e"
             ],
             [
              0.4444444444444444,
              "#bd3786"
             ],
             [
              0.5555555555555556,
              "#d8576b"
             ],
             [
              0.6666666666666666,
              "#ed7953"
             ],
             [
              0.7777777777777778,
              "#fb9f3a"
             ],
             [
              0.8888888888888888,
              "#fdca26"
             ],
             [
              1,
              "#f0f921"
             ]
            ],
            "type": "heatmapgl"
           }
          ],
          "histogram": [
           {
            "marker": {
             "pattern": {
              "fillmode": "overlay",
              "size": 10,
              "solidity": 0.2
             }
            },
            "type": "histogram"
           }
          ],
          "histogram2d": [
           {
            "colorbar": {
             "outlinewidth": 0,
             "ticks": ""
            },
            "colorscale": [
             [
              0,
              "#0d0887"
             ],
             [
              0.1111111111111111,
              "#46039f"
             ],
             [
              0.2222222222222222,
              "#7201a8"
             ],
             [
              0.3333333333333333,
              "#9c179e"
             ],
             [
              0.4444444444444444,
              "#bd3786"
             ],
             [
              0.5555555555555556,
              "#d8576b"
             ],
             [
              0.6666666666666666,
              "#ed7953"
             ],
             [
              0.7777777777777778,
              "#fb9f3a"
             ],
             [
              0.8888888888888888,
              "#fdca26"
             ],
             [
              1,
              "#f0f921"
             ]
            ],
            "type": "histogram2d"
           }
          ],
          "histogram2dcontour": [
           {
            "colorbar": {
             "outlinewidth": 0,
             "ticks": ""
            },
            "colorscale": [
             [
              0,
              "#0d0887"
             ],
             [
              0.1111111111111111,
              "#46039f"
             ],
             [
              0.2222222222222222,
              "#7201a8"
             ],
             [
              0.3333333333333333,
              "#9c179e"
             ],
             [
              0.4444444444444444,
              "#bd3786"
             ],
             [
              0.5555555555555556,
              "#d8576b"
             ],
             [
              0.6666666666666666,
              "#ed7953"
             ],
             [
              0.7777777777777778,
              "#fb9f3a"
             ],
             [
              0.8888888888888888,
              "#fdca26"
             ],
             [
              1,
              "#f0f921"
             ]
            ],
            "type": "histogram2dcontour"
           }
          ],
          "mesh3d": [
           {
            "colorbar": {
             "outlinewidth": 0,
             "ticks": ""
            },
            "type": "mesh3d"
           }
          ],
          "parcoords": [
           {
            "line": {
             "colorbar": {
              "outlinewidth": 0,
              "ticks": ""
             }
            },
            "type": "parcoords"
           }
          ],
          "pie": [
           {
            "automargin": true,
            "type": "pie"
           }
          ],
          "scatter": [
           {
            "fillpattern": {
             "fillmode": "overlay",
             "size": 10,
             "solidity": 0.2
            },
            "type": "scatter"
           }
          ],
          "scatter3d": [
           {
            "line": {
             "colorbar": {
              "outlinewidth": 0,
              "ticks": ""
             }
            },
            "marker": {
             "colorbar": {
              "outlinewidth": 0,
              "ticks": ""
             }
            },
            "type": "scatter3d"
           }
          ],
          "scattercarpet": [
           {
            "marker": {
             "colorbar": {
              "outlinewidth": 0,
              "ticks": ""
             }
            },
            "type": "scattercarpet"
           }
          ],
          "scattergeo": [
           {
            "marker": {
             "colorbar": {
              "outlinewidth": 0,
              "ticks": ""
             }
            },
            "type": "scattergeo"
           }
          ],
          "scattergl": [
           {
            "marker": {
             "colorbar": {
              "outlinewidth": 0,
              "ticks": ""
             }
            },
            "type": "scattergl"
           }
          ],
          "scattermapbox": [
           {
            "marker": {
             "colorbar": {
              "outlinewidth": 0,
              "ticks": ""
             }
            },
            "type": "scattermapbox"
           }
          ],
          "scatterpolar": [
           {
            "marker": {
             "colorbar": {
              "outlinewidth": 0,
              "ticks": ""
             }
            },
            "type": "scatterpolar"
           }
          ],
          "scatterpolargl": [
           {
            "marker": {
             "colorbar": {
              "outlinewidth": 0,
              "ticks": ""
             }
            },
            "type": "scatterpolargl"
           }
          ],
          "scatterternary": [
           {
            "marker": {
             "colorbar": {
              "outlinewidth": 0,
              "ticks": ""
             }
            },
            "type": "scatterternary"
           }
          ],
          "surface": [
           {
            "colorbar": {
             "outlinewidth": 0,
             "ticks": ""
            },
            "colorscale": [
             [
              0,
              "#0d0887"
             ],
             [
              0.1111111111111111,
              "#46039f"
             ],
             [
              0.2222222222222222,
              "#7201a8"
             ],
             [
              0.3333333333333333,
              "#9c179e"
             ],
             [
              0.4444444444444444,
              "#bd3786"
             ],
             [
              0.5555555555555556,
              "#d8576b"
             ],
             [
              0.6666666666666666,
              "#ed7953"
             ],
             [
              0.7777777777777778,
              "#fb9f3a"
             ],
             [
              0.8888888888888888,
              "#fdca26"
             ],
             [
              1,
              "#f0f921"
             ]
            ],
            "type": "surface"
           }
          ],
          "table": [
           {
            "cells": {
             "fill": {
              "color": "#EBF0F8"
             },
             "line": {
              "color": "white"
             }
            },
            "header": {
             "fill": {
              "color": "#C8D4E3"
             },
             "line": {
              "color": "white"
             }
            },
            "type": "table"
           }
          ]
         },
         "layout": {
          "annotationdefaults": {
           "arrowcolor": "#2a3f5f",
           "arrowhead": 0,
           "arrowwidth": 1
          },
          "autotypenumbers": "strict",
          "coloraxis": {
           "colorbar": {
            "outlinewidth": 0,
            "ticks": ""
           }
          },
          "colorscale": {
           "diverging": [
            [
             0,
             "#8e0152"
            ],
            [
             0.1,
             "#c51b7d"
            ],
            [
             0.2,
             "#de77ae"
            ],
            [
             0.3,
             "#f1b6da"
            ],
            [
             0.4,
             "#fde0ef"
            ],
            [
             0.5,
             "#f7f7f7"
            ],
            [
             0.6,
             "#e6f5d0"
            ],
            [
             0.7,
             "#b8e186"
            ],
            [
             0.8,
             "#7fbc41"
            ],
            [
             0.9,
             "#4d9221"
            ],
            [
             1,
             "#276419"
            ]
           ],
           "sequential": [
            [
             0,
             "#0d0887"
            ],
            [
             0.1111111111111111,
             "#46039f"
            ],
            [
             0.2222222222222222,
             "#7201a8"
            ],
            [
             0.3333333333333333,
             "#9c179e"
            ],
            [
             0.4444444444444444,
             "#bd3786"
            ],
            [
             0.5555555555555556,
             "#d8576b"
            ],
            [
             0.6666666666666666,
             "#ed7953"
            ],
            [
             0.7777777777777778,
             "#fb9f3a"
            ],
            [
             0.8888888888888888,
             "#fdca26"
            ],
            [
             1,
             "#f0f921"
            ]
           ],
           "sequentialminus": [
            [
             0,
             "#0d0887"
            ],
            [
             0.1111111111111111,
             "#46039f"
            ],
            [
             0.2222222222222222,
             "#7201a8"
            ],
            [
             0.3333333333333333,
             "#9c179e"
            ],
            [
             0.4444444444444444,
             "#bd3786"
            ],
            [
             0.5555555555555556,
             "#d8576b"
            ],
            [
             0.6666666666666666,
             "#ed7953"
            ],
            [
             0.7777777777777778,
             "#fb9f3a"
            ],
            [
             0.8888888888888888,
             "#fdca26"
            ],
            [
             1,
             "#f0f921"
            ]
           ]
          },
          "colorway": [
           "#636efa",
           "#EF553B",
           "#00cc96",
           "#ab63fa",
           "#FFA15A",
           "#19d3f3",
           "#FF6692",
           "#B6E880",
           "#FF97FF",
           "#FECB52"
          ],
          "font": {
           "color": "#2a3f5f"
          },
          "geo": {
           "bgcolor": "white",
           "lakecolor": "white",
           "landcolor": "#E5ECF6",
           "showlakes": true,
           "showland": true,
           "subunitcolor": "white"
          },
          "hoverlabel": {
           "align": "left"
          },
          "hovermode": "closest",
          "mapbox": {
           "style": "light"
          },
          "paper_bgcolor": "white",
          "plot_bgcolor": "#E5ECF6",
          "polar": {
           "angularaxis": {
            "gridcolor": "white",
            "linecolor": "white",
            "ticks": ""
           },
           "bgcolor": "#E5ECF6",
           "radialaxis": {
            "gridcolor": "white",
            "linecolor": "white",
            "ticks": ""
           }
          },
          "scene": {
           "xaxis": {
            "backgroundcolor": "#E5ECF6",
            "gridcolor": "white",
            "gridwidth": 2,
            "linecolor": "white",
            "showbackground": true,
            "ticks": "",
            "zerolinecolor": "white"
           },
           "yaxis": {
            "backgroundcolor": "#E5ECF6",
            "gridcolor": "white",
            "gridwidth": 2,
            "linecolor": "white",
            "showbackground": true,
            "ticks": "",
            "zerolinecolor": "white"
           },
           "zaxis": {
            "backgroundcolor": "#E5ECF6",
            "gridcolor": "white",
            "gridwidth": 2,
            "linecolor": "white",
            "showbackground": true,
            "ticks": "",
            "zerolinecolor": "white"
           }
          },
          "shapedefaults": {
           "line": {
            "color": "#2a3f5f"
           }
          },
          "ternary": {
           "aaxis": {
            "gridcolor": "white",
            "linecolor": "white",
            "ticks": ""
           },
           "baxis": {
            "gridcolor": "white",
            "linecolor": "white",
            "ticks": ""
           },
           "bgcolor": "#E5ECF6",
           "caxis": {
            "gridcolor": "white",
            "linecolor": "white",
            "ticks": ""
           }
          },
          "title": {
           "x": 0.05
          },
          "xaxis": {
           "automargin": true,
           "gridcolor": "white",
           "linecolor": "white",
           "ticks": "",
           "title": {
            "standoff": 15
           },
           "zerolinecolor": "white",
           "zerolinewidth": 2
          },
          "yaxis": {
           "automargin": true,
           "gridcolor": "white",
           "linecolor": "white",
           "ticks": "",
           "title": {
            "standoff": 15
           },
           "zerolinecolor": "white",
           "zerolinewidth": 2
          }
         }
        },
        "title": {
         "text": "Distribution of Hashtags"
        },
        "xaxis": {
         "anchor": "y",
         "domain": [
          0,
          1
         ],
         "title": {
          "text": "Hashtag"
         }
        },
        "yaxis": {
         "anchor": "x",
         "domain": [
          0,
          1
         ],
         "title": {
          "text": "Count"
         }
        }
       }
      },
      "text/html": [
       "<div>                            <div id=\"2606888b-e055-401c-a986-517ac2f67cca\" class=\"plotly-graph-div\" style=\"height:525px; width:100%;\"></div>            <script type=\"text/javascript\">                require([\"plotly\"], function(Plotly) {                    window.PLOTLYENV=window.PLOTLYENV || {};                                    if (document.getElementById(\"2606888b-e055-401c-a986-517ac2f67cca\")) {                    Plotly.newPlot(                        \"2606888b-e055-401c-a986-517ac2f67cca\",                        [{\"alignmentgroup\":\"True\",\"hovertemplate\":\"Hashtag=%{x}<br>Count=%{y}<extra></extra>\",\"legendgroup\":\"\",\"marker\":{\"color\":\"#636efa\",\"pattern\":{\"shape\":\"\"}},\"name\":\"\",\"offsetgroup\":\"\",\"orientation\":\"v\",\"showlegend\":false,\"textposition\":\"auto\",\"x\":[\"#thecleverprogrammer\",\"#amankharwal\",\"#python\",\"#machinelearning\",\"#pythonprogramming\",\"#datascience\",\"#ai\",\"#pythonprojects\",\"#artificialintelligence\",\"#data\",\"#dataanalytics\",\"#datascientist\",\"#pythoncode\",\"#dataanalysis\",\"#deeplearning\",\"#datascienceprojects\",\"#machinelearningprojects\",\"#programming\",\"#technology\",\"#coding\",\"#tech\",\"#computerscience\",\"#bigdata\",\"#pythonlearning\",\"#pythoncoding\",\"#pythondeveloper\",\"#datavisualization\",\"#pythonprogrammer\",\"#analytics\",\"#business\",\"#statistics\",\"#machinelearningalgorithms\",\"#dataanalyst\",\"#webdevelopment\",\"#algorithm\",\"#software\",\"#naturallanguageprocessing\",\"#algorithms\",\"#nlp\",\"#neuralnetwork\",\"#ml\",\"#database\",\"#javascript\",\"#code\",\"#coder\",\"#programmer\",\"#java\",\"#softwaredeveloper\",\"#codinglife\",\"#sentimentanalysis\",\"#sentiment\",\"#webdeveloper\",\"#css\",\"#html\",\"#machinelearningmodels\",\"#developer\",\"#timeseriesanalysis\",\"#iot\",\"#analysis\",\"#timeseriesmalaysia\",\"#businessintelligence\",\"#datasciencejobs\",\"#datasciencetraining\",\"#datascienceeducation\",\"#datasciencecourse\",\"#datamining\",\"#time\",\"#timeseries\",\"#php\",\"#programminglife\",\"#hacking\",\"#programmingmemes\",\"#programmers\",\"#neuralnetworks\",\"#webdesign\",\"#dataviz\",\"#linux\",\"#casestudy\",\"#businessmodel\",\"#zomato\",\"#money\",\"#interview\",\"#finance\",\"#powerbi\",\"#tensorflow\",\"#job\",\"#artificialintelligenceai\",\"#investing\",\"#trading\",\"#stockmarket\",\"#healthcare\",\"#health\",\"#covid\",\"#investment\",\"#cryptocurrency\",\"#bitcoin\",\"#dataanalysisprojects\",\"#businessanalytics\",\"#python3\",\"#roadmap\",\"#codinginterview\",\"#pythonprogramminglanguage\",\"#otp\",\"#innovation\",\"#recommendationsystem\",\"#recommendations\",\"#recommended\",\"#otpverification\",\"#projects\",\"#casestudies\",\"#amazonfinds\",\"#security\",\"#cybersecurity\",\"#network\",\"#internet\",\"#cloud\",\"#recommendation\",\"#careergoals\",\"#jobsearch\",\"#work\",\"#tableau\",\"#stocks\",\"#forex\",\"#candlestick\",\"#candlestickcharts\",\"#career\",\"#jobs\",\"#stressdetection\",\"#education\",\"#success\",\"#motivation\",\"#clustering\",\"#careerdevelopment\",\"#careeradvice\",\"#digitalmarketing\",\"#media\",\"#socialmedia\",\"#IT\",\"#marketing\",\"#students\",\"#resume\",\"#goals\",\"#careers\",\"#stress\",\"#sql\",\"#pythonbooks\",\"#mysql\",\"#softskills\",\"#instagramreach\",\"#instagram\",\"#ukraine\",\"#pythonprogram\",\"#whatsapp\",\"@codergallery\",\"#google\",\"#news\",\"#flipkart\",\"#bookstagram\",\"#alexnet\",\"#bigdataanalytics\",\"#qrcodes\",\"#datascienceinterview\",\"#facebook\",\"#boxplots\"],\"xaxis\":\"x\",\"y\":[117,117,109,97,95,94,91,90,89,88,87,83,78,77,75,43,43,26,25,24,23,21,20,19,19,19,19,19,16,16,14,13,12,10,9,9,9,9,9,8,8,7,7,7,7,7,7,7,7,7,7,7,7,7,7,7,6,6,6,6,6,6,6,6,6,6,6,6,5,5,5,5,5,5,5,5,5,4,4,4,4,4,4,4,4,4,4,4,3,3,3,3,3,3,3,3,3,3,2,2,2,2,2,2,2,2,2,2,2,2,2,2,2,2,2,2,2,2,2,2,2,2,2,2,2,2,2,2,2,2,2,2,2,2,2,2,2,2,2,2,2,2,2,2,1,1,1,1,1,1,1,1,1,1,1,1,1,1,1,1,1,1,1,1],\"yaxis\":\"y\",\"type\":\"bar\"}],                        {\"template\":{\"data\":{\"histogram2dcontour\":[{\"type\":\"histogram2dcontour\",\"colorbar\":{\"outlinewidth\":0,\"ticks\":\"\"},\"colorscale\":[[0.0,\"#0d0887\"],[0.1111111111111111,\"#46039f\"],[0.2222222222222222,\"#7201a8\"],[0.3333333333333333,\"#9c179e\"],[0.4444444444444444,\"#bd3786\"],[0.5555555555555556,\"#d8576b\"],[0.6666666666666666,\"#ed7953\"],[0.7777777777777778,\"#fb9f3a\"],[0.8888888888888888,\"#fdca26\"],[1.0,\"#f0f921\"]]}],\"choropleth\":[{\"type\":\"choropleth\",\"colorbar\":{\"outlinewidth\":0,\"ticks\":\"\"}}],\"histogram2d\":[{\"type\":\"histogram2d\",\"colorbar\":{\"outlinewidth\":0,\"ticks\":\"\"},\"colorscale\":[[0.0,\"#0d0887\"],[0.1111111111111111,\"#46039f\"],[0.2222222222222222,\"#7201a8\"],[0.3333333333333333,\"#9c179e\"],[0.4444444444444444,\"#bd3786\"],[0.5555555555555556,\"#d8576b\"],[0.6666666666666666,\"#ed7953\"],[0.7777777777777778,\"#fb9f3a\"],[0.8888888888888888,\"#fdca26\"],[1.0,\"#f0f921\"]]}],\"heatmap\":[{\"type\":\"heatmap\",\"colorbar\":{\"outlinewidth\":0,\"ticks\":\"\"},\"colorscale\":[[0.0,\"#0d0887\"],[0.1111111111111111,\"#46039f\"],[0.2222222222222222,\"#7201a8\"],[0.3333333333333333,\"#9c179e\"],[0.4444444444444444,\"#bd3786\"],[0.5555555555555556,\"#d8576b\"],[0.6666666666666666,\"#ed7953\"],[0.7777777777777778,\"#fb9f3a\"],[0.8888888888888888,\"#fdca26\"],[1.0,\"#f0f921\"]]}],\"heatmapgl\":[{\"type\":\"heatmapgl\",\"colorbar\":{\"outlinewidth\":0,\"ticks\":\"\"},\"colorscale\":[[0.0,\"#0d0887\"],[0.1111111111111111,\"#46039f\"],[0.2222222222222222,\"#7201a8\"],[0.3333333333333333,\"#9c179e\"],[0.4444444444444444,\"#bd3786\"],[0.5555555555555556,\"#d8576b\"],[0.6666666666666666,\"#ed7953\"],[0.7777777777777778,\"#fb9f3a\"],[0.8888888888888888,\"#fdca26\"],[1.0,\"#f0f921\"]]}],\"contourcarpet\":[{\"type\":\"contourcarpet\",\"colorbar\":{\"outlinewidth\":0,\"ticks\":\"\"}}],\"contour\":[{\"type\":\"contour\",\"colorbar\":{\"outlinewidth\":0,\"ticks\":\"\"},\"colorscale\":[[0.0,\"#0d0887\"],[0.1111111111111111,\"#46039f\"],[0.2222222222222222,\"#7201a8\"],[0.3333333333333333,\"#9c179e\"],[0.4444444444444444,\"#bd3786\"],[0.5555555555555556,\"#d8576b\"],[0.6666666666666666,\"#ed7953\"],[0.7777777777777778,\"#fb9f3a\"],[0.8888888888888888,\"#fdca26\"],[1.0,\"#f0f921\"]]}],\"surface\":[{\"type\":\"surface\",\"colorbar\":{\"outlinewidth\":0,\"ticks\":\"\"},\"colorscale\":[[0.0,\"#0d0887\"],[0.1111111111111111,\"#46039f\"],[0.2222222222222222,\"#7201a8\"],[0.3333333333333333,\"#9c179e\"],[0.4444444444444444,\"#bd3786\"],[0.5555555555555556,\"#d8576b\"],[0.6666666666666666,\"#ed7953\"],[0.7777777777777778,\"#fb9f3a\"],[0.8888888888888888,\"#fdca26\"],[1.0,\"#f0f921\"]]}],\"mesh3d\":[{\"type\":\"mesh3d\",\"colorbar\":{\"outlinewidth\":0,\"ticks\":\"\"}}],\"scatter\":[{\"fillpattern\":{\"fillmode\":\"overlay\",\"size\":10,\"solidity\":0.2},\"type\":\"scatter\"}],\"parcoords\":[{\"type\":\"parcoords\",\"line\":{\"colorbar\":{\"outlinewidth\":0,\"ticks\":\"\"}}}],\"scatterpolargl\":[{\"type\":\"scatterpolargl\",\"marker\":{\"colorbar\":{\"outlinewidth\":0,\"ticks\":\"\"}}}],\"bar\":[{\"error_x\":{\"color\":\"#2a3f5f\"},\"error_y\":{\"color\":\"#2a3f5f\"},\"marker\":{\"line\":{\"color\":\"#E5ECF6\",\"width\":0.5},\"pattern\":{\"fillmode\":\"overlay\",\"size\":10,\"solidity\":0.2}},\"type\":\"bar\"}],\"scattergeo\":[{\"type\":\"scattergeo\",\"marker\":{\"colorbar\":{\"outlinewidth\":0,\"ticks\":\"\"}}}],\"scatterpolar\":[{\"type\":\"scatterpolar\",\"marker\":{\"colorbar\":{\"outlinewidth\":0,\"ticks\":\"\"}}}],\"histogram\":[{\"marker\":{\"pattern\":{\"fillmode\":\"overlay\",\"size\":10,\"solidity\":0.2}},\"type\":\"histogram\"}],\"scattergl\":[{\"type\":\"scattergl\",\"marker\":{\"colorbar\":{\"outlinewidth\":0,\"ticks\":\"\"}}}],\"scatter3d\":[{\"type\":\"scatter3d\",\"line\":{\"colorbar\":{\"outlinewidth\":0,\"ticks\":\"\"}},\"marker\":{\"colorbar\":{\"outlinewidth\":0,\"ticks\":\"\"}}}],\"scattermapbox\":[{\"type\":\"scattermapbox\",\"marker\":{\"colorbar\":{\"outlinewidth\":0,\"ticks\":\"\"}}}],\"scatterternary\":[{\"type\":\"scatterternary\",\"marker\":{\"colorbar\":{\"outlinewidth\":0,\"ticks\":\"\"}}}],\"scattercarpet\":[{\"type\":\"scattercarpet\",\"marker\":{\"colorbar\":{\"outlinewidth\":0,\"ticks\":\"\"}}}],\"carpet\":[{\"aaxis\":{\"endlinecolor\":\"#2a3f5f\",\"gridcolor\":\"white\",\"linecolor\":\"white\",\"minorgridcolor\":\"white\",\"startlinecolor\":\"#2a3f5f\"},\"baxis\":{\"endlinecolor\":\"#2a3f5f\",\"gridcolor\":\"white\",\"linecolor\":\"white\",\"minorgridcolor\":\"white\",\"startlinecolor\":\"#2a3f5f\"},\"type\":\"carpet\"}],\"table\":[{\"cells\":{\"fill\":{\"color\":\"#EBF0F8\"},\"line\":{\"color\":\"white\"}},\"header\":{\"fill\":{\"color\":\"#C8D4E3\"},\"line\":{\"color\":\"white\"}},\"type\":\"table\"}],\"barpolar\":[{\"marker\":{\"line\":{\"color\":\"#E5ECF6\",\"width\":0.5},\"pattern\":{\"fillmode\":\"overlay\",\"size\":10,\"solidity\":0.2}},\"type\":\"barpolar\"}],\"pie\":[{\"automargin\":true,\"type\":\"pie\"}]},\"layout\":{\"autotypenumbers\":\"strict\",\"colorway\":[\"#636efa\",\"#EF553B\",\"#00cc96\",\"#ab63fa\",\"#FFA15A\",\"#19d3f3\",\"#FF6692\",\"#B6E880\",\"#FF97FF\",\"#FECB52\"],\"font\":{\"color\":\"#2a3f5f\"},\"hovermode\":\"closest\",\"hoverlabel\":{\"align\":\"left\"},\"paper_bgcolor\":\"white\",\"plot_bgcolor\":\"#E5ECF6\",\"polar\":{\"bgcolor\":\"#E5ECF6\",\"angularaxis\":{\"gridcolor\":\"white\",\"linecolor\":\"white\",\"ticks\":\"\"},\"radialaxis\":{\"gridcolor\":\"white\",\"linecolor\":\"white\",\"ticks\":\"\"}},\"ternary\":{\"bgcolor\":\"#E5ECF6\",\"aaxis\":{\"gridcolor\":\"white\",\"linecolor\":\"white\",\"ticks\":\"\"},\"baxis\":{\"gridcolor\":\"white\",\"linecolor\":\"white\",\"ticks\":\"\"},\"caxis\":{\"gridcolor\":\"white\",\"linecolor\":\"white\",\"ticks\":\"\"}},\"coloraxis\":{\"colorbar\":{\"outlinewidth\":0,\"ticks\":\"\"}},\"colorscale\":{\"sequential\":[[0.0,\"#0d0887\"],[0.1111111111111111,\"#46039f\"],[0.2222222222222222,\"#7201a8\"],[0.3333333333333333,\"#9c179e\"],[0.4444444444444444,\"#bd3786\"],[0.5555555555555556,\"#d8576b\"],[0.6666666666666666,\"#ed7953\"],[0.7777777777777778,\"#fb9f3a\"],[0.8888888888888888,\"#fdca26\"],[1.0,\"#f0f921\"]],\"sequentialminus\":[[0.0,\"#0d0887\"],[0.1111111111111111,\"#46039f\"],[0.2222222222222222,\"#7201a8\"],[0.3333333333333333,\"#9c179e\"],[0.4444444444444444,\"#bd3786\"],[0.5555555555555556,\"#d8576b\"],[0.6666666666666666,\"#ed7953\"],[0.7777777777777778,\"#fb9f3a\"],[0.8888888888888888,\"#fdca26\"],[1.0,\"#f0f921\"]],\"diverging\":[[0,\"#8e0152\"],[0.1,\"#c51b7d\"],[0.2,\"#de77ae\"],[0.3,\"#f1b6da\"],[0.4,\"#fde0ef\"],[0.5,\"#f7f7f7\"],[0.6,\"#e6f5d0\"],[0.7,\"#b8e186\"],[0.8,\"#7fbc41\"],[0.9,\"#4d9221\"],[1,\"#276419\"]]},\"xaxis\":{\"gridcolor\":\"white\",\"linecolor\":\"white\",\"ticks\":\"\",\"title\":{\"standoff\":15},\"zerolinecolor\":\"white\",\"automargin\":true,\"zerolinewidth\":2},\"yaxis\":{\"gridcolor\":\"white\",\"linecolor\":\"white\",\"ticks\":\"\",\"title\":{\"standoff\":15},\"zerolinecolor\":\"white\",\"automargin\":true,\"zerolinewidth\":2},\"scene\":{\"xaxis\":{\"backgroundcolor\":\"#E5ECF6\",\"gridcolor\":\"white\",\"linecolor\":\"white\",\"showbackground\":true,\"ticks\":\"\",\"zerolinecolor\":\"white\",\"gridwidth\":2},\"yaxis\":{\"backgroundcolor\":\"#E5ECF6\",\"gridcolor\":\"white\",\"linecolor\":\"white\",\"showbackground\":true,\"ticks\":\"\",\"zerolinecolor\":\"white\",\"gridwidth\":2},\"zaxis\":{\"backgroundcolor\":\"#E5ECF6\",\"gridcolor\":\"white\",\"linecolor\":\"white\",\"showbackground\":true,\"ticks\":\"\",\"zerolinecolor\":\"white\",\"gridwidth\":2}},\"shapedefaults\":{\"line\":{\"color\":\"#2a3f5f\"}},\"annotationdefaults\":{\"arrowcolor\":\"#2a3f5f\",\"arrowhead\":0,\"arrowwidth\":1},\"geo\":{\"bgcolor\":\"white\",\"landcolor\":\"#E5ECF6\",\"subunitcolor\":\"white\",\"showland\":true,\"showlakes\":true,\"lakecolor\":\"white\"},\"title\":{\"x\":0.05},\"mapbox\":{\"style\":\"light\"}}},\"xaxis\":{\"anchor\":\"y\",\"domain\":[0.0,1.0],\"title\":{\"text\":\"Hashtag\"}},\"yaxis\":{\"anchor\":\"x\",\"domain\":[0.0,1.0],\"title\":{\"text\":\"Count\"}},\"legend\":{\"tracegroupgap\":0},\"title\":{\"text\":\"Distribution of Hashtags\"},\"barmode\":\"relative\"},                        {\"responsive\": true}                    ).then(function(){\n",
       "                            \n",
       "var gd = document.getElementById('2606888b-e055-401c-a986-517ac2f67cca');\n",
       "var x = new MutationObserver(function (mutations, observer) {{\n",
       "        var display = window.getComputedStyle(gd).display;\n",
       "        if (!display || display === 'none') {{\n",
       "            console.log([gd, 'removed!']);\n",
       "            Plotly.purge(gd);\n",
       "            observer.disconnect();\n",
       "        }}\n",
       "}});\n",
       "\n",
       "// Listen for the removal of the full notebook cells\n",
       "var notebookContainer = gd.closest('#notebook-container');\n",
       "if (notebookContainer) {{\n",
       "    x.observe(notebookContainer, {childList: true});\n",
       "}}\n",
       "\n",
       "// Listen for the clearing of the current output cell\n",
       "var outputEl = gd.closest('.output');\n",
       "if (outputEl) {{\n",
       "    x.observe(outputEl, {childList: true});\n",
       "}}\n",
       "\n",
       "                        })                };                });            </script>        </div>"
      ]
     },
     "metadata": {},
     "output_type": "display_data"
    }
   ],
   "source": [
    "all_hashtags = []\n",
    "\n",
    "for row in df['Hashtags']:\n",
    "    hashtags = str(row).split()\n",
    "    hashtags = [tag.strip() for tag in hashtags]\n",
    "    #print(hashtags)\n",
    "    all_hashtags.extend(hashtags)\n",
    "\n",
    "#print(all_hashtags)\n",
    "\n",
    "hashtag_distribution = pd.Series(all_hashtags).value_counts().reset_index()\n",
    "hashtag_distribution.columns = ['Hashtag', 'Count']\n",
    "#print(hashtag_distribution)\n",
    "\n",
    "fig = px.bar(hashtag_distribution, x='Hashtag', \n",
    "            y='Count', title='Distribution of Hashtags')\n",
    "fig.show()"
   ]
  },
  {
   "cell_type": "code",
   "execution_count": 65,
   "id": "34195816",
   "metadata": {},
   "outputs": [
    {
     "data": {
      "application/vnd.plotly.v1+json": {
       "config": {
        "plotlyServerURL": "https://plot.ly"
       },
       "data": [
        {
         "alignmentgroup": "True",
         "hovertemplate": "Hashtag=%{x}<br>Likes=%{y}<extra></extra>",
         "legendgroup": "",
         "marker": {
          "color": "#636efa",
          "pattern": {
           "shape": ""
          }
         },
         "name": "",
         "offsetgroup": "",
         "orientation": "v",
         "showlegend": false,
         "textposition": "auto",
         "type": "bar",
         "x": [
          "#finance",
          "#money",
          "#business",
          "#investing",
          "#investment",
          "#trading",
          "#stockmarket",
          "#data",
          "#datascience",
          "#dataanalysis",
          "#dataanalytics",
          "#datascientist",
          "#machinelearning",
          "#python",
          "#pythonprogramming",
          "#pythonprojects",
          "#pythoncode",
          "#artificialintelligence",
          "#ai",
          "#dataanalyst",
          "#amankharwal",
          "#thecleverprogrammer",
          "#healthcare",
          "#health",
          "#covid",
          "#deeplearning",
          "#machinelearningprojects",
          "#datascienceprojects",
          "#machinelearningmodels",
          "#pythonlearning",
          "#pythondeveloper",
          "#pythoncoding",
          "#pythonprogrammer",
          "#datavisualization",
          "#bigdata",
          "#dataviz",
          "#analytics",
          "#technology",
          "#programming",
          "#statistics",
          "#coding",
          "#businessintelligence",
          "#datamining",
          "#tech",
          "#computerscience",
          "#tableau",
          "#database",
          "#algorithm",
          "#algorithms",
          "#machinelearningalgorithms",
          "#ml",
          "#softskills",
          "#stocks",
          "#forex",
          "#candlestick",
          "#candlestickcharts",
          "#pythonbooks",
          "#bookstagram",
          "#powerbi",
          "#dataanalysisprojects",
          "#businessanalytics",
          "#neuralnetwork",
          "#neuralnetworks",
          "#tensorflow",
          "#artificialintelligenceai",
          "#alexnet",
          "#sentimentanalysis",
          "#sentiment",
          "#nlp",
          "#naturallanguageprocessing",
          "#timeseries",
          "#time",
          "#timeseriesanalysis",
          "#iot",
          "#analysis",
          "#timeseriesmalaysia",
          "#career",
          "#job",
          "#jobs",
          "#jobsearch",
          "#education",
          "#success",
          "#careergoals",
          "#motivation",
          "#work",
          "#careerdevelopment",
          "#careers",
          "#goals",
          "#resume",
          "#students",
          "#careeradvice",
          "#marketing",
          "#digitalmarketing",
          "#media",
          "#socialmedia",
          "#IT",
          "#webdevelopment",
          "#stress",
          "#stressdetection",
          "#zomato",
          "#casestudy",
          "#businessmodel",
          "#boxplots",
          "#programmer",
          "#developer",
          "#javascript",
          "#code",
          "#coder",
          "#java",
          "#html",
          "#css",
          "#webdeveloper",
          "#software",
          "#codinglife",
          "#softwaredeveloper",
          "#linux",
          "#programmingmemes",
          "#webdesign",
          "#programmers",
          "#php",
          "#programminglife",
          "#hacking",
          "#bitcoin",
          "#cryptocurrency",
          "#projects",
          "#casestudies",
          "#amazonfinds",
          "#security",
          "#cybersecurity",
          "#network",
          "#internet",
          "#cloud",
          "#innovation",
          "#google",
          "#facebook",
          "#interview",
          "#datascienceinterview",
          "#otp",
          "#otpverification",
          "#qrcodes",
          "#bigdataanalytics",
          "#recommended",
          "#recommendations",
          "#recommendationsystem",
          "#recommendation",
          "#codinginterview",
          "#flipkart",
          "#news",
          "#pythonprogram",
          "@codergallery",
          "#whatsapp",
          "#roadmap",
          "#ukraine",
          "#instagram",
          "#instagramreach",
          "#datasciencejobs",
          "#datasciencetraining",
          "#datascienceeducation",
          "#datasciencecourse",
          "#sql",
          "#mysql",
          "#python3",
          "#pythonprogramminglanguage",
          "#clustering"
         ],
         "xaxis": "x",
         "y": [
          529,
          529,
          2012,
          529,
          380,
          380,
          380,
          15077,
          16311,
          13801,
          15283,
          14703,
          16509,
          18238,
          16251,
          16818,
          14239,
          15515,
          15733,
          1845,
          20462,
          20462,
          729,
          729,
          729,
          13204,
          8458,
          8458,
          761,
          3659,
          3659,
          3659,
          3659,
          2382,
          2671,
          567,
          2001,
          3187,
          3355,
          1766,
          3129,
          728,
          728,
          2961,
          2818,
          265,
          887,
          1615,
          1615,
          2065,
          1058,
          144,
          218,
          218,
          218,
          218,
          124,
          124,
          529,
          387,
          387,
          1120,
          600,
          450,
          450,
          81,
          1057,
          1057,
          1238,
          1238,
          812,
          812,
          812,
          812,
          812,
          812,
          410,
          680,
          410,
          410,
          410,
          410,
          410,
          410,
          410,
          410,
          410,
          410,
          410,
          410,
          410,
          410,
          410,
          410,
          410,
          410,
          1456,
          302,
          302,
          328,
          328,
          328,
          76,
          878,
          878,
          878,
          878,
          878,
          878,
          878,
          878,
          878,
          1113,
          878,
          878,
          608,
          608,
          608,
          608,
          608,
          608,
          608,
          390,
          390,
          302,
          302,
          184,
          235,
          235,
          235,
          235,
          235,
          235,
          150,
          85,
          600,
          180,
          272,
          272,
          167,
          142,
          373,
          373,
          373,
          373,
          270,
          94,
          96,
          118,
          118,
          178,
          525,
          203,
          171,
          171,
          1814,
          1814,
          1814,
          1814,
          308,
          308,
          296,
          296,
          240
         ],
         "yaxis": "y"
        }
       ],
       "layout": {
        "barmode": "relative",
        "legend": {
         "tracegroupgap": 0
        },
        "template": {
         "data": {
          "bar": [
           {
            "error_x": {
             "color": "#2a3f5f"
            },
            "error_y": {
             "color": "#2a3f5f"
            },
            "marker": {
             "line": {
              "color": "#E5ECF6",
              "width": 0.5
             },
             "pattern": {
              "fillmode": "overlay",
              "size": 10,
              "solidity": 0.2
             }
            },
            "type": "bar"
           }
          ],
          "barpolar": [
           {
            "marker": {
             "line": {
              "color": "#E5ECF6",
              "width": 0.5
             },
             "pattern": {
              "fillmode": "overlay",
              "size": 10,
              "solidity": 0.2
             }
            },
            "type": "barpolar"
           }
          ],
          "carpet": [
           {
            "aaxis": {
             "endlinecolor": "#2a3f5f",
             "gridcolor": "white",
             "linecolor": "white",
             "minorgridcolor": "white",
             "startlinecolor": "#2a3f5f"
            },
            "baxis": {
             "endlinecolor": "#2a3f5f",
             "gridcolor": "white",
             "linecolor": "white",
             "minorgridcolor": "white",
             "startlinecolor": "#2a3f5f"
            },
            "type": "carpet"
           }
          ],
          "choropleth": [
           {
            "colorbar": {
             "outlinewidth": 0,
             "ticks": ""
            },
            "type": "choropleth"
           }
          ],
          "contour": [
           {
            "colorbar": {
             "outlinewidth": 0,
             "ticks": ""
            },
            "colorscale": [
             [
              0,
              "#0d0887"
             ],
             [
              0.1111111111111111,
              "#46039f"
             ],
             [
              0.2222222222222222,
              "#7201a8"
             ],
             [
              0.3333333333333333,
              "#9c179e"
             ],
             [
              0.4444444444444444,
              "#bd3786"
             ],
             [
              0.5555555555555556,
              "#d8576b"
             ],
             [
              0.6666666666666666,
              "#ed7953"
             ],
             [
              0.7777777777777778,
              "#fb9f3a"
             ],
             [
              0.8888888888888888,
              "#fdca26"
             ],
             [
              1,
              "#f0f921"
             ]
            ],
            "type": "contour"
           }
          ],
          "contourcarpet": [
           {
            "colorbar": {
             "outlinewidth": 0,
             "ticks": ""
            },
            "type": "contourcarpet"
           }
          ],
          "heatmap": [
           {
            "colorbar": {
             "outlinewidth": 0,
             "ticks": ""
            },
            "colorscale": [
             [
              0,
              "#0d0887"
             ],
             [
              0.1111111111111111,
              "#46039f"
             ],
             [
              0.2222222222222222,
              "#7201a8"
             ],
             [
              0.3333333333333333,
              "#9c179e"
             ],
             [
              0.4444444444444444,
              "#bd3786"
             ],
             [
              0.5555555555555556,
              "#d8576b"
             ],
             [
              0.6666666666666666,
              "#ed7953"
             ],
             [
              0.7777777777777778,
              "#fb9f3a"
             ],
             [
              0.8888888888888888,
              "#fdca26"
             ],
             [
              1,
              "#f0f921"
             ]
            ],
            "type": "heatmap"
           }
          ],
          "heatmapgl": [
           {
            "colorbar": {
             "outlinewidth": 0,
             "ticks": ""
            },
            "colorscale": [
             [
              0,
              "#0d0887"
             ],
             [
              0.1111111111111111,
              "#46039f"
             ],
             [
              0.2222222222222222,
              "#7201a8"
             ],
             [
              0.3333333333333333,
              "#9c179e"
             ],
             [
              0.4444444444444444,
              "#bd3786"
             ],
             [
              0.5555555555555556,
              "#d8576b"
             ],
             [
              0.6666666666666666,
              "#ed7953"
             ],
             [
              0.7777777777777778,
              "#fb9f3a"
             ],
             [
              0.8888888888888888,
              "#fdca26"
             ],
             [
              1,
              "#f0f921"
             ]
            ],
            "type": "heatmapgl"
           }
          ],
          "histogram": [
           {
            "marker": {
             "pattern": {
              "fillmode": "overlay",
              "size": 10,
              "solidity": 0.2
             }
            },
            "type": "histogram"
           }
          ],
          "histogram2d": [
           {
            "colorbar": {
             "outlinewidth": 0,
             "ticks": ""
            },
            "colorscale": [
             [
              0,
              "#0d0887"
             ],
             [
              0.1111111111111111,
              "#46039f"
             ],
             [
              0.2222222222222222,
              "#7201a8"
             ],
             [
              0.3333333333333333,
              "#9c179e"
             ],
             [
              0.4444444444444444,
              "#bd3786"
             ],
             [
              0.5555555555555556,
              "#d8576b"
             ],
             [
              0.6666666666666666,
              "#ed7953"
             ],
             [
              0.7777777777777778,
              "#fb9f3a"
             ],
             [
              0.8888888888888888,
              "#fdca26"
             ],
             [
              1,
              "#f0f921"
             ]
            ],
            "type": "histogram2d"
           }
          ],
          "histogram2dcontour": [
           {
            "colorbar": {
             "outlinewidth": 0,
             "ticks": ""
            },
            "colorscale": [
             [
              0,
              "#0d0887"
             ],
             [
              0.1111111111111111,
              "#46039f"
             ],
             [
              0.2222222222222222,
              "#7201a8"
             ],
             [
              0.3333333333333333,
              "#9c179e"
             ],
             [
              0.4444444444444444,
              "#bd3786"
             ],
             [
              0.5555555555555556,
              "#d8576b"
             ],
             [
              0.6666666666666666,
              "#ed7953"
             ],
             [
              0.7777777777777778,
              "#fb9f3a"
             ],
             [
              0.8888888888888888,
              "#fdca26"
             ],
             [
              1,
              "#f0f921"
             ]
            ],
            "type": "histogram2dcontour"
           }
          ],
          "mesh3d": [
           {
            "colorbar": {
             "outlinewidth": 0,
             "ticks": ""
            },
            "type": "mesh3d"
           }
          ],
          "parcoords": [
           {
            "line": {
             "colorbar": {
              "outlinewidth": 0,
              "ticks": ""
             }
            },
            "type": "parcoords"
           }
          ],
          "pie": [
           {
            "automargin": true,
            "type": "pie"
           }
          ],
          "scatter": [
           {
            "fillpattern": {
             "fillmode": "overlay",
             "size": 10,
             "solidity": 0.2
            },
            "type": "scatter"
           }
          ],
          "scatter3d": [
           {
            "line": {
             "colorbar": {
              "outlinewidth": 0,
              "ticks": ""
             }
            },
            "marker": {
             "colorbar": {
              "outlinewidth": 0,
              "ticks": ""
             }
            },
            "type": "scatter3d"
           }
          ],
          "scattercarpet": [
           {
            "marker": {
             "colorbar": {
              "outlinewidth": 0,
              "ticks": ""
             }
            },
            "type": "scattercarpet"
           }
          ],
          "scattergeo": [
           {
            "marker": {
             "colorbar": {
              "outlinewidth": 0,
              "ticks": ""
             }
            },
            "type": "scattergeo"
           }
          ],
          "scattergl": [
           {
            "marker": {
             "colorbar": {
              "outlinewidth": 0,
              "ticks": ""
             }
            },
            "type": "scattergl"
           }
          ],
          "scattermapbox": [
           {
            "marker": {
             "colorbar": {
              "outlinewidth": 0,
              "ticks": ""
             }
            },
            "type": "scattermapbox"
           }
          ],
          "scatterpolar": [
           {
            "marker": {
             "colorbar": {
              "outlinewidth": 0,
              "ticks": ""
             }
            },
            "type": "scatterpolar"
           }
          ],
          "scatterpolargl": [
           {
            "marker": {
             "colorbar": {
              "outlinewidth": 0,
              "ticks": ""
             }
            },
            "type": "scatterpolargl"
           }
          ],
          "scatterternary": [
           {
            "marker": {
             "colorbar": {
              "outlinewidth": 0,
              "ticks": ""
             }
            },
            "type": "scatterternary"
           }
          ],
          "surface": [
           {
            "colorbar": {
             "outlinewidth": 0,
             "ticks": ""
            },
            "colorscale": [
             [
              0,
              "#0d0887"
             ],
             [
              0.1111111111111111,
              "#46039f"
             ],
             [
              0.2222222222222222,
              "#7201a8"
             ],
             [
              0.3333333333333333,
              "#9c179e"
             ],
             [
              0.4444444444444444,
              "#bd3786"
             ],
             [
              0.5555555555555556,
              "#d8576b"
             ],
             [
              0.6666666666666666,
              "#ed7953"
             ],
             [
              0.7777777777777778,
              "#fb9f3a"
             ],
             [
              0.8888888888888888,
              "#fdca26"
             ],
             [
              1,
              "#f0f921"
             ]
            ],
            "type": "surface"
           }
          ],
          "table": [
           {
            "cells": {
             "fill": {
              "color": "#EBF0F8"
             },
             "line": {
              "color": "white"
             }
            },
            "header": {
             "fill": {
              "color": "#C8D4E3"
             },
             "line": {
              "color": "white"
             }
            },
            "type": "table"
           }
          ]
         },
         "layout": {
          "annotationdefaults": {
           "arrowcolor": "#2a3f5f",
           "arrowhead": 0,
           "arrowwidth": 1
          },
          "autotypenumbers": "strict",
          "coloraxis": {
           "colorbar": {
            "outlinewidth": 0,
            "ticks": ""
           }
          },
          "colorscale": {
           "diverging": [
            [
             0,
             "#8e0152"
            ],
            [
             0.1,
             "#c51b7d"
            ],
            [
             0.2,
             "#de77ae"
            ],
            [
             0.3,
             "#f1b6da"
            ],
            [
             0.4,
             "#fde0ef"
            ],
            [
             0.5,
             "#f7f7f7"
            ],
            [
             0.6,
             "#e6f5d0"
            ],
            [
             0.7,
             "#b8e186"
            ],
            [
             0.8,
             "#7fbc41"
            ],
            [
             0.9,
             "#4d9221"
            ],
            [
             1,
             "#276419"
            ]
           ],
           "sequential": [
            [
             0,
             "#0d0887"
            ],
            [
             0.1111111111111111,
             "#46039f"
            ],
            [
             0.2222222222222222,
             "#7201a8"
            ],
            [
             0.3333333333333333,
             "#9c179e"
            ],
            [
             0.4444444444444444,
             "#bd3786"
            ],
            [
             0.5555555555555556,
             "#d8576b"
            ],
            [
             0.6666666666666666,
             "#ed7953"
            ],
            [
             0.7777777777777778,
             "#fb9f3a"
            ],
            [
             0.8888888888888888,
             "#fdca26"
            ],
            [
             1,
             "#f0f921"
            ]
           ],
           "sequentialminus": [
            [
             0,
             "#0d0887"
            ],
            [
             0.1111111111111111,
             "#46039f"
            ],
            [
             0.2222222222222222,
             "#7201a8"
            ],
            [
             0.3333333333333333,
             "#9c179e"
            ],
            [
             0.4444444444444444,
             "#bd3786"
            ],
            [
             0.5555555555555556,
             "#d8576b"
            ],
            [
             0.6666666666666666,
             "#ed7953"
            ],
            [
             0.7777777777777778,
             "#fb9f3a"
            ],
            [
             0.8888888888888888,
             "#fdca26"
            ],
            [
             1,
             "#f0f921"
            ]
           ]
          },
          "colorway": [
           "#636efa",
           "#EF553B",
           "#00cc96",
           "#ab63fa",
           "#FFA15A",
           "#19d3f3",
           "#FF6692",
           "#B6E880",
           "#FF97FF",
           "#FECB52"
          ],
          "font": {
           "color": "#2a3f5f"
          },
          "geo": {
           "bgcolor": "white",
           "lakecolor": "white",
           "landcolor": "#E5ECF6",
           "showlakes": true,
           "showland": true,
           "subunitcolor": "white"
          },
          "hoverlabel": {
           "align": "left"
          },
          "hovermode": "closest",
          "mapbox": {
           "style": "light"
          },
          "paper_bgcolor": "white",
          "plot_bgcolor": "#E5ECF6",
          "polar": {
           "angularaxis": {
            "gridcolor": "white",
            "linecolor": "white",
            "ticks": ""
           },
           "bgcolor": "#E5ECF6",
           "radialaxis": {
            "gridcolor": "white",
            "linecolor": "white",
            "ticks": ""
           }
          },
          "scene": {
           "xaxis": {
            "backgroundcolor": "#E5ECF6",
            "gridcolor": "white",
            "gridwidth": 2,
            "linecolor": "white",
            "showbackground": true,
            "ticks": "",
            "zerolinecolor": "white"
           },
           "yaxis": {
            "backgroundcolor": "#E5ECF6",
            "gridcolor": "white",
            "gridwidth": 2,
            "linecolor": "white",
            "showbackground": true,
            "ticks": "",
            "zerolinecolor": "white"
           },
           "zaxis": {
            "backgroundcolor": "#E5ECF6",
            "gridcolor": "white",
            "gridwidth": 2,
            "linecolor": "white",
            "showbackground": true,
            "ticks": "",
            "zerolinecolor": "white"
           }
          },
          "shapedefaults": {
           "line": {
            "color": "#2a3f5f"
           }
          },
          "ternary": {
           "aaxis": {
            "gridcolor": "white",
            "linecolor": "white",
            "ticks": ""
           },
           "baxis": {
            "gridcolor": "white",
            "linecolor": "white",
            "ticks": ""
           },
           "bgcolor": "#E5ECF6",
           "caxis": {
            "gridcolor": "white",
            "linecolor": "white",
            "ticks": ""
           }
          },
          "title": {
           "x": 0.05
          },
          "xaxis": {
           "automargin": true,
           "gridcolor": "white",
           "linecolor": "white",
           "ticks": "",
           "title": {
            "standoff": 15
           },
           "zerolinecolor": "white",
           "zerolinewidth": 2
          },
          "yaxis": {
           "automargin": true,
           "gridcolor": "white",
           "linecolor": "white",
           "ticks": "",
           "title": {
            "standoff": 15
           },
           "zerolinecolor": "white",
           "zerolinewidth": 2
          }
         }
        },
        "title": {
         "text": "Likes Distribution for Each Hashtag"
        },
        "xaxis": {
         "anchor": "y",
         "domain": [
          0,
          1
         ],
         "title": {
          "text": "Hashtag"
         }
        },
        "yaxis": {
         "anchor": "x",
         "domain": [
          0,
          1
         ],
         "title": {
          "text": "Likes"
         }
        }
       }
      },
      "text/html": [
       "<div>                            <div id=\"90ec88ff-02ca-4201-ab62-bd554067fa1b\" class=\"plotly-graph-div\" style=\"height:525px; width:100%;\"></div>            <script type=\"text/javascript\">                require([\"plotly\"], function(Plotly) {                    window.PLOTLYENV=window.PLOTLYENV || {};                                    if (document.getElementById(\"90ec88ff-02ca-4201-ab62-bd554067fa1b\")) {                    Plotly.newPlot(                        \"90ec88ff-02ca-4201-ab62-bd554067fa1b\",                        [{\"alignmentgroup\":\"True\",\"hovertemplate\":\"Hashtag=%{x}<br>Likes=%{y}<extra></extra>\",\"legendgroup\":\"\",\"marker\":{\"color\":\"#636efa\",\"pattern\":{\"shape\":\"\"}},\"name\":\"\",\"offsetgroup\":\"\",\"orientation\":\"v\",\"showlegend\":false,\"textposition\":\"auto\",\"x\":[\"#finance\",\"#money\",\"#business\",\"#investing\",\"#investment\",\"#trading\",\"#stockmarket\",\"#data\",\"#datascience\",\"#dataanalysis\",\"#dataanalytics\",\"#datascientist\",\"#machinelearning\",\"#python\",\"#pythonprogramming\",\"#pythonprojects\",\"#pythoncode\",\"#artificialintelligence\",\"#ai\",\"#dataanalyst\",\"#amankharwal\",\"#thecleverprogrammer\",\"#healthcare\",\"#health\",\"#covid\",\"#deeplearning\",\"#machinelearningprojects\",\"#datascienceprojects\",\"#machinelearningmodels\",\"#pythonlearning\",\"#pythondeveloper\",\"#pythoncoding\",\"#pythonprogrammer\",\"#datavisualization\",\"#bigdata\",\"#dataviz\",\"#analytics\",\"#technology\",\"#programming\",\"#statistics\",\"#coding\",\"#businessintelligence\",\"#datamining\",\"#tech\",\"#computerscience\",\"#tableau\",\"#database\",\"#algorithm\",\"#algorithms\",\"#machinelearningalgorithms\",\"#ml\",\"#softskills\",\"#stocks\",\"#forex\",\"#candlestick\",\"#candlestickcharts\",\"#pythonbooks\",\"#bookstagram\",\"#powerbi\",\"#dataanalysisprojects\",\"#businessanalytics\",\"#neuralnetwork\",\"#neuralnetworks\",\"#tensorflow\",\"#artificialintelligenceai\",\"#alexnet\",\"#sentimentanalysis\",\"#sentiment\",\"#nlp\",\"#naturallanguageprocessing\",\"#timeseries\",\"#time\",\"#timeseriesanalysis\",\"#iot\",\"#analysis\",\"#timeseriesmalaysia\",\"#career\",\"#job\",\"#jobs\",\"#jobsearch\",\"#education\",\"#success\",\"#careergoals\",\"#motivation\",\"#work\",\"#careerdevelopment\",\"#careers\",\"#goals\",\"#resume\",\"#students\",\"#careeradvice\",\"#marketing\",\"#digitalmarketing\",\"#media\",\"#socialmedia\",\"#IT\",\"#webdevelopment\",\"#stress\",\"#stressdetection\",\"#zomato\",\"#casestudy\",\"#businessmodel\",\"#boxplots\",\"#programmer\",\"#developer\",\"#javascript\",\"#code\",\"#coder\",\"#java\",\"#html\",\"#css\",\"#webdeveloper\",\"#software\",\"#codinglife\",\"#softwaredeveloper\",\"#linux\",\"#programmingmemes\",\"#webdesign\",\"#programmers\",\"#php\",\"#programminglife\",\"#hacking\",\"#bitcoin\",\"#cryptocurrency\",\"#projects\",\"#casestudies\",\"#amazonfinds\",\"#security\",\"#cybersecurity\",\"#network\",\"#internet\",\"#cloud\",\"#innovation\",\"#google\",\"#facebook\",\"#interview\",\"#datascienceinterview\",\"#otp\",\"#otpverification\",\"#qrcodes\",\"#bigdataanalytics\",\"#recommended\",\"#recommendations\",\"#recommendationsystem\",\"#recommendation\",\"#codinginterview\",\"#flipkart\",\"#news\",\"#pythonprogram\",\"@codergallery\",\"#whatsapp\",\"#roadmap\",\"#ukraine\",\"#instagram\",\"#instagramreach\",\"#datasciencejobs\",\"#datasciencetraining\",\"#datascienceeducation\",\"#datasciencecourse\",\"#sql\",\"#mysql\",\"#python3\",\"#pythonprogramminglanguage\",\"#clustering\"],\"xaxis\":\"x\",\"y\":[529,529,2012,529,380,380,380,15077,16311,13801,15283,14703,16509,18238,16251,16818,14239,15515,15733,1845,20462,20462,729,729,729,13204,8458,8458,761,3659,3659,3659,3659,2382,2671,567,2001,3187,3355,1766,3129,728,728,2961,2818,265,887,1615,1615,2065,1058,144,218,218,218,218,124,124,529,387,387,1120,600,450,450,81,1057,1057,1238,1238,812,812,812,812,812,812,410,680,410,410,410,410,410,410,410,410,410,410,410,410,410,410,410,410,410,410,1456,302,302,328,328,328,76,878,878,878,878,878,878,878,878,878,1113,878,878,608,608,608,608,608,608,608,390,390,302,302,184,235,235,235,235,235,235,150,85,600,180,272,272,167,142,373,373,373,373,270,94,96,118,118,178,525,203,171,171,1814,1814,1814,1814,308,308,296,296,240],\"yaxis\":\"y\",\"type\":\"bar\"}],                        {\"template\":{\"data\":{\"histogram2dcontour\":[{\"type\":\"histogram2dcontour\",\"colorbar\":{\"outlinewidth\":0,\"ticks\":\"\"},\"colorscale\":[[0.0,\"#0d0887\"],[0.1111111111111111,\"#46039f\"],[0.2222222222222222,\"#7201a8\"],[0.3333333333333333,\"#9c179e\"],[0.4444444444444444,\"#bd3786\"],[0.5555555555555556,\"#d8576b\"],[0.6666666666666666,\"#ed7953\"],[0.7777777777777778,\"#fb9f3a\"],[0.8888888888888888,\"#fdca26\"],[1.0,\"#f0f921\"]]}],\"choropleth\":[{\"type\":\"choropleth\",\"colorbar\":{\"outlinewidth\":0,\"ticks\":\"\"}}],\"histogram2d\":[{\"type\":\"histogram2d\",\"colorbar\":{\"outlinewidth\":0,\"ticks\":\"\"},\"colorscale\":[[0.0,\"#0d0887\"],[0.1111111111111111,\"#46039f\"],[0.2222222222222222,\"#7201a8\"],[0.3333333333333333,\"#9c179e\"],[0.4444444444444444,\"#bd3786\"],[0.5555555555555556,\"#d8576b\"],[0.6666666666666666,\"#ed7953\"],[0.7777777777777778,\"#fb9f3a\"],[0.8888888888888888,\"#fdca26\"],[1.0,\"#f0f921\"]]}],\"heatmap\":[{\"type\":\"heatmap\",\"colorbar\":{\"outlinewidth\":0,\"ticks\":\"\"},\"colorscale\":[[0.0,\"#0d0887\"],[0.1111111111111111,\"#46039f\"],[0.2222222222222222,\"#7201a8\"],[0.3333333333333333,\"#9c179e\"],[0.4444444444444444,\"#bd3786\"],[0.5555555555555556,\"#d8576b\"],[0.6666666666666666,\"#ed7953\"],[0.7777777777777778,\"#fb9f3a\"],[0.8888888888888888,\"#fdca26\"],[1.0,\"#f0f921\"]]}],\"heatmapgl\":[{\"type\":\"heatmapgl\",\"colorbar\":{\"outlinewidth\":0,\"ticks\":\"\"},\"colorscale\":[[0.0,\"#0d0887\"],[0.1111111111111111,\"#46039f\"],[0.2222222222222222,\"#7201a8\"],[0.3333333333333333,\"#9c179e\"],[0.4444444444444444,\"#bd3786\"],[0.5555555555555556,\"#d8576b\"],[0.6666666666666666,\"#ed7953\"],[0.7777777777777778,\"#fb9f3a\"],[0.8888888888888888,\"#fdca26\"],[1.0,\"#f0f921\"]]}],\"contourcarpet\":[{\"type\":\"contourcarpet\",\"colorbar\":{\"outlinewidth\":0,\"ticks\":\"\"}}],\"contour\":[{\"type\":\"contour\",\"colorbar\":{\"outlinewidth\":0,\"ticks\":\"\"},\"colorscale\":[[0.0,\"#0d0887\"],[0.1111111111111111,\"#46039f\"],[0.2222222222222222,\"#7201a8\"],[0.3333333333333333,\"#9c179e\"],[0.4444444444444444,\"#bd3786\"],[0.5555555555555556,\"#d8576b\"],[0.6666666666666666,\"#ed7953\"],[0.7777777777777778,\"#fb9f3a\"],[0.8888888888888888,\"#fdca26\"],[1.0,\"#f0f921\"]]}],\"surface\":[{\"type\":\"surface\",\"colorbar\":{\"outlinewidth\":0,\"ticks\":\"\"},\"colorscale\":[[0.0,\"#0d0887\"],[0.1111111111111111,\"#46039f\"],[0.2222222222222222,\"#7201a8\"],[0.3333333333333333,\"#9c179e\"],[0.4444444444444444,\"#bd3786\"],[0.5555555555555556,\"#d8576b\"],[0.6666666666666666,\"#ed7953\"],[0.7777777777777778,\"#fb9f3a\"],[0.8888888888888888,\"#fdca26\"],[1.0,\"#f0f921\"]]}],\"mesh3d\":[{\"type\":\"mesh3d\",\"colorbar\":{\"outlinewidth\":0,\"ticks\":\"\"}}],\"scatter\":[{\"fillpattern\":{\"fillmode\":\"overlay\",\"size\":10,\"solidity\":0.2},\"type\":\"scatter\"}],\"parcoords\":[{\"type\":\"parcoords\",\"line\":{\"colorbar\":{\"outlinewidth\":0,\"ticks\":\"\"}}}],\"scatterpolargl\":[{\"type\":\"scatterpolargl\",\"marker\":{\"colorbar\":{\"outlinewidth\":0,\"ticks\":\"\"}}}],\"bar\":[{\"error_x\":{\"color\":\"#2a3f5f\"},\"error_y\":{\"color\":\"#2a3f5f\"},\"marker\":{\"line\":{\"color\":\"#E5ECF6\",\"width\":0.5},\"pattern\":{\"fillmode\":\"overlay\",\"size\":10,\"solidity\":0.2}},\"type\":\"bar\"}],\"scattergeo\":[{\"type\":\"scattergeo\",\"marker\":{\"colorbar\":{\"outlinewidth\":0,\"ticks\":\"\"}}}],\"scatterpolar\":[{\"type\":\"scatterpolar\",\"marker\":{\"colorbar\":{\"outlinewidth\":0,\"ticks\":\"\"}}}],\"histogram\":[{\"marker\":{\"pattern\":{\"fillmode\":\"overlay\",\"size\":10,\"solidity\":0.2}},\"type\":\"histogram\"}],\"scattergl\":[{\"type\":\"scattergl\",\"marker\":{\"colorbar\":{\"outlinewidth\":0,\"ticks\":\"\"}}}],\"scatter3d\":[{\"type\":\"scatter3d\",\"line\":{\"colorbar\":{\"outlinewidth\":0,\"ticks\":\"\"}},\"marker\":{\"colorbar\":{\"outlinewidth\":0,\"ticks\":\"\"}}}],\"scattermapbox\":[{\"type\":\"scattermapbox\",\"marker\":{\"colorbar\":{\"outlinewidth\":0,\"ticks\":\"\"}}}],\"scatterternary\":[{\"type\":\"scatterternary\",\"marker\":{\"colorbar\":{\"outlinewidth\":0,\"ticks\":\"\"}}}],\"scattercarpet\":[{\"type\":\"scattercarpet\",\"marker\":{\"colorbar\":{\"outlinewidth\":0,\"ticks\":\"\"}}}],\"carpet\":[{\"aaxis\":{\"endlinecolor\":\"#2a3f5f\",\"gridcolor\":\"white\",\"linecolor\":\"white\",\"minorgridcolor\":\"white\",\"startlinecolor\":\"#2a3f5f\"},\"baxis\":{\"endlinecolor\":\"#2a3f5f\",\"gridcolor\":\"white\",\"linecolor\":\"white\",\"minorgridcolor\":\"white\",\"startlinecolor\":\"#2a3f5f\"},\"type\":\"carpet\"}],\"table\":[{\"cells\":{\"fill\":{\"color\":\"#EBF0F8\"},\"line\":{\"color\":\"white\"}},\"header\":{\"fill\":{\"color\":\"#C8D4E3\"},\"line\":{\"color\":\"white\"}},\"type\":\"table\"}],\"barpolar\":[{\"marker\":{\"line\":{\"color\":\"#E5ECF6\",\"width\":0.5},\"pattern\":{\"fillmode\":\"overlay\",\"size\":10,\"solidity\":0.2}},\"type\":\"barpolar\"}],\"pie\":[{\"automargin\":true,\"type\":\"pie\"}]},\"layout\":{\"autotypenumbers\":\"strict\",\"colorway\":[\"#636efa\",\"#EF553B\",\"#00cc96\",\"#ab63fa\",\"#FFA15A\",\"#19d3f3\",\"#FF6692\",\"#B6E880\",\"#FF97FF\",\"#FECB52\"],\"font\":{\"color\":\"#2a3f5f\"},\"hovermode\":\"closest\",\"hoverlabel\":{\"align\":\"left\"},\"paper_bgcolor\":\"white\",\"plot_bgcolor\":\"#E5ECF6\",\"polar\":{\"bgcolor\":\"#E5ECF6\",\"angularaxis\":{\"gridcolor\":\"white\",\"linecolor\":\"white\",\"ticks\":\"\"},\"radialaxis\":{\"gridcolor\":\"white\",\"linecolor\":\"white\",\"ticks\":\"\"}},\"ternary\":{\"bgcolor\":\"#E5ECF6\",\"aaxis\":{\"gridcolor\":\"white\",\"linecolor\":\"white\",\"ticks\":\"\"},\"baxis\":{\"gridcolor\":\"white\",\"linecolor\":\"white\",\"ticks\":\"\"},\"caxis\":{\"gridcolor\":\"white\",\"linecolor\":\"white\",\"ticks\":\"\"}},\"coloraxis\":{\"colorbar\":{\"outlinewidth\":0,\"ticks\":\"\"}},\"colorscale\":{\"sequential\":[[0.0,\"#0d0887\"],[0.1111111111111111,\"#46039f\"],[0.2222222222222222,\"#7201a8\"],[0.3333333333333333,\"#9c179e\"],[0.4444444444444444,\"#bd3786\"],[0.5555555555555556,\"#d8576b\"],[0.6666666666666666,\"#ed7953\"],[0.7777777777777778,\"#fb9f3a\"],[0.8888888888888888,\"#fdca26\"],[1.0,\"#f0f921\"]],\"sequentialminus\":[[0.0,\"#0d0887\"],[0.1111111111111111,\"#46039f\"],[0.2222222222222222,\"#7201a8\"],[0.3333333333333333,\"#9c179e\"],[0.4444444444444444,\"#bd3786\"],[0.5555555555555556,\"#d8576b\"],[0.6666666666666666,\"#ed7953\"],[0.7777777777777778,\"#fb9f3a\"],[0.8888888888888888,\"#fdca26\"],[1.0,\"#f0f921\"]],\"diverging\":[[0,\"#8e0152\"],[0.1,\"#c51b7d\"],[0.2,\"#de77ae\"],[0.3,\"#f1b6da\"],[0.4,\"#fde0ef\"],[0.5,\"#f7f7f7\"],[0.6,\"#e6f5d0\"],[0.7,\"#b8e186\"],[0.8,\"#7fbc41\"],[0.9,\"#4d9221\"],[1,\"#276419\"]]},\"xaxis\":{\"gridcolor\":\"white\",\"linecolor\":\"white\",\"ticks\":\"\",\"title\":{\"standoff\":15},\"zerolinecolor\":\"white\",\"automargin\":true,\"zerolinewidth\":2},\"yaxis\":{\"gridcolor\":\"white\",\"linecolor\":\"white\",\"ticks\":\"\",\"title\":{\"standoff\":15},\"zerolinecolor\":\"white\",\"automargin\":true,\"zerolinewidth\":2},\"scene\":{\"xaxis\":{\"backgroundcolor\":\"#E5ECF6\",\"gridcolor\":\"white\",\"linecolor\":\"white\",\"showbackground\":true,\"ticks\":\"\",\"zerolinecolor\":\"white\",\"gridwidth\":2},\"yaxis\":{\"backgroundcolor\":\"#E5ECF6\",\"gridcolor\":\"white\",\"linecolor\":\"white\",\"showbackground\":true,\"ticks\":\"\",\"zerolinecolor\":\"white\",\"gridwidth\":2},\"zaxis\":{\"backgroundcolor\":\"#E5ECF6\",\"gridcolor\":\"white\",\"linecolor\":\"white\",\"showbackground\":true,\"ticks\":\"\",\"zerolinecolor\":\"white\",\"gridwidth\":2}},\"shapedefaults\":{\"line\":{\"color\":\"#2a3f5f\"}},\"annotationdefaults\":{\"arrowcolor\":\"#2a3f5f\",\"arrowhead\":0,\"arrowwidth\":1},\"geo\":{\"bgcolor\":\"white\",\"landcolor\":\"#E5ECF6\",\"subunitcolor\":\"white\",\"showland\":true,\"showlakes\":true,\"lakecolor\":\"white\"},\"title\":{\"x\":0.05},\"mapbox\":{\"style\":\"light\"}}},\"xaxis\":{\"anchor\":\"y\",\"domain\":[0.0,1.0],\"title\":{\"text\":\"Hashtag\"}},\"yaxis\":{\"anchor\":\"x\",\"domain\":[0.0,1.0],\"title\":{\"text\":\"Likes\"}},\"legend\":{\"tracegroupgap\":0},\"title\":{\"text\":\"Likes Distribution for Each Hashtag\"},\"barmode\":\"relative\"},                        {\"responsive\": true}                    ).then(function(){\n",
       "                            \n",
       "var gd = document.getElementById('90ec88ff-02ca-4201-ab62-bd554067fa1b');\n",
       "var x = new MutationObserver(function (mutations, observer) {{\n",
       "        var display = window.getComputedStyle(gd).display;\n",
       "        if (!display || display === 'none') {{\n",
       "            console.log([gd, 'removed!']);\n",
       "            Plotly.purge(gd);\n",
       "            observer.disconnect();\n",
       "        }}\n",
       "}});\n",
       "\n",
       "// Listen for the removal of the full notebook cells\n",
       "var notebookContainer = gd.closest('#notebook-container');\n",
       "if (notebookContainer) {{\n",
       "    x.observe(notebookContainer, {childList: true});\n",
       "}}\n",
       "\n",
       "// Listen for the clearing of the current output cell\n",
       "var outputEl = gd.closest('.output');\n",
       "if (outputEl) {{\n",
       "    x.observe(outputEl, {childList: true});\n",
       "}}\n",
       "\n",
       "                        })                };                });            </script>        </div>"
      ]
     },
     "metadata": {},
     "output_type": "display_data"
    },
    {
     "data": {
      "application/vnd.plotly.v1+json": {
       "config": {
        "plotlyServerURL": "https://plot.ly"
       },
       "data": [
        {
         "alignmentgroup": "True",
         "hovertemplate": "Hashtag=%{x}<br>Impressions=%{y}<extra></extra>",
         "legendgroup": "",
         "marker": {
          "color": "#636efa",
          "pattern": {
           "shape": ""
          }
         },
         "name": "",
         "offsetgroup": "",
         "orientation": "v",
         "showlegend": false,
         "textposition": "auto",
         "type": "bar",
         "x": [
          "#finance",
          "#money",
          "#business",
          "#investing",
          "#investment",
          "#trading",
          "#stockmarket",
          "#data",
          "#datascience",
          "#dataanalysis",
          "#dataanalytics",
          "#datascientist",
          "#machinelearning",
          "#python",
          "#pythonprogramming",
          "#pythonprojects",
          "#pythoncode",
          "#artificialintelligence",
          "#ai",
          "#dataanalyst",
          "#amankharwal",
          "#thecleverprogrammer",
          "#healthcare",
          "#health",
          "#covid",
          "#deeplearning",
          "#machinelearningprojects",
          "#datascienceprojects",
          "#machinelearningmodels",
          "#pythonlearning",
          "#pythondeveloper",
          "#pythoncoding",
          "#pythonprogrammer",
          "#datavisualization",
          "#bigdata",
          "#dataviz",
          "#analytics",
          "#technology",
          "#programming",
          "#statistics",
          "#coding",
          "#businessintelligence",
          "#datamining",
          "#tech",
          "#computerscience",
          "#tableau",
          "#database",
          "#algorithm",
          "#algorithms",
          "#machinelearningalgorithms",
          "#ml",
          "#softskills",
          "#stocks",
          "#forex",
          "#candlestick",
          "#candlestickcharts",
          "#pythonbooks",
          "#bookstagram",
          "#powerbi",
          "#dataanalysisprojects",
          "#businessanalytics",
          "#neuralnetwork",
          "#neuralnetworks",
          "#tensorflow",
          "#artificialintelligenceai",
          "#alexnet",
          "#sentimentanalysis",
          "#sentiment",
          "#nlp",
          "#naturallanguageprocessing",
          "#timeseries",
          "#time",
          "#timeseriesanalysis",
          "#iot",
          "#analysis",
          "#timeseriesmalaysia",
          "#career",
          "#job",
          "#jobs",
          "#jobsearch",
          "#education",
          "#success",
          "#careergoals",
          "#motivation",
          "#work",
          "#careerdevelopment",
          "#careers",
          "#goals",
          "#resume",
          "#students",
          "#careeradvice",
          "#marketing",
          "#digitalmarketing",
          "#media",
          "#socialmedia",
          "#IT",
          "#webdevelopment",
          "#stress",
          "#stressdetection",
          "#zomato",
          "#casestudy",
          "#businessmodel",
          "#boxplots",
          "#programmer",
          "#developer",
          "#javascript",
          "#code",
          "#coder",
          "#java",
          "#html",
          "#css",
          "#webdeveloper",
          "#software",
          "#codinglife",
          "#softwaredeveloper",
          "#linux",
          "#programmingmemes",
          "#webdesign",
          "#programmers",
          "#php",
          "#programminglife",
          "#hacking",
          "#bitcoin",
          "#cryptocurrency",
          "#projects",
          "#casestudies",
          "#amazonfinds",
          "#security",
          "#cybersecurity",
          "#network",
          "#internet",
          "#cloud",
          "#innovation",
          "#google",
          "#facebook",
          "#interview",
          "#datascienceinterview",
          "#otp",
          "#otpverification",
          "#qrcodes",
          "#bigdataanalytics",
          "#recommended",
          "#recommendations",
          "#recommendationsystem",
          "#recommendation",
          "#codinginterview",
          "#flipkart",
          "#news",
          "#pythonprogram",
          "@codergallery",
          "#whatsapp",
          "#roadmap",
          "#ukraine",
          "#instagram",
          "#instagramreach",
          "#datasciencejobs",
          "#datasciencetraining",
          "#datascienceeducation",
          "#datasciencecourse",
          "#sql",
          "#mysql",
          "#python3",
          "#pythonprogramminglanguage",
          "#clustering"
         ],
         "xaxis": "x",
         "y": [
          14224,
          14224,
          51387,
          14224,
          9757,
          9757,
          9757,
          484761,
          524640,
          457923,
          497787,
          483746,
          532627,
          578243,
          525346,
          567608,
          470276,
          506190,
          512027,
          47051,
          672166,
          672166,
          18292,
          18292,
          18292,
          445317,
          297427,
          297427,
          27201,
          135901,
          135901,
          135901,
          135901,
          64864,
          70884,
          15438,
          53464,
          85523,
          90132,
          47283,
          83264,
          17971,
          17971,
          78655,
          75019,
          6506,
          22088,
          57289,
          57289,
          71529,
          30316,
          3884,
          5837,
          5837,
          5837,
          5837,
          3541,
          3541,
          13389,
          9401,
          9401,
          31660,
          18529,
          14240,
          14240,
          2218,
          34102,
          34102,
          42567,
          42567,
          22444,
          22444,
          22444,
          22444,
          22444,
          22444,
          8004,
          14856,
          8004,
          8004,
          8004,
          8004,
          8004,
          8004,
          8004,
          8004,
          8004,
          8004,
          8004,
          8004,
          8004,
          8004,
          8004,
          8004,
          8004,
          8004,
          35456,
          12336,
          12336,
          10844,
          10844,
          10844,
          2064,
          22843,
          22843,
          22843,
          22843,
          22843,
          22843,
          22843,
          22843,
          22843,
          29024,
          22843,
          22843,
          15991,
          15991,
          15991,
          15991,
          15991,
          15991,
          15991,
          14121,
          14121,
          7848,
          7848,
          6030,
          6181,
          6181,
          6181,
          6181,
          6181,
          6181,
          3854,
          2327,
          16139,
          4998,
          8030,
          8030,
          3786,
          3988,
          10036,
          10036,
          10036,
          10036,
          6852,
          3601,
          3525,
          2957,
          2957,
          5538,
          10682,
          8001,
          7231,
          7231,
          86691,
          86691,
          86691,
          86691,
          17713,
          17713,
          15991,
          15991,
          9870
         ],
         "yaxis": "y"
        }
       ],
       "layout": {
        "barmode": "relative",
        "legend": {
         "tracegroupgap": 0
        },
        "template": {
         "data": {
          "bar": [
           {
            "error_x": {
             "color": "#2a3f5f"
            },
            "error_y": {
             "color": "#2a3f5f"
            },
            "marker": {
             "line": {
              "color": "#E5ECF6",
              "width": 0.5
             },
             "pattern": {
              "fillmode": "overlay",
              "size": 10,
              "solidity": 0.2
             }
            },
            "type": "bar"
           }
          ],
          "barpolar": [
           {
            "marker": {
             "line": {
              "color": "#E5ECF6",
              "width": 0.5
             },
             "pattern": {
              "fillmode": "overlay",
              "size": 10,
              "solidity": 0.2
             }
            },
            "type": "barpolar"
           }
          ],
          "carpet": [
           {
            "aaxis": {
             "endlinecolor": "#2a3f5f",
             "gridcolor": "white",
             "linecolor": "white",
             "minorgridcolor": "white",
             "startlinecolor": "#2a3f5f"
            },
            "baxis": {
             "endlinecolor": "#2a3f5f",
             "gridcolor": "white",
             "linecolor": "white",
             "minorgridcolor": "white",
             "startlinecolor": "#2a3f5f"
            },
            "type": "carpet"
           }
          ],
          "choropleth": [
           {
            "colorbar": {
             "outlinewidth": 0,
             "ticks": ""
            },
            "type": "choropleth"
           }
          ],
          "contour": [
           {
            "colorbar": {
             "outlinewidth": 0,
             "ticks": ""
            },
            "colorscale": [
             [
              0,
              "#0d0887"
             ],
             [
              0.1111111111111111,
              "#46039f"
             ],
             [
              0.2222222222222222,
              "#7201a8"
             ],
             [
              0.3333333333333333,
              "#9c179e"
             ],
             [
              0.4444444444444444,
              "#bd3786"
             ],
             [
              0.5555555555555556,
              "#d8576b"
             ],
             [
              0.6666666666666666,
              "#ed7953"
             ],
             [
              0.7777777777777778,
              "#fb9f3a"
             ],
             [
              0.8888888888888888,
              "#fdca26"
             ],
             [
              1,
              "#f0f921"
             ]
            ],
            "type": "contour"
           }
          ],
          "contourcarpet": [
           {
            "colorbar": {
             "outlinewidth": 0,
             "ticks": ""
            },
            "type": "contourcarpet"
           }
          ],
          "heatmap": [
           {
            "colorbar": {
             "outlinewidth": 0,
             "ticks": ""
            },
            "colorscale": [
             [
              0,
              "#0d0887"
             ],
             [
              0.1111111111111111,
              "#46039f"
             ],
             [
              0.2222222222222222,
              "#7201a8"
             ],
             [
              0.3333333333333333,
              "#9c179e"
             ],
             [
              0.4444444444444444,
              "#bd3786"
             ],
             [
              0.5555555555555556,
              "#d8576b"
             ],
             [
              0.6666666666666666,
              "#ed7953"
             ],
             [
              0.7777777777777778,
              "#fb9f3a"
             ],
             [
              0.8888888888888888,
              "#fdca26"
             ],
             [
              1,
              "#f0f921"
             ]
            ],
            "type": "heatmap"
           }
          ],
          "heatmapgl": [
           {
            "colorbar": {
             "outlinewidth": 0,
             "ticks": ""
            },
            "colorscale": [
             [
              0,
              "#0d0887"
             ],
             [
              0.1111111111111111,
              "#46039f"
             ],
             [
              0.2222222222222222,
              "#7201a8"
             ],
             [
              0.3333333333333333,
              "#9c179e"
             ],
             [
              0.4444444444444444,
              "#bd3786"
             ],
             [
              0.5555555555555556,
              "#d8576b"
             ],
             [
              0.6666666666666666,
              "#ed7953"
             ],
             [
              0.7777777777777778,
              "#fb9f3a"
             ],
             [
              0.8888888888888888,
              "#fdca26"
             ],
             [
              1,
              "#f0f921"
             ]
            ],
            "type": "heatmapgl"
           }
          ],
          "histogram": [
           {
            "marker": {
             "pattern": {
              "fillmode": "overlay",
              "size": 10,
              "solidity": 0.2
             }
            },
            "type": "histogram"
           }
          ],
          "histogram2d": [
           {
            "colorbar": {
             "outlinewidth": 0,
             "ticks": ""
            },
            "colorscale": [
             [
              0,
              "#0d0887"
             ],
             [
              0.1111111111111111,
              "#46039f"
             ],
             [
              0.2222222222222222,
              "#7201a8"
             ],
             [
              0.3333333333333333,
              "#9c179e"
             ],
             [
              0.4444444444444444,
              "#bd3786"
             ],
             [
              0.5555555555555556,
              "#d8576b"
             ],
             [
              0.6666666666666666,
              "#ed7953"
             ],
             [
              0.7777777777777778,
              "#fb9f3a"
             ],
             [
              0.8888888888888888,
              "#fdca26"
             ],
             [
              1,
              "#f0f921"
             ]
            ],
            "type": "histogram2d"
           }
          ],
          "histogram2dcontour": [
           {
            "colorbar": {
             "outlinewidth": 0,
             "ticks": ""
            },
            "colorscale": [
             [
              0,
              "#0d0887"
             ],
             [
              0.1111111111111111,
              "#46039f"
             ],
             [
              0.2222222222222222,
              "#7201a8"
             ],
             [
              0.3333333333333333,
              "#9c179e"
             ],
             [
              0.4444444444444444,
              "#bd3786"
             ],
             [
              0.5555555555555556,
              "#d8576b"
             ],
             [
              0.6666666666666666,
              "#ed7953"
             ],
             [
              0.7777777777777778,
              "#fb9f3a"
             ],
             [
              0.8888888888888888,
              "#fdca26"
             ],
             [
              1,
              "#f0f921"
             ]
            ],
            "type": "histogram2dcontour"
           }
          ],
          "mesh3d": [
           {
            "colorbar": {
             "outlinewidth": 0,
             "ticks": ""
            },
            "type": "mesh3d"
           }
          ],
          "parcoords": [
           {
            "line": {
             "colorbar": {
              "outlinewidth": 0,
              "ticks": ""
             }
            },
            "type": "parcoords"
           }
          ],
          "pie": [
           {
            "automargin": true,
            "type": "pie"
           }
          ],
          "scatter": [
           {
            "fillpattern": {
             "fillmode": "overlay",
             "size": 10,
             "solidity": 0.2
            },
            "type": "scatter"
           }
          ],
          "scatter3d": [
           {
            "line": {
             "colorbar": {
              "outlinewidth": 0,
              "ticks": ""
             }
            },
            "marker": {
             "colorbar": {
              "outlinewidth": 0,
              "ticks": ""
             }
            },
            "type": "scatter3d"
           }
          ],
          "scattercarpet": [
           {
            "marker": {
             "colorbar": {
              "outlinewidth": 0,
              "ticks": ""
             }
            },
            "type": "scattercarpet"
           }
          ],
          "scattergeo": [
           {
            "marker": {
             "colorbar": {
              "outlinewidth": 0,
              "ticks": ""
             }
            },
            "type": "scattergeo"
           }
          ],
          "scattergl": [
           {
            "marker": {
             "colorbar": {
              "outlinewidth": 0,
              "ticks": ""
             }
            },
            "type": "scattergl"
           }
          ],
          "scattermapbox": [
           {
            "marker": {
             "colorbar": {
              "outlinewidth": 0,
              "ticks": ""
             }
            },
            "type": "scattermapbox"
           }
          ],
          "scatterpolar": [
           {
            "marker": {
             "colorbar": {
              "outlinewidth": 0,
              "ticks": ""
             }
            },
            "type": "scatterpolar"
           }
          ],
          "scatterpolargl": [
           {
            "marker": {
             "colorbar": {
              "outlinewidth": 0,
              "ticks": ""
             }
            },
            "type": "scatterpolargl"
           }
          ],
          "scatterternary": [
           {
            "marker": {
             "colorbar": {
              "outlinewidth": 0,
              "ticks": ""
             }
            },
            "type": "scatterternary"
           }
          ],
          "surface": [
           {
            "colorbar": {
             "outlinewidth": 0,
             "ticks": ""
            },
            "colorscale": [
             [
              0,
              "#0d0887"
             ],
             [
              0.1111111111111111,
              "#46039f"
             ],
             [
              0.2222222222222222,
              "#7201a8"
             ],
             [
              0.3333333333333333,
              "#9c179e"
             ],
             [
              0.4444444444444444,
              "#bd3786"
             ],
             [
              0.5555555555555556,
              "#d8576b"
             ],
             [
              0.6666666666666666,
              "#ed7953"
             ],
             [
              0.7777777777777778,
              "#fb9f3a"
             ],
             [
              0.8888888888888888,
              "#fdca26"
             ],
             [
              1,
              "#f0f921"
             ]
            ],
            "type": "surface"
           }
          ],
          "table": [
           {
            "cells": {
             "fill": {
              "color": "#EBF0F8"
             },
             "line": {
              "color": "white"
             }
            },
            "header": {
             "fill": {
              "color": "#C8D4E3"
             },
             "line": {
              "color": "white"
             }
            },
            "type": "table"
           }
          ]
         },
         "layout": {
          "annotationdefaults": {
           "arrowcolor": "#2a3f5f",
           "arrowhead": 0,
           "arrowwidth": 1
          },
          "autotypenumbers": "strict",
          "coloraxis": {
           "colorbar": {
            "outlinewidth": 0,
            "ticks": ""
           }
          },
          "colorscale": {
           "diverging": [
            [
             0,
             "#8e0152"
            ],
            [
             0.1,
             "#c51b7d"
            ],
            [
             0.2,
             "#de77ae"
            ],
            [
             0.3,
             "#f1b6da"
            ],
            [
             0.4,
             "#fde0ef"
            ],
            [
             0.5,
             "#f7f7f7"
            ],
            [
             0.6,
             "#e6f5d0"
            ],
            [
             0.7,
             "#b8e186"
            ],
            [
             0.8,
             "#7fbc41"
            ],
            [
             0.9,
             "#4d9221"
            ],
            [
             1,
             "#276419"
            ]
           ],
           "sequential": [
            [
             0,
             "#0d0887"
            ],
            [
             0.1111111111111111,
             "#46039f"
            ],
            [
             0.2222222222222222,
             "#7201a8"
            ],
            [
             0.3333333333333333,
             "#9c179e"
            ],
            [
             0.4444444444444444,
             "#bd3786"
            ],
            [
             0.5555555555555556,
             "#d8576b"
            ],
            [
             0.6666666666666666,
             "#ed7953"
            ],
            [
             0.7777777777777778,
             "#fb9f3a"
            ],
            [
             0.8888888888888888,
             "#fdca26"
            ],
            [
             1,
             "#f0f921"
            ]
           ],
           "sequentialminus": [
            [
             0,
             "#0d0887"
            ],
            [
             0.1111111111111111,
             "#46039f"
            ],
            [
             0.2222222222222222,
             "#7201a8"
            ],
            [
             0.3333333333333333,
             "#9c179e"
            ],
            [
             0.4444444444444444,
             "#bd3786"
            ],
            [
             0.5555555555555556,
             "#d8576b"
            ],
            [
             0.6666666666666666,
             "#ed7953"
            ],
            [
             0.7777777777777778,
             "#fb9f3a"
            ],
            [
             0.8888888888888888,
             "#fdca26"
            ],
            [
             1,
             "#f0f921"
            ]
           ]
          },
          "colorway": [
           "#636efa",
           "#EF553B",
           "#00cc96",
           "#ab63fa",
           "#FFA15A",
           "#19d3f3",
           "#FF6692",
           "#B6E880",
           "#FF97FF",
           "#FECB52"
          ],
          "font": {
           "color": "#2a3f5f"
          },
          "geo": {
           "bgcolor": "white",
           "lakecolor": "white",
           "landcolor": "#E5ECF6",
           "showlakes": true,
           "showland": true,
           "subunitcolor": "white"
          },
          "hoverlabel": {
           "align": "left"
          },
          "hovermode": "closest",
          "mapbox": {
           "style": "light"
          },
          "paper_bgcolor": "white",
          "plot_bgcolor": "#E5ECF6",
          "polar": {
           "angularaxis": {
            "gridcolor": "white",
            "linecolor": "white",
            "ticks": ""
           },
           "bgcolor": "#E5ECF6",
           "radialaxis": {
            "gridcolor": "white",
            "linecolor": "white",
            "ticks": ""
           }
          },
          "scene": {
           "xaxis": {
            "backgroundcolor": "#E5ECF6",
            "gridcolor": "white",
            "gridwidth": 2,
            "linecolor": "white",
            "showbackground": true,
            "ticks": "",
            "zerolinecolor": "white"
           },
           "yaxis": {
            "backgroundcolor": "#E5ECF6",
            "gridcolor": "white",
            "gridwidth": 2,
            "linecolor": "white",
            "showbackground": true,
            "ticks": "",
            "zerolinecolor": "white"
           },
           "zaxis": {
            "backgroundcolor": "#E5ECF6",
            "gridcolor": "white",
            "gridwidth": 2,
            "linecolor": "white",
            "showbackground": true,
            "ticks": "",
            "zerolinecolor": "white"
           }
          },
          "shapedefaults": {
           "line": {
            "color": "#2a3f5f"
           }
          },
          "ternary": {
           "aaxis": {
            "gridcolor": "white",
            "linecolor": "white",
            "ticks": ""
           },
           "baxis": {
            "gridcolor": "white",
            "linecolor": "white",
            "ticks": ""
           },
           "bgcolor": "#E5ECF6",
           "caxis": {
            "gridcolor": "white",
            "linecolor": "white",
            "ticks": ""
           }
          },
          "title": {
           "x": 0.05
          },
          "xaxis": {
           "automargin": true,
           "gridcolor": "white",
           "linecolor": "white",
           "ticks": "",
           "title": {
            "standoff": 15
           },
           "zerolinecolor": "white",
           "zerolinewidth": 2
          },
          "yaxis": {
           "automargin": true,
           "gridcolor": "white",
           "linecolor": "white",
           "ticks": "",
           "title": {
            "standoff": 15
           },
           "zerolinecolor": "white",
           "zerolinewidth": 2
          }
         }
        },
        "title": {
         "text": "Impressions Distribution for Each Hashtag"
        },
        "xaxis": {
         "anchor": "y",
         "domain": [
          0,
          1
         ],
         "title": {
          "text": "Hashtag"
         }
        },
        "yaxis": {
         "anchor": "x",
         "domain": [
          0,
          1
         ],
         "title": {
          "text": "Impressions"
         }
        }
       }
      },
      "text/html": [
       "<div>                            <div id=\"a318737c-6c55-447e-a715-e2ae67bc9c15\" class=\"plotly-graph-div\" style=\"height:525px; width:100%;\"></div>            <script type=\"text/javascript\">                require([\"plotly\"], function(Plotly) {                    window.PLOTLYENV=window.PLOTLYENV || {};                                    if (document.getElementById(\"a318737c-6c55-447e-a715-e2ae67bc9c15\")) {                    Plotly.newPlot(                        \"a318737c-6c55-447e-a715-e2ae67bc9c15\",                        [{\"alignmentgroup\":\"True\",\"hovertemplate\":\"Hashtag=%{x}<br>Impressions=%{y}<extra></extra>\",\"legendgroup\":\"\",\"marker\":{\"color\":\"#636efa\",\"pattern\":{\"shape\":\"\"}},\"name\":\"\",\"offsetgroup\":\"\",\"orientation\":\"v\",\"showlegend\":false,\"textposition\":\"auto\",\"x\":[\"#finance\",\"#money\",\"#business\",\"#investing\",\"#investment\",\"#trading\",\"#stockmarket\",\"#data\",\"#datascience\",\"#dataanalysis\",\"#dataanalytics\",\"#datascientist\",\"#machinelearning\",\"#python\",\"#pythonprogramming\",\"#pythonprojects\",\"#pythoncode\",\"#artificialintelligence\",\"#ai\",\"#dataanalyst\",\"#amankharwal\",\"#thecleverprogrammer\",\"#healthcare\",\"#health\",\"#covid\",\"#deeplearning\",\"#machinelearningprojects\",\"#datascienceprojects\",\"#machinelearningmodels\",\"#pythonlearning\",\"#pythondeveloper\",\"#pythoncoding\",\"#pythonprogrammer\",\"#datavisualization\",\"#bigdata\",\"#dataviz\",\"#analytics\",\"#technology\",\"#programming\",\"#statistics\",\"#coding\",\"#businessintelligence\",\"#datamining\",\"#tech\",\"#computerscience\",\"#tableau\",\"#database\",\"#algorithm\",\"#algorithms\",\"#machinelearningalgorithms\",\"#ml\",\"#softskills\",\"#stocks\",\"#forex\",\"#candlestick\",\"#candlestickcharts\",\"#pythonbooks\",\"#bookstagram\",\"#powerbi\",\"#dataanalysisprojects\",\"#businessanalytics\",\"#neuralnetwork\",\"#neuralnetworks\",\"#tensorflow\",\"#artificialintelligenceai\",\"#alexnet\",\"#sentimentanalysis\",\"#sentiment\",\"#nlp\",\"#naturallanguageprocessing\",\"#timeseries\",\"#time\",\"#timeseriesanalysis\",\"#iot\",\"#analysis\",\"#timeseriesmalaysia\",\"#career\",\"#job\",\"#jobs\",\"#jobsearch\",\"#education\",\"#success\",\"#careergoals\",\"#motivation\",\"#work\",\"#careerdevelopment\",\"#careers\",\"#goals\",\"#resume\",\"#students\",\"#careeradvice\",\"#marketing\",\"#digitalmarketing\",\"#media\",\"#socialmedia\",\"#IT\",\"#webdevelopment\",\"#stress\",\"#stressdetection\",\"#zomato\",\"#casestudy\",\"#businessmodel\",\"#boxplots\",\"#programmer\",\"#developer\",\"#javascript\",\"#code\",\"#coder\",\"#java\",\"#html\",\"#css\",\"#webdeveloper\",\"#software\",\"#codinglife\",\"#softwaredeveloper\",\"#linux\",\"#programmingmemes\",\"#webdesign\",\"#programmers\",\"#php\",\"#programminglife\",\"#hacking\",\"#bitcoin\",\"#cryptocurrency\",\"#projects\",\"#casestudies\",\"#amazonfinds\",\"#security\",\"#cybersecurity\",\"#network\",\"#internet\",\"#cloud\",\"#innovation\",\"#google\",\"#facebook\",\"#interview\",\"#datascienceinterview\",\"#otp\",\"#otpverification\",\"#qrcodes\",\"#bigdataanalytics\",\"#recommended\",\"#recommendations\",\"#recommendationsystem\",\"#recommendation\",\"#codinginterview\",\"#flipkart\",\"#news\",\"#pythonprogram\",\"@codergallery\",\"#whatsapp\",\"#roadmap\",\"#ukraine\",\"#instagram\",\"#instagramreach\",\"#datasciencejobs\",\"#datasciencetraining\",\"#datascienceeducation\",\"#datasciencecourse\",\"#sql\",\"#mysql\",\"#python3\",\"#pythonprogramminglanguage\",\"#clustering\"],\"xaxis\":\"x\",\"y\":[14224,14224,51387,14224,9757,9757,9757,484761,524640,457923,497787,483746,532627,578243,525346,567608,470276,506190,512027,47051,672166,672166,18292,18292,18292,445317,297427,297427,27201,135901,135901,135901,135901,64864,70884,15438,53464,85523,90132,47283,83264,17971,17971,78655,75019,6506,22088,57289,57289,71529,30316,3884,5837,5837,5837,5837,3541,3541,13389,9401,9401,31660,18529,14240,14240,2218,34102,34102,42567,42567,22444,22444,22444,22444,22444,22444,8004,14856,8004,8004,8004,8004,8004,8004,8004,8004,8004,8004,8004,8004,8004,8004,8004,8004,8004,8004,35456,12336,12336,10844,10844,10844,2064,22843,22843,22843,22843,22843,22843,22843,22843,22843,29024,22843,22843,15991,15991,15991,15991,15991,15991,15991,14121,14121,7848,7848,6030,6181,6181,6181,6181,6181,6181,3854,2327,16139,4998,8030,8030,3786,3988,10036,10036,10036,10036,6852,3601,3525,2957,2957,5538,10682,8001,7231,7231,86691,86691,86691,86691,17713,17713,15991,15991,9870],\"yaxis\":\"y\",\"type\":\"bar\"}],                        {\"template\":{\"data\":{\"histogram2dcontour\":[{\"type\":\"histogram2dcontour\",\"colorbar\":{\"outlinewidth\":0,\"ticks\":\"\"},\"colorscale\":[[0.0,\"#0d0887\"],[0.1111111111111111,\"#46039f\"],[0.2222222222222222,\"#7201a8\"],[0.3333333333333333,\"#9c179e\"],[0.4444444444444444,\"#bd3786\"],[0.5555555555555556,\"#d8576b\"],[0.6666666666666666,\"#ed7953\"],[0.7777777777777778,\"#fb9f3a\"],[0.8888888888888888,\"#fdca26\"],[1.0,\"#f0f921\"]]}],\"choropleth\":[{\"type\":\"choropleth\",\"colorbar\":{\"outlinewidth\":0,\"ticks\":\"\"}}],\"histogram2d\":[{\"type\":\"histogram2d\",\"colorbar\":{\"outlinewidth\":0,\"ticks\":\"\"},\"colorscale\":[[0.0,\"#0d0887\"],[0.1111111111111111,\"#46039f\"],[0.2222222222222222,\"#7201a8\"],[0.3333333333333333,\"#9c179e\"],[0.4444444444444444,\"#bd3786\"],[0.5555555555555556,\"#d8576b\"],[0.6666666666666666,\"#ed7953\"],[0.7777777777777778,\"#fb9f3a\"],[0.8888888888888888,\"#fdca26\"],[1.0,\"#f0f921\"]]}],\"heatmap\":[{\"type\":\"heatmap\",\"colorbar\":{\"outlinewidth\":0,\"ticks\":\"\"},\"colorscale\":[[0.0,\"#0d0887\"],[0.1111111111111111,\"#46039f\"],[0.2222222222222222,\"#7201a8\"],[0.3333333333333333,\"#9c179e\"],[0.4444444444444444,\"#bd3786\"],[0.5555555555555556,\"#d8576b\"],[0.6666666666666666,\"#ed7953\"],[0.7777777777777778,\"#fb9f3a\"],[0.8888888888888888,\"#fdca26\"],[1.0,\"#f0f921\"]]}],\"heatmapgl\":[{\"type\":\"heatmapgl\",\"colorbar\":{\"outlinewidth\":0,\"ticks\":\"\"},\"colorscale\":[[0.0,\"#0d0887\"],[0.1111111111111111,\"#46039f\"],[0.2222222222222222,\"#7201a8\"],[0.3333333333333333,\"#9c179e\"],[0.4444444444444444,\"#bd3786\"],[0.5555555555555556,\"#d8576b\"],[0.6666666666666666,\"#ed7953\"],[0.7777777777777778,\"#fb9f3a\"],[0.8888888888888888,\"#fdca26\"],[1.0,\"#f0f921\"]]}],\"contourcarpet\":[{\"type\":\"contourcarpet\",\"colorbar\":{\"outlinewidth\":0,\"ticks\":\"\"}}],\"contour\":[{\"type\":\"contour\",\"colorbar\":{\"outlinewidth\":0,\"ticks\":\"\"},\"colorscale\":[[0.0,\"#0d0887\"],[0.1111111111111111,\"#46039f\"],[0.2222222222222222,\"#7201a8\"],[0.3333333333333333,\"#9c179e\"],[0.4444444444444444,\"#bd3786\"],[0.5555555555555556,\"#d8576b\"],[0.6666666666666666,\"#ed7953\"],[0.7777777777777778,\"#fb9f3a\"],[0.8888888888888888,\"#fdca26\"],[1.0,\"#f0f921\"]]}],\"surface\":[{\"type\":\"surface\",\"colorbar\":{\"outlinewidth\":0,\"ticks\":\"\"},\"colorscale\":[[0.0,\"#0d0887\"],[0.1111111111111111,\"#46039f\"],[0.2222222222222222,\"#7201a8\"],[0.3333333333333333,\"#9c179e\"],[0.4444444444444444,\"#bd3786\"],[0.5555555555555556,\"#d8576b\"],[0.6666666666666666,\"#ed7953\"],[0.7777777777777778,\"#fb9f3a\"],[0.8888888888888888,\"#fdca26\"],[1.0,\"#f0f921\"]]}],\"mesh3d\":[{\"type\":\"mesh3d\",\"colorbar\":{\"outlinewidth\":0,\"ticks\":\"\"}}],\"scatter\":[{\"fillpattern\":{\"fillmode\":\"overlay\",\"size\":10,\"solidity\":0.2},\"type\":\"scatter\"}],\"parcoords\":[{\"type\":\"parcoords\",\"line\":{\"colorbar\":{\"outlinewidth\":0,\"ticks\":\"\"}}}],\"scatterpolargl\":[{\"type\":\"scatterpolargl\",\"marker\":{\"colorbar\":{\"outlinewidth\":0,\"ticks\":\"\"}}}],\"bar\":[{\"error_x\":{\"color\":\"#2a3f5f\"},\"error_y\":{\"color\":\"#2a3f5f\"},\"marker\":{\"line\":{\"color\":\"#E5ECF6\",\"width\":0.5},\"pattern\":{\"fillmode\":\"overlay\",\"size\":10,\"solidity\":0.2}},\"type\":\"bar\"}],\"scattergeo\":[{\"type\":\"scattergeo\",\"marker\":{\"colorbar\":{\"outlinewidth\":0,\"ticks\":\"\"}}}],\"scatterpolar\":[{\"type\":\"scatterpolar\",\"marker\":{\"colorbar\":{\"outlinewidth\":0,\"ticks\":\"\"}}}],\"histogram\":[{\"marker\":{\"pattern\":{\"fillmode\":\"overlay\",\"size\":10,\"solidity\":0.2}},\"type\":\"histogram\"}],\"scattergl\":[{\"type\":\"scattergl\",\"marker\":{\"colorbar\":{\"outlinewidth\":0,\"ticks\":\"\"}}}],\"scatter3d\":[{\"type\":\"scatter3d\",\"line\":{\"colorbar\":{\"outlinewidth\":0,\"ticks\":\"\"}},\"marker\":{\"colorbar\":{\"outlinewidth\":0,\"ticks\":\"\"}}}],\"scattermapbox\":[{\"type\":\"scattermapbox\",\"marker\":{\"colorbar\":{\"outlinewidth\":0,\"ticks\":\"\"}}}],\"scatterternary\":[{\"type\":\"scatterternary\",\"marker\":{\"colorbar\":{\"outlinewidth\":0,\"ticks\":\"\"}}}],\"scattercarpet\":[{\"type\":\"scattercarpet\",\"marker\":{\"colorbar\":{\"outlinewidth\":0,\"ticks\":\"\"}}}],\"carpet\":[{\"aaxis\":{\"endlinecolor\":\"#2a3f5f\",\"gridcolor\":\"white\",\"linecolor\":\"white\",\"minorgridcolor\":\"white\",\"startlinecolor\":\"#2a3f5f\"},\"baxis\":{\"endlinecolor\":\"#2a3f5f\",\"gridcolor\":\"white\",\"linecolor\":\"white\",\"minorgridcolor\":\"white\",\"startlinecolor\":\"#2a3f5f\"},\"type\":\"carpet\"}],\"table\":[{\"cells\":{\"fill\":{\"color\":\"#EBF0F8\"},\"line\":{\"color\":\"white\"}},\"header\":{\"fill\":{\"color\":\"#C8D4E3\"},\"line\":{\"color\":\"white\"}},\"type\":\"table\"}],\"barpolar\":[{\"marker\":{\"line\":{\"color\":\"#E5ECF6\",\"width\":0.5},\"pattern\":{\"fillmode\":\"overlay\",\"size\":10,\"solidity\":0.2}},\"type\":\"barpolar\"}],\"pie\":[{\"automargin\":true,\"type\":\"pie\"}]},\"layout\":{\"autotypenumbers\":\"strict\",\"colorway\":[\"#636efa\",\"#EF553B\",\"#00cc96\",\"#ab63fa\",\"#FFA15A\",\"#19d3f3\",\"#FF6692\",\"#B6E880\",\"#FF97FF\",\"#FECB52\"],\"font\":{\"color\":\"#2a3f5f\"},\"hovermode\":\"closest\",\"hoverlabel\":{\"align\":\"left\"},\"paper_bgcolor\":\"white\",\"plot_bgcolor\":\"#E5ECF6\",\"polar\":{\"bgcolor\":\"#E5ECF6\",\"angularaxis\":{\"gridcolor\":\"white\",\"linecolor\":\"white\",\"ticks\":\"\"},\"radialaxis\":{\"gridcolor\":\"white\",\"linecolor\":\"white\",\"ticks\":\"\"}},\"ternary\":{\"bgcolor\":\"#E5ECF6\",\"aaxis\":{\"gridcolor\":\"white\",\"linecolor\":\"white\",\"ticks\":\"\"},\"baxis\":{\"gridcolor\":\"white\",\"linecolor\":\"white\",\"ticks\":\"\"},\"caxis\":{\"gridcolor\":\"white\",\"linecolor\":\"white\",\"ticks\":\"\"}},\"coloraxis\":{\"colorbar\":{\"outlinewidth\":0,\"ticks\":\"\"}},\"colorscale\":{\"sequential\":[[0.0,\"#0d0887\"],[0.1111111111111111,\"#46039f\"],[0.2222222222222222,\"#7201a8\"],[0.3333333333333333,\"#9c179e\"],[0.4444444444444444,\"#bd3786\"],[0.5555555555555556,\"#d8576b\"],[0.6666666666666666,\"#ed7953\"],[0.7777777777777778,\"#fb9f3a\"],[0.8888888888888888,\"#fdca26\"],[1.0,\"#f0f921\"]],\"sequentialminus\":[[0.0,\"#0d0887\"],[0.1111111111111111,\"#46039f\"],[0.2222222222222222,\"#7201a8\"],[0.3333333333333333,\"#9c179e\"],[0.4444444444444444,\"#bd3786\"],[0.5555555555555556,\"#d8576b\"],[0.6666666666666666,\"#ed7953\"],[0.7777777777777778,\"#fb9f3a\"],[0.8888888888888888,\"#fdca26\"],[1.0,\"#f0f921\"]],\"diverging\":[[0,\"#8e0152\"],[0.1,\"#c51b7d\"],[0.2,\"#de77ae\"],[0.3,\"#f1b6da\"],[0.4,\"#fde0ef\"],[0.5,\"#f7f7f7\"],[0.6,\"#e6f5d0\"],[0.7,\"#b8e186\"],[0.8,\"#7fbc41\"],[0.9,\"#4d9221\"],[1,\"#276419\"]]},\"xaxis\":{\"gridcolor\":\"white\",\"linecolor\":\"white\",\"ticks\":\"\",\"title\":{\"standoff\":15},\"zerolinecolor\":\"white\",\"automargin\":true,\"zerolinewidth\":2},\"yaxis\":{\"gridcolor\":\"white\",\"linecolor\":\"white\",\"ticks\":\"\",\"title\":{\"standoff\":15},\"zerolinecolor\":\"white\",\"automargin\":true,\"zerolinewidth\":2},\"scene\":{\"xaxis\":{\"backgroundcolor\":\"#E5ECF6\",\"gridcolor\":\"white\",\"linecolor\":\"white\",\"showbackground\":true,\"ticks\":\"\",\"zerolinecolor\":\"white\",\"gridwidth\":2},\"yaxis\":{\"backgroundcolor\":\"#E5ECF6\",\"gridcolor\":\"white\",\"linecolor\":\"white\",\"showbackground\":true,\"ticks\":\"\",\"zerolinecolor\":\"white\",\"gridwidth\":2},\"zaxis\":{\"backgroundcolor\":\"#E5ECF6\",\"gridcolor\":\"white\",\"linecolor\":\"white\",\"showbackground\":true,\"ticks\":\"\",\"zerolinecolor\":\"white\",\"gridwidth\":2}},\"shapedefaults\":{\"line\":{\"color\":\"#2a3f5f\"}},\"annotationdefaults\":{\"arrowcolor\":\"#2a3f5f\",\"arrowhead\":0,\"arrowwidth\":1},\"geo\":{\"bgcolor\":\"white\",\"landcolor\":\"#E5ECF6\",\"subunitcolor\":\"white\",\"showland\":true,\"showlakes\":true,\"lakecolor\":\"white\"},\"title\":{\"x\":0.05},\"mapbox\":{\"style\":\"light\"}}},\"xaxis\":{\"anchor\":\"y\",\"domain\":[0.0,1.0],\"title\":{\"text\":\"Hashtag\"}},\"yaxis\":{\"anchor\":\"x\",\"domain\":[0.0,1.0],\"title\":{\"text\":\"Impressions\"}},\"legend\":{\"tracegroupgap\":0},\"title\":{\"text\":\"Impressions Distribution for Each Hashtag\"},\"barmode\":\"relative\"},                        {\"responsive\": true}                    ).then(function(){\n",
       "                            \n",
       "var gd = document.getElementById('a318737c-6c55-447e-a715-e2ae67bc9c15');\n",
       "var x = new MutationObserver(function (mutations, observer) {{\n",
       "        var display = window.getComputedStyle(gd).display;\n",
       "        if (!display || display === 'none') {{\n",
       "            console.log([gd, 'removed!']);\n",
       "            Plotly.purge(gd);\n",
       "            observer.disconnect();\n",
       "        }}\n",
       "}});\n",
       "\n",
       "// Listen for the removal of the full notebook cells\n",
       "var notebookContainer = gd.closest('#notebook-container');\n",
       "if (notebookContainer) {{\n",
       "    x.observe(notebookContainer, {childList: true});\n",
       "}}\n",
       "\n",
       "// Listen for the clearing of the current output cell\n",
       "var outputEl = gd.closest('.output');\n",
       "if (outputEl) {{\n",
       "    x.observe(outputEl, {childList: true});\n",
       "}}\n",
       "\n",
       "                        })                };                });            </script>        </div>"
      ]
     },
     "metadata": {},
     "output_type": "display_data"
    }
   ],
   "source": [
    "# Create a dictionary to store the likes and impressions for each hashtag\n",
    "hashtag_likes = {}\n",
    "hashtag_impressions = {}\n",
    "\n",
    "# Iterate through each row in the dataset\n",
    "for index, row in df.iterrows():\n",
    "    hashtags = str(row['Hashtags']).split()\n",
    "    for hashtag in hashtags:\n",
    "        hashtag = hashtag.strip()\n",
    "        if hashtag not in hashtag_likes:\n",
    "            hashtag_likes[hashtag] = 0\n",
    "            hashtag_impressions[hashtag] = 0\n",
    "        hashtag_likes[hashtag] += row['Likes']\n",
    "        hashtag_impressions[hashtag] += row['Impressions']\n",
    "\n",
    "# Create a DataFrame for likes distribution\n",
    "likes_distribution = pd.DataFrame(list(hashtag_likes.items()), columns=['Hashtag', 'Likes'])\n",
    "\n",
    "# Create a DataFrame for impressions distribution\n",
    "impressions_distribution = pd.DataFrame(list(hashtag_impressions.items()), columns=['Hashtag', 'Impressions'])\n",
    "\n",
    "fig_likes = px.bar(likes_distribution, x='Hashtag', y='Likes', \n",
    "                   title='Likes Distribution for Each Hashtag')\n",
    "\n",
    "fig_impressions = px.bar(impressions_distribution, x='Hashtag', \n",
    "                         y='Impressions', \n",
    "                         title='Impressions Distribution for Each Hashtag')\n",
    "\n",
    "fig_likes.show()\n",
    "fig_impressions.show()"
   ]
  },
  {
   "cell_type": "code",
   "execution_count": null,
   "id": "3e22e10e",
   "metadata": {},
   "outputs": [],
   "source": []
  }
 ],
 "metadata": {
  "kernelspec": {
   "display_name": "Python 3 (ipykernel)",
   "language": "python",
   "name": "python3"
  },
  "language_info": {
   "codemirror_mode": {
    "name": "ipython",
    "version": 3
   },
   "file_extension": ".py",
   "mimetype": "text/x-python",
   "name": "python",
   "nbconvert_exporter": "python",
   "pygments_lexer": "ipython3",
   "version": "3.10.9"
  }
 },
 "nbformat": 4,
 "nbformat_minor": 5
}
